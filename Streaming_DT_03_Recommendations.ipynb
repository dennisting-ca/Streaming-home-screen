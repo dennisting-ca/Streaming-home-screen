{
 "cells": [
  {
   "cell_type": "markdown",
   "id": "58a7deef",
   "metadata": {},
   "source": [
    "# Dennis Ting - Streaming Service Home Screen\n",
    "# Movie Recommender System - 03_Recommendations"
   ]
  },
  {
   "cell_type": "markdown",
   "id": "2aa2632a",
   "metadata": {},
   "source": [
    "**Purpose:** The main purpose of this notebook (03_Recommendations) is to compile the various models from the models notebook (02_Models), and have all the recommendations ready for a specific user."
   ]
  },
  {
   "cell_type": "markdown",
   "id": "d4dfeaef",
   "metadata": {},
   "source": [
    "Please read this notebook in conjunction with my report, and my other notebooks (see report for full outline)."
   ]
  },
  {
   "cell_type": "markdown",
   "id": "78c05e8b",
   "metadata": {},
   "source": [
    "# Section 0 - Import "
   ]
  },
  {
   "cell_type": "markdown",
   "id": "82ef97d2",
   "metadata": {},
   "source": [
    "In this section, I will import the relevant Python libraries and packages, along with the relevant data and models (from MovieLens, 01_EDA notebook, 02_Models notebook)."
   ]
  },
  {
   "cell_type": "markdown",
   "id": "70f4a393",
   "metadata": {},
   "source": [
    "## Import Libraries and Packages"
   ]
  },
  {
   "cell_type": "code",
   "execution_count": 1,
   "id": "0f9e1878",
   "metadata": {},
   "outputs": [],
   "source": [
    "# Import Common Data Science Libraries\n",
    "import numpy as np\n",
    "import pandas as pd\n",
    "import matplotlib.pyplot as plt\n",
    "import datetime\n",
    "import time"
   ]
  },
  {
   "cell_type": "code",
   "execution_count": 2,
   "id": "4cb623a9",
   "metadata": {},
   "outputs": [],
   "source": [
    "# Libraries for Learning\n",
    "from scipy import sparse\n",
    "from surprise import Dataset\n",
    "from surprise.reader import Reader\n",
    "from surprise.prediction_algorithms.matrix_factorization import SVD, SVDpp"
   ]
  },
  {
   "cell_type": "code",
   "execution_count": 3,
   "id": "1df2d957",
   "metadata": {},
   "outputs": [],
   "source": [
    "# Other Libraries \n",
    "from scipy import sparse\n",
    "import joblib"
   ]
  },
  {
   "cell_type": "markdown",
   "id": "f91df9d6",
   "metadata": {},
   "source": [
    "## Import Data / Models"
   ]
  },
  {
   "cell_type": "markdown",
   "id": "527bfbc3",
   "metadata": {},
   "source": [
    "*MovieLens Data*"
   ]
  },
  {
   "cell_type": "code",
   "execution_count": 4,
   "id": "2690ca00",
   "metadata": {},
   "outputs": [],
   "source": [
    "# Import Movie Lens Data\n",
    "df_movies = pd.read_csv('data/movies.csv')"
   ]
  },
  {
   "cell_type": "markdown",
   "id": "fde0ef29",
   "metadata": {},
   "source": [
    "*SVD++ Model (Collaborative Filtering)*"
   ]
  },
  {
   "cell_type": "code",
   "execution_count": 5,
   "id": "fa684c3d",
   "metadata": {},
   "outputs": [],
   "source": [
    "# Import Test Data (from 01_EDA)\n",
    "df_test_ratings = pd.read_csv('DT_files/DT_df_rating_test.csv', index_col = 0)"
   ]
  },
  {
   "cell_type": "code",
   "execution_count": 6,
   "id": "28590f98",
   "metadata": {},
   "outputs": [],
   "source": [
    "# Import model (from 02 Models)\n",
    "\n",
    "# model for `net_user_mean_rating` column\n",
    "net_user_mean_ratings_svd_pp = joblib.load('DT_files/DT_net_user_mean_ratings_svd_pp.pkl')"
   ]
  },
  {
   "cell_type": "code",
   "execution_count": 7,
   "id": "e5ab9b5b",
   "metadata": {},
   "outputs": [],
   "source": [
    "# Import Sparse Matrix - Anti Set (from 02 Models)\n",
    "full_ratings_anti_sparse = sparse.load_npz('DT_files/DT_sparse_ratings_anti.npz')"
   ]
  },
  {
   "cell_type": "markdown",
   "id": "16628c06",
   "metadata": {},
   "source": [
    "*Top / Popular Movies*"
   ]
  },
  {
   "cell_type": "code",
   "execution_count": 8,
   "id": "b8f7ca61",
   "metadata": {},
   "outputs": [],
   "source": [
    "# Import top 50 movies (from 01 EDA)\n",
    "df_top_50_popular_movies = pd.read_csv('DT_files/DT_df_top_50_popular_movies.csv', index_col = 0)"
   ]
  },
  {
   "cell_type": "markdown",
   "id": "940a98af",
   "metadata": {},
   "source": [
    "*Tags-based Recommendation*"
   ]
  },
  {
   "cell_type": "code",
   "execution_count": 9,
   "id": "3bb96e57",
   "metadata": {},
   "outputs": [],
   "source": [
    "# Import Tag-based Recommendation related files\n",
    "\n",
    "# Import Tag Similarities - Sparse Matrix (NPZ file)\n",
    "tag_similarities = sparse.load_npz('DT_files/DT_tag_similarities.npz')\n",
    "\n",
    "# Import - Tags of Movies DataFrame (from 01 EDA)\n",
    "df_tags_of_movies = pd.read_csv('DT_files/DT_df_tags_of_movies.csv', index_col = 0)"
   ]
  },
  {
   "cell_type": "markdown",
   "id": "ecdb414c",
   "metadata": {},
   "source": [
    "# Section 1 - Models"
   ]
  },
  {
   "cell_type": "markdown",
   "id": "e92b92c0",
   "metadata": {},
   "source": [
    "In this section, I will retrieve recommendations using the various models:\n",
    "- Funk SVD++ Model (Collaborative Filtering)\n",
    "- Top / Popular Movies\n",
    "- Tag-based Recommendations"
   ]
  },
  {
   "cell_type": "markdown",
   "id": "71fbf531",
   "metadata": {},
   "source": [
    "This section is meant to be a demonstration on the various outputs from the different models. I will be looking at User ID \\# 95 for demonstration. In the following section below (Section 2), I will be compiling the code into one main function (made up of a few functions), that can recommend movies for a particular user (random or specified)."
   ]
  },
  {
   "cell_type": "markdown",
   "id": "91d78a9b",
   "metadata": {},
   "source": [
    "## 1.1 - Funk SVD++ Model (Collaborative Filtering)"
   ]
  },
  {
   "cell_type": "markdown",
   "id": "0a9932d3",
   "metadata": {},
   "source": [
    "Based on a specific user's movie rating history, SVD++ would recommend movies (that the user hasn't rated yet) based on other user's rating behaviour."
   ]
  },
  {
   "cell_type": "code",
   "execution_count": 10,
   "id": "ffba6073",
   "metadata": {},
   "outputs": [
    {
     "data": {
      "text/plain": [
       "array([3.00000e+00, 3.00000e+00, 3.00000e+00, ..., 1.62538e+05,\n",
       "       1.62538e+05, 1.62538e+05])"
      ]
     },
     "execution_count": 10,
     "metadata": {},
     "output_type": "execute_result"
    }
   ],
   "source": [
    "# Get array of user IDs\n",
    "arr_userid = full_ratings_anti_sparse[:,0].toarray().squeeze()\n",
    "arr_userid # show"
   ]
  },
  {
   "cell_type": "code",
   "execution_count": 11,
   "id": "29e84a39",
   "metadata": {},
   "outputs": [],
   "source": [
    "# define an input user \n",
    "input_user_id = 95"
   ]
  },
  {
   "cell_type": "code",
   "execution_count": 12,
   "id": "96bcfed7",
   "metadata": {},
   "outputs": [
    {
     "data": {
      "text/plain": [
       "array([False, False, False, ..., False, False, False])"
      ]
     },
     "execution_count": 12,
     "metadata": {},
     "output_type": "execute_result"
    }
   ],
   "source": [
    "# Get index for input user\n",
    "input_user_array_index = (arr_userid == input_user_id)\n",
    "input_user_array_index #show"
   ]
  },
  {
   "cell_type": "code",
   "execution_count": 13,
   "id": "9fa302c0",
   "metadata": {},
   "outputs": [],
   "source": [
    "# Get Input User Test Set\n",
    "input_user_testset = full_ratings_anti_sparse[input_user_array_index, :].toarray().tolist()"
   ]
  },
  {
   "cell_type": "code",
   "execution_count": 14,
   "id": "646951a4",
   "metadata": {},
   "outputs": [],
   "source": [
    "# Predict net user mean ratings\n",
    "input_user_prediction = net_user_mean_ratings_svd_pp.test(input_user_testset)"
   ]
  },
  {
   "cell_type": "code",
   "execution_count": 15,
   "id": "7b7b02bc",
   "metadata": {},
   "outputs": [],
   "source": [
    "# Put predictions into a DataFrame\n",
    "df_input_user_predictions = pd.DataFrame(input_user_prediction, columns=['userId',\n",
    "                                                             'movieId',\n",
    "                                                             'actual_rating',\n",
    "                                                             'prediction',\n",
    "                                                             'details'])"
   ]
  },
  {
   "cell_type": "code",
   "execution_count": 16,
   "id": "5cc40574",
   "metadata": {},
   "outputs": [],
   "source": [
    "# Get top n movies for input_user\n",
    "top_n = 10\n",
    "\n",
    "# Sort by Prediction value (Descending, Largest to smallest)\n",
    "df_top_n_input_user = df_input_user_predictions.sort_values('prediction', ascending = False).copy()\n",
    "\n",
    "# Output only Movie ID and Prediction (title not available here)\n",
    "df_top_n_input_user = df_top_n_input_user[['movieId','prediction']]\n",
    "\n",
    "# Filter for top_n movies\n",
    "df_top_n_input_user = df_top_n_input_user.head(top_n)"
   ]
  },
  {
   "cell_type": "code",
   "execution_count": 17,
   "id": "1058ffbc",
   "metadata": {},
   "outputs": [
    {
     "data": {
      "text/html": [
       "<div>\n",
       "<style scoped>\n",
       "    .dataframe tbody tr th:only-of-type {\n",
       "        vertical-align: middle;\n",
       "    }\n",
       "\n",
       "    .dataframe tbody tr th {\n",
       "        vertical-align: top;\n",
       "    }\n",
       "\n",
       "    .dataframe thead th {\n",
       "        text-align: right;\n",
       "    }\n",
       "</style>\n",
       "<table border=\"1\" class=\"dataframe\">\n",
       "  <thead>\n",
       "    <tr style=\"text-align: right;\">\n",
       "      <th></th>\n",
       "      <th>movieId</th>\n",
       "      <th>prediction</th>\n",
       "    </tr>\n",
       "  </thead>\n",
       "  <tbody>\n",
       "    <tr>\n",
       "      <th>1196</th>\n",
       "      <td>2064.0</td>\n",
       "      <td>3.032643</td>\n",
       "    </tr>\n",
       "    <tr>\n",
       "      <th>510</th>\n",
       "      <td>112552.0</td>\n",
       "      <td>2.935210</td>\n",
       "    </tr>\n",
       "    <tr>\n",
       "      <th>648</th>\n",
       "      <td>92259.0</td>\n",
       "      <td>2.902103</td>\n",
       "    </tr>\n",
       "    <tr>\n",
       "      <th>3250</th>\n",
       "      <td>182723.0</td>\n",
       "      <td>2.660390</td>\n",
       "    </tr>\n",
       "    <tr>\n",
       "      <th>615</th>\n",
       "      <td>86345.0</td>\n",
       "      <td>2.605460</td>\n",
       "    </tr>\n",
       "    <tr>\n",
       "      <th>149</th>\n",
       "      <td>5669.0</td>\n",
       "      <td>2.576275</td>\n",
       "    </tr>\n",
       "    <tr>\n",
       "      <th>5299</th>\n",
       "      <td>120807.0</td>\n",
       "      <td>2.514898</td>\n",
       "    </tr>\n",
       "    <tr>\n",
       "      <th>1865</th>\n",
       "      <td>86347.0</td>\n",
       "      <td>2.440685</td>\n",
       "    </tr>\n",
       "    <tr>\n",
       "      <th>1114</th>\n",
       "      <td>8638.0</td>\n",
       "      <td>2.436630</td>\n",
       "    </tr>\n",
       "    <tr>\n",
       "      <th>3274</th>\n",
       "      <td>55814.0</td>\n",
       "      <td>2.426929</td>\n",
       "    </tr>\n",
       "  </tbody>\n",
       "</table>\n",
       "</div>"
      ],
      "text/plain": [
       "       movieId  prediction\n",
       "1196    2064.0    3.032643\n",
       "510   112552.0    2.935210\n",
       "648    92259.0    2.902103\n",
       "3250  182723.0    2.660390\n",
       "615    86345.0    2.605460\n",
       "149     5669.0    2.576275\n",
       "5299  120807.0    2.514898\n",
       "1865   86347.0    2.440685\n",
       "1114    8638.0    2.436630\n",
       "3274   55814.0    2.426929"
      ]
     },
     "execution_count": 17,
     "metadata": {},
     "output_type": "execute_result"
    }
   ],
   "source": [
    "# Show\n",
    "df_top_n_input_user"
   ]
  },
  {
   "cell_type": "markdown",
   "id": "f55ef2f6",
   "metadata": {},
   "source": [
    "##### Summary / Findings:\n",
    "- I have successfully recommended 10 movies for User ID \\# 95 based on predicted scores (net ratings, i.e. rating net user's mean rating) from SVD++.\n",
    "- The movie title information is not available in this output, I will need to merge this with `df_movies` when I build the function to have the title available."
   ]
  },
  {
   "cell_type": "markdown",
   "id": "a0525873",
   "metadata": {},
   "source": [
    "## 1.2 - Top / Popular Movies"
   ]
  },
  {
   "cell_type": "markdown",
   "id": "3b582ddb",
   "metadata": {},
   "source": [
    "The goal of recommending top / popular movies is to have a **user independent** recommender system, which helps combat the **cold start** issue that **collaborative filtering** faces."
   ]
  },
  {
   "cell_type": "markdown",
   "id": "3862e2d1",
   "metadata": {},
   "source": [
    "The below dataframe (`df_top_50_popular_movies`) contains 50 top movies based on `total_net_rating`. This dataframe was created in the EDA notebook (01_EDA), please see that notebook for more details. From the top 50 movies, I will return 10 movies at random to the user. This is done so that the user can see different movies on their screen without me constantly updating this for them. "
   ]
  },
  {
   "cell_type": "markdown",
   "id": "28b4b084",
   "metadata": {},
   "source": [
    "In the real-world, I would expect that this top list will be updated frequenty, and tailored to the user (i.e. top films this week, top films based on geographic location, etc). Below, I will just be recommending popular movies from the dataset (movies rated from 2015 to 2019). The code and execution below can be applied to the real-world scenarios discussed above."
   ]
  },
  {
   "cell_type": "code",
   "execution_count": 18,
   "id": "34b64878",
   "metadata": {},
   "outputs": [
    {
     "data": {
      "text/html": [
       "<div>\n",
       "<style scoped>\n",
       "    .dataframe tbody tr th:only-of-type {\n",
       "        vertical-align: middle;\n",
       "    }\n",
       "\n",
       "    .dataframe tbody tr th {\n",
       "        vertical-align: top;\n",
       "    }\n",
       "\n",
       "    .dataframe thead th {\n",
       "        text-align: right;\n",
       "    }\n",
       "</style>\n",
       "<table border=\"1\" class=\"dataframe\">\n",
       "  <thead>\n",
       "    <tr style=\"text-align: right;\">\n",
       "      <th></th>\n",
       "      <th>movieId</th>\n",
       "      <th>title</th>\n",
       "    </tr>\n",
       "  </thead>\n",
       "  <tbody>\n",
       "    <tr>\n",
       "      <th>520</th>\n",
       "      <td>1196</td>\n",
       "      <td>Star Wars: Episode V - The Empire Strikes Back...</td>\n",
       "    </tr>\n",
       "    <tr>\n",
       "      <th>152</th>\n",
       "      <td>296</td>\n",
       "      <td>Pulp Fiction (1994)</td>\n",
       "    </tr>\n",
       "    <tr>\n",
       "      <th>2152</th>\n",
       "      <td>5618</td>\n",
       "      <td>Spirited Away (Sen to Chihiro no kamikakushi) ...</td>\n",
       "    </tr>\n",
       "    <tr>\n",
       "      <th>1171</th>\n",
       "      <td>2571</td>\n",
       "      <td>Matrix, The (1999)</td>\n",
       "    </tr>\n",
       "    <tr>\n",
       "      <th>294</th>\n",
       "      <td>608</td>\n",
       "      <td>Fargo (1996)</td>\n",
       "    </tr>\n",
       "    <tr>\n",
       "      <th>151</th>\n",
       "      <td>293</td>\n",
       "      <td>Léon: The Professional (a.k.a. The Professiona...</td>\n",
       "    </tr>\n",
       "    <tr>\n",
       "      <th>134</th>\n",
       "      <td>260</td>\n",
       "      <td>Star Wars: Episode IV - A New Hope (1977)</td>\n",
       "    </tr>\n",
       "    <tr>\n",
       "      <th>5233</th>\n",
       "      <td>134130</td>\n",
       "      <td>The Martian (2015)</td>\n",
       "    </tr>\n",
       "    <tr>\n",
       "      <th>4019</th>\n",
       "      <td>79132</td>\n",
       "      <td>Inception (2010)</td>\n",
       "    </tr>\n",
       "    <tr>\n",
       "      <th>3547</th>\n",
       "      <td>58559</td>\n",
       "      <td>Dark Knight, The (2008)</td>\n",
       "    </tr>\n",
       "  </tbody>\n",
       "</table>\n",
       "</div>"
      ],
      "text/plain": [
       "      movieId                                              title\n",
       "520      1196  Star Wars: Episode V - The Empire Strikes Back...\n",
       "152       296                                Pulp Fiction (1994)\n",
       "2152     5618  Spirited Away (Sen to Chihiro no kamikakushi) ...\n",
       "1171     2571                                 Matrix, The (1999)\n",
       "294       608                                       Fargo (1996)\n",
       "151       293  Léon: The Professional (a.k.a. The Professiona...\n",
       "134       260          Star Wars: Episode IV - A New Hope (1977)\n",
       "5233   134130                                 The Martian (2015)\n",
       "4019    79132                                   Inception (2010)\n",
       "3547    58559                            Dark Knight, The (2008)"
      ]
     },
     "execution_count": 18,
     "metadata": {},
     "output_type": "execute_result"
    }
   ],
   "source": [
    "# Randomly select 10 movies from the top 50 movies\n",
    "df_top_50_popular_movies.sample(n=10)[['movieId','title']]"
   ]
  },
  {
   "cell_type": "markdown",
   "id": "a22085cc",
   "metadata": {},
   "source": [
    "##### Summary / Findings:\n",
    "- I was succesfully able to generate 10 random top movie suggestions from our dataframe of top movies (`df_top_50_popular_movies`)."
   ]
  },
  {
   "cell_type": "markdown",
   "id": "5f3588bc",
   "metadata": {},
   "source": [
    "## 1.3 - Tags-based Recommendation"
   ]
  },
  {
   "cell_type": "markdown",
   "id": "73d03495",
   "metadata": {},
   "source": [
    "Based on a movie that the user has recently enjoyed watching (based on net ratings, i.e. rating net user's mean rating), I will use user-generated tags to find similar movies to recommend."
   ]
  },
  {
   "cell_type": "markdown",
   "id": "56ca6ac5",
   "metadata": {},
   "source": [
    "### Top 10 Recently watched films"
   ]
  },
  {
   "cell_type": "code",
   "execution_count": 19,
   "id": "45a70197",
   "metadata": {},
   "outputs": [],
   "source": [
    "input_user_id = 95\n",
    "\n",
    "df_recent_10_films = df_test_ratings[df_test_ratings['userId'] == input_user_id].copy()"
   ]
  },
  {
   "cell_type": "code",
   "execution_count": 20,
   "id": "7ce0e436",
   "metadata": {},
   "outputs": [
    {
     "data": {
      "text/html": [
       "<div>\n",
       "<style scoped>\n",
       "    .dataframe tbody tr th:only-of-type {\n",
       "        vertical-align: middle;\n",
       "    }\n",
       "\n",
       "    .dataframe tbody tr th {\n",
       "        vertical-align: top;\n",
       "    }\n",
       "\n",
       "    .dataframe thead th {\n",
       "        text-align: right;\n",
       "    }\n",
       "</style>\n",
       "<table border=\"1\" class=\"dataframe\">\n",
       "  <thead>\n",
       "    <tr style=\"text-align: right;\">\n",
       "      <th></th>\n",
       "      <th>userId</th>\n",
       "      <th>movieId</th>\n",
       "      <th>rating</th>\n",
       "      <th>timestamp</th>\n",
       "      <th>rating_net_user_mean</th>\n",
       "    </tr>\n",
       "  </thead>\n",
       "  <tbody>\n",
       "    <tr>\n",
       "      <th>3058</th>\n",
       "      <td>95</td>\n",
       "      <td>1221</td>\n",
       "      <td>10</td>\n",
       "      <td>1512243413</td>\n",
       "      <td>3</td>\n",
       "    </tr>\n",
       "    <tr>\n",
       "      <th>3148</th>\n",
       "      <td>95</td>\n",
       "      <td>58559</td>\n",
       "      <td>10</td>\n",
       "      <td>1511480584</td>\n",
       "      <td>3</td>\n",
       "    </tr>\n",
       "    <tr>\n",
       "      <th>3072</th>\n",
       "      <td>95</td>\n",
       "      <td>2023</td>\n",
       "      <td>9</td>\n",
       "      <td>1512243578</td>\n",
       "      <td>2</td>\n",
       "    </tr>\n",
       "    <tr>\n",
       "      <th>3127</th>\n",
       "      <td>95</td>\n",
       "      <td>26776</td>\n",
       "      <td>9</td>\n",
       "      <td>1514335977</td>\n",
       "      <td>2</td>\n",
       "    </tr>\n",
       "    <tr>\n",
       "      <th>3129</th>\n",
       "      <td>95</td>\n",
       "      <td>31878</td>\n",
       "      <td>9</td>\n",
       "      <td>1514335981</td>\n",
       "      <td>2</td>\n",
       "    </tr>\n",
       "    <tr>\n",
       "      <th>3163</th>\n",
       "      <td>95</td>\n",
       "      <td>73881</td>\n",
       "      <td>9</td>\n",
       "      <td>1514335989</td>\n",
       "      <td>2</td>\n",
       "    </tr>\n",
       "    <tr>\n",
       "      <th>3155</th>\n",
       "      <td>95</td>\n",
       "      <td>68237</td>\n",
       "      <td>8</td>\n",
       "      <td>1512247657</td>\n",
       "      <td>1</td>\n",
       "    </tr>\n",
       "    <tr>\n",
       "      <th>3049</th>\n",
       "      <td>95</td>\n",
       "      <td>1189</td>\n",
       "      <td>7</td>\n",
       "      <td>1511480584</td>\n",
       "      <td>0</td>\n",
       "    </tr>\n",
       "    <tr>\n",
       "      <th>3161</th>\n",
       "      <td>95</td>\n",
       "      <td>72998</td>\n",
       "      <td>6</td>\n",
       "      <td>1511480584</td>\n",
       "      <td>-1</td>\n",
       "    </tr>\n",
       "    <tr>\n",
       "      <th>3179</th>\n",
       "      <td>95</td>\n",
       "      <td>95510</td>\n",
       "      <td>4</td>\n",
       "      <td>1511480584</td>\n",
       "      <td>-3</td>\n",
       "    </tr>\n",
       "  </tbody>\n",
       "</table>\n",
       "</div>"
      ],
      "text/plain": [
       "      userId  movieId  rating   timestamp  rating_net_user_mean\n",
       "3058      95     1221      10  1512243413                     3\n",
       "3148      95    58559      10  1511480584                     3\n",
       "3072      95     2023       9  1512243578                     2\n",
       "3127      95    26776       9  1514335977                     2\n",
       "3129      95    31878       9  1514335981                     2\n",
       "3163      95    73881       9  1514335989                     2\n",
       "3155      95    68237       8  1512247657                     1\n",
       "3049      95     1189       7  1511480584                     0\n",
       "3161      95    72998       6  1511480584                    -1\n",
       "3179      95    95510       4  1511480584                    -3"
      ]
     },
     "execution_count": 20,
     "metadata": {},
     "output_type": "execute_result"
    }
   ],
   "source": [
    "df_recent_10_films.sort_values('rating_net_user_mean', ascending=False)"
   ]
  },
  {
   "cell_type": "code",
   "execution_count": 21,
   "id": "6736a299",
   "metadata": {},
   "outputs": [
    {
     "data": {
      "text/html": [
       "<div>\n",
       "<style scoped>\n",
       "    .dataframe tbody tr th:only-of-type {\n",
       "        vertical-align: middle;\n",
       "    }\n",
       "\n",
       "    .dataframe tbody tr th {\n",
       "        vertical-align: top;\n",
       "    }\n",
       "\n",
       "    .dataframe thead th {\n",
       "        text-align: right;\n",
       "    }\n",
       "</style>\n",
       "<table border=\"1\" class=\"dataframe\">\n",
       "  <thead>\n",
       "    <tr style=\"text-align: right;\">\n",
       "      <th></th>\n",
       "      <th>movieId</th>\n",
       "      <th>title</th>\n",
       "      <th>genres</th>\n",
       "    </tr>\n",
       "  </thead>\n",
       "  <tbody>\n",
       "    <tr>\n",
       "      <th>12221</th>\n",
       "      <td>58559</td>\n",
       "      <td>Dark Knight, The (2008)</td>\n",
       "      <td>Action|Crime|Drama|IMAX</td>\n",
       "    </tr>\n",
       "  </tbody>\n",
       "</table>\n",
       "</div>"
      ],
      "text/plain": [
       "       movieId                    title                   genres\n",
       "12221    58559  Dark Knight, The (2008)  Action|Crime|Drama|IMAX"
      ]
     },
     "execution_count": 21,
     "metadata": {},
     "output_type": "execute_result"
    }
   ],
   "source": [
    "# A film that was recently liked by user 95 (rating_net_user_mean = 3)\n",
    "df_movies[df_movies['movieId'] == 58559]"
   ]
  },
  {
   "cell_type": "markdown",
   "id": "c090a84f",
   "metadata": {},
   "source": [
    "##### Comment:\n",
    "- It appears that User ID \\# 95 has recently watched The Dark Knight (movie ID # 58559) and rated it a net rating of 3, and a rating of 10.\n",
    "- I will look for similar movies below using user-generated tags."
   ]
  },
  {
   "cell_type": "markdown",
   "id": "6c3b981e",
   "metadata": {},
   "source": [
    "### Recommendation based on a recently watched film"
   ]
  },
  {
   "cell_type": "code",
   "execution_count": 22,
   "id": "7e6e39a7",
   "metadata": {},
   "outputs": [],
   "source": [
    "# Get a series of unique movie tags in `df_tags_of_movies`\n",
    "unique_tags_movies = df_tags_of_movies['movieId'].unique()"
   ]
  },
  {
   "cell_type": "code",
   "execution_count": 23,
   "id": "8cfd4a23",
   "metadata": {},
   "outputs": [],
   "source": [
    "# Define a movie index\n",
    "movie_index = 58559 # The Dark Knight"
   ]
  },
  {
   "cell_type": "code",
   "execution_count": 24,
   "id": "1e40dd3d",
   "metadata": {},
   "outputs": [
    {
     "data": {
      "text/plain": [
       "True"
      ]
     },
     "execution_count": 24,
     "metadata": {},
     "output_type": "execute_result"
    }
   ],
   "source": [
    "# Check to see if movie is in `df_tags_of_movies`\n",
    "movie_index in unique_tags_movies"
   ]
  },
  {
   "cell_type": "code",
   "execution_count": 25,
   "id": "f4907e74",
   "metadata": {},
   "outputs": [],
   "source": [
    "# Create a dataframe with the movie titles\n",
    "df_movie_similarity = pd.DataFrame({'movieId':df_tags_of_movies['movieId'],\n",
    "                                    'title':df_tags_of_movies['title'], \n",
    "                                    'genres':df_tags_of_movies['genres'], \n",
    "                                    'similarity': np.array(tag_similarities[(df_tags_of_movies['movieId'] == movie_index), :].todense()).squeeze()})"
   ]
  },
  {
   "cell_type": "code",
   "execution_count": 26,
   "id": "45da262b",
   "metadata": {},
   "outputs": [
    {
     "data": {
      "text/html": [
       "<div>\n",
       "<style scoped>\n",
       "    .dataframe tbody tr th:only-of-type {\n",
       "        vertical-align: middle;\n",
       "    }\n",
       "\n",
       "    .dataframe tbody tr th {\n",
       "        vertical-align: top;\n",
       "    }\n",
       "\n",
       "    .dataframe thead th {\n",
       "        text-align: right;\n",
       "    }\n",
       "</style>\n",
       "<table border=\"1\" class=\"dataframe\">\n",
       "  <thead>\n",
       "    <tr style=\"text-align: right;\">\n",
       "      <th></th>\n",
       "      <th>movieId</th>\n",
       "      <th>title</th>\n",
       "      <th>genres</th>\n",
       "      <th>similarity</th>\n",
       "    </tr>\n",
       "  </thead>\n",
       "  <tbody>\n",
       "    <tr>\n",
       "      <th>9760</th>\n",
       "      <td>58559</td>\n",
       "      <td>Dark Knight, The (2008)</td>\n",
       "      <td>Action|Crime|Drama|IMAX</td>\n",
       "      <td>1.000000</td>\n",
       "    </tr>\n",
       "    <tr>\n",
       "      <th>8006</th>\n",
       "      <td>33794</td>\n",
       "      <td>Batman Begins (2005)</td>\n",
       "      <td>Action|Crime|IMAX</td>\n",
       "      <td>0.669983</td>\n",
       "    </tr>\n",
       "    <tr>\n",
       "      <th>12866</th>\n",
       "      <td>91529</td>\n",
       "      <td>Dark Knight Rises, The (2012)</td>\n",
       "      <td>Action|Adventure|Crime|IMAX</td>\n",
       "      <td>0.587846</td>\n",
       "    </tr>\n",
       "    <tr>\n",
       "      <th>8390</th>\n",
       "      <td>42015</td>\n",
       "      <td>Casanova (2005)</td>\n",
       "      <td>Action|Adventure|Comedy|Drama|Romance</td>\n",
       "      <td>0.510389</td>\n",
       "    </tr>\n",
       "    <tr>\n",
       "      <th>4461</th>\n",
       "      <td>5611</td>\n",
       "      <td>Four Feathers, The (2002)</td>\n",
       "      <td>Adventure|War</td>\n",
       "      <td>0.499386</td>\n",
       "    </tr>\n",
       "  </tbody>\n",
       "</table>\n",
       "</div>"
      ],
      "text/plain": [
       "       movieId                          title  \\\n",
       "9760     58559        Dark Knight, The (2008)   \n",
       "8006     33794           Batman Begins (2005)   \n",
       "12866    91529  Dark Knight Rises, The (2012)   \n",
       "8390     42015                Casanova (2005)   \n",
       "4461      5611      Four Feathers, The (2002)   \n",
       "\n",
       "                                      genres  similarity  \n",
       "9760                 Action|Crime|Drama|IMAX    1.000000  \n",
       "8006                       Action|Crime|IMAX    0.669983  \n",
       "12866            Action|Adventure|Crime|IMAX    0.587846  \n",
       "8390   Action|Adventure|Comedy|Drama|Romance    0.510389  \n",
       "4461                           Adventure|War    0.499386  "
      ]
     },
     "execution_count": 26,
     "metadata": {},
     "output_type": "execute_result"
    }
   ],
   "source": [
    "# Visualize first 5 rows\n",
    "df_movie_similarity.sort_values('similarity', ascending=False).head()"
   ]
  },
  {
   "cell_type": "code",
   "execution_count": 27,
   "id": "3a5775b5",
   "metadata": {},
   "outputs": [],
   "source": [
    "# Set up parameters for Tags-based recommender system\n",
    "\n",
    "# Set Cosine Similarity Threshold\n",
    "sim_threshold = 0.25\n",
    "\n",
    "# Set Max number of results\n",
    "top_n = 10"
   ]
  },
  {
   "cell_type": "code",
   "execution_count": 28,
   "id": "47fe2044",
   "metadata": {},
   "outputs": [
    {
     "data": {
      "text/html": [
       "<div>\n",
       "<style scoped>\n",
       "    .dataframe tbody tr th:only-of-type {\n",
       "        vertical-align: middle;\n",
       "    }\n",
       "\n",
       "    .dataframe tbody tr th {\n",
       "        vertical-align: top;\n",
       "    }\n",
       "\n",
       "    .dataframe thead th {\n",
       "        text-align: right;\n",
       "    }\n",
       "</style>\n",
       "<table border=\"1\" class=\"dataframe\">\n",
       "  <thead>\n",
       "    <tr style=\"text-align: right;\">\n",
       "      <th></th>\n",
       "      <th>movieId</th>\n",
       "      <th>title</th>\n",
       "      <th>similarity</th>\n",
       "    </tr>\n",
       "  </thead>\n",
       "  <tbody>\n",
       "    <tr>\n",
       "      <th>8006</th>\n",
       "      <td>33794</td>\n",
       "      <td>Batman Begins (2005)</td>\n",
       "      <td>0.669983</td>\n",
       "    </tr>\n",
       "    <tr>\n",
       "      <th>12866</th>\n",
       "      <td>91529</td>\n",
       "      <td>Dark Knight Rises, The (2012)</td>\n",
       "      <td>0.587846</td>\n",
       "    </tr>\n",
       "    <tr>\n",
       "      <th>8390</th>\n",
       "      <td>42015</td>\n",
       "      <td>Casanova (2005)</td>\n",
       "      <td>0.510389</td>\n",
       "    </tr>\n",
       "    <tr>\n",
       "      <th>4461</th>\n",
       "      <td>5611</td>\n",
       "      <td>Four Feathers, The (2002)</td>\n",
       "      <td>0.499386</td>\n",
       "    </tr>\n",
       "    <tr>\n",
       "      <th>3402</th>\n",
       "      <td>4299</td>\n",
       "      <td>Knight's Tale, A (2001)</td>\n",
       "      <td>0.498619</td>\n",
       "    </tr>\n",
       "    <tr>\n",
       "      <th>7330</th>\n",
       "      <td>27073</td>\n",
       "      <td>Two Hands (1999)</td>\n",
       "      <td>0.489590</td>\n",
       "    </tr>\n",
       "    <tr>\n",
       "      <th>5840</th>\n",
       "      <td>7372</td>\n",
       "      <td>Ned Kelly (2003)</td>\n",
       "      <td>0.439258</td>\n",
       "    </tr>\n",
       "    <tr>\n",
       "      <th>2547</th>\n",
       "      <td>3213</td>\n",
       "      <td>Batman: Mask of the Phantasm (1993)</td>\n",
       "      <td>0.405790</td>\n",
       "    </tr>\n",
       "    <tr>\n",
       "      <th>23831</th>\n",
       "      <td>190017</td>\n",
       "      <td>The Death of Superman</td>\n",
       "      <td>0.371514</td>\n",
       "    </tr>\n",
       "    <tr>\n",
       "      <th>20359</th>\n",
       "      <td>161354</td>\n",
       "      <td>Batman: The Killing Joke (2016)</td>\n",
       "      <td>0.358350</td>\n",
       "    </tr>\n",
       "  </tbody>\n",
       "</table>\n",
       "</div>"
      ],
      "text/plain": [
       "       movieId                                title  similarity\n",
       "8006     33794                 Batman Begins (2005)    0.669983\n",
       "12866    91529        Dark Knight Rises, The (2012)    0.587846\n",
       "8390     42015                      Casanova (2005)    0.510389\n",
       "4461      5611            Four Feathers, The (2002)    0.499386\n",
       "3402      4299              Knight's Tale, A (2001)    0.498619\n",
       "7330     27073                     Two Hands (1999)    0.489590\n",
       "5840      7372                     Ned Kelly (2003)    0.439258\n",
       "2547      3213  Batman: Mask of the Phantasm (1993)    0.405790\n",
       "23831   190017                The Death of Superman    0.371514\n",
       "20359   161354      Batman: The Killing Joke (2016)    0.358350"
      ]
     },
     "execution_count": 28,
     "metadata": {},
     "output_type": "execute_result"
    }
   ],
   "source": [
    "# Recommend movies based on tags (store results in df_tag_based_reco)\n",
    "\n",
    "# Only return movies above threshold\n",
    "df_tag_based_reco = df_movie_similarity[df_movie_similarity['similarity'] > sim_threshold].copy()\n",
    "\n",
    "# Sort by Similarity\n",
    "df_tag_based_reco = df_tag_based_reco.sort_values('similarity', ascending=False)\n",
    "\n",
    "# Only keep columns - Movie ID, Title of Movie, Cosine Similarity\n",
    "df_tag_based_reco = df_tag_based_reco[['movieId','title','similarity']]\n",
    "\n",
    "# Only keep 2nd row onwards (first row is the same title)\n",
    "df_tag_based_reco = df_tag_based_reco[1:]\n",
    "\n",
    "# Keep Max number of results (or less)\n",
    "df_tag_based_reco = df_tag_based_reco.head(top_n)\n",
    "\n",
    "df_tag_based_reco # show"
   ]
  },
  {
   "cell_type": "markdown",
   "id": "3206f47a",
   "metadata": {},
   "source": [
    "##### Summary / Findings:\n",
    "- I have successfully recommended 10 movies for User ID \\# 95 based on user-generated tags using cosine-similarity. \n",
    "    - Cosine similarity range from 0 to 1 in this table. If the cosine similarity is closer to 1, the vectors are more similar. For more information, please refer back to 02_Models notebook where the cosine similarity matrix was created.\n",
    "- I have excluded the top cosine similarity for each recommenation, as that would be with the movie itself (i.e cosine similarity of 1). It would not make sense to recommend a movie, based on the exact same movie.\n",
    "- I have set a cosine similarity threshold of 0.25, meaning that movies with cosine similarities under 0.25 will not be presented to the user. If there are less than 10 movies, then this will present what is available.\n"
   ]
  },
  {
   "cell_type": "markdown",
   "id": "2f1df970",
   "metadata": {},
   "source": [
    "# Section 2 - Define Functions"
   ]
  },
  {
   "cell_type": "markdown",
   "id": "146a03d7",
   "metadata": {},
   "source": [
    "In this section, I will define functions that will in aggregate produce recommendations for a specific user when called upon."
   ]
  },
  {
   "cell_type": "markdown",
   "id": "2167a02f",
   "metadata": {},
   "source": [
    "### Functions for each Model from (Section 1.1, 1.2, 1.3 above)"
   ]
  },
  {
   "cell_type": "markdown",
   "id": "bc6541d2",
   "metadata": {},
   "source": [
    "Build a function for SVD++ Recommendation using the code from Section 1.1 above. Added titles from `df_movies`."
   ]
  },
  {
   "cell_type": "code",
   "execution_count": 29,
   "id": "e4d6e05f",
   "metadata": {},
   "outputs": [],
   "source": [
    "def DT_SVD_pp_recommendation(SVD_user_id, SVD_top_n=10):\n",
    "    # Get array of user IDs\n",
    "    arr_userid = full_ratings_anti_sparse[:,0].toarray().squeeze()\n",
    "\n",
    "    # Get index for input user\n",
    "    input_user_array_index = (arr_userid == SVD_user_id)\n",
    "\n",
    "    # Get Input User Test Set\n",
    "    input_user_testset = full_ratings_anti_sparse[input_user_array_index, :].toarray().tolist()\n",
    "\n",
    "    # Predict net user mean ratings\n",
    "    input_user_prediction = net_user_mean_ratings_svd_pp.test(input_user_testset)\n",
    "\n",
    "    # Put predictions into a DataFrame\n",
    "    df_input_user_predictions = pd.DataFrame(input_user_prediction, columns=['userId',\n",
    "                                                                 'movieId',\n",
    "                                                                 'actual_rating',\n",
    "                                                                 'prediction',\n",
    "                                                                 'details'])\n",
    "    \n",
    "    # Sort by Prediction value (Descending, Largest to smallest)\n",
    "    df_top_n_input_user = df_input_user_predictions.sort_values('prediction', ascending = False).copy()\n",
    "\n",
    "    # Output only Movie ID and Prediction (title not available here)\n",
    "    df_top_n_input_user = df_top_n_input_user[['movieId','prediction']]\n",
    "    \n",
    "    # Change the movie ID to int (default is float)\n",
    "    df_top_n_input_user['movieId'] = df_top_n_input_user['movieId'].astype('int')\n",
    "\n",
    "    # Filter for top_n movies\n",
    "    df_top_n_input_user = df_top_n_input_user.head(SVD_top_n)\n",
    "    \n",
    "    \n",
    "    # Merge with df_movies to get title\n",
    "    \n",
    "    # Add movie titles \n",
    "    df_top_n_input_user = pd.merge(left=df_top_n_input_user,             # left table\n",
    "                                   right=df_movies[['movieId','title']], # right table\n",
    "                                   how='left',                           # left join (i.e. return all records on left table)\n",
    "                                   left_on='movieId',                    # column to join on left table\n",
    "                                   right_on='movieId')                   # column to join on right table\n",
    "    \n",
    "    # Rearrange columns to Movie ID, title, prediction\n",
    "    df_top_n_input_user = df_top_n_input_user[['movieId', 'title', 'prediction']]\n",
    "    \n",
    "    return df_top_n_input_user"
   ]
  },
  {
   "cell_type": "markdown",
   "id": "5df4bc13",
   "metadata": {},
   "source": [
    "Build a function for Top / Popular Movies Recommendation using the code from Section 1.2 above. "
   ]
  },
  {
   "cell_type": "code",
   "execution_count": 30,
   "id": "64f1de5f",
   "metadata": {},
   "outputs": [],
   "source": [
    "def DT_popular_n_recommendation(popular_n=10):\n",
    "    \n",
    "    # Length of Popular movie dataframe \n",
    "    length_popular_df = len(df_top_50_popular_movies)\n",
    "        # I know this is 50, this is just dynamic code in case future dataframes don't have the same length\n",
    "    \n",
    "    \n",
    "    if popular_n > length_popular_df:\n",
    "        # if more rows asked than available\n",
    "        # return length_popular_df number of movies (i.e. all movies in the popular dataframe)\n",
    "        return df_top_50_popular_movies.sample(n=length_popular_df)[['movieId','title']]\n",
    "        \n",
    "    else:\n",
    "        # return the number of random movies inputted\n",
    "        return df_top_50_popular_movies.sample(n=popular_n)[['movieId','title']]\n",
    "    "
   ]
  },
  {
   "cell_type": "markdown",
   "id": "7666f9a6",
   "metadata": {},
   "source": [
    "Build a function for Tags-based Recommendation using the code from Section 1.2 above. "
   ]
  },
  {
   "cell_type": "code",
   "execution_count": 31,
   "id": "94be5c0a",
   "metadata": {},
   "outputs": [],
   "source": [
    "def DT_tag_based_recommendation(tag_user_id, tag_top_n = 10, net_rating_threshold = 0, sim_threshold = 0.25):\n",
    "    \n",
    "    # Find 10 most-recently rated films\n",
    "    df_recent_10_films = df_test_ratings[df_test_ratings['userId'] == tag_user_id].copy()\n",
    "\n",
    "    # Keep only certain columns - Movie ID & Net Rating \n",
    "    df_recent_10_films = df_recent_10_films[['movieId', 'rating_net_user_mean']]\n",
    "    \n",
    "    # Filter for films that are equal to or greater than `net_rating_threshold`\n",
    "    df_recent_10_films = df_recent_10_films[df_recent_10_films['rating_net_user_mean']>= net_rating_threshold]\n",
    "    \n",
    "    # Sort Net Rating by descending order\n",
    "    df_recent_10_films = df_recent_10_films.sort_values('rating_net_user_mean', ascending=False)\n",
    "    \n",
    "    # Get Series of recent films above threshold\n",
    "    series_recent_movies = df_recent_10_films['movieId']\n",
    "    \n",
    "    # Check length of recent movies\n",
    "    \n",
    "    # Create empty data Frame\n",
    "    df_tag_based_reco = pd.DataFrame()\n",
    "\n",
    "    \n",
    "    # If no movies left after filter above, return empty dataframe, and nothing\n",
    "    if len(series_recent_movies) == 0:\n",
    "        return df_tag_based_reco, None \n",
    "        # df_tag_based_reco would be empty\n",
    "    \n",
    "    else:\n",
    "\n",
    "        # Get unique series of movies\n",
    "        unique_tags_movies = df_tags_of_movies['movieId'].unique()\n",
    "        \n",
    "        # Loop through the series_recent_movies\n",
    "        for movie_id in series_recent_movies:\n",
    "            \n",
    "            # Check if movie is in our tags-recommendation matrix, else, skip\n",
    "            if movie_id in unique_tags_movies:\n",
    "                \n",
    "                # Create a dataframe with the movie titles\n",
    "                df_movie_similarity = pd.DataFrame({'movieId':df_tags_of_movies['movieId'],\n",
    "                                                    'title':df_tags_of_movies['title'], \n",
    "                                                    'genres':df_tags_of_movies['genres'], \n",
    "                                                    'similarity': np.array(tag_similarities[(df_tags_of_movies['movieId'] == movie_id), :].todense()).squeeze()})\n",
    "\n",
    "                # Recommend movies based on tags (store results in df_tag_based_reco)\n",
    "\n",
    "                # Only return movies above threshold\n",
    "                df_tag_based_reco = df_movie_similarity[df_movie_similarity['similarity'] > sim_threshold].copy()\n",
    "\n",
    "                # Sort by Similarity\n",
    "                df_tag_based_reco = df_tag_based_reco.sort_values('similarity', ascending=False)\n",
    "\n",
    "                # Only keep columns - Movie ID, Title of Movie, Cosine Similarity\n",
    "                df_tag_based_reco = df_tag_based_reco[['movieId','title','similarity']]\n",
    "\n",
    "                # Only keep 2nd row onwards (first row is the same title)\n",
    "                df_tag_based_reco = df_tag_based_reco[1:]\n",
    "\n",
    "                # Keep Max number of results (or less)\n",
    "                df_tag_based_reco = df_tag_based_reco.head(tag_top_n)                \n",
    "                \n",
    "                # output - recommendation df, and movie ID that recommendations were based on\n",
    "                return df_tag_based_reco, movie_id \n",
    "                                \n",
    "            # If movie not in tags-recommendation matrix - do nothing\n",
    "            else:\n",
    "                pass\n",
    "        \n",
    "        # If at the end of the series_recent_movies loop, return empty dataframe, and nothing\n",
    "        return df_tag_based_reco, None \n",
    "        # df_tag_based_reco would be empty\n",
    "    \n",
    "    "
   ]
  },
  {
   "cell_type": "markdown",
   "id": "31e3275a",
   "metadata": {},
   "source": [
    "### Putting the various model functions together"
   ]
  },
  {
   "cell_type": "markdown",
   "id": "34a94f9a",
   "metadata": {},
   "source": [
    "Below I have grouped the various model functions together into one function."
   ]
  },
  {
   "cell_type": "code",
   "execution_count": 32,
   "id": "9e8974cb",
   "metadata": {},
   "outputs": [],
   "source": [
    "def DT_movie_recommendations(input_user_id, top_n=10, nr_t=0, cs_t=0.25):\n",
    "    \n",
    "    print (\"--------------------------------------------------------------------------------------------------------------\")\n",
    "    print('') # intentionally left blank for spacing\n",
    "\n",
    "    # Title\n",
    "    print('\\033[1m' + 'Recently rated movies' + '\\033[0m')\n",
    "    \n",
    "    df_recent_10_movies = df_test_ratings[df_test_ratings['userId'] == input_user_id].copy()\n",
    "\n",
    "    df_recent_10_movies['Review Date - M/D/Y'] = pd.to_datetime(df_recent_10_movies['timestamp'], unit='s')\n",
    "    df_recent_10_movies['Review Date - M/D/Y'] = df_recent_10_movies['Review Date - M/D/Y'].dt.strftime(\"%m/%d/%y\")\n",
    "\n",
    "    # Add title and genre to df_tags_of_movies\n",
    "    df_recent_10_movies = pd.merge(left=df_recent_10_movies,             # left table\n",
    "                                   right=df_movies[['movieId','title']], # right table\n",
    "                                   how='left',                           # left join (i.e. return all records on left table)\n",
    "                                   left_on='movieId',                    # column to join on left table\n",
    "                                   right_on='movieId')                   # column to join on right table\n",
    "\n",
    "    df_recent_10_movies = df_recent_10_movies[['Review Date - M/D/Y', 'movieId', 'title','rating', 'rating_net_user_mean']]\n",
    "\n",
    "    df_recent_10_movies = df_recent_10_movies.sort_values('Review Date - M/D/Y', ascending=False)\n",
    "\n",
    "    display(df_recent_10_movies.style.hide(axis='index')) # hide index on display\n",
    "\n",
    "    \n",
    "    \n",
    "    print (\"--------------------------------------------------------------------------------------------------------------\")\n",
    "    print('') # intentionally left blank for spacing\n",
    "    \n",
    "    # Title\n",
    "    print('\\033[1m' + 'Recommendations based on similar users' + '\\033[0m')\n",
    "\n",
    "    # Display Collaborative Filtering - SVD++ Movie recommendations\n",
    "    display(DT_SVD_pp_recommendation(input_user_id, top_n).style.hide(axis='index')) # hide index on display\n",
    "    \n",
    "    \n",
    "    print (\"--------------------------------------------------------------------------------------------------------------\")\n",
    "    print('') # intentionally left blank for spacing\n",
    "    \n",
    "    # Title\n",
    "    print('\\033[1m' + 'Popular movies' + '\\033[0m')\n",
    "    \n",
    "    # Display Top / Popular Movie recommendations\n",
    "    display(DT_popular_n_recommendation(top_n).style.hide(axis='index')) # hide index on display\n",
    "    \n",
    "    \n",
    "    print (\"--------------------------------------------------------------------------------------------------------------\")\n",
    "    print('') # intentionally left blank for spacing\n",
    "    \n",
    "    # Get tags-based recommendations and recently watched movie it was based on\n",
    "    df_reco_tags, recent_movie_id = DT_tag_based_recommendation(input_user_id, top_n, nr_t, cs_t)\n",
    "    \n",
    "    if df_reco_tags.empty:\n",
    "        pass # Do not display anything\n",
    "    \n",
    "    else:\n",
    "        # Get recent movie name\n",
    "        recent_movie_name = df_movies[df_movies['movieId']== recent_movie_id]['title'].iloc[0]\n",
    "        \n",
    "        # Title\n",
    "        print('\\033[1m' + f'Recommendations based on a film you recently reviewed: {recent_movie_name}' + '\\033[0m')\n",
    "        \n",
    "        # Display recommendations\n",
    "        display(df_reco_tags.style.hide(axis='index')) # hide index on display\n",
    "        \n",
    "        print (\"--------------------------------------------------------------------------------------------------------------\")\n",
    "    "
   ]
  },
  {
   "cell_type": "markdown",
   "id": "8cce15cd",
   "metadata": {},
   "source": [
    "Below, I have created a function that can provide recommendations if a User ID is provided. For the sake of demonstrating this to others, I have also added an ability for this function to randomly select a user and show the recommendations for that selected user."
   ]
  },
  {
   "cell_type": "code",
   "execution_count": 33,
   "id": "8e1942fa",
   "metadata": {},
   "outputs": [],
   "source": [
    "def DT_user_selection_movie_recommendation():\n",
    "    unique_users = df_test_ratings['userId'].unique().astype('str')\n",
    "\n",
    "    # Get input\n",
    "    user_id = input('Please input valid User ID or the word \"random\" (no quotes, lowercase) for a random user:')\n",
    "    \n",
    "    print (\"--------------------------------------------------------------------------------------------------------------\")\n",
    "    print('') # intentionally left blank for spacing\n",
    "    \n",
    "    if user_id == \"random\":\n",
    "\n",
    "        # Select a random ID & print message\n",
    "        random_id = np.random.choice(unique_users)\n",
    "        print(f'Randomly selected User ID: {random_id}.')\n",
    "        print('') # intentionally left blank for spacing\n",
    "        \n",
    "        # Convert random_id back to an integer for recommendation input below\n",
    "        random_id = int(random_id)\n",
    "\n",
    "        # Run the Recommendation\n",
    "        DT_movie_recommendations(random_id)\n",
    "\n",
    "    elif user_id in unique_users:\n",
    "        # Print message\n",
    "        print(f'User ID: {user_id} is valid.')\n",
    "        print('') # intentionally left blank for spacing\n",
    "\n",
    "        # Convert user_id back to an integer for recommendation input below\n",
    "        user_id = int(user_id)\n",
    "\n",
    "\n",
    "        # Run the Recommendation\n",
    "        DT_movie_recommendations(user_id)\n",
    "\n",
    "\n",
    "    else:\n",
    "        print ('Invalid entry - please enter valid User ID or \"random\" (no quotes, lowercase) for a random user')"
   ]
  },
  {
   "cell_type": "markdown",
   "id": "ab93f0e4",
   "metadata": {},
   "source": [
    "# Section 3 - Recommend Movies"
   ]
  },
  {
   "cell_type": "markdown",
   "id": "d9f0fc5f",
   "metadata": {},
   "source": [
    "In this section, I will recommend movies using the functions defined above in Section 2."
   ]
  },
  {
   "cell_type": "code",
   "execution_count": 34,
   "id": "4ad29d92",
   "metadata": {},
   "outputs": [
    {
     "name": "stdout",
     "output_type": "stream",
     "text": [
      "Please input valid User ID or the word \"random\" (no quotes, lowercase) for a random user:random\n",
      "--------------------------------------------------------------------------------------------------------------\n",
      "\n",
      "Randomly selected User ID: 127484.\n",
      "\n",
      "--------------------------------------------------------------------------------------------------------------\n",
      "\n",
      "\u001b[1mRecently rated movies\u001b[0m\n"
     ]
    },
    {
     "data": {
      "text/html": [
       "<style type=\"text/css\">\n",
       "</style>\n",
       "<table id=\"T_ff3d3\">\n",
       "  <thead>\n",
       "    <tr>\n",
       "      <th id=\"T_ff3d3_level0_col0\" class=\"col_heading level0 col0\" >Review Date - M/D/Y</th>\n",
       "      <th id=\"T_ff3d3_level0_col1\" class=\"col_heading level0 col1\" >movieId</th>\n",
       "      <th id=\"T_ff3d3_level0_col2\" class=\"col_heading level0 col2\" >title</th>\n",
       "      <th id=\"T_ff3d3_level0_col3\" class=\"col_heading level0 col3\" >rating</th>\n",
       "      <th id=\"T_ff3d3_level0_col4\" class=\"col_heading level0 col4\" >rating_net_user_mean</th>\n",
       "    </tr>\n",
       "  </thead>\n",
       "  <tbody>\n",
       "    <tr>\n",
       "      <td id=\"T_ff3d3_row0_col0\" class=\"data row0 col0\" >09/04/19</td>\n",
       "      <td id=\"T_ff3d3_row0_col1\" class=\"data row0 col1\" >48516</td>\n",
       "      <td id=\"T_ff3d3_row0_col2\" class=\"data row0 col2\" >Departed, The (2006)</td>\n",
       "      <td id=\"T_ff3d3_row0_col3\" class=\"data row0 col3\" >6</td>\n",
       "      <td id=\"T_ff3d3_row0_col4\" class=\"data row0 col4\" >-1</td>\n",
       "    </tr>\n",
       "    <tr>\n",
       "      <td id=\"T_ff3d3_row1_col0\" class=\"data row1 col0\" >07/21/19</td>\n",
       "      <td id=\"T_ff3d3_row1_col1\" class=\"data row1 col1\" >81156</td>\n",
       "      <td id=\"T_ff3d3_row1_col2\" class=\"data row1 col2\" >Jackass 3D (2010)</td>\n",
       "      <td id=\"T_ff3d3_row1_col3\" class=\"data row1 col3\" >4</td>\n",
       "      <td id=\"T_ff3d3_row1_col4\" class=\"data row1 col4\" >-3</td>\n",
       "    </tr>\n",
       "    <tr>\n",
       "      <td id=\"T_ff3d3_row2_col0\" class=\"data row2 col0\" >07/14/19</td>\n",
       "      <td id=\"T_ff3d3_row2_col1\" class=\"data row2 col1\" >32460</td>\n",
       "      <td id=\"T_ff3d3_row2_col2\" class=\"data row2 col2\" >Knockin' on Heaven's Door (1997)</td>\n",
       "      <td id=\"T_ff3d3_row2_col3\" class=\"data row2 col3\" >4</td>\n",
       "      <td id=\"T_ff3d3_row2_col4\" class=\"data row2 col4\" >-3</td>\n",
       "    </tr>\n",
       "    <tr>\n",
       "      <td id=\"T_ff3d3_row3_col0\" class=\"data row3 col0\" >07/13/19</td>\n",
       "      <td id=\"T_ff3d3_row3_col1\" class=\"data row3 col1\" >3252</td>\n",
       "      <td id=\"T_ff3d3_row3_col2\" class=\"data row3 col2\" >Scent of a Woman (1992)</td>\n",
       "      <td id=\"T_ff3d3_row3_col3\" class=\"data row3 col3\" >3</td>\n",
       "      <td id=\"T_ff3d3_row3_col4\" class=\"data row3 col4\" >-4</td>\n",
       "    </tr>\n",
       "    <tr>\n",
       "      <td id=\"T_ff3d3_row4_col0\" class=\"data row4 col0\" >07/12/19</td>\n",
       "      <td id=\"T_ff3d3_row4_col1\" class=\"data row4 col1\" >202439</td>\n",
       "      <td id=\"T_ff3d3_row4_col2\" class=\"data row4 col2\" >Parasite (2019)</td>\n",
       "      <td id=\"T_ff3d3_row4_col3\" class=\"data row4 col3\" >6</td>\n",
       "      <td id=\"T_ff3d3_row4_col4\" class=\"data row4 col4\" >-1</td>\n",
       "    </tr>\n",
       "    <tr>\n",
       "      <td id=\"T_ff3d3_row5_col0\" class=\"data row5 col0\" >07/08/19</td>\n",
       "      <td id=\"T_ff3d3_row5_col1\" class=\"data row5 col1\" >2324</td>\n",
       "      <td id=\"T_ff3d3_row5_col2\" class=\"data row5 col2\" >Life Is Beautiful (La Vita è bella) (1997)</td>\n",
       "      <td id=\"T_ff3d3_row5_col3\" class=\"data row5 col3\" >5</td>\n",
       "      <td id=\"T_ff3d3_row5_col4\" class=\"data row5 col4\" >-2</td>\n",
       "    </tr>\n",
       "    <tr>\n",
       "      <td id=\"T_ff3d3_row6_col0\" class=\"data row6 col0\" >07/06/19</td>\n",
       "      <td id=\"T_ff3d3_row6_col1\" class=\"data row6 col1\" >139575</td>\n",
       "      <td id=\"T_ff3d3_row6_col2\" class=\"data row6 col2\" >Baahubali: The Beginning (2015)</td>\n",
       "      <td id=\"T_ff3d3_row6_col3\" class=\"data row6 col3\" >8</td>\n",
       "      <td id=\"T_ff3d3_row6_col4\" class=\"data row6 col4\" >1</td>\n",
       "    </tr>\n",
       "    <tr>\n",
       "      <td id=\"T_ff3d3_row7_col0\" class=\"data row7 col0\" >07/01/19</td>\n",
       "      <td id=\"T_ff3d3_row7_col1\" class=\"data row7 col1\" >3271</td>\n",
       "      <td id=\"T_ff3d3_row7_col2\" class=\"data row7 col2\" >Of Mice and Men (1992)</td>\n",
       "      <td id=\"T_ff3d3_row7_col3\" class=\"data row7 col3\" >5</td>\n",
       "      <td id=\"T_ff3d3_row7_col4\" class=\"data row7 col4\" >-2</td>\n",
       "    </tr>\n",
       "    <tr>\n",
       "      <td id=\"T_ff3d3_row8_col0\" class=\"data row8 col0\" >06/30/19</td>\n",
       "      <td id=\"T_ff3d3_row8_col1\" class=\"data row8 col1\" >94959</td>\n",
       "      <td id=\"T_ff3d3_row8_col2\" class=\"data row8 col2\" >Moonrise Kingdom (2012)</td>\n",
       "      <td id=\"T_ff3d3_row8_col3\" class=\"data row8 col3\" >7</td>\n",
       "      <td id=\"T_ff3d3_row8_col4\" class=\"data row8 col4\" >0</td>\n",
       "    </tr>\n",
       "    <tr>\n",
       "      <td id=\"T_ff3d3_row9_col0\" class=\"data row9 col0\" >06/23/19</td>\n",
       "      <td id=\"T_ff3d3_row9_col1\" class=\"data row9 col1\" >73881</td>\n",
       "      <td id=\"T_ff3d3_row9_col2\" class=\"data row9 col2\" >3 Idiots (2009)</td>\n",
       "      <td id=\"T_ff3d3_row9_col3\" class=\"data row9 col3\" >6</td>\n",
       "      <td id=\"T_ff3d3_row9_col4\" class=\"data row9 col4\" >-1</td>\n",
       "    </tr>\n",
       "  </tbody>\n",
       "</table>\n"
      ],
      "text/plain": [
       "<pandas.io.formats.style.Styler at 0x1de8574ceb0>"
      ]
     },
     "metadata": {},
     "output_type": "display_data"
    },
    {
     "name": "stdout",
     "output_type": "stream",
     "text": [
      "--------------------------------------------------------------------------------------------------------------\n",
      "\n",
      "\u001b[1mRecommendations based on similar users\u001b[0m\n"
     ]
    },
    {
     "data": {
      "text/html": [
       "<style type=\"text/css\">\n",
       "</style>\n",
       "<table id=\"T_23492\">\n",
       "  <thead>\n",
       "    <tr>\n",
       "      <th id=\"T_23492_level0_col0\" class=\"col_heading level0 col0\" >movieId</th>\n",
       "      <th id=\"T_23492_level0_col1\" class=\"col_heading level0 col1\" >title</th>\n",
       "      <th id=\"T_23492_level0_col2\" class=\"col_heading level0 col2\" >prediction</th>\n",
       "    </tr>\n",
       "  </thead>\n",
       "  <tbody>\n",
       "    <tr>\n",
       "      <td id=\"T_23492_row0_col0\" class=\"data row0 col0\" >26578</td>\n",
       "      <td id=\"T_23492_row0_col1\" class=\"data row0 col1\" >Sacrifice, The (Offret - Sacraficatio) (1986)</td>\n",
       "      <td id=\"T_23492_row0_col2\" class=\"data row0 col2\" >2.189614</td>\n",
       "    </tr>\n",
       "    <tr>\n",
       "      <td id=\"T_23492_row1_col0\" class=\"data row1 col0\" >7089</td>\n",
       "      <td id=\"T_23492_row1_col1\" class=\"data row1 col1\" >Amarcord (1973)</td>\n",
       "      <td id=\"T_23492_row1_col2\" class=\"data row1 col2\" >2.027769</td>\n",
       "    </tr>\n",
       "    <tr>\n",
       "      <td id=\"T_23492_row2_col0\" class=\"data row2 col0\" >4438</td>\n",
       "      <td id=\"T_23492_row2_col1\" class=\"data row2 col1\" >Fist of Fury (Chinese Connection, The) (Jing wu men) (1972)</td>\n",
       "      <td id=\"T_23492_row2_col2\" class=\"data row2 col2\" >2.015345</td>\n",
       "    </tr>\n",
       "    <tr>\n",
       "      <td id=\"T_23492_row3_col0\" class=\"data row3 col0\" >5899</td>\n",
       "      <td id=\"T_23492_row3_col1\" class=\"data row3 col1\" >Zulu (1964)</td>\n",
       "      <td id=\"T_23492_row3_col2\" class=\"data row3 col2\" >1.946836</td>\n",
       "    </tr>\n",
       "    <tr>\n",
       "      <td id=\"T_23492_row4_col0\" class=\"data row4 col0\" >3639</td>\n",
       "      <td id=\"T_23492_row4_col1\" class=\"data row4 col1\" >Man with the Golden Gun, The (1974)</td>\n",
       "      <td id=\"T_23492_row4_col2\" class=\"data row4 col2\" >1.910484</td>\n",
       "    </tr>\n",
       "    <tr>\n",
       "      <td id=\"T_23492_row5_col0\" class=\"data row5 col0\" >2993</td>\n",
       "      <td id=\"T_23492_row5_col1\" class=\"data row5 col1\" >Thunderball (1965)</td>\n",
       "      <td id=\"T_23492_row5_col2\" class=\"data row5 col2\" >1.901428</td>\n",
       "    </tr>\n",
       "    <tr>\n",
       "      <td id=\"T_23492_row6_col0\" class=\"data row6 col0\" >4680</td>\n",
       "      <td id=\"T_23492_row6_col1\" class=\"data row6 col1\" >Vampire's Kiss (1989)</td>\n",
       "      <td id=\"T_23492_row6_col2\" class=\"data row6 col2\" >1.876063</td>\n",
       "    </tr>\n",
       "    <tr>\n",
       "      <td id=\"T_23492_row7_col0\" class=\"data row7 col0\" >133001</td>\n",
       "      <td id=\"T_23492_row7_col1\" class=\"data row7 col1\" >The Spy Who Loved Flowers (1966)</td>\n",
       "      <td id=\"T_23492_row7_col2\" class=\"data row7 col2\" >1.875987</td>\n",
       "    </tr>\n",
       "    <tr>\n",
       "      <td id=\"T_23492_row8_col0\" class=\"data row8 col0\" >2947</td>\n",
       "      <td id=\"T_23492_row8_col1\" class=\"data row8 col1\" >Goldfinger (1964)</td>\n",
       "      <td id=\"T_23492_row8_col2\" class=\"data row8 col2\" >1.870695</td>\n",
       "    </tr>\n",
       "    <tr>\n",
       "      <td id=\"T_23492_row9_col0\" class=\"data row9 col0\" >1587</td>\n",
       "      <td id=\"T_23492_row9_col1\" class=\"data row9 col1\" >Conan the Barbarian (1982)</td>\n",
       "      <td id=\"T_23492_row9_col2\" class=\"data row9 col2\" >1.868464</td>\n",
       "    </tr>\n",
       "  </tbody>\n",
       "</table>\n"
      ],
      "text/plain": [
       "<pandas.io.formats.style.Styler at 0x1de8574ceb0>"
      ]
     },
     "metadata": {},
     "output_type": "display_data"
    },
    {
     "name": "stdout",
     "output_type": "stream",
     "text": [
      "--------------------------------------------------------------------------------------------------------------\n",
      "\n",
      "\u001b[1mPopular movies\u001b[0m\n"
     ]
    },
    {
     "data": {
      "text/html": [
       "<style type=\"text/css\">\n",
       "</style>\n",
       "<table id=\"T_4c9d9\">\n",
       "  <thead>\n",
       "    <tr>\n",
       "      <th id=\"T_4c9d9_level0_col0\" class=\"col_heading level0 col0\" >movieId</th>\n",
       "      <th id=\"T_4c9d9_level0_col1\" class=\"col_heading level0 col1\" >title</th>\n",
       "    </tr>\n",
       "  </thead>\n",
       "  <tbody>\n",
       "    <tr>\n",
       "      <td id=\"T_4c9d9_row0_col0\" class=\"data row0 col0\" >260</td>\n",
       "      <td id=\"T_4c9d9_row0_col1\" class=\"data row0 col1\" >Star Wars: Episode IV - A New Hope (1977)</td>\n",
       "    </tr>\n",
       "    <tr>\n",
       "      <td id=\"T_4c9d9_row1_col0\" class=\"data row1 col0\" >1704</td>\n",
       "      <td id=\"T_4c9d9_row1_col1\" class=\"data row1 col1\" >Good Will Hunting (1997)</td>\n",
       "    </tr>\n",
       "    <tr>\n",
       "      <td id=\"T_4c9d9_row2_col0\" class=\"data row2 col0\" >1258</td>\n",
       "      <td id=\"T_4c9d9_row2_col1\" class=\"data row2 col1\" >Shining, The (1980)</td>\n",
       "    </tr>\n",
       "    <tr>\n",
       "      <td id=\"T_4c9d9_row3_col0\" class=\"data row3 col0\" >2571</td>\n",
       "      <td id=\"T_4c9d9_row3_col1\" class=\"data row3 col1\" >Matrix, The (1999)</td>\n",
       "    </tr>\n",
       "    <tr>\n",
       "      <td id=\"T_4c9d9_row4_col0\" class=\"data row4 col0\" >50</td>\n",
       "      <td id=\"T_4c9d9_row4_col1\" class=\"data row4 col1\" >Usual Suspects, The (1995)</td>\n",
       "    </tr>\n",
       "    <tr>\n",
       "      <td id=\"T_4c9d9_row5_col0\" class=\"data row5 col0\" >1221</td>\n",
       "      <td id=\"T_4c9d9_row5_col1\" class=\"data row5 col1\" >Godfather: Part II, The (1974)</td>\n",
       "    </tr>\n",
       "    <tr>\n",
       "      <td id=\"T_4c9d9_row6_col0\" class=\"data row6 col0\" >92259</td>\n",
       "      <td id=\"T_4c9d9_row6_col1\" class=\"data row6 col1\" >Intouchables (2011)</td>\n",
       "    </tr>\n",
       "    <tr>\n",
       "      <td id=\"T_4c9d9_row7_col0\" class=\"data row7 col0\" >47</td>\n",
       "      <td id=\"T_4c9d9_row7_col1\" class=\"data row7 col1\" >Seven (a.k.a. Se7en) (1995)</td>\n",
       "    </tr>\n",
       "    <tr>\n",
       "      <td id=\"T_4c9d9_row8_col0\" class=\"data row8 col0\" >134130</td>\n",
       "      <td id=\"T_4c9d9_row8_col1\" class=\"data row8 col1\" >The Martian (2015)</td>\n",
       "    </tr>\n",
       "    <tr>\n",
       "      <td id=\"T_4c9d9_row9_col0\" class=\"data row9 col0\" >4995</td>\n",
       "      <td id=\"T_4c9d9_row9_col1\" class=\"data row9 col1\" >Beautiful Mind, A (2001)</td>\n",
       "    </tr>\n",
       "  </tbody>\n",
       "</table>\n"
      ],
      "text/plain": [
       "<pandas.io.formats.style.Styler at 0x1df4ec40d60>"
      ]
     },
     "metadata": {},
     "output_type": "display_data"
    },
    {
     "name": "stdout",
     "output_type": "stream",
     "text": [
      "--------------------------------------------------------------------------------------------------------------\n",
      "\n",
      "\u001b[1mRecommendations based on a film you recently reviewed: Baahubali: The Beginning (2015)\u001b[0m\n"
     ]
    },
    {
     "data": {
      "text/html": [
       "<style type=\"text/css\">\n",
       "</style>\n",
       "<table id=\"T_af41a\">\n",
       "  <thead>\n",
       "    <tr>\n",
       "      <th id=\"T_af41a_level0_col0\" class=\"col_heading level0 col0\" >movieId</th>\n",
       "      <th id=\"T_af41a_level0_col1\" class=\"col_heading level0 col1\" >title</th>\n",
       "      <th id=\"T_af41a_level0_col2\" class=\"col_heading level0 col2\" >similarity</th>\n",
       "    </tr>\n",
       "  </thead>\n",
       "  <tbody>\n",
       "    <tr>\n",
       "      <td id=\"T_af41a_row0_col0\" class=\"data row0 col0\" >171611</td>\n",
       "      <td id=\"T_af41a_row0_col1\" class=\"data row0 col1\" >Baahubali 2: The Conclusion (2017)</td>\n",
       "      <td id=\"T_af41a_row0_col2\" class=\"data row0 col2\" >0.552022</td>\n",
       "    </tr>\n",
       "    <tr>\n",
       "      <td id=\"T_af41a_row1_col0\" class=\"data row1 col0\" >110295</td>\n",
       "      <td id=\"T_af41a_row1_col1\" class=\"data row1 col1\" >Legend of Hercules, The (2014)</td>\n",
       "      <td id=\"T_af41a_row1_col2\" class=\"data row1 col2\" >0.521345</td>\n",
       "    </tr>\n",
       "    <tr>\n",
       "      <td id=\"T_af41a_row2_col0\" class=\"data row2 col0\" >188091</td>\n",
       "      <td id=\"T_af41a_row2_col1\" class=\"data row2 col1\" >Аргонавты (1971)</td>\n",
       "      <td id=\"T_af41a_row2_col2\" class=\"data row2 col2\" >0.479974</td>\n",
       "    </tr>\n",
       "    <tr>\n",
       "      <td id=\"T_af41a_row3_col0\" class=\"data row3 col0\" >152063</td>\n",
       "      <td id=\"T_af41a_row3_col1\" class=\"data row3 col1\" >Gods of Egypt (2016)</td>\n",
       "      <td id=\"T_af41a_row3_col2\" class=\"data row3 col2\" >0.442950</td>\n",
       "    </tr>\n",
       "    <tr>\n",
       "      <td id=\"T_af41a_row4_col0\" class=\"data row4 col0\" >123264</td>\n",
       "      <td id=\"T_af41a_row4_col1\" class=\"data row4 col1\" >Hercules and the Circle of Fire (1994)</td>\n",
       "      <td id=\"T_af41a_row4_col2\" class=\"data row4 col2\" >0.440600</td>\n",
       "    </tr>\n",
       "    <tr>\n",
       "      <td id=\"T_af41a_row5_col0\" class=\"data row5 col0\" >188073</td>\n",
       "      <td id=\"T_af41a_row5_col1\" class=\"data row5 col1\" >Лабиринт (1971)</td>\n",
       "      <td id=\"T_af41a_row5_col2\" class=\"data row5 col2\" >0.423635</td>\n",
       "    </tr>\n",
       "    <tr>\n",
       "      <td id=\"T_af41a_row6_col0\" class=\"data row6 col0\" >93766</td>\n",
       "      <td id=\"T_af41a_row6_col1\" class=\"data row6 col1\" >Wrath of the Titans (2012)</td>\n",
       "      <td id=\"T_af41a_row6_col2\" class=\"data row6 col2\" >0.387183</td>\n",
       "    </tr>\n",
       "    <tr>\n",
       "      <td id=\"T_af41a_row7_col0\" class=\"data row7 col0\" >5540</td>\n",
       "      <td id=\"T_af41a_row7_col1\" class=\"data row7 col1\" >Clash of the Titans (1981)</td>\n",
       "      <td id=\"T_af41a_row7_col2\" class=\"data row7 col2\" >0.384380</td>\n",
       "    </tr>\n",
       "    <tr>\n",
       "      <td id=\"T_af41a_row8_col0\" class=\"data row8 col0\" >123565</td>\n",
       "      <td id=\"T_af41a_row8_col1\" class=\"data row8 col1\" >Hercules in the Underworld (1994)</td>\n",
       "      <td id=\"T_af41a_row8_col2\" class=\"data row8 col2\" >0.367562</td>\n",
       "    </tr>\n",
       "    <tr>\n",
       "      <td id=\"T_af41a_row9_col0\" class=\"data row9 col0\" >104074</td>\n",
       "      <td id=\"T_af41a_row9_col1\" class=\"data row9 col1\" >Percy Jackson: Sea of Monsters (2013)</td>\n",
       "      <td id=\"T_af41a_row9_col2\" class=\"data row9 col2\" >0.361039</td>\n",
       "    </tr>\n",
       "  </tbody>\n",
       "</table>\n"
      ],
      "text/plain": [
       "<pandas.io.formats.style.Styler at 0x1df4ec40670>"
      ]
     },
     "metadata": {},
     "output_type": "display_data"
    },
    {
     "name": "stdout",
     "output_type": "stream",
     "text": [
      "--------------------------------------------------------------------------------------------------------------\n"
     ]
    }
   ],
   "source": [
    "# Run Recommendations\n",
    "DT_user_selection_movie_recommendation()\n",
    "    # input random for a random user or input a valid user ID"
   ]
  },
  {
   "cell_type": "code",
   "execution_count": null,
   "id": "38f3556d",
   "metadata": {},
   "outputs": [],
   "source": []
  }
 ],
 "metadata": {
  "kernelspec": {
   "display_name": "Python 3 (ipykernel)",
   "language": "python",
   "name": "python3"
  },
  "language_info": {
   "codemirror_mode": {
    "name": "ipython",
    "version": 3
   },
   "file_extension": ".py",
   "mimetype": "text/x-python",
   "name": "python",
   "nbconvert_exporter": "python",
   "pygments_lexer": "ipython3",
   "version": "3.10.4"
  }
 },
 "nbformat": 4,
 "nbformat_minor": 5
}
