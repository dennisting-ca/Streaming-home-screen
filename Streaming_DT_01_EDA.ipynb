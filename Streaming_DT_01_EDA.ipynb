{
 "cells": [
  {
   "cell_type": "markdown",
   "id": "e7d835ea",
   "metadata": {},
   "source": [
    "# Dennis Ting - Streaming Service Home Screen\n",
    "# Movie Recommender System - 01_EDA"
   ]
  },
  {
   "cell_type": "markdown",
   "id": "a6c9bb72",
   "metadata": {},
   "source": [
    "**Purpose:** The main purpose of this notebook (01_EDA) is to perform Exploratory Data Analysis (EDA) on the MovieLens dataset, as well as prepare the data for the models in models notebook (02_Models)."
   ]
  },
  {
   "cell_type": "markdown",
   "id": "9fdbdcb5",
   "metadata": {},
   "source": [
    "Please read this notebook in conjunction with my report, and my other notebooks (see report for full outline)."
   ]
  },
  {
   "cell_type": "markdown",
   "id": "007bd76b",
   "metadata": {},
   "source": [
    "# Section 0 - Import & Functions"
   ]
  },
  {
   "cell_type": "markdown",
   "id": "70f4a393",
   "metadata": {},
   "source": [
    "## Import Libraries and Packages"
   ]
  },
  {
   "cell_type": "markdown",
   "id": "b1819444",
   "metadata": {},
   "source": [
    "Below, I will import libraries and packages used in the code in this notebook."
   ]
  },
  {
   "cell_type": "code",
   "execution_count": 1,
   "id": "0f9e1878",
   "metadata": {},
   "outputs": [],
   "source": [
    "# Import - Common Data Science Libraries\n",
    "import numpy as np\n",
    "import pandas as pd\n",
    "import matplotlib.pyplot as plt\n",
    "import datetime\n",
    "import time"
   ]
  },
  {
   "cell_type": "code",
   "execution_count": 2,
   "id": "4de335af",
   "metadata": {},
   "outputs": [],
   "source": [
    "# Import Libraries for analyzing Tags\n",
    "from sklearn.metrics.pairwise import cosine_similarity\n",
    "from sklearn.feature_extraction.text import TfidfVectorizer\n",
    "from scipy import sparse"
   ]
  },
  {
   "cell_type": "markdown",
   "id": "f91df9d6",
   "metadata": {},
   "source": [
    "## Import Data"
   ]
  },
  {
   "cell_type": "code",
   "execution_count": 3,
   "id": "7f6267bc",
   "metadata": {},
   "outputs": [],
   "source": [
    "# Import Data\n",
    "df_ratings = pd.read_csv('data/ratings.csv')\n",
    "df_movies = pd.read_csv('data/movies.csv')\n",
    "df_tags = pd.read_csv('data/tags.csv')"
   ]
  },
  {
   "cell_type": "markdown",
   "id": "702443bb",
   "metadata": {},
   "source": [
    "The above imported data is the MovieLens dataset (more specifically the \"MovieLens 25M Dataset\") from GroupLens Research, here is a [link to the source](https://grouplens.org/datasets/movielens/)."
   ]
  },
  {
   "cell_type": "markdown",
   "id": "a78a41f4",
   "metadata": {},
   "source": [
    "Below, I will go over a high-level overview of the CSVs imported."
   ]
  },
  {
   "cell_type": "markdown",
   "id": "f7966c0a",
   "metadata": {},
   "source": [
    "##### CSV overview (with columns):"
   ]
  },
  {
   "cell_type": "markdown",
   "id": "d36a8fb2",
   "metadata": {},
   "source": [
    "**ratings.csv** that contains ratings of movies by users:\n",
    "-\tuserId\n",
    "-\tmovieId\n",
    "-\trating\n",
    "-\ttimestamp\n",
    "\n",
    "Each line of this file after the header row represents one rating of one movie by one user."
   ]
  },
  {
   "cell_type": "markdown",
   "id": "4a474e81",
   "metadata": {},
   "source": [
    "**movies.csv** that contains movie information:\n",
    "-\tmovieId\n",
    "-\ttitle\n",
    "-\tgenres\n",
    "\n",
    "Each line of this file after the header row represents one movie."
   ]
  },
  {
   "cell_type": "markdown",
   "id": "e7db1b71",
   "metadata": {},
   "source": [
    "**tags.csv** that contains tags applied to movies by users:\n",
    "-\tuserId\n",
    "-\tmovieId\n",
    "-\ttag\n",
    "-\ttimestamp\n",
    "\n",
    "Each line of this file after the header row represents one tag applied to one movie by one user."
   ]
  },
  {
   "cell_type": "markdown",
   "id": "f3b8dd11",
   "metadata": {},
   "source": [
    "Additional Details on column above:\n",
    "- User Ids\n",
    "    - MovieLens users were selected at random for inclusion. Their ids have been anonymized. User ids are consistent between `ratings.csv` and `tags.csv` (i.e., the same id refers to the same user across the two files).\n",
    "\n",
    "- Movie Ids\n",
    "    - Only movies with at least one rating or tag are included in the dataset. These movie ids are consistent with those used on the MovieLens web site (e.g., id `1` corresponds to the URL <https://movielens.org/movies/1>). Movie ids are consistent between `ratings.csv`, `tags.csv`, `movies.csv`, and `links.csv` (i.e., the same id refers to the same movie across these four data files). *Note - `link.csv` is not utilized in this project.*\n",
    "    \n",
    "- Ratings\n",
    "    - Ratings are made on a 5-star scale, with half-star increments (0.5 stars - 5.0 stars).\n",
    "\n",
    "- Timestamps\n",
    "    - Timestamps represent seconds since midnight Coordinated Universal Time (UTC) of January 1, 1970.\n",
    "- Title\n",
    "    - The title (i.e. name) of the movie.\n",
    "- Tag\n",
    "    - Tags are user-generated metadata about movies. Each tag is typically a single word or short phrase. The meaning, value, and purpose of a particular tag is determined by each user. </br>\n",
    "</br>\n",
    "\n",
    "*Note - above descriptions are primarily from the READ ME file provided with the Dataset. I retained a copy of this file in my `data` folder*"
   ]
  },
  {
   "cell_type": "markdown",
   "id": "b8c684d9",
   "metadata": {},
   "source": [
    "## Functions"
   ]
  },
  {
   "cell_type": "markdown",
   "id": "b22dc13f",
   "metadata": {},
   "source": [
    "With EDA, I may create columns to perform checks, filter data, or for a variety of other reasons. I will remove some of these additional columns throughout my EDA process (i.e. after they've served their purpose, etc) and have created a function to help streamline the process. </br>\n",
    "</br>\n",
    "The below function is to drop a specific column from a dataset. \n",
    "- It will check whether the column exists prior to attempting to drop the column. \n",
    "- It will print various messages depending on "
   ]
  },
  {
   "cell_type": "code",
   "execution_count": 4,
   "id": "0e6630ed",
   "metadata": {},
   "outputs": [],
   "source": [
    "# Drop Column Function\n",
    "\n",
    "def drop_col_from_df(drop_col_name, drop_df):\n",
    "    \"\"\"\n",
    "    Drops column from dataframe, done in place.\n",
    "    \n",
    "    Once column dropped, a check is performed and a message is printed for the user to confirm completion (or otherwise).\n",
    "    \n",
    "    :drop_col_name: Name of column to be dropped\n",
    "    :drop_df: Name of dataframe that contains column to be dropped    \n",
    "    \"\"\"\n",
    "\n",
    "    if drop_col_name in drop_df.columns: # conditional - drop only if column exists\n",
    "        \n",
    "        print (f\"Does this column exist: {drop_col_name in drop_df.columns}\")\n",
    "        \n",
    "        drop_df.drop(columns = drop_col_name, axis = 1, inplace = True) \n",
    "            # inplace = True, so that the drop method is done inplace in dataframe\n",
    "        \n",
    "        # Check after dropping, was it successful? (i.e. column no longer exists)\n",
    "        if not(drop_col_name in drop_df.columns):     # check column no longer exists\n",
    "            print (\"Success - Dropped column: \", drop_col_name) # Display message when True\n",
    "            \n",
    "        else:\n",
    "            print (\"Unsuccessful - Column found but not successfully dropped, perform further inspection\")\n",
    "    \n",
    "    else: # if column is not in dataframe\n",
    "        print(\"Unsuccessful - Column not found in dataframe\")"
   ]
  },
  {
   "cell_type": "markdown",
   "id": "0dbffdd0",
   "metadata": {},
   "source": [
    "# Section 1 - Collaborative Filtering EDA"
   ]
  },
  {
   "cell_type": "markdown",
   "id": "e8f6d776",
   "metadata": {},
   "source": [
    "## Explore `df_ratings`"
   ]
  },
  {
   "cell_type": "markdown",
   "id": "9379ea85",
   "metadata": {},
   "source": [
    "I plan to have a model that provides *collaborative based recommendations*. "
   ]
  },
  {
   "cell_type": "markdown",
   "id": "9bbe252f",
   "metadata": {},
   "source": [
    "*Collaborative* methods for recommender systems are based solely on past interactions between the users and items (in this case, it would be movies) to produce new recommendations."
   ]
  },
  {
   "cell_type": "markdown",
   "id": "64bd4c7d",
   "metadata": {},
   "source": [
    "Thus, I have decided to look at `df_ratings` first, as each row represents one rating of one movie by one user."
   ]
  },
  {
   "cell_type": "markdown",
   "id": "b8ecb1f5",
   "metadata": {},
   "source": [
    "### First Look at `df_ratings`"
   ]
  },
  {
   "cell_type": "code",
   "execution_count": 5,
   "id": "6984c351",
   "metadata": {},
   "outputs": [
    {
     "data": {
      "text/html": [
       "<div>\n",
       "<style scoped>\n",
       "    .dataframe tbody tr th:only-of-type {\n",
       "        vertical-align: middle;\n",
       "    }\n",
       "\n",
       "    .dataframe tbody tr th {\n",
       "        vertical-align: top;\n",
       "    }\n",
       "\n",
       "    .dataframe thead th {\n",
       "        text-align: right;\n",
       "    }\n",
       "</style>\n",
       "<table border=\"1\" class=\"dataframe\">\n",
       "  <thead>\n",
       "    <tr style=\"text-align: right;\">\n",
       "      <th></th>\n",
       "      <th>userId</th>\n",
       "      <th>movieId</th>\n",
       "      <th>rating</th>\n",
       "      <th>timestamp</th>\n",
       "    </tr>\n",
       "  </thead>\n",
       "  <tbody>\n",
       "    <tr>\n",
       "      <th>0</th>\n",
       "      <td>1</td>\n",
       "      <td>296</td>\n",
       "      <td>5.0</td>\n",
       "      <td>1147880044</td>\n",
       "    </tr>\n",
       "    <tr>\n",
       "      <th>1</th>\n",
       "      <td>1</td>\n",
       "      <td>306</td>\n",
       "      <td>3.5</td>\n",
       "      <td>1147868817</td>\n",
       "    </tr>\n",
       "    <tr>\n",
       "      <th>2</th>\n",
       "      <td>1</td>\n",
       "      <td>307</td>\n",
       "      <td>5.0</td>\n",
       "      <td>1147868828</td>\n",
       "    </tr>\n",
       "    <tr>\n",
       "      <th>3</th>\n",
       "      <td>1</td>\n",
       "      <td>665</td>\n",
       "      <td>5.0</td>\n",
       "      <td>1147878820</td>\n",
       "    </tr>\n",
       "    <tr>\n",
       "      <th>4</th>\n",
       "      <td>1</td>\n",
       "      <td>899</td>\n",
       "      <td>3.5</td>\n",
       "      <td>1147868510</td>\n",
       "    </tr>\n",
       "  </tbody>\n",
       "</table>\n",
       "</div>"
      ],
      "text/plain": [
       "   userId  movieId  rating   timestamp\n",
       "0       1      296     5.0  1147880044\n",
       "1       1      306     3.5  1147868817\n",
       "2       1      307     5.0  1147868828\n",
       "3       1      665     5.0  1147878820\n",
       "4       1      899     3.5  1147868510"
      ]
     },
     "execution_count": 5,
     "metadata": {},
     "output_type": "execute_result"
    }
   ],
   "source": [
    "# Visualize the Data\n",
    "df_ratings.head()"
   ]
  },
  {
   "cell_type": "code",
   "execution_count": 6,
   "id": "82fc502d",
   "metadata": {},
   "outputs": [
    {
     "data": {
      "text/plain": [
       "(25000095, 4)"
      ]
     },
     "execution_count": 6,
     "metadata": {},
     "output_type": "execute_result"
    }
   ],
   "source": [
    "# Get Shape of Data Frame\n",
    "df_ratings.shape"
   ]
  },
  {
   "cell_type": "code",
   "execution_count": 7,
   "id": "3d8f848d",
   "metadata": {},
   "outputs": [
    {
     "data": {
      "text/plain": [
       "userId       0\n",
       "movieId      0\n",
       "rating       0\n",
       "timestamp    0\n",
       "dtype: int64"
      ]
     },
     "execution_count": 7,
     "metadata": {},
     "output_type": "execute_result"
    }
   ],
   "source": [
    "# Check for missing data\n",
    "df_ratings.isna().sum()"
   ]
  },
  {
   "cell_type": "code",
   "execution_count": 8,
   "id": "8e7532e8",
   "metadata": {},
   "outputs": [
    {
     "data": {
      "text/plain": [
       "0"
      ]
     },
     "execution_count": 8,
     "metadata": {},
     "output_type": "execute_result"
    }
   ],
   "source": [
    "# Check for duplicated rows\n",
    "df_ratings.duplicated().sum()"
   ]
  },
  {
   "cell_type": "code",
   "execution_count": 9,
   "id": "3488ec2b",
   "metadata": {},
   "outputs": [
    {
     "data": {
      "text/plain": [
       "0"
      ]
     },
     "execution_count": 9,
     "metadata": {},
     "output_type": "execute_result"
    }
   ],
   "source": [
    "# Check if a user has reviewed a movie more than once\n",
    "df_ratings[['userId', 'movieId']].duplicated().sum()"
   ]
  },
  {
   "cell_type": "code",
   "execution_count": 10,
   "id": "d178f470",
   "metadata": {},
   "outputs": [
    {
     "data": {
      "text/html": [
       "<div>\n",
       "<style scoped>\n",
       "    .dataframe tbody tr th:only-of-type {\n",
       "        vertical-align: middle;\n",
       "    }\n",
       "\n",
       "    .dataframe tbody tr th {\n",
       "        vertical-align: top;\n",
       "    }\n",
       "\n",
       "    .dataframe thead th {\n",
       "        text-align: right;\n",
       "    }\n",
       "</style>\n",
       "<table border=\"1\" class=\"dataframe\">\n",
       "  <thead>\n",
       "    <tr style=\"text-align: right;\">\n",
       "      <th></th>\n",
       "      <th>count</th>\n",
       "      <th>mean</th>\n",
       "      <th>std</th>\n",
       "      <th>min</th>\n",
       "      <th>25%</th>\n",
       "      <th>50%</th>\n",
       "      <th>75%</th>\n",
       "      <th>max</th>\n",
       "    </tr>\n",
       "  </thead>\n",
       "  <tbody>\n",
       "    <tr>\n",
       "      <th>userId</th>\n",
       "      <td>25000095.0</td>\n",
       "      <td>8.118928e+04</td>\n",
       "      <td>4.679172e+04</td>\n",
       "      <td>1.0</td>\n",
       "      <td>4.051000e+04</td>\n",
       "      <td>8.091400e+04</td>\n",
       "      <td>1.215570e+05</td>\n",
       "      <td>1.625410e+05</td>\n",
       "    </tr>\n",
       "    <tr>\n",
       "      <th>movieId</th>\n",
       "      <td>25000095.0</td>\n",
       "      <td>2.138798e+04</td>\n",
       "      <td>3.919886e+04</td>\n",
       "      <td>1.0</td>\n",
       "      <td>1.196000e+03</td>\n",
       "      <td>2.947000e+03</td>\n",
       "      <td>8.623000e+03</td>\n",
       "      <td>2.091710e+05</td>\n",
       "    </tr>\n",
       "    <tr>\n",
       "      <th>rating</th>\n",
       "      <td>25000095.0</td>\n",
       "      <td>3.533854e+00</td>\n",
       "      <td>1.060744e+00</td>\n",
       "      <td>0.5</td>\n",
       "      <td>3.000000e+00</td>\n",
       "      <td>3.500000e+00</td>\n",
       "      <td>4.000000e+00</td>\n",
       "      <td>5.000000e+00</td>\n",
       "    </tr>\n",
       "    <tr>\n",
       "      <th>timestamp</th>\n",
       "      <td>25000095.0</td>\n",
       "      <td>1.215601e+09</td>\n",
       "      <td>2.268758e+08</td>\n",
       "      <td>789652009.0</td>\n",
       "      <td>1.011747e+09</td>\n",
       "      <td>1.198868e+09</td>\n",
       "      <td>1.447205e+09</td>\n",
       "      <td>1.574328e+09</td>\n",
       "    </tr>\n",
       "  </tbody>\n",
       "</table>\n",
       "</div>"
      ],
      "text/plain": [
       "                count          mean           std          min           25%  \\\n",
       "userId     25000095.0  8.118928e+04  4.679172e+04          1.0  4.051000e+04   \n",
       "movieId    25000095.0  2.138798e+04  3.919886e+04          1.0  1.196000e+03   \n",
       "rating     25000095.0  3.533854e+00  1.060744e+00          0.5  3.000000e+00   \n",
       "timestamp  25000095.0  1.215601e+09  2.268758e+08  789652009.0  1.011747e+09   \n",
       "\n",
       "                    50%           75%           max  \n",
       "userId     8.091400e+04  1.215570e+05  1.625410e+05  \n",
       "movieId    2.947000e+03  8.623000e+03  2.091710e+05  \n",
       "rating     3.500000e+00  4.000000e+00  5.000000e+00  \n",
       "timestamp  1.198868e+09  1.447205e+09  1.574328e+09  "
      ]
     },
     "execution_count": 10,
     "metadata": {},
     "output_type": "execute_result"
    }
   ],
   "source": [
    "# Get Descriptive Statistics\n",
    "df_ratings.describe().T"
   ]
  },
  {
   "cell_type": "code",
   "execution_count": 11,
   "id": "0d2e4dff",
   "metadata": {},
   "outputs": [
    {
     "data": {
      "text/plain": [
       "162541"
      ]
     },
     "execution_count": 11,
     "metadata": {},
     "output_type": "execute_result"
    }
   ],
   "source": [
    "# Get number of unique users\n",
    "df_ratings['userId'].nunique()"
   ]
  },
  {
   "cell_type": "code",
   "execution_count": 12,
   "id": "a518b0a4",
   "metadata": {},
   "outputs": [
    {
     "data": {
      "text/plain": [
       "59047"
      ]
     },
     "execution_count": 12,
     "metadata": {},
     "output_type": "execute_result"
    }
   ],
   "source": [
    "# Get number of unique movies\n",
    "df_ratings['movieId'].nunique()"
   ]
  },
  {
   "cell_type": "markdown",
   "id": "471575b1",
   "metadata": {},
   "source": [
    "##### Summary / Findings:\n",
    "- `df_ratings` has ~25M reviews\n",
    "- Consistent with the summary in `Import Data` section above, there are  4 columns of data (`userId`, `movieId`, `rating`, `timestamp`)\n",
    "- There are no null values or duplicate rows in this table. This table is quite clean.\n",
    "- The `rating` column spans from a minimum of 0.5 to a maximum of 5.0.\n",
    "- There are ~163K unique users, and ~ 59K unique movies."
   ]
  },
  {
   "cell_type": "markdown",
   "id": "f85c6636",
   "metadata": {},
   "source": [
    "## Exploring `df_ratings` in Depth"
   ]
  },
  {
   "cell_type": "markdown",
   "id": "b16dc101",
   "metadata": {},
   "source": [
    "### Number of Reviews by User"
   ]
  },
  {
   "cell_type": "code",
   "execution_count": 13,
   "id": "530d87d3",
   "metadata": {},
   "outputs": [
    {
     "data": {
      "text/plain": [
       "count    162541.000000\n",
       "mean        153.807932\n",
       "std         268.047590\n",
       "min          20.000000\n",
       "25%          36.000000\n",
       "50%          71.000000\n",
       "75%         162.000000\n",
       "max       32202.000000\n",
       "Name: userId, dtype: float64"
      ]
     },
     "execution_count": 13,
     "metadata": {},
     "output_type": "execute_result"
    }
   ],
   "source": [
    "# Look at some statistical metrics on number of ratings by user\n",
    "df_ratings['userId'].value_counts().describe()"
   ]
  },
  {
   "cell_type": "code",
   "execution_count": 14,
   "id": "ba9fb8de",
   "metadata": {},
   "outputs": [
    {
     "data": {
      "text/plain": [
       "72315     32202\n",
       "80974      9178\n",
       "137293     8913\n",
       "33844      7919\n",
       "20055      7488\n",
       "Name: userId, dtype: int64"
      ]
     },
     "execution_count": 14,
     "metadata": {},
     "output_type": "execute_result"
    }
   ],
   "source": [
    "# Look at top 5 users with the highest number of ratings\n",
    "df_ratings['userId'].value_counts().head()"
   ]
  },
  {
   "cell_type": "code",
   "execution_count": 15,
   "id": "2dc40103",
   "metadata": {},
   "outputs": [
    {
     "data": {
      "text/plain": [
       "5.514041095890411"
      ]
     },
     "execution_count": 15,
     "metadata": {},
     "output_type": "execute_result"
    }
   ],
   "source": [
    "# Explore User with Max Reviews - ~32K\n",
    "\n",
    "32202 * 1.5 / 24 / 365\n",
    "    # * 1.5 - 1.5 hours high-level approximation of movie length\n",
    "    # / 24  - transforms hours into days\n",
    "    # / 365 - transforms figure into years"
   ]
  },
  {
   "cell_type": "markdown",
   "id": "af171e02",
   "metadata": {},
   "source": [
    "##### Summary / Findings:\n",
    "- Each user in this dataset has at least 20 reviews.\n",
    "- The user with the most reviews has ~32K reviews. \n",
    "    - Based on a high-level calculation above, it would take about 5.5 years of straight movie watching to finish ~32k movies. Albeit that this figure does not account for sleep, breaks, etc, it is still quite possible that an individual could plausibly have watched / reviewed so this many movies. Thus, I will be leaving the data as is (rather than deleting it or considering other data cleaning alternatives)."
   ]
  },
  {
   "cell_type": "code",
   "execution_count": 16,
   "id": "3e59d463",
   "metadata": {},
   "outputs": [],
   "source": [
    "# Plot rating by user\n",
    "\n",
    "# Get number of reviews by users (retrieve values for histogram)\n",
    "visual_input = df_ratings['userId'].value_counts().values\n",
    "\n",
    "# Filter out values that are above 162 (Exclude top 25% of users, keep 75% in visualization)\n",
    "visual_input = visual_input[visual_input <= 162]"
   ]
  },
  {
   "cell_type": "code",
   "execution_count": 17,
   "id": "89166764",
   "metadata": {},
   "outputs": [
    {
     "data": {
      "image/png": "[encoded data removed]",
      "text/plain": [
       "<Figure size 432x288 with 1 Axes>"
      ]
     },
     "metadata": {
      "needs_background": "light"
     },
     "output_type": "display_data"
    }
   ],
   "source": [
    "plt.figure()\n",
    "\n",
    "# Plot histogram\n",
    "plt.hist(visual_input, bins=25) \n",
    "\n",
    "# Titles and Axes\n",
    "plt.title('Distribution of Number of Ratings by Users')\n",
    "plt.xlabel('Number of Ratings by User')\n",
    "plt.ylabel('Frequency (Count) of Users')\n",
    "\n",
    "plt.show()"
   ]
  },
  {
   "cell_type": "markdown",
   "id": "c3ec8b9d",
   "metadata": {},
   "source": [
    "##### Summary / Findings:\n",
    "- For the visualization, I excluded the top 25% of users with the highest number of ratings. \n",
    "    - I did this to keep the visualization compact as the top 25% of users were sparse when it came to number of movie ratings (ranging from 163 to ~32K number of ratings).\n",
    "- Overall, this distribution is right skewed (i.e. tail on the right side), which was consistent with the statistical metrics we saw above. Many users have 20 (or close to 20) ratings, and the number of users per bucket generally tapers offs as we move along the x-axis (Number of Ratings by User)."
   ]
  },
  {
   "cell_type": "markdown",
   "id": "32040e2f",
   "metadata": {},
   "source": [
    "### Update Ratings Scale"
   ]
  },
  {
   "cell_type": "markdown",
   "id": "52751c44",
   "metadata": {},
   "source": [
    "I have decided to convert the ratings range from \\[0.5 - 5\\] to \\[1 - 10\\], by multiplying the `rating` column by 2. This will make some of the calculations in the \"Net Ratings column\" section below easier to code. "
   ]
  },
  {
   "cell_type": "code",
   "execution_count": 18,
   "id": "dea0ea9d",
   "metadata": {},
   "outputs": [],
   "source": [
    "# Change scale from [0.5 - 5] to [1 - 10]\n",
    "df_ratings['rating'] = df_ratings['rating'] * 2"
   ]
  },
  {
   "cell_type": "code",
   "execution_count": 19,
   "id": "01f5dc54",
   "metadata": {},
   "outputs": [
    {
     "data": {
      "text/plain": [
       "0    10.0\n",
       "1     7.0\n",
       "2    10.0\n",
       "3    10.0\n",
       "4     7.0\n",
       "Name: rating, dtype: float64"
      ]
     },
     "execution_count": 19,
     "metadata": {},
     "output_type": "execute_result"
    }
   ],
   "source": [
    "# Visualize\n",
    "df_ratings['rating'].head()"
   ]
  },
  {
   "cell_type": "code",
   "execution_count": 20,
   "id": "a2f77e03",
   "metadata": {},
   "outputs": [],
   "source": [
    "# Change Datatype to int8 to reduce memory consumption (and future processing power needed)\n",
    "df_ratings['rating'] = df_ratings['rating'].astype(np.int8)"
   ]
  },
  {
   "cell_type": "markdown",
   "id": "044a2780",
   "metadata": {},
   "source": [
    "## Data Filtering - `df_ratings`"
   ]
  },
  {
   "cell_type": "markdown",
   "id": "201226d0",
   "metadata": {},
   "source": [
    "As mentioned previously, I plan on using this data to perform *collaborative filtering* technique to recommend movies to a user based on ratings from similar users. </br>\n",
    "</br>\n",
    "In essence, a user-movie matrix will be produced from the *collaborative filtering* technique:\n",
    "- each row would contain ratings by each user\n",
    "- each column would contain ratings received by each movie\n",
    "</br>\n",
    "\n",
    "Based on the rounded numbers above, I can expect a matrix with ~9.6 billion cells (with ~163K unique users and ~59K unique movies). The majority of the cells would would be empty as there are ~9.6 billion possible combinations with only ~25 million reviews (i.e. the length of `df_ratings`).\n",
    "</br>\n",
    "\n",
    "*Collaborative filtering* is known to be computationally heavy. In my initial phases of my project, I have encountered my fair share of memory issues trying to take on the entire dataset (all ~25 million ratings). I have since reduce the dataset to make it manageable for the computing power I have available to me. Below, I will go through how I reduced the dataset and my relevant thoughts. </br>\n",
    "</br>\n",
    "\n",
    "Data Filtering of `df_ratings` overview:\n",
    "- Keep ratings from recent years\n",
    "- Filter out movies with less than X ratings (threshold to be explored below)\n"
   ]
  },
  {
   "cell_type": "markdown",
   "id": "39487ee8",
   "metadata": {},
   "source": [
    "### Create Datetime column"
   ]
  },
  {
   "cell_type": "markdown",
   "id": "da80c96a",
   "metadata": {},
   "source": [
    "Below, I will create a new column to show the Unix Timestamp (i.e. `timestamp` column) in the more analysis-friendly DateTime format. "
   ]
  },
  {
   "cell_type": "code",
   "execution_count": 21,
   "id": "fee45d26",
   "metadata": {},
   "outputs": [
    {
     "data": {
      "text/html": [
       "<div>\n",
       "<style scoped>\n",
       "    .dataframe tbody tr th:only-of-type {\n",
       "        vertical-align: middle;\n",
       "    }\n",
       "\n",
       "    .dataframe tbody tr th {\n",
       "        vertical-align: top;\n",
       "    }\n",
       "\n",
       "    .dataframe thead th {\n",
       "        text-align: right;\n",
       "    }\n",
       "</style>\n",
       "<table border=\"1\" class=\"dataframe\">\n",
       "  <thead>\n",
       "    <tr style=\"text-align: right;\">\n",
       "      <th></th>\n",
       "      <th>userId</th>\n",
       "      <th>movieId</th>\n",
       "      <th>rating</th>\n",
       "      <th>timestamp</th>\n",
       "      <th>date</th>\n",
       "    </tr>\n",
       "  </thead>\n",
       "  <tbody>\n",
       "    <tr>\n",
       "      <th>0</th>\n",
       "      <td>1</td>\n",
       "      <td>296</td>\n",
       "      <td>10</td>\n",
       "      <td>1147880044</td>\n",
       "      <td>2006-05-17 15:34:04</td>\n",
       "    </tr>\n",
       "    <tr>\n",
       "      <th>1</th>\n",
       "      <td>1</td>\n",
       "      <td>306</td>\n",
       "      <td>7</td>\n",
       "      <td>1147868817</td>\n",
       "      <td>2006-05-17 12:26:57</td>\n",
       "    </tr>\n",
       "    <tr>\n",
       "      <th>2</th>\n",
       "      <td>1</td>\n",
       "      <td>307</td>\n",
       "      <td>10</td>\n",
       "      <td>1147868828</td>\n",
       "      <td>2006-05-17 12:27:08</td>\n",
       "    </tr>\n",
       "    <tr>\n",
       "      <th>3</th>\n",
       "      <td>1</td>\n",
       "      <td>665</td>\n",
       "      <td>10</td>\n",
       "      <td>1147878820</td>\n",
       "      <td>2006-05-17 15:13:40</td>\n",
       "    </tr>\n",
       "    <tr>\n",
       "      <th>4</th>\n",
       "      <td>1</td>\n",
       "      <td>899</td>\n",
       "      <td>7</td>\n",
       "      <td>1147868510</td>\n",
       "      <td>2006-05-17 12:21:50</td>\n",
       "    </tr>\n",
       "    <tr>\n",
       "      <th>...</th>\n",
       "      <td>...</td>\n",
       "      <td>...</td>\n",
       "      <td>...</td>\n",
       "      <td>...</td>\n",
       "      <td>...</td>\n",
       "    </tr>\n",
       "    <tr>\n",
       "      <th>25000090</th>\n",
       "      <td>162541</td>\n",
       "      <td>50872</td>\n",
       "      <td>9</td>\n",
       "      <td>1240953372</td>\n",
       "      <td>2009-04-28 21:16:12</td>\n",
       "    </tr>\n",
       "    <tr>\n",
       "      <th>25000091</th>\n",
       "      <td>162541</td>\n",
       "      <td>55768</td>\n",
       "      <td>5</td>\n",
       "      <td>1240951998</td>\n",
       "      <td>2009-04-28 20:53:18</td>\n",
       "    </tr>\n",
       "    <tr>\n",
       "      <th>25000092</th>\n",
       "      <td>162541</td>\n",
       "      <td>56176</td>\n",
       "      <td>4</td>\n",
       "      <td>1240950697</td>\n",
       "      <td>2009-04-28 20:31:37</td>\n",
       "    </tr>\n",
       "    <tr>\n",
       "      <th>25000093</th>\n",
       "      <td>162541</td>\n",
       "      <td>58559</td>\n",
       "      <td>8</td>\n",
       "      <td>1240953434</td>\n",
       "      <td>2009-04-28 21:17:14</td>\n",
       "    </tr>\n",
       "    <tr>\n",
       "      <th>25000094</th>\n",
       "      <td>162541</td>\n",
       "      <td>63876</td>\n",
       "      <td>10</td>\n",
       "      <td>1240952515</td>\n",
       "      <td>2009-04-28 21:01:55</td>\n",
       "    </tr>\n",
       "  </tbody>\n",
       "</table>\n",
       "<p>25000095 rows × 5 columns</p>\n",
       "</div>"
      ],
      "text/plain": [
       "          userId  movieId  rating   timestamp                date\n",
       "0              1      296      10  1147880044 2006-05-17 15:34:04\n",
       "1              1      306       7  1147868817 2006-05-17 12:26:57\n",
       "2              1      307      10  1147868828 2006-05-17 12:27:08\n",
       "3              1      665      10  1147878820 2006-05-17 15:13:40\n",
       "4              1      899       7  1147868510 2006-05-17 12:21:50\n",
       "...          ...      ...     ...         ...                 ...\n",
       "25000090  162541    50872       9  1240953372 2009-04-28 21:16:12\n",
       "25000091  162541    55768       5  1240951998 2009-04-28 20:53:18\n",
       "25000092  162541    56176       4  1240950697 2009-04-28 20:31:37\n",
       "25000093  162541    58559       8  1240953434 2009-04-28 21:17:14\n",
       "25000094  162541    63876      10  1240952515 2009-04-28 21:01:55\n",
       "\n",
       "[25000095 rows x 5 columns]"
      ]
     },
     "execution_count": 21,
     "metadata": {},
     "output_type": "execute_result"
    }
   ],
   "source": [
    "# Create Date Column, convert timestamp (Unix) to Datetime\n",
    "df_ratings['date'] = pd.to_datetime(df_ratings['timestamp'], unit='s')\n",
    "df_ratings"
   ]
  },
  {
   "cell_type": "code",
   "execution_count": 22,
   "id": "1b468d26",
   "metadata": {},
   "outputs": [
    {
     "data": {
      "text/plain": [
       "1995          3\n",
       "1996    1430093\n",
       "1997     626202\n",
       "1998     272099\n",
       "1999    1059080\n",
       "2000    1735398\n",
       "2001    1058750\n",
       "2002     776654\n",
       "2003     920295\n",
       "2004    1048116\n",
       "2005    1613550\n",
       "2006    1038458\n",
       "2007     931432\n",
       "2008    1018001\n",
       "2009     810127\n",
       "2010     792436\n",
       "2011     676498\n",
       "2012     635208\n",
       "2013     515684\n",
       "2014     478270\n",
       "2015    1604971\n",
       "2016    1757440\n",
       "2017    1689935\n",
       "2018    1310761\n",
       "2019    1200634\n",
       "Name: date, dtype: int64"
      ]
     },
     "execution_count": 22,
     "metadata": {},
     "output_type": "execute_result"
    }
   ],
   "source": [
    "# Get reviews by year\n",
    "df_ratings['date'].dt.year.value_counts().sort_index()"
   ]
  },
  {
   "cell_type": "code",
   "execution_count": 23,
   "id": "23f3af38",
   "metadata": {},
   "outputs": [
    {
     "data": {
      "text/plain": [
       "1041670.625"
      ]
     },
     "execution_count": 23,
     "metadata": {},
     "output_type": "execute_result"
    }
   ],
   "source": [
    "# Calculate straight average of rating per year based on total ratings in dataset\n",
    "mean_review_per_year = df_ratings.shape[0] / ( df_ratings['date'].dt.year.nunique() -1 )\n",
    "    # Number of ratings / number of years \n",
    "    # Note - I decreased number of years calc above by 1 to exclude 1995, which only had 3 reviews in total.\n",
    "\n",
    "mean_review_per_year # show"
   ]
  },
  {
   "cell_type": "code",
   "execution_count": 24,
   "id": "312eb762",
   "metadata": {
    "scrolled": true
   },
   "outputs": [
    {
     "data": {
      "image/png": "[encoded data removed]",
      "text/plain": [
       "<Figure size 432x288 with 1 Axes>"
      ]
     },
     "metadata": {
      "needs_background": "light"
     },
     "output_type": "display_data"
    },
    {
     "name": "stdout",
     "output_type": "stream",
     "text": [
      "The red line above represents the overall rating per year average\n"
     ]
    }
   ],
   "source": [
    "# Plot Frequency of Movie Rating by Year\n",
    "\n",
    "visual_input = df_ratings['date'].dt.year.value_counts().sort_index()\n",
    "\n",
    "plt.figure()\n",
    "\n",
    "# Plot Bar Graph\n",
    "plt.bar(visual_input.index,\n",
    "        visual_input.values)\n",
    "\n",
    "# Titles and Axes\n",
    "plt.title('Distribution of Movie Rating Frequency by Year')\n",
    "plt.xlabel('Year')\n",
    "plt.ylabel('Frequency (Count)')\n",
    "\n",
    "# Plot horizontal line - average of rating per year \n",
    "plt.axhline(y= mean_review_per_year, color = 'red')\n",
    "\n",
    "plt.show()\n",
    "\n",
    "print('The red line above represents the overall rating per year average')"
   ]
  },
  {
   "cell_type": "markdown",
   "id": "df36c039",
   "metadata": {},
   "source": [
    "##### Summary / Findings:\n",
    "- Movie Ratings per year is not consistent, it appears to fluctuate year to year with no obvious pattern.\n",
    "- From 1995 to 2014: \n",
    "    - The majority of years have below average movie ratings.\n",
    "    - 1996, 2000, 2005 have the highest volumes of movie ratings within this timeframe.\n",
    "- From 2015 - 2019:\n",
    "    - All years in this range have above average movie ratings. "
   ]
  },
  {
   "cell_type": "markdown",
   "id": "0880ad9d",
   "metadata": {},
   "source": [
    "### Filter Data by Year"
   ]
  },
  {
   "cell_type": "markdown",
   "id": "0a862702",
   "metadata": {},
   "source": [
    "As discussed in the beginning of this section, I will be reducing the dataset. </br>\n",
    "</br>\n",
    "Specifically, I will reduce the dataset to only include ratings from the 5 most recent years in the dataset."
   ]
  },
  {
   "cell_type": "code",
   "execution_count": 25,
   "id": "7718266a",
   "metadata": {},
   "outputs": [
    {
     "data": {
      "text/plain": [
       "7563741"
      ]
     },
     "execution_count": 25,
     "metadata": {},
     "output_type": "execute_result"
    }
   ],
   "source": [
    "# Calculate number of ratings from 2015 - 2019\n",
    "df_ratings['date'].dt.year.value_counts().filter(items = [2015, 2016, 2017, 2018, 2019]).sum()"
   ]
  },
  {
   "cell_type": "code",
   "execution_count": 26,
   "id": "4d3ea487",
   "metadata": {},
   "outputs": [],
   "source": [
    "# Create a \"year\" column\n",
    "df_ratings['year'] = df_ratings['date'].dt.year"
   ]
  },
  {
   "cell_type": "code",
   "execution_count": 27,
   "id": "73454325",
   "metadata": {},
   "outputs": [],
   "source": [
    "# Filter `df_ratings` for only ratings in Year 2015 or above\n",
    "df_ratings = df_ratings[df_ratings['year'] >= 2015]"
   ]
  },
  {
   "cell_type": "code",
   "execution_count": 28,
   "id": "430ac5da",
   "metadata": {},
   "outputs": [
    {
     "data": {
      "text/plain": [
       "array([2015, 2016, 2017, 2018, 2019], dtype=int64)"
      ]
     },
     "execution_count": 28,
     "metadata": {},
     "output_type": "execute_result"
    }
   ],
   "source": [
    "# Check that DataFrame only includes years from 2015 - 2019\n",
    "np.sort(df_ratings['year'].unique())"
   ]
  },
  {
   "cell_type": "markdown",
   "id": "a70cf29e",
   "metadata": {},
   "source": [
    "##### Summary / Findings:\n",
    "- I have kept ratings data from 2015 to 2019 in our dataset and removed the other datapoints from consideration."
   ]
  },
  {
   "cell_type": "markdown",
   "id": "67cc8628",
   "metadata": {},
   "source": [
    "### Filter Data by Movie"
   ]
  },
  {
   "cell_type": "markdown",
   "id": "3abb5f63",
   "metadata": {},
   "source": [
    "As discussed in the beginning of this section, I will be reducing the dataset. </br>\n",
    "</br>\n",
    "Specifically, I will reduce the dataset to only include movies with a minimum number of ratings below. The specific threshold will be set below."
   ]
  },
  {
   "cell_type": "code",
   "execution_count": 29,
   "id": "07d34e19",
   "metadata": {},
   "outputs": [
    {
     "data": {
      "text/plain": [
       "count    58133.000000\n",
       "mean       130.110970\n",
       "std        827.338627\n",
       "min          1.000000\n",
       "25%          2.000000\n",
       "50%          5.000000\n",
       "75%         18.000000\n",
       "max      28425.000000\n",
       "Name: movieId, dtype: float64"
      ]
     },
     "execution_count": 29,
     "metadata": {},
     "output_type": "execute_result"
    }
   ],
   "source": [
    "# Look at statistics for Movie ID frequency\n",
    "df_ratings['movieId'].value_counts().describe()"
   ]
  },
  {
   "cell_type": "code",
   "execution_count": 30,
   "id": "2d0998c2",
   "metadata": {},
   "outputs": [
    {
     "data": {
      "image/png": "[encoded data removed]",
      "text/plain": [
       "<Figure size 432x288 with 1 Axes>"
      ]
     },
     "metadata": {
      "needs_background": "light"
     },
     "output_type": "display_data"
    }
   ],
   "source": [
    "# Plot Movie ID Frequency\n",
    "plt.figure()\n",
    "\n",
    "plt.hist(df_ratings['movieId'].value_counts()[df_ratings['movieId'].value_counts() <200].values, bins=100)\n",
    "plt.show()"
   ]
  },
  {
   "cell_type": "markdown",
   "id": "90b3ed38",
   "metadata": {},
   "source": [
    "##### Comments:\n",
    "- At least half of the films in `df_ratings` have 5 or less ratings (since the median is 5). \n",
    "- The ratings by movie distribution is right skewed (i.e. right tailed). The upper 75% is 18, if I set the cutoff for movies above 18, I can expect to lose over 75% of unique movies in our dataset."
   ]
  },
  {
   "cell_type": "code",
   "execution_count": 31,
   "id": "adf294d2",
   "metadata": {},
   "outputs": [
    {
     "data": {
      "text/plain": [
       "2571      28425\n",
       "79132     27659\n",
       "318       26208\n",
       "58559     24443\n",
       "2959      24086\n",
       "          ...  \n",
       "135987        1\n",
       "160816        1\n",
       "160850        1\n",
       "160870        1\n",
       "200728        1\n",
       "Name: movieId, Length: 58133, dtype: int64"
      ]
     },
     "execution_count": 31,
     "metadata": {},
     "output_type": "execute_result"
    }
   ],
   "source": [
    "# Get number of rating per user\n",
    "num_rating_per_movie = df_ratings['movieId'].value_counts()\n",
    "num_rating_per_movie"
   ]
  },
  {
   "cell_type": "code",
   "execution_count": 32,
   "id": "b0e65d56",
   "metadata": {},
   "outputs": [
    {
     "name": "stdout",
     "output_type": "stream",
     "text": [
      "If we keep all movies, there will be 58,133 unique movies.\n",
      "If we keep all movies with 5 or more ratings, there will be 29,673 unique movies.\n",
      "If we keep all movies with 20 or more ratings, there will be 13,906 unique movies.\n",
      "If we keep all movies with 50 or more ratings, there will be 8,547 unique movies.\n",
      "If we keep all movies with 100 or more ratings, there will be 6,019 unique movies.\n",
      "If we keep all movies with 200 or more ratings, there will be 4,195 unique movies.\n",
      "If we keep all movies with 300 or more ratings, there will be 3,358 unique movies.\n",
      "If we keep all movies with 400 or more ratings, there will be 2,883 unique movies.\n",
      "If we keep all movies with 500 or more ratings, there will be 2,488 unique movies.\n",
      "If we keep all movies with 750 or more ratings, there will be 1,907 unique movies.\n",
      "If we keep all movies with 1,000 or more ratings, there will be 1,537 unique movies.\n"
     ]
    }
   ],
   "source": [
    "# Calculate number of unique movies, for various rating minimum cutoffs\n",
    "\n",
    "cutoff_range = [0, 5, 20, 50, 100, 200, 300, 400, 500, 750, 1000]\n",
    "\n",
    "for cutoff in cutoff_range:\n",
    "    \n",
    "    # Number of unique movies by cutoff\n",
    "    num_movies_to_keep = len(num_rating_per_movie[num_rating_per_movie >= cutoff])\n",
    "\n",
    "    # Print Message\n",
    "    if cutoff == 0:\n",
    "        print(f\"If we keep all movies, there will be {num_movies_to_keep:,} unique movies.\")    \n",
    "    else:\n",
    "        print(f\"If we keep all movies with {cutoff:,} or more ratings, there will be {num_movies_to_keep:,} unique movies.\")\n",
    "    "
   ]
  },
  {
   "cell_type": "code",
   "execution_count": 33,
   "id": "ba8c66d3",
   "metadata": {},
   "outputs": [
    {
     "data": {
      "text/plain": [
       "Int64Index([  2571,  79132,    318,  58559,   2959,   7153,    356,   4993,\n",
       "            109487,   5952,\n",
       "            ...\n",
       "              8642,  25923,   8799, 130510, 180555, 195165,   4292,  48825,\n",
       "            108787,   1161],\n",
       "           dtype='int64', length=6019)"
      ]
     },
     "execution_count": 33,
     "metadata": {},
     "output_type": "execute_result"
    }
   ],
   "source": [
    "# Get users (i.e. index) based on below minimum ratings\n",
    "min_movie_ratings = 100\n",
    "\n",
    "movies_keep = num_rating_per_movie[num_rating_per_movie >= min_movie_ratings].index\n",
    "movies_keep #show "
   ]
  },
  {
   "cell_type": "code",
   "execution_count": 34,
   "id": "b1851490",
   "metadata": {},
   "outputs": [
    {
     "data": {
      "text/plain": [
       "6019"
      ]
     },
     "execution_count": 34,
     "metadata": {},
     "output_type": "execute_result"
    }
   ],
   "source": [
    "# Calculate the number of unique movies to keep in our dataset\n",
    "len(movies_keep)"
   ]
  },
  {
   "cell_type": "code",
   "execution_count": 35,
   "id": "e8b13c9c",
   "metadata": {},
   "outputs": [],
   "source": [
    "# Filter `df_ratings` for ratings from movies in `movies_keep` (above)\n",
    "df_ratings = df_ratings[df_ratings['movieId'].isin(movies_keep)].copy()"
   ]
  },
  {
   "cell_type": "code",
   "execution_count": 36,
   "id": "24d12808",
   "metadata": {},
   "outputs": [
    {
     "data": {
      "text/plain": [
       "6019"
      ]
     },
     "execution_count": 36,
     "metadata": {},
     "output_type": "execute_result"
    }
   ],
   "source": [
    "# Check to see if this is the same as above.\n",
    "df_ratings['movieId'].nunique()"
   ]
  },
  {
   "cell_type": "markdown",
   "id": "dd7b2ff8",
   "metadata": {},
   "source": [
    "##### Summary / Findings:\n",
    "- I have kept ratings data from 2015 to 2019 in our dataset and removed the other datapoints from consideration.\n",
    "- I have decided to only keep movies with 100 or more ratings. By doing so, it greatly reduces the number of unique moviess from our dataset from ~59K to ~6K. This will greatly reduce the size of the user-movie matrix introduced earlier above, and thus reduce the computational power required.\n",
    "- I have to note that this decision is mainly driven by my hardware constraint. I wanted to keep as many unique movies in the dataset as my machine could handle, since generally-speaking I would expect any model with more data perform better. I tried keeping movies with the 20 / 50 ratings threshold but I consistently experienced memory issues when doing so.  "
   ]
  },
  {
   "cell_type": "markdown",
   "id": "563763ee",
   "metadata": {},
   "source": [
    "### Filter out ratings from users with less than 20 reviews"
   ]
  },
  {
   "cell_type": "markdown",
   "id": "d4b6a130",
   "metadata": {},
   "source": [
    "After filtering the data by the year of the rating, and the number of ratings per movie above. I will need to clean up users who now have very little reviews associated to them. </br>\n",
    "</br>\n",
    "In the Train Test Split section below, I plan on creating the test dataset by pulling the 10 most recent reviews from each user. I want to have at minimum the same number of ratings (if not more) for the corresponding user in the training dataset. Thus, I have decided to only keep users with 20 or more ratings in the dataset. "
   ]
  },
  {
   "cell_type": "code",
   "execution_count": 37,
   "id": "23491364",
   "metadata": {},
   "outputs": [
    {
     "data": {
      "text/plain": [
       "72315     5280\n",
       "57548     4257\n",
       "33844     3866\n",
       "107650    3505\n",
       "123711    3482\n",
       "          ... \n",
       "76168        1\n",
       "61318        1\n",
       "113409       1\n",
       "76269        1\n",
       "7304         1\n",
       "Name: userId, Length: 45434, dtype: int64"
      ]
     },
     "execution_count": 37,
     "metadata": {},
     "output_type": "execute_result"
    }
   ],
   "source": [
    "# Get number of rating per user\n",
    "num_rating_per_user = df_ratings['userId'].value_counts()\n",
    "num_rating_per_user"
   ]
  },
  {
   "cell_type": "code",
   "execution_count": 38,
   "id": "3a0dd62f",
   "metadata": {},
   "outputs": [
    {
     "data": {
      "text/plain": [
       "count    45434.000000\n",
       "mean       154.358212\n",
       "std        226.049633\n",
       "min          1.000000\n",
       "25%         37.000000\n",
       "50%         76.000000\n",
       "75%        172.000000\n",
       "max       5280.000000\n",
       "Name: userId, dtype: float64"
      ]
     },
     "execution_count": 38,
     "metadata": {},
     "output_type": "execute_result"
    }
   ],
   "source": [
    "# Visualize the distribution of ratings by user\n",
    "num_rating_per_user.describe()"
   ]
  },
  {
   "cell_type": "code",
   "execution_count": 39,
   "id": "d911a264",
   "metadata": {},
   "outputs": [
    {
     "data": {
      "text/plain": [
       "Int64Index([ 72315,  57548,  33844, 107650, 123711,  20179, 111038, 115102,\n",
       "            103611, 156183,\n",
       "            ...\n",
       "             23024, 110836,  70057, 154991,  70021,  27936,  97660,  17243,\n",
       "            102992,  69856],\n",
       "           dtype='int64', length=43985)"
      ]
     },
     "execution_count": 39,
     "metadata": {},
     "output_type": "execute_result"
    }
   ],
   "source": [
    "# Get users (i.e. index) with 20 or more reviews\n",
    "min_user_ratings = 20\n",
    "\n",
    "users_keep = num_rating_per_user[num_rating_per_user >= min_user_ratings].index\n",
    "users_keep #show "
   ]
  },
  {
   "cell_type": "code",
   "execution_count": 40,
   "id": "33b2fdf0",
   "metadata": {},
   "outputs": [
    {
     "data": {
      "text/plain": [
       "43985"
      ]
     },
     "execution_count": 40,
     "metadata": {},
     "output_type": "execute_result"
    }
   ],
   "source": [
    "# Calculate unique users\n",
    "len(users_keep)"
   ]
  },
  {
   "cell_type": "code",
   "execution_count": 41,
   "id": "a0dbecbe",
   "metadata": {},
   "outputs": [],
   "source": [
    "# Filter `df_ratings` for ratings from users in `users_keep` (above)\n",
    "df_ratings = df_ratings[df_ratings['userId'].isin(users_keep)].copy()"
   ]
  },
  {
   "cell_type": "code",
   "execution_count": 42,
   "id": "848b1984",
   "metadata": {},
   "outputs": [
    {
     "data": {
      "text/plain": [
       "43985"
      ]
     },
     "execution_count": 42,
     "metadata": {},
     "output_type": "execute_result"
    }
   ],
   "source": [
    "# Check to see if this is the same as above unique useres\n",
    "df_ratings['userId'].nunique()"
   ]
  },
  {
   "cell_type": "markdown",
   "id": "fdddbac3",
   "metadata": {},
   "source": [
    "##### Summary / Findings:\n",
    "- After the prior filters, I have kept users with 20 or more ratings."
   ]
  },
  {
   "cell_type": "markdown",
   "id": "b7532f13",
   "metadata": {},
   "source": [
    "### Review filters performed on `df_ratings` above"
   ]
  },
  {
   "cell_type": "code",
   "execution_count": 43,
   "id": "f1e7ae3c",
   "metadata": {},
   "outputs": [
    {
     "data": {
      "text/plain": [
       "(6998416, 6)"
      ]
     },
     "execution_count": 43,
     "metadata": {},
     "output_type": "execute_result"
    }
   ],
   "source": [
    "# `df_ratings` shape after filters above\n",
    "df_ratings.shape"
   ]
  },
  {
   "cell_type": "code",
   "execution_count": 44,
   "id": "0c8d9e81",
   "metadata": {},
   "outputs": [
    {
     "data": {
      "text/plain": [
       "6019"
      ]
     },
     "execution_count": 44,
     "metadata": {},
     "output_type": "execute_result"
    }
   ],
   "source": [
    "# Number of unique movies\n",
    "df_ratings['movieId'].nunique()"
   ]
  },
  {
   "cell_type": "code",
   "execution_count": 45,
   "id": "70064131",
   "metadata": {},
   "outputs": [
    {
     "data": {
      "text/plain": [
       "43985"
      ]
     },
     "execution_count": 45,
     "metadata": {},
     "output_type": "execute_result"
    }
   ],
   "source": [
    "# Number of unique users\n",
    "df_ratings['userId'].nunique()"
   ]
  },
  {
   "cell_type": "code",
   "execution_count": 46,
   "id": "cdd668d0",
   "metadata": {},
   "outputs": [
    {
     "name": "stdout",
     "output_type": "stream",
     "text": [
      "Expected number of cells in matrix: 264,745,715\n"
     ]
    }
   ],
   "source": [
    "# Expected matrix size \n",
    "print(f\"Expected number of cells in matrix: {df_ratings['movieId'].nunique() * df_ratings['userId'].nunique():,}\")"
   ]
  },
  {
   "cell_type": "code",
   "execution_count": 47,
   "id": "5b401ba7",
   "metadata": {},
   "outputs": [
    {
     "name": "stdout",
     "output_type": "stream",
     "text": [
      "Does this column exist: True\n",
      "Success - Dropped column:  date\n",
      "Does this column exist: True\n",
      "Success - Dropped column:  year\n"
     ]
    }
   ],
   "source": [
    "# Drop `date` and `year` columns\n",
    "drop_col_from_df('date', df_ratings)\n",
    "drop_col_from_df('year', df_ratings)"
   ]
  },
  {
   "cell_type": "markdown",
   "id": "c0e76a7e",
   "metadata": {},
   "source": [
    "##### Summary / Findings:\n",
    "- After the filters above, `df_ratings` now has ~ 7 million rows of data, with ~ 44K unique users and ~6K unique movies </br>(from the original ~ 25 million rows of data with ~163K unique users and ~59K unique movies).\n",
    "- I have dropped the `date` and `year` columns as I no longer need them after filtering the data above.\n",
    "- By performing the above data filtering, I no longer experience memory issues in the model notebook (02_Models).\n"
   ]
  },
  {
   "cell_type": "markdown",
   "id": "a70dc23c",
   "metadata": {},
   "source": [
    "# Net Rating column \n",
    "**In this section below, I will be creating a new feature.**\n",
    "</br>\n",
    "*Create new column - Plus / Minus of User Average* </br>\n",
    "</br>\n",
    "The calculation of this column will be: </br>\n",
    "*(user rating on particular movie) - (average rating for this particular user)* </br>\n",
    "</br>\n",
    "In essence, the goal of this column is to capture whether a user liked a movie more (positive figure) or less (negative figure) than their overall average rating, and by how much (i.e. the magnitude of these positive / negative figures). </br>\n",
    "\n",
    "</br>\n",
    "The ratings in this dataset are not standardized, and like many rating-type / review-type data in the world these inputs are from humans based on their own experiences. This metric is meant to adjust for each user's rating scale.</br>\n",
    "</br>\n",
    "To keep this column similar to the `rating` column, this new feature will have an integer datatype. Thus, when I'm calculating the average rating for each user, I will be rounding each average to the nearest integer. I changed the rating scale from (0.5 - 5.0) to (1 to 10) above to make the rounding in this section easier to perform.</br>"
   ]
  },
  {
   "cell_type": "markdown",
   "id": "2cf0601d",
   "metadata": {},
   "source": [
    "**Note - This column will be named `rating_net_user_mean` and I will refer to this metric as `net rating` in the verbal discussions below.**"
   ]
  },
  {
   "cell_type": "markdown",
   "id": "e3745877",
   "metadata": {},
   "source": [
    "### Calculate the average rating for each user"
   ]
  },
  {
   "cell_type": "markdown",
   "id": "9dece7a5",
   "metadata": {},
   "source": [
    "First, I'll need the average rating for each user. I will calculate that below in store it in a separate dataframe."
   ]
  },
  {
   "cell_type": "code",
   "execution_count": 48,
   "id": "67c0a593",
   "metadata": {},
   "outputs": [
    {
     "data": {
      "text/html": [
       "<div>\n",
       "<style scoped>\n",
       "    .dataframe tbody tr th:only-of-type {\n",
       "        vertical-align: middle;\n",
       "    }\n",
       "\n",
       "    .dataframe tbody tr th {\n",
       "        vertical-align: top;\n",
       "    }\n",
       "\n",
       "    .dataframe thead th {\n",
       "        text-align: right;\n",
       "    }\n",
       "</style>\n",
       "<table border=\"1\" class=\"dataframe\">\n",
       "  <thead>\n",
       "    <tr style=\"text-align: right;\">\n",
       "      <th></th>\n",
       "      <th>rating</th>\n",
       "    </tr>\n",
       "    <tr>\n",
       "      <th>userId</th>\n",
       "      <th></th>\n",
       "    </tr>\n",
       "  </thead>\n",
       "  <tbody>\n",
       "    <tr>\n",
       "      <th>3</th>\n",
       "      <td>7.388037</td>\n",
       "    </tr>\n",
       "    <tr>\n",
       "      <th>4</th>\n",
       "      <td>6.773109</td>\n",
       "    </tr>\n",
       "    <tr>\n",
       "      <th>14</th>\n",
       "      <td>9.193548</td>\n",
       "    </tr>\n",
       "    <tr>\n",
       "      <th>16</th>\n",
       "      <td>8.958333</td>\n",
       "    </tr>\n",
       "    <tr>\n",
       "      <th>17</th>\n",
       "      <td>7.285714</td>\n",
       "    </tr>\n",
       "  </tbody>\n",
       "</table>\n",
       "</div>"
      ],
      "text/plain": [
       "          rating\n",
       "userId          \n",
       "3       7.388037\n",
       "4       6.773109\n",
       "14      9.193548\n",
       "16      8.958333\n",
       "17      7.285714"
      ]
     },
     "execution_count": 48,
     "metadata": {},
     "output_type": "execute_result"
    }
   ],
   "source": [
    "# Create df_user_mean_rating for average rating by user\n",
    "df_user_mean_rating = df_ratings.groupby('userId')[['rating']].mean() # calculate average rating, group by userId\n",
    "df_user_mean_rating.head() # show"
   ]
  },
  {
   "cell_type": "code",
   "execution_count": 49,
   "id": "ec8aa802",
   "metadata": {},
   "outputs": [],
   "source": [
    "# Rename column\n",
    "df_user_mean_rating.columns=['user_mean_rating']\n",
    "\n",
    "# Round `user_mean_rating` column\n",
    "df_user_mean_rating['user_mean_rating'] = df_user_mean_rating['user_mean_rating'].round(0) # number of decimal places"
   ]
  },
  {
   "cell_type": "code",
   "execution_count": 50,
   "id": "875744d0",
   "metadata": {},
   "outputs": [],
   "source": [
    "# Change Datatype to int8 to reduce memory consumption (and future processing power needed)\n",
    "df_user_mean_rating['user_mean_rating'] = df_user_mean_rating['user_mean_rating'].astype(np.int8)"
   ]
  },
  {
   "cell_type": "code",
   "execution_count": 51,
   "id": "978bd007",
   "metadata": {},
   "outputs": [
    {
     "data": {
      "text/html": [
       "<div>\n",
       "<style scoped>\n",
       "    .dataframe tbody tr th:only-of-type {\n",
       "        vertical-align: middle;\n",
       "    }\n",
       "\n",
       "    .dataframe tbody tr th {\n",
       "        vertical-align: top;\n",
       "    }\n",
       "\n",
       "    .dataframe thead th {\n",
       "        text-align: right;\n",
       "    }\n",
       "</style>\n",
       "<table border=\"1\" class=\"dataframe\">\n",
       "  <thead>\n",
       "    <tr style=\"text-align: right;\">\n",
       "      <th></th>\n",
       "      <th>userId</th>\n",
       "      <th>user_mean_rating</th>\n",
       "    </tr>\n",
       "  </thead>\n",
       "  <tbody>\n",
       "    <tr>\n",
       "      <th>0</th>\n",
       "      <td>3</td>\n",
       "      <td>7</td>\n",
       "    </tr>\n",
       "    <tr>\n",
       "      <th>1</th>\n",
       "      <td>4</td>\n",
       "      <td>7</td>\n",
       "    </tr>\n",
       "    <tr>\n",
       "      <th>2</th>\n",
       "      <td>14</td>\n",
       "      <td>9</td>\n",
       "    </tr>\n",
       "    <tr>\n",
       "      <th>3</th>\n",
       "      <td>16</td>\n",
       "      <td>9</td>\n",
       "    </tr>\n",
       "    <tr>\n",
       "      <th>4</th>\n",
       "      <td>17</td>\n",
       "      <td>7</td>\n",
       "    </tr>\n",
       "  </tbody>\n",
       "</table>\n",
       "</div>"
      ],
      "text/plain": [
       "   userId  user_mean_rating\n",
       "0       3                 7\n",
       "1       4                 7\n",
       "2      14                 9\n",
       "3      16                 9\n",
       "4      17                 7"
      ]
     },
     "execution_count": 51,
     "metadata": {},
     "output_type": "execute_result"
    }
   ],
   "source": [
    "# move userId from index to column\n",
    "df_user_mean_rating.reset_index(inplace=True) # inplace = True, so it's done directly in data frame\n",
    "df_user_mean_rating.head() # show"
   ]
  },
  {
   "cell_type": "code",
   "execution_count": 52,
   "id": "0312b6ea",
   "metadata": {},
   "outputs": [
    {
     "data": {
      "text/plain": [
       "userId              0\n",
       "user_mean_rating    0\n",
       "dtype: int64"
      ]
     },
     "execution_count": 52,
     "metadata": {},
     "output_type": "execute_result"
    }
   ],
   "source": [
    "# Check for missing data\n",
    "df_user_mean_rating.isna().sum()"
   ]
  },
  {
   "cell_type": "code",
   "execution_count": 53,
   "id": "dc724817",
   "metadata": {},
   "outputs": [
    {
     "data": {
      "text/html": [
       "<div>\n",
       "<style scoped>\n",
       "    .dataframe tbody tr th:only-of-type {\n",
       "        vertical-align: middle;\n",
       "    }\n",
       "\n",
       "    .dataframe tbody tr th {\n",
       "        vertical-align: top;\n",
       "    }\n",
       "\n",
       "    .dataframe thead th {\n",
       "        text-align: right;\n",
       "    }\n",
       "</style>\n",
       "<table border=\"1\" class=\"dataframe\">\n",
       "  <thead>\n",
       "    <tr style=\"text-align: right;\">\n",
       "      <th></th>\n",
       "      <th>count</th>\n",
       "      <th>mean</th>\n",
       "      <th>std</th>\n",
       "      <th>min</th>\n",
       "      <th>25%</th>\n",
       "      <th>50%</th>\n",
       "      <th>75%</th>\n",
       "      <th>max</th>\n",
       "    </tr>\n",
       "  </thead>\n",
       "  <tbody>\n",
       "    <tr>\n",
       "      <th>userId</th>\n",
       "      <td>43985.0</td>\n",
       "      <td>81256.997090</td>\n",
       "      <td>46991.331596</td>\n",
       "      <td>3.0</td>\n",
       "      <td>40338.0</td>\n",
       "      <td>81183.0</td>\n",
       "      <td>122261.0</td>\n",
       "      <td>162538.0</td>\n",
       "    </tr>\n",
       "    <tr>\n",
       "      <th>user_mean_rating</th>\n",
       "      <td>43985.0</td>\n",
       "      <td>7.651245</td>\n",
       "      <td>1.107656</td>\n",
       "      <td>1.0</td>\n",
       "      <td>7.0</td>\n",
       "      <td>8.0</td>\n",
       "      <td>8.0</td>\n",
       "      <td>10.0</td>\n",
       "    </tr>\n",
       "  </tbody>\n",
       "</table>\n",
       "</div>"
      ],
      "text/plain": [
       "                    count          mean           std  min      25%      50%  \\\n",
       "userId            43985.0  81256.997090  46991.331596  3.0  40338.0  81183.0   \n",
       "user_mean_rating  43985.0      7.651245      1.107656  1.0      7.0      8.0   \n",
       "\n",
       "                       75%       max  \n",
       "userId            122261.0  162538.0  \n",
       "user_mean_rating       8.0      10.0  "
      ]
     },
     "execution_count": 53,
     "metadata": {},
     "output_type": "execute_result"
    }
   ],
   "source": [
    "df_user_mean_rating.describe().T"
   ]
  },
  {
   "cell_type": "markdown",
   "id": "ac80d8aa",
   "metadata": {},
   "source": [
    "### Calculate Net Rating (`rating_net_user_mean`)"
   ]
  },
  {
   "cell_type": "markdown",
   "id": "66463c54",
   "metadata": {},
   "source": [
    "Below, I will first merge `df_ratings` with the average rating by user calculated above. Then,  I will perform the net rating calculation in `df_rating` and store it in columng `rating_net_user_mean`."
   ]
  },
  {
   "cell_type": "code",
   "execution_count": 54,
   "id": "62379c73",
   "metadata": {},
   "outputs": [],
   "source": [
    "# Merge Average User Rating with `df_ratings`\n",
    "df_ratings = pd.merge(left=df_ratings,           # left table\n",
    "                      right=df_user_mean_rating, # right table\n",
    "                      how='left',                # left join (i.e. return all records on left table)\n",
    "                      left_on='userId',          # column to join on left table\n",
    "                      right_on='userId')         # column to join on right table"
   ]
  },
  {
   "cell_type": "code",
   "execution_count": 55,
   "id": "31f6b665",
   "metadata": {},
   "outputs": [
    {
     "data": {
      "text/html": [
       "<div>\n",
       "<style scoped>\n",
       "    .dataframe tbody tr th:only-of-type {\n",
       "        vertical-align: middle;\n",
       "    }\n",
       "\n",
       "    .dataframe tbody tr th {\n",
       "        vertical-align: top;\n",
       "    }\n",
       "\n",
       "    .dataframe thead th {\n",
       "        text-align: right;\n",
       "    }\n",
       "</style>\n",
       "<table border=\"1\" class=\"dataframe\">\n",
       "  <thead>\n",
       "    <tr style=\"text-align: right;\">\n",
       "      <th></th>\n",
       "      <th>userId</th>\n",
       "      <th>movieId</th>\n",
       "      <th>rating</th>\n",
       "      <th>timestamp</th>\n",
       "      <th>user_mean_rating</th>\n",
       "    </tr>\n",
       "  </thead>\n",
       "  <tbody>\n",
       "    <tr>\n",
       "      <th>0</th>\n",
       "      <td>3</td>\n",
       "      <td>1</td>\n",
       "      <td>8</td>\n",
       "      <td>1439472215</td>\n",
       "      <td>7</td>\n",
       "    </tr>\n",
       "    <tr>\n",
       "      <th>1</th>\n",
       "      <td>3</td>\n",
       "      <td>29</td>\n",
       "      <td>9</td>\n",
       "      <td>1484754967</td>\n",
       "      <td>7</td>\n",
       "    </tr>\n",
       "    <tr>\n",
       "      <th>2</th>\n",
       "      <td>3</td>\n",
       "      <td>32</td>\n",
       "      <td>9</td>\n",
       "      <td>1439474635</td>\n",
       "      <td>7</td>\n",
       "    </tr>\n",
       "    <tr>\n",
       "      <th>3</th>\n",
       "      <td>3</td>\n",
       "      <td>50</td>\n",
       "      <td>10</td>\n",
       "      <td>1439474391</td>\n",
       "      <td>7</td>\n",
       "    </tr>\n",
       "    <tr>\n",
       "      <th>4</th>\n",
       "      <td>3</td>\n",
       "      <td>111</td>\n",
       "      <td>8</td>\n",
       "      <td>1484753849</td>\n",
       "      <td>7</td>\n",
       "    </tr>\n",
       "  </tbody>\n",
       "</table>\n",
       "</div>"
      ],
      "text/plain": [
       "   userId  movieId  rating   timestamp  user_mean_rating\n",
       "0       3        1       8  1439472215                 7\n",
       "1       3       29       9  1484754967                 7\n",
       "2       3       32       9  1439474635                 7\n",
       "3       3       50      10  1439474391                 7\n",
       "4       3      111       8  1484753849                 7"
      ]
     },
     "execution_count": 55,
     "metadata": {},
     "output_type": "execute_result"
    }
   ],
   "source": [
    "# Visualize\n",
    "df_ratings.head()"
   ]
  },
  {
   "cell_type": "code",
   "execution_count": 56,
   "id": "20cad81f",
   "metadata": {},
   "outputs": [
    {
     "data": {
      "text/html": [
       "<div>\n",
       "<style scoped>\n",
       "    .dataframe tbody tr th:only-of-type {\n",
       "        vertical-align: middle;\n",
       "    }\n",
       "\n",
       "    .dataframe tbody tr th {\n",
       "        vertical-align: top;\n",
       "    }\n",
       "\n",
       "    .dataframe thead th {\n",
       "        text-align: right;\n",
       "    }\n",
       "</style>\n",
       "<table border=\"1\" class=\"dataframe\">\n",
       "  <thead>\n",
       "    <tr style=\"text-align: right;\">\n",
       "      <th></th>\n",
       "      <th>userId</th>\n",
       "      <th>movieId</th>\n",
       "      <th>rating</th>\n",
       "      <th>timestamp</th>\n",
       "      <th>user_mean_rating</th>\n",
       "      <th>rating_net_user_mean</th>\n",
       "    </tr>\n",
       "  </thead>\n",
       "  <tbody>\n",
       "    <tr>\n",
       "      <th>0</th>\n",
       "      <td>3</td>\n",
       "      <td>1</td>\n",
       "      <td>8</td>\n",
       "      <td>1439472215</td>\n",
       "      <td>7</td>\n",
       "      <td>1</td>\n",
       "    </tr>\n",
       "    <tr>\n",
       "      <th>1</th>\n",
       "      <td>3</td>\n",
       "      <td>29</td>\n",
       "      <td>9</td>\n",
       "      <td>1484754967</td>\n",
       "      <td>7</td>\n",
       "      <td>2</td>\n",
       "    </tr>\n",
       "    <tr>\n",
       "      <th>2</th>\n",
       "      <td>3</td>\n",
       "      <td>32</td>\n",
       "      <td>9</td>\n",
       "      <td>1439474635</td>\n",
       "      <td>7</td>\n",
       "      <td>2</td>\n",
       "    </tr>\n",
       "    <tr>\n",
       "      <th>3</th>\n",
       "      <td>3</td>\n",
       "      <td>50</td>\n",
       "      <td>10</td>\n",
       "      <td>1439474391</td>\n",
       "      <td>7</td>\n",
       "      <td>3</td>\n",
       "    </tr>\n",
       "    <tr>\n",
       "      <th>4</th>\n",
       "      <td>3</td>\n",
       "      <td>111</td>\n",
       "      <td>8</td>\n",
       "      <td>1484753849</td>\n",
       "      <td>7</td>\n",
       "      <td>1</td>\n",
       "    </tr>\n",
       "  </tbody>\n",
       "</table>\n",
       "</div>"
      ],
      "text/plain": [
       "   userId  movieId  rating   timestamp  user_mean_rating  rating_net_user_mean\n",
       "0       3        1       8  1439472215                 7                     1\n",
       "1       3       29       9  1484754967                 7                     2\n",
       "2       3       32       9  1439474635                 7                     2\n",
       "3       3       50      10  1439474391                 7                     3\n",
       "4       3      111       8  1484753849                 7                     1"
      ]
     },
     "execution_count": 56,
     "metadata": {},
     "output_type": "execute_result"
    }
   ],
   "source": [
    "# Create column for rating net user's mean\n",
    "    # individual movie rating less user's mean rating\n",
    "df_ratings['rating_net_user_mean'] = df_ratings['rating'] - df_ratings['user_mean_rating']\n",
    "\n",
    "# Change Datatype to int8 to reduce memory consumption (and future processing power needed)\n",
    "df_ratings['rating_net_user_mean'] = df_ratings['rating_net_user_mean'].astype(np.int8)\n",
    "\n",
    "df_ratings.head() #show"
   ]
  },
  {
   "cell_type": "code",
   "execution_count": 57,
   "id": "28bec364",
   "metadata": {},
   "outputs": [
    {
     "data": {
      "text/html": [
       "<div>\n",
       "<style scoped>\n",
       "    .dataframe tbody tr th:only-of-type {\n",
       "        vertical-align: middle;\n",
       "    }\n",
       "\n",
       "    .dataframe tbody tr th {\n",
       "        vertical-align: top;\n",
       "    }\n",
       "\n",
       "    .dataframe thead th {\n",
       "        text-align: right;\n",
       "    }\n",
       "</style>\n",
       "<table border=\"1\" class=\"dataframe\">\n",
       "  <thead>\n",
       "    <tr style=\"text-align: right;\">\n",
       "      <th></th>\n",
       "      <th>count</th>\n",
       "      <th>mean</th>\n",
       "      <th>std</th>\n",
       "      <th>min</th>\n",
       "      <th>25%</th>\n",
       "      <th>50%</th>\n",
       "      <th>75%</th>\n",
       "      <th>max</th>\n",
       "    </tr>\n",
       "  </thead>\n",
       "  <tbody>\n",
       "    <tr>\n",
       "      <th>rating</th>\n",
       "      <td>6998416.0</td>\n",
       "      <td>7.164706</td>\n",
       "      <td>2.142003</td>\n",
       "      <td>1.0</td>\n",
       "      <td>6.0</td>\n",
       "      <td>8.0</td>\n",
       "      <td>9.0</td>\n",
       "      <td>10.0</td>\n",
       "    </tr>\n",
       "    <tr>\n",
       "      <th>user_mean_rating</th>\n",
       "      <td>6998416.0</td>\n",
       "      <td>7.165552</td>\n",
       "      <td>1.150219</td>\n",
       "      <td>1.0</td>\n",
       "      <td>7.0</td>\n",
       "      <td>7.0</td>\n",
       "      <td>8.0</td>\n",
       "      <td>10.0</td>\n",
       "    </tr>\n",
       "    <tr>\n",
       "      <th>rating_net_user_mean</th>\n",
       "      <td>6998416.0</td>\n",
       "      <td>-0.000846</td>\n",
       "      <td>1.854632</td>\n",
       "      <td>-9.0</td>\n",
       "      <td>-1.0</td>\n",
       "      <td>0.0</td>\n",
       "      <td>1.0</td>\n",
       "      <td>8.0</td>\n",
       "    </tr>\n",
       "  </tbody>\n",
       "</table>\n",
       "</div>"
      ],
      "text/plain": [
       "                          count      mean       std  min  25%  50%  75%   max\n",
       "rating                6998416.0  7.164706  2.142003  1.0  6.0  8.0  9.0  10.0\n",
       "user_mean_rating      6998416.0  7.165552  1.150219  1.0  7.0  7.0  8.0  10.0\n",
       "rating_net_user_mean  6998416.0 -0.000846  1.854632 -9.0 -1.0  0.0  1.0   8.0"
      ]
     },
     "execution_count": 57,
     "metadata": {},
     "output_type": "execute_result"
    }
   ],
   "source": [
    "df_ratings[['rating', 'user_mean_rating', 'rating_net_user_mean']].describe().T"
   ]
  },
  {
   "cell_type": "code",
   "execution_count": 58,
   "id": "fc1580dc",
   "metadata": {},
   "outputs": [
    {
     "name": "stdout",
     "output_type": "stream",
     "text": [
      "Does this column exist: True\n",
      "Success - Dropped column:  user_mean_rating\n"
     ]
    }
   ],
   "source": [
    "# Drop the `user_mean_rating` column\n",
    "drop_col_from_df('user_mean_rating',df_ratings)"
   ]
  },
  {
   "cell_type": "markdown",
   "id": "3cda6d44",
   "metadata": {},
   "source": [
    "##### Summary / Findings:\n",
    "- The `rating` column spans from a minimum of 1 to a maximum of 10.\n",
    "- The `user_mean_rating` column is the average rating by user rounded to the nearest integer. This column also spans from a minimum of 1 to a maximum of 10, which indicates that there are users that have exclusively rated films with a score of 1 and other users that have exclusively rated films with a score of 10. \n",
    "    - This column has been dropped after calculating the `rating_net_user_mean` column.\n",
    "\n",
    "- The `rating_net_user_mean` column (Net Rating column) spans from a minimum of -9 to a maximum of 8. The theoretical minimum and maximum would be -9, and 9, respectively. \n",
    "\n",
    "**I will perform the Train Test split below prior to visualizing the `rating` and ` rating_ner_user_mean` (Net Rating) columns.**"
   ]
  },
  {
   "cell_type": "markdown",
   "id": "4d20e379",
   "metadata": {},
   "source": [
    "## Train Test Split"
   ]
  },
  {
   "cell_type": "markdown",
   "id": "b9565451",
   "metadata": {},
   "source": [
    "In the real-world scenario, recommender systems are used to recommend new items (i.e. movies) to users based on their historical data. Instead of performing a train test split at random, I will instead split the data based on the date of the rating (`timestamp` column). "
   ]
  },
  {
   "cell_type": "markdown",
   "id": "a8df5592",
   "metadata": {},
   "source": [
    "The test set will comprise of the 10 of the most recently reviewed movie by each user. The remainder of the data will be placed in the train set. I will not be explicitly defining a validation set as I will be using cross validation in Grid Search (see 02_Models notebook)."
   ]
  },
  {
   "cell_type": "code",
   "execution_count": 59,
   "id": "32d368ae",
   "metadata": {},
   "outputs": [],
   "source": [
    "# Rank the `timestamp` column in descending order by user\n",
    "    # method = 'first', will return value of 1 for the largest timestamp (filtering above)\n",
    "df_ratings['rank_first'] = df_ratings.groupby(['userId'])['timestamp'].rank(method='first', ascending=False)"
   ]
  },
  {
   "cell_type": "code",
   "execution_count": 60,
   "id": "9d294b50",
   "metadata": {},
   "outputs": [
    {
     "data": {
      "text/plain": [
       "5280.0"
      ]
     },
     "execution_count": 60,
     "metadata": {},
     "output_type": "execute_result"
    }
   ],
   "source": [
    "# Check maximum value to determine datatype that can be used to reduce memory\n",
    "df_ratings['rank_first'].max()"
   ]
  },
  {
   "cell_type": "code",
   "execution_count": 61,
   "id": "d0d46db4",
   "metadata": {},
   "outputs": [],
   "source": [
    "# Change Datatype to int16 to reduce memory consumption (and future processing power needed)\n",
    "df_ratings['rank_first'] = df_ratings['rank_first'].astype(np.int16)"
   ]
  },
  {
   "cell_type": "code",
   "execution_count": 62,
   "id": "b3ac4f42",
   "metadata": {},
   "outputs": [
    {
     "data": {
      "text/html": [
       "<div>\n",
       "<style scoped>\n",
       "    .dataframe tbody tr th:only-of-type {\n",
       "        vertical-align: middle;\n",
       "    }\n",
       "\n",
       "    .dataframe tbody tr th {\n",
       "        vertical-align: top;\n",
       "    }\n",
       "\n",
       "    .dataframe thead th {\n",
       "        text-align: right;\n",
       "    }\n",
       "</style>\n",
       "<table border=\"1\" class=\"dataframe\">\n",
       "  <thead>\n",
       "    <tr style=\"text-align: right;\">\n",
       "      <th></th>\n",
       "      <th>userId</th>\n",
       "      <th>movieId</th>\n",
       "      <th>rating</th>\n",
       "      <th>timestamp</th>\n",
       "      <th>rating_net_user_mean</th>\n",
       "      <th>rank_first</th>\n",
       "    </tr>\n",
       "  </thead>\n",
       "  <tbody>\n",
       "    <tr>\n",
       "      <th>0</th>\n",
       "      <td>3</td>\n",
       "      <td>1</td>\n",
       "      <td>8</td>\n",
       "      <td>1439472215</td>\n",
       "      <td>1</td>\n",
       "      <td>649</td>\n",
       "    </tr>\n",
       "    <tr>\n",
       "      <th>1</th>\n",
       "      <td>3</td>\n",
       "      <td>29</td>\n",
       "      <td>9</td>\n",
       "      <td>1484754967</td>\n",
       "      <td>2</td>\n",
       "      <td>204</td>\n",
       "    </tr>\n",
       "    <tr>\n",
       "      <th>2</th>\n",
       "      <td>3</td>\n",
       "      <td>32</td>\n",
       "      <td>9</td>\n",
       "      <td>1439474635</td>\n",
       "      <td>2</td>\n",
       "      <td>327</td>\n",
       "    </tr>\n",
       "    <tr>\n",
       "      <th>3</th>\n",
       "      <td>3</td>\n",
       "      <td>50</td>\n",
       "      <td>10</td>\n",
       "      <td>1439474391</td>\n",
       "      <td>3</td>\n",
       "      <td>347</td>\n",
       "    </tr>\n",
       "    <tr>\n",
       "      <th>4</th>\n",
       "      <td>3</td>\n",
       "      <td>111</td>\n",
       "      <td>8</td>\n",
       "      <td>1484753849</td>\n",
       "      <td>1</td>\n",
       "      <td>218</td>\n",
       "    </tr>\n",
       "  </tbody>\n",
       "</table>\n",
       "</div>"
      ],
      "text/plain": [
       "   userId  movieId  rating   timestamp  rating_net_user_mean  rank_first\n",
       "0       3        1       8  1439472215                     1         649\n",
       "1       3       29       9  1484754967                     2         204\n",
       "2       3       32       9  1439474635                     2         327\n",
       "3       3       50      10  1439474391                     3         347\n",
       "4       3      111       8  1484753849                     1         218"
      ]
     },
     "execution_count": 62,
     "metadata": {},
     "output_type": "execute_result"
    }
   ],
   "source": [
    "# Visualize Data\n",
    "df_ratings.head()"
   ]
  },
  {
   "cell_type": "code",
   "execution_count": 63,
   "id": "c040d78d",
   "metadata": {},
   "outputs": [],
   "source": [
    "# Create a column called `test_data` - default value 0\n",
    "df_ratings['test_data'] = 0\n",
    "\n",
    "# Change Datatype to int8 to reduce memory consumption (and future processing power needed)\n",
    "df_ratings['test_data'] = df_ratings['test_data'].astype(np.int8)\n",
    "\n",
    "# For rows where `rank_first` is equal to 1, set `test_data` value to 1\n",
    "df_ratings.loc[df_ratings['rank_first'] <= 10, 'test_data'] = 1"
   ]
  },
  {
   "cell_type": "code",
   "execution_count": 64,
   "id": "a5ffd1cb",
   "metadata": {},
   "outputs": [
    {
     "data": {
      "text/html": [
       "<div>\n",
       "<style scoped>\n",
       "    .dataframe tbody tr th:only-of-type {\n",
       "        vertical-align: middle;\n",
       "    }\n",
       "\n",
       "    .dataframe tbody tr th {\n",
       "        vertical-align: top;\n",
       "    }\n",
       "\n",
       "    .dataframe thead th {\n",
       "        text-align: right;\n",
       "    }\n",
       "</style>\n",
       "<table border=\"1\" class=\"dataframe\">\n",
       "  <thead>\n",
       "    <tr style=\"text-align: right;\">\n",
       "      <th></th>\n",
       "      <th>userId</th>\n",
       "      <th>movieId</th>\n",
       "      <th>rating</th>\n",
       "      <th>timestamp</th>\n",
       "      <th>rating_net_user_mean</th>\n",
       "      <th>rank_first</th>\n",
       "      <th>test_data</th>\n",
       "    </tr>\n",
       "  </thead>\n",
       "  <tbody>\n",
       "    <tr>\n",
       "      <th>0</th>\n",
       "      <td>3</td>\n",
       "      <td>1</td>\n",
       "      <td>8</td>\n",
       "      <td>1439472215</td>\n",
       "      <td>1</td>\n",
       "      <td>649</td>\n",
       "      <td>0</td>\n",
       "    </tr>\n",
       "    <tr>\n",
       "      <th>1</th>\n",
       "      <td>3</td>\n",
       "      <td>29</td>\n",
       "      <td>9</td>\n",
       "      <td>1484754967</td>\n",
       "      <td>2</td>\n",
       "      <td>204</td>\n",
       "      <td>0</td>\n",
       "    </tr>\n",
       "    <tr>\n",
       "      <th>2</th>\n",
       "      <td>3</td>\n",
       "      <td>32</td>\n",
       "      <td>9</td>\n",
       "      <td>1439474635</td>\n",
       "      <td>2</td>\n",
       "      <td>327</td>\n",
       "      <td>0</td>\n",
       "    </tr>\n",
       "    <tr>\n",
       "      <th>3</th>\n",
       "      <td>3</td>\n",
       "      <td>50</td>\n",
       "      <td>10</td>\n",
       "      <td>1439474391</td>\n",
       "      <td>3</td>\n",
       "      <td>347</td>\n",
       "      <td>0</td>\n",
       "    </tr>\n",
       "    <tr>\n",
       "      <th>4</th>\n",
       "      <td>3</td>\n",
       "      <td>111</td>\n",
       "      <td>8</td>\n",
       "      <td>1484753849</td>\n",
       "      <td>1</td>\n",
       "      <td>218</td>\n",
       "      <td>0</td>\n",
       "    </tr>\n",
       "  </tbody>\n",
       "</table>\n",
       "</div>"
      ],
      "text/plain": [
       "   userId  movieId  rating   timestamp  rating_net_user_mean  rank_first  \\\n",
       "0       3        1       8  1439472215                     1         649   \n",
       "1       3       29       9  1484754967                     2         204   \n",
       "2       3       32       9  1439474635                     2         327   \n",
       "3       3       50      10  1439474391                     3         347   \n",
       "4       3      111       8  1484753849                     1         218   \n",
       "\n",
       "   test_data  \n",
       "0          0  \n",
       "1          0  \n",
       "2          0  \n",
       "3          0  \n",
       "4          0  "
      ]
     },
     "execution_count": 64,
     "metadata": {},
     "output_type": "execute_result"
    }
   ],
   "source": [
    "df_ratings.head()"
   ]
  },
  {
   "cell_type": "code",
   "execution_count": 65,
   "id": "53ad5ee2",
   "metadata": {},
   "outputs": [
    {
     "name": "stdout",
     "output_type": "stream",
     "text": [
      "Does this column exist: True\n",
      "Success - Dropped column:  rank_first\n"
     ]
    }
   ],
   "source": [
    "# Drop `rank_first` column\n",
    "drop_col_from_df('rank_first', df_ratings)"
   ]
  },
  {
   "cell_type": "code",
   "execution_count": 66,
   "id": "2d455f24",
   "metadata": {},
   "outputs": [],
   "source": [
    "# Set up Train / Test Dataframes by creating a copy of ratings dataframe\n",
    "df_train_ratings = df_ratings.copy()\n",
    "df_test_ratings = df_ratings.copy()\n",
    "\n",
    "# Split Train / Test data\n",
    "df_train_ratings = df_train_ratings.loc[df_ratings['test_data']!=1] # train where `test_data` not equal to 1\n",
    "df_test_ratings = df_test_ratings.loc[df_ratings['test_data']==1]   # test where `test_data` equal to 1\n"
   ]
  },
  {
   "cell_type": "code",
   "execution_count": 67,
   "id": "e5602abf",
   "metadata": {},
   "outputs": [
    {
     "data": {
      "text/html": [
       "<div>\n",
       "<style scoped>\n",
       "    .dataframe tbody tr th:only-of-type {\n",
       "        vertical-align: middle;\n",
       "    }\n",
       "\n",
       "    .dataframe tbody tr th {\n",
       "        vertical-align: top;\n",
       "    }\n",
       "\n",
       "    .dataframe thead th {\n",
       "        text-align: right;\n",
       "    }\n",
       "</style>\n",
       "<table border=\"1\" class=\"dataframe\">\n",
       "  <thead>\n",
       "    <tr style=\"text-align: right;\">\n",
       "      <th></th>\n",
       "      <th>userId</th>\n",
       "      <th>movieId</th>\n",
       "      <th>rating</th>\n",
       "      <th>timestamp</th>\n",
       "      <th>rating_net_user_mean</th>\n",
       "      <th>test_data</th>\n",
       "    </tr>\n",
       "  </thead>\n",
       "  <tbody>\n",
       "    <tr>\n",
       "      <th>0</th>\n",
       "      <td>3</td>\n",
       "      <td>1</td>\n",
       "      <td>8</td>\n",
       "      <td>1439472215</td>\n",
       "      <td>1</td>\n",
       "      <td>0</td>\n",
       "    </tr>\n",
       "    <tr>\n",
       "      <th>1</th>\n",
       "      <td>3</td>\n",
       "      <td>29</td>\n",
       "      <td>9</td>\n",
       "      <td>1484754967</td>\n",
       "      <td>2</td>\n",
       "      <td>0</td>\n",
       "    </tr>\n",
       "    <tr>\n",
       "      <th>2</th>\n",
       "      <td>3</td>\n",
       "      <td>32</td>\n",
       "      <td>9</td>\n",
       "      <td>1439474635</td>\n",
       "      <td>2</td>\n",
       "      <td>0</td>\n",
       "    </tr>\n",
       "    <tr>\n",
       "      <th>3</th>\n",
       "      <td>3</td>\n",
       "      <td>50</td>\n",
       "      <td>10</td>\n",
       "      <td>1439474391</td>\n",
       "      <td>3</td>\n",
       "      <td>0</td>\n",
       "    </tr>\n",
       "    <tr>\n",
       "      <th>4</th>\n",
       "      <td>3</td>\n",
       "      <td>111</td>\n",
       "      <td>8</td>\n",
       "      <td>1484753849</td>\n",
       "      <td>1</td>\n",
       "      <td>0</td>\n",
       "    </tr>\n",
       "  </tbody>\n",
       "</table>\n",
       "</div>"
      ],
      "text/plain": [
       "   userId  movieId  rating   timestamp  rating_net_user_mean  test_data\n",
       "0       3        1       8  1439472215                     1          0\n",
       "1       3       29       9  1484754967                     2          0\n",
       "2       3       32       9  1439474635                     2          0\n",
       "3       3       50      10  1439474391                     3          0\n",
       "4       3      111       8  1484753849                     1          0"
      ]
     },
     "execution_count": 67,
     "metadata": {},
     "output_type": "execute_result"
    }
   ],
   "source": [
    "# Visualize the train data\n",
    "df_train_ratings.head()"
   ]
  },
  {
   "cell_type": "code",
   "execution_count": 68,
   "id": "db10b2eb",
   "metadata": {},
   "outputs": [
    {
     "data": {
      "text/plain": [
       "(6558566, 6)"
      ]
     },
     "execution_count": 68,
     "metadata": {},
     "output_type": "execute_result"
    }
   ],
   "source": [
    "# Get Shape of the train data\n",
    "df_train_ratings.shape"
   ]
  },
  {
   "cell_type": "code",
   "execution_count": 69,
   "id": "f8b83f25",
   "metadata": {},
   "outputs": [
    {
     "data": {
      "text/plain": [
       "0    6558566\n",
       "Name: test_data, dtype: int64"
      ]
     },
     "execution_count": 69,
     "metadata": {},
     "output_type": "execute_result"
    }
   ],
   "source": [
    "# Quick Sanity check of train data\n",
    "df_train_ratings['test_data'].value_counts()"
   ]
  },
  {
   "cell_type": "code",
   "execution_count": 70,
   "id": "1fef7d5a",
   "metadata": {},
   "outputs": [
    {
     "data": {
      "text/html": [
       "<div>\n",
       "<style scoped>\n",
       "    .dataframe tbody tr th:only-of-type {\n",
       "        vertical-align: middle;\n",
       "    }\n",
       "\n",
       "    .dataframe tbody tr th {\n",
       "        vertical-align: top;\n",
       "    }\n",
       "\n",
       "    .dataframe thead th {\n",
       "        text-align: right;\n",
       "    }\n",
       "</style>\n",
       "<table border=\"1\" class=\"dataframe\">\n",
       "  <thead>\n",
       "    <tr style=\"text-align: right;\">\n",
       "      <th></th>\n",
       "      <th>userId</th>\n",
       "      <th>movieId</th>\n",
       "      <th>rating</th>\n",
       "      <th>timestamp</th>\n",
       "      <th>rating_net_user_mean</th>\n",
       "      <th>test_data</th>\n",
       "    </tr>\n",
       "  </thead>\n",
       "  <tbody>\n",
       "    <tr>\n",
       "      <th>52</th>\n",
       "      <td>3</td>\n",
       "      <td>1732</td>\n",
       "      <td>9</td>\n",
       "      <td>1566091883</td>\n",
       "      <td>2</td>\n",
       "      <td>1</td>\n",
       "    </tr>\n",
       "    <tr>\n",
       "      <th>124</th>\n",
       "      <td>3</td>\n",
       "      <td>4262</td>\n",
       "      <td>9</td>\n",
       "      <td>1566091872</td>\n",
       "      <td>2</td>\n",
       "      <td>1</td>\n",
       "    </tr>\n",
       "    <tr>\n",
       "      <th>467</th>\n",
       "      <td>3</td>\n",
       "      <td>79091</td>\n",
       "      <td>8</td>\n",
       "      <td>1566091612</td>\n",
       "      <td>1</td>\n",
       "      <td>1</td>\n",
       "    </tr>\n",
       "    <tr>\n",
       "      <th>478</th>\n",
       "      <td>3</td>\n",
       "      <td>81834</td>\n",
       "      <td>7</td>\n",
       "      <td>1566091630</td>\n",
       "      <td>0</td>\n",
       "      <td>1</td>\n",
       "    </tr>\n",
       "    <tr>\n",
       "      <th>501</th>\n",
       "      <td>3</td>\n",
       "      <td>87876</td>\n",
       "      <td>7</td>\n",
       "      <td>1566091557</td>\n",
       "      <td>0</td>\n",
       "      <td>1</td>\n",
       "    </tr>\n",
       "  </tbody>\n",
       "</table>\n",
       "</div>"
      ],
      "text/plain": [
       "     userId  movieId  rating   timestamp  rating_net_user_mean  test_data\n",
       "52        3     1732       9  1566091883                     2          1\n",
       "124       3     4262       9  1566091872                     2          1\n",
       "467       3    79091       8  1566091612                     1          1\n",
       "478       3    81834       7  1566091630                     0          1\n",
       "501       3    87876       7  1566091557                     0          1"
      ]
     },
     "execution_count": 70,
     "metadata": {},
     "output_type": "execute_result"
    }
   ],
   "source": [
    "# Visualize the test data\n",
    "df_test_ratings.head()"
   ]
  },
  {
   "cell_type": "code",
   "execution_count": 71,
   "id": "f530138c",
   "metadata": {},
   "outputs": [
    {
     "data": {
      "text/plain": [
       "(439850, 6)"
      ]
     },
     "execution_count": 71,
     "metadata": {},
     "output_type": "execute_result"
    }
   ],
   "source": [
    "# Get Shape of the test data\n",
    "df_test_ratings.shape"
   ]
  },
  {
   "cell_type": "code",
   "execution_count": 72,
   "id": "faf1d8d1",
   "metadata": {},
   "outputs": [
    {
     "data": {
      "text/plain": [
       "1    439850\n",
       "Name: test_data, dtype: int64"
      ]
     },
     "execution_count": 72,
     "metadata": {},
     "output_type": "execute_result"
    }
   ],
   "source": [
    "# Quick Sanity check of test data\n",
    "df_test_ratings['test_data'].value_counts()"
   ]
  },
  {
   "cell_type": "code",
   "execution_count": 73,
   "id": "79b2c002",
   "metadata": {},
   "outputs": [
    {
     "name": "stdout",
     "output_type": "stream",
     "text": [
      "Does this column exist: True\n",
      "Success - Dropped column:  test_data\n",
      "Does this column exist: True\n",
      "Success - Dropped column:  test_data\n"
     ]
    }
   ],
   "source": [
    "# Drop test_data column\n",
    "drop_col_from_df('test_data', df_train_ratings)\n",
    "drop_col_from_df('test_data', df_test_ratings)"
   ]
  },
  {
   "cell_type": "code",
   "execution_count": 74,
   "id": "043088c8",
   "metadata": {},
   "outputs": [
    {
     "data": {
      "text/plain": [
       "0"
      ]
     },
     "execution_count": 74,
     "metadata": {},
     "output_type": "execute_result"
    }
   ],
   "source": [
    "# Check \n",
    "    # Per user, the smallest timestamp in the test data should still be larger than the max timestamp in the train data\n",
    "    # (i.e. the earliest time in the test data is still later than the latest timestamp in the train data)\n",
    "(df_test_ratings.groupby('userId')['timestamp'].min() < df_train_ratings.groupby('userId')['timestamp'].max()).sum()\n",
    "    # should be zero, if the above is true"
   ]
  },
  {
   "cell_type": "code",
   "execution_count": 75,
   "id": "fd8f3b3c",
   "metadata": {},
   "outputs": [
    {
     "data": {
      "text/plain": [
       "True"
      ]
     },
     "execution_count": 75,
     "metadata": {},
     "output_type": "execute_result"
    }
   ],
   "source": [
    "# Check\n",
    "    # Expect that the test database will have rows equal to 10 * number of unique users in the `df_ratings` \n",
    "(df_test_ratings.shape[0]) == (df_ratings['userId'].nunique() * 10 )\n",
    "    # Should return true"
   ]
  },
  {
   "cell_type": "markdown",
   "id": "8a1b73d0",
   "metadata": {},
   "source": [
    "##### Summary / Findings:\n",
    "- I have successfully split my data into train and test datasets.\n",
    "- The test data comprises 10 of the most recently reviewed movie by each user. There are ~ 440K rows.\n",
    "- The train data comprises the remaining data, there are ~6.6 million rows.\n",
    "- There is quite a difference in size between train and test data, which is intentional. To reiterate what I mentioned above, I want to have at minimum the same number of ratings (if not more) for the corresponding user in the training dataset. With the minimum of movies rated by user of 20, this led to putting only 10 aside for each user into the test data.\n",
    "- I will need to revisit the `rating_net_user_mean` column for the train dataset, more details below."
   ]
  },
  {
   "cell_type": "markdown",
   "id": "1ccacb64",
   "metadata": {},
   "source": [
    "### Clean up Train Data"
   ]
  },
  {
   "cell_type": "markdown",
   "id": "8a5fb104",
   "metadata": {},
   "source": [
    "The test dataset should not be used at all during the model fitting / tuning phases, and should not be used to influence the model in anyway. Currently, the average rating for each user (rounded to the nearest integer) comprises of data points that are now in our test dataset. Prior to the clean up performed below, the test set is influencing the `rating_net_user_mean` feature in our train dataset. </br>\n",
    "</br>\n",
    "**I will recalculate the `rating_net_user_mean` column for the train dataset using only data available in our train set.**"
   ]
  },
  {
   "cell_type": "code",
   "execution_count": 76,
   "id": "3146df30",
   "metadata": {},
   "outputs": [
    {
     "name": "stdout",
     "output_type": "stream",
     "text": [
      "Does this column exist: True\n",
      "Success - Dropped column:  rating_net_user_mean\n"
     ]
    }
   ],
   "source": [
    "# Drop `rating_net_user_mean` in `df_train_ratings`\n",
    "drop_col_from_df('rating_net_user_mean', df_train_ratings)\n",
    "\n",
    "# Note - this column will be reinstated with calculation in cells below"
   ]
  },
  {
   "cell_type": "code",
   "execution_count": 77,
   "id": "98825a52",
   "metadata": {},
   "outputs": [],
   "source": [
    "# Clear `df_user_mean_rating` for training set calculation\n",
    "df_user_mean_rating = pd.DataFrame() # empty DataFrame"
   ]
  },
  {
   "cell_type": "code",
   "execution_count": 78,
   "id": "ce49aac9",
   "metadata": {},
   "outputs": [],
   "source": [
    "# Create df_user_mean_rating for average rating by user\n",
    "df_user_mean_rating = df_train_ratings.groupby('userId')[['rating']].mean() # calculate average rating, group by userId\n",
    "\n",
    "# Rename column\n",
    "df_user_mean_rating.columns=['user_mean_rating']\n",
    "\n",
    "# Round `user_mean_rating` column\n",
    "df_user_mean_rating['user_mean_rating'] = df_user_mean_rating['user_mean_rating'].round(0) # number of decimal places\n",
    "\n",
    "# Change Datatype to int8 to reduce memory consumption (and future processing power needed)\n",
    "df_user_mean_rating['user_mean_rating'] = df_user_mean_rating['user_mean_rating'].astype(np.int8)\n",
    "\n",
    "# move userId from index to column\n",
    "df_user_mean_rating.reset_index(inplace=True) # inplace = True, so it's done directly in data frame"
   ]
  },
  {
   "cell_type": "code",
   "execution_count": 79,
   "id": "d6e79c03",
   "metadata": {},
   "outputs": [
    {
     "data": {
      "text/plain": [
       "userId              0\n",
       "user_mean_rating    0\n",
       "dtype: int64"
      ]
     },
     "execution_count": 79,
     "metadata": {},
     "output_type": "execute_result"
    }
   ],
   "source": [
    "# Check for missing data\n",
    "df_user_mean_rating.isna().sum()"
   ]
  },
  {
   "cell_type": "code",
   "execution_count": 80,
   "id": "ccaa6de3",
   "metadata": {},
   "outputs": [],
   "source": [
    "#### Merge Average User Rating with `df_train_ratings`\n",
    "\n",
    "# Merge Average User Rating with `df_train_ratings`\n",
    "df_train_ratings = pd.merge(left=df_train_ratings,     # left table\n",
    "                            right=df_user_mean_rating, # right table\n",
    "                            how='left',                # left join (i.e. return all records on left table)\n",
    "                            left_on='userId',          # column to join on left table\n",
    "                            right_on='userId')         # column to join on right table\n",
    "\n",
    "# Create column for rating net user's mean\n",
    "    # individual movie rating less user's mean rating\n",
    "df_train_ratings['rating_net_user_mean'] = df_train_ratings['rating'] - df_train_ratings['user_mean_rating']\n",
    "\n",
    "# Change Datatype to int8 to reduce memory consumption (and future processing power needed)\n",
    "df_train_ratings['rating_net_user_mean'] = df_train_ratings['rating_net_user_mean'].astype(np.int8)"
   ]
  },
  {
   "cell_type": "code",
   "execution_count": 81,
   "id": "3081fbb9",
   "metadata": {},
   "outputs": [
    {
     "data": {
      "text/html": [
       "<div>\n",
       "<style scoped>\n",
       "    .dataframe tbody tr th:only-of-type {\n",
       "        vertical-align: middle;\n",
       "    }\n",
       "\n",
       "    .dataframe tbody tr th {\n",
       "        vertical-align: top;\n",
       "    }\n",
       "\n",
       "    .dataframe thead th {\n",
       "        text-align: right;\n",
       "    }\n",
       "</style>\n",
       "<table border=\"1\" class=\"dataframe\">\n",
       "  <thead>\n",
       "    <tr style=\"text-align: right;\">\n",
       "      <th></th>\n",
       "      <th>userId</th>\n",
       "      <th>movieId</th>\n",
       "      <th>rating</th>\n",
       "      <th>timestamp</th>\n",
       "      <th>user_mean_rating</th>\n",
       "      <th>rating_net_user_mean</th>\n",
       "    </tr>\n",
       "  </thead>\n",
       "  <tbody>\n",
       "    <tr>\n",
       "      <th>0</th>\n",
       "      <td>3</td>\n",
       "      <td>1</td>\n",
       "      <td>8</td>\n",
       "      <td>1439472215</td>\n",
       "      <td>7</td>\n",
       "      <td>1</td>\n",
       "    </tr>\n",
       "    <tr>\n",
       "      <th>1</th>\n",
       "      <td>3</td>\n",
       "      <td>29</td>\n",
       "      <td>9</td>\n",
       "      <td>1484754967</td>\n",
       "      <td>7</td>\n",
       "      <td>2</td>\n",
       "    </tr>\n",
       "    <tr>\n",
       "      <th>2</th>\n",
       "      <td>3</td>\n",
       "      <td>32</td>\n",
       "      <td>9</td>\n",
       "      <td>1439474635</td>\n",
       "      <td>7</td>\n",
       "      <td>2</td>\n",
       "    </tr>\n",
       "    <tr>\n",
       "      <th>3</th>\n",
       "      <td>3</td>\n",
       "      <td>50</td>\n",
       "      <td>10</td>\n",
       "      <td>1439474391</td>\n",
       "      <td>7</td>\n",
       "      <td>3</td>\n",
       "    </tr>\n",
       "    <tr>\n",
       "      <th>4</th>\n",
       "      <td>3</td>\n",
       "      <td>111</td>\n",
       "      <td>8</td>\n",
       "      <td>1484753849</td>\n",
       "      <td>7</td>\n",
       "      <td>1</td>\n",
       "    </tr>\n",
       "  </tbody>\n",
       "</table>\n",
       "</div>"
      ],
      "text/plain": [
       "   userId  movieId  rating   timestamp  user_mean_rating  rating_net_user_mean\n",
       "0       3        1       8  1439472215                 7                     1\n",
       "1       3       29       9  1484754967                 7                     2\n",
       "2       3       32       9  1439474635                 7                     2\n",
       "3       3       50      10  1439474391                 7                     3\n",
       "4       3      111       8  1484753849                 7                     1"
      ]
     },
     "execution_count": 81,
     "metadata": {},
     "output_type": "execute_result"
    }
   ],
   "source": [
    "# Visualize\n",
    "df_train_ratings.head() #show"
   ]
  },
  {
   "cell_type": "code",
   "execution_count": 82,
   "id": "df023daa",
   "metadata": {},
   "outputs": [
    {
     "name": "stdout",
     "output_type": "stream",
     "text": [
      "Does this column exist: True\n",
      "Success - Dropped column:  user_mean_rating\n"
     ]
    }
   ],
   "source": [
    "# Drop the `user_mean_rating` column\n",
    "drop_col_from_df('user_mean_rating',df_train_ratings)"
   ]
  },
  {
   "cell_type": "markdown",
   "id": "f9273f15",
   "metadata": {},
   "source": [
    "##### Summary / Findings:\n",
    "- I have successfully recalculated the `rating_net_user_mean` column in the train dataset using data from the train dataset only. This prevents any data from the test dataset to leaking into the train dataset / model training."
   ]
  },
  {
   "cell_type": "markdown",
   "id": "b0a7b2ae",
   "metadata": {},
   "source": [
    "### Ratings Visualization"
   ]
  },
  {
   "cell_type": "markdown",
   "id": "5585d104",
   "metadata": {},
   "source": [
    "*`rating` column*"
   ]
  },
  {
   "cell_type": "code",
   "execution_count": 83,
   "id": "5f80068a",
   "metadata": {},
   "outputs": [
    {
     "data": {
      "image/png": "[encoded data removed]",
      "text/plain": [
       "<Figure size 720x1080 with 3 Axes>"
      ]
     },
     "metadata": {
      "needs_background": "light"
     },
     "output_type": "display_data"
    }
   ],
   "source": [
    "# Visualize Movie Ratings (1 - 10)\n",
    "\n",
    "row_max = 3\n",
    "col_max = 1\n",
    "list_of_df = [df_train_ratings, df_test_ratings]\n",
    "\n",
    "plt.subplots(row_max, col_max, figsize=(10,15))\n",
    "\n",
    "# Plot 1 - Overall\n",
    "plt.subplot(row_max, col_max, 1)\n",
    "visual_input = df_ratings['rating'].value_counts().sort_index()\n",
    "\n",
    "# Plot Bar Graph\n",
    "plt.bar(visual_input.index,\n",
    "        visual_input.values, \n",
    "        width = 0.3, align='center') # Adjust bar width and alignment \n",
    "\n",
    "# Titles and Axes\n",
    "plt.title('Distribution of Movie Ratings - Train & Test')\n",
    "plt.xlabel('Rating Score')\n",
    "plt.ylabel('Frequency (Count)')\n",
    "\n",
    "\n",
    "# Plot 2 - Train\n",
    "plt.subplot(row_max, col_max, 2)\n",
    "\n",
    "# Train\n",
    "visual_input = df_train_ratings['rating'].value_counts().sort_index()\n",
    "\n",
    "\n",
    "# Plot Bar Graph\n",
    "plt.bar(visual_input.index,\n",
    "        visual_input.values, \n",
    "        width = 0.3, align='center') # Adjust bar width and alignment \n",
    "\n",
    "# Titles and Axes\n",
    "plt.title('Distribution of Movie Ratings - Train Set')\n",
    "plt.xlabel('Rating Score')\n",
    "plt.ylabel('Frequency (Count)')\n",
    "\n",
    "\n",
    "# Plot 3 - Test\n",
    "plt.subplot(row_max, col_max, 3)\n",
    "\n",
    "visual_input = df_test_ratings['rating'].value_counts().sort_index()\n",
    "\n",
    "# Plot Bar Graph\n",
    "plt.bar(visual_input.index,\n",
    "        visual_input.values, \n",
    "        width = 0.3, align='center') # Adjust bar width and alignment \n",
    "\n",
    "# Titles and Axes\n",
    "plt.title('Distribution of Movie Ratings - Test Set')\n",
    "plt.xlabel('Rating Score')\n",
    "plt.ylabel('Frequency (Count)')\n",
    "\n",
    "plt.tight_layout()\n",
    "plt.show()"
   ]
  },
  {
   "cell_type": "code",
   "execution_count": 84,
   "id": "bef79eac",
   "metadata": {},
   "outputs": [
    {
     "data": {
      "text/plain": [
       "mean    7.164706\n",
       "50%     8.000000\n",
       "Name: rating, dtype: float64"
      ]
     },
     "execution_count": 84,
     "metadata": {},
     "output_type": "execute_result"
    }
   ],
   "source": [
    "# Mean and Median - Overall\n",
    "df_ratings['rating'].describe()[['mean', '50%']]"
   ]
  },
  {
   "cell_type": "code",
   "execution_count": 85,
   "id": "80ba5221",
   "metadata": {},
   "outputs": [
    {
     "data": {
      "text/plain": [
       "mean    7.137433\n",
       "50%     7.000000\n",
       "Name: rating, dtype: float64"
      ]
     },
     "execution_count": 85,
     "metadata": {},
     "output_type": "execute_result"
    }
   ],
   "source": [
    "# Mean and Median - Train \n",
    "df_train_ratings['rating'].describe()[['mean', '50%']]"
   ]
  },
  {
   "cell_type": "code",
   "execution_count": 86,
   "id": "4fef7c7a",
   "metadata": {},
   "outputs": [
    {
     "data": {
      "text/plain": [
       "mean    7.571379\n",
       "50%     8.000000\n",
       "Name: rating, dtype: float64"
      ]
     },
     "execution_count": 86,
     "metadata": {},
     "output_type": "execute_result"
    }
   ],
   "source": [
    "# Mean and Median - Test\n",
    "df_test_ratings['rating'].describe()[['mean', '50%']]"
   ]
  },
  {
   "cell_type": "markdown",
   "id": "dcdfb68c",
   "metadata": {},
   "source": [
    "##### Comments:\n",
    "- The distribution in both the train and test dataset are similar to each other, and the overall (both train & test) dataset.\n",
    "    - There is a single peak, the rating of 8 is the most frequent for both the train and test datasets (i.e. the mode).\n",
    "    - Generally speaking, the frequency of ratings decreases as you move further out from the peak (rating of 8) both on the left (lower ratings) and the right side (higher ratings). The notable exception is that there are more ratings of 10 versus ratings of 9.\n",
    "    - They are all left-skewed (i.e. left tail), the majority of data are located on the high ratings side (right side of the graphs).\n",
    "\n",
    "- The average rating for the train dataset is ~7, whereas the average rating for the test dataset is ~7.5. This is mainly driven by the higher proportions of 9 and 10 ratings in the test dataset compared to the train dataset."
   ]
  },
  {
   "cell_type": "markdown",
   "id": "f77318c6",
   "metadata": {},
   "source": [
    "*`rating_net_user_mean` column*"
   ]
  },
  {
   "cell_type": "code",
   "execution_count": 87,
   "id": "3279a969",
   "metadata": {},
   "outputs": [
    {
     "data": {
      "image/png": "[encoded data removed]",
      "text/plain": [
       "<Figure size 720x1080 with 3 Axes>"
      ]
     },
     "metadata": {
      "needs_background": "light"
     },
     "output_type": "display_data"
    }
   ],
   "source": [
    "# Visualize Movie Net Ratings (-9 - 9, potential range)\n",
    "\n",
    "row_max = 3\n",
    "col_max = 1\n",
    "list_of_df = [df_train_ratings, df_test_ratings]\n",
    "\n",
    "plt.subplots(row_max, col_max, figsize=(10,15))\n",
    "\n",
    "# Plot 1 - Overall\n",
    "plt.subplot(row_max, col_max, 1)\n",
    "\n",
    "visual_input = df_ratings['rating_net_user_mean'].value_counts()\n",
    "\n",
    "# Plot Bar Graph\n",
    "plt.bar(visual_input.index,\n",
    "        visual_input.values, \n",
    "        width = 0.3, align='center') # Adjust bar width and alignment \n",
    "\n",
    "# Titles and Axes\n",
    "plt.title('Distribution of Movie Net Ratings - Train & Test')\n",
    "plt.xlabel('Net Rating Score')\n",
    "plt.ylabel('Frequency (Count)')\n",
    "plt.xticks(range(-10,11,2))\n",
    "\n",
    "\n",
    "# Plot 2 - Train\n",
    "plt.subplot(row_max, col_max, 2)\n",
    "\n",
    "# Train\n",
    "visual_input = df_train_ratings['rating_net_user_mean'].value_counts()\n",
    "\n",
    "# Plot Bar Graph\n",
    "plt.bar(visual_input.index,\n",
    "        visual_input.values, \n",
    "        width = 0.3, align='center') # Adjust bar width and alignment \n",
    "\n",
    "# Titles and Axes\n",
    "plt.title('Distribution of Movie Net Ratings - Train')\n",
    "plt.xlabel('Net Rating Score')\n",
    "plt.ylabel('Frequency (Count)')\n",
    "plt.xticks(range(-10,11,2))\n",
    "\n",
    "\n",
    "# Plot 3 - Test\n",
    "plt.subplot(row_max, col_max, 3)\n",
    "\n",
    "# Test\n",
    "visual_input = df_test_ratings['rating_net_user_mean'].value_counts()\n",
    "\n",
    "# Plot Bar Graph\n",
    "plt.bar(visual_input.index,\n",
    "        visual_input.values, \n",
    "        width = 0.3, align='center') # Adjust bar width and alignment \n",
    "\n",
    "# Titles and Axes\n",
    "plt.title('Distribution of Movie Net Ratings - Test')\n",
    "plt.xlabel('Net Rating Score')\n",
    "plt.ylabel('Frequency (Count)')\n",
    "plt.xticks(range(-10,11,2))\n",
    "\n",
    "plt.tight_layout()\n",
    "plt.show()"
   ]
  },
  {
   "cell_type": "code",
   "execution_count": 88,
   "id": "13c3c5ae",
   "metadata": {},
   "outputs": [
    {
     "data": {
      "text/plain": [
       "count    6.998416e+06\n",
       "mean    -8.457628e-04\n",
       "std      1.854632e+00\n",
       "min     -9.000000e+00\n",
       "25%     -1.000000e+00\n",
       "50%      0.000000e+00\n",
       "75%      1.000000e+00\n",
       "max      8.000000e+00\n",
       "Name: rating_net_user_mean, dtype: float64"
      ]
     },
     "execution_count": 88,
     "metadata": {},
     "output_type": "execute_result"
    }
   ],
   "source": [
    "# Statistics - Overall\n",
    "df_ratings['rating_net_user_mean'].describe()"
   ]
  },
  {
   "cell_type": "code",
   "execution_count": 89,
   "id": "114ffc10",
   "metadata": {},
   "outputs": [
    {
     "data": {
      "text/plain": [
       "count    6.558566e+06\n",
       "mean    -6.518193e-04\n",
       "std      1.853815e+00\n",
       "min     -9.000000e+00\n",
       "25%     -1.000000e+00\n",
       "50%      0.000000e+00\n",
       "75%      1.000000e+00\n",
       "max      9.000000e+00\n",
       "Name: rating_net_user_mean, dtype: float64"
      ]
     },
     "execution_count": 89,
     "metadata": {},
     "output_type": "execute_result"
    }
   ],
   "source": [
    "# Statistics - Train \n",
    "df_train_ratings['rating_net_user_mean'].describe()"
   ]
  },
  {
   "cell_type": "code",
   "execution_count": 90,
   "id": "b8fa2d8f",
   "metadata": {},
   "outputs": [
    {
     "data": {
      "text/plain": [
       "count    439850.000000\n",
       "mean         -0.079866\n",
       "std           1.833022\n",
       "min          -9.000000\n",
       "25%          -1.000000\n",
       "50%           0.000000\n",
       "75%           1.000000\n",
       "max           8.000000\n",
       "Name: rating_net_user_mean, dtype: float64"
      ]
     },
     "execution_count": 90,
     "metadata": {},
     "output_type": "execute_result"
    }
   ],
   "source": [
    "# Statistics - Test\n",
    "df_test_ratings['rating_net_user_mean'].describe()"
   ]
  },
  {
   "cell_type": "markdown",
   "id": "1830c77a",
   "metadata": {},
   "source": [
    "##### Comments:\n",
    "- The distribution in both the train and test dataset are similar to each other, and the overall (both train & test) dataset.\n",
    "    - There is a single peak, the rating of 0 is the most frequent for both the train and test datasets (i.e. the mode). They are all a bell-liked shape. The mean and median for both train and test datasets is a rating of 0 (note - for the mean it's not exactly zero but essentially zero). \n",
    "    - Generally speaking, the frequency of ratings decreases as you move further out from the peak (rating of 0) both on the left (lower ratings) and the right side (higher ratings). \n",
    "    - The standard deviation of ~1.8 for both train and test dataset, indicate how far the average net rating lies from the mean. We can see that the majority of our data lies between -2 and 2 (rounded up from 1.8) in the visuals above.  \n",
    "    - We can see that the data on the right side is more compressed than the left side. This is consistent to what we saw when we visualized the `rating` column above. The mean is ~ 7 so we can expect that many user's mean will be ~7 and close to it where it's expected that there will be higher concentration in lower positive net rating numbers than there are in lower negative net rating numbers. \n",
    "        - For example if a user mean was 7, the possible positive net ratings would be 1, 2, and 3 (i.e. up to a rating of 10), whereas the possible negative net ratings would be -1, -2, -3, -4, -5, -6. \n"
   ]
  },
  {
   "cell_type": "markdown",
   "id": "229f5b98",
   "metadata": {},
   "source": [
    "**Note - the above concludes the EDA on ratings data for the *collaborative based recommendations*. I will export the train and test datasets for the 02_Models notebook at the end of this file.**"
   ]
  },
  {
   "cell_type": "markdown",
   "id": "d974fa5e",
   "metadata": {},
   "source": [
    "# Section 2 - Top Movies"
   ]
  },
  {
   "cell_type": "markdown",
   "id": "b69ad8ff",
   "metadata": {},
   "source": [
    "A major issue that *collaborative filtering* faces is the **cold start** issue. In essence, how do we deal with users where we have limited to no data about them. "
   ]
  },
  {
   "cell_type": "markdown",
   "id": "0e6fe909",
   "metadata": {},
   "source": [
    "I can provide users a list of \"top\" or \"popular\" movies regardless of their history, which could help with this issue. This would be considered a **user independent system**. Additionally, these new user viewing patterns / ratings based on these \"top\" or \"popular\" movies will help us build data for future recommendations."
   ]
  },
  {
   "cell_type": "markdown",
   "id": "cfce9987",
   "metadata": {},
   "source": [
    "## Look at \"Top\" Movies"
   ]
  },
  {
   "cell_type": "markdown",
   "id": "1290810a",
   "metadata": {},
   "source": [
    "In this section, I'll try to answer the question:</br>\n",
    "&emsp;*What are the top movies in this dataset?* </br>\n",
    "</br>\n",
    "This may seem like a simple question at a quick glance but as I gave more thought, the harder it was to answer this question. In essence, the main question is how to we define a top movie, and how can we measure that. </br>\n",
    "</br>\n",
    "Below I will look rank movies based on: \n",
    "- Count of ratings\n",
    "- Average rating\n",
    "- Total net rating\n",
    "- Average net rating </br>\n",
    "</br>\n",
    "\n",
    "Based on this (non-exhaustive) list, I will choose a metric to determine the \"Top\" movies. "
   ]
  },
  {
   "cell_type": "markdown",
   "id": "2ceb81bb",
   "metadata": {},
   "source": [
    "### Create `df_summary_movies` "
   ]
  },
  {
   "cell_type": "markdown",
   "id": "b908ec6d",
   "metadata": {},
   "source": [
    "I will create a new DataFrame to house the various movie metrics."
   ]
  },
  {
   "cell_type": "code",
   "execution_count": 91,
   "id": "e7590f78",
   "metadata": {},
   "outputs": [],
   "source": [
    "# Create new DataFrame\n",
    "df_summary_movies = pd.DataFrame()"
   ]
  },
  {
   "cell_type": "markdown",
   "id": "2e2afaf0",
   "metadata": {},
   "source": [
    "### Add Metrics to `df_summary_movies`"
   ]
  },
  {
   "cell_type": "markdown",
   "id": "5a8debd1",
   "metadata": {},
   "source": [
    "**Movie IDs**"
   ]
  },
  {
   "cell_type": "markdown",
   "id": "e06c65c8",
   "metadata": {},
   "source": [
    "I am getting the list of movie IDs from the `df_ratings` dataframe. I will note that this is the `df_ratings` dataframe with ~7 million rows, instead of the original `df_ratings` which came with ~25 million rows. As mentioned above, I reduced the size of this dataset due to computation limitations (memory errors from applying collaborative filtering techniques to the original 25 million rows). </br>\n",
    "</br>\n",
    "I am using the updated `df_ratings` to be consistent with the data prepared for the collaborative filtering techniques. Furthermore, by using movies directly in `df_ratings`, which means that there will be rating and net rating data available for these movies (instead of pulling the full list of movies from `df_movies`)."
   ]
  },
  {
   "cell_type": "code",
   "execution_count": 92,
   "id": "0b815b78",
   "metadata": {},
   "outputs": [],
   "source": [
    "# Add all unique Movie IDs from `df_ratings` (in ascending order)\n",
    "df_summary_movies['movieId'] = np.sort(df_ratings['movieId'].unique())"
   ]
  },
  {
   "cell_type": "markdown",
   "id": "3a22ee7b",
   "metadata": {},
   "source": [
    "*First Look at `df_movies`*"
   ]
  },
  {
   "cell_type": "code",
   "execution_count": 93,
   "id": "20ce7c57",
   "metadata": {},
   "outputs": [
    {
     "data": {
      "text/html": [
       "<div>\n",
       "<style scoped>\n",
       "    .dataframe tbody tr th:only-of-type {\n",
       "        vertical-align: middle;\n",
       "    }\n",
       "\n",
       "    .dataframe tbody tr th {\n",
       "        vertical-align: top;\n",
       "    }\n",
       "\n",
       "    .dataframe thead th {\n",
       "        text-align: right;\n",
       "    }\n",
       "</style>\n",
       "<table border=\"1\" class=\"dataframe\">\n",
       "  <thead>\n",
       "    <tr style=\"text-align: right;\">\n",
       "      <th></th>\n",
       "      <th>movieId</th>\n",
       "      <th>title</th>\n",
       "      <th>genres</th>\n",
       "    </tr>\n",
       "  </thead>\n",
       "  <tbody>\n",
       "    <tr>\n",
       "      <th>0</th>\n",
       "      <td>1</td>\n",
       "      <td>Toy Story (1995)</td>\n",
       "      <td>Adventure|Animation|Children|Comedy|Fantasy</td>\n",
       "    </tr>\n",
       "    <tr>\n",
       "      <th>1</th>\n",
       "      <td>2</td>\n",
       "      <td>Jumanji (1995)</td>\n",
       "      <td>Adventure|Children|Fantasy</td>\n",
       "    </tr>\n",
       "    <tr>\n",
       "      <th>2</th>\n",
       "      <td>3</td>\n",
       "      <td>Grumpier Old Men (1995)</td>\n",
       "      <td>Comedy|Romance</td>\n",
       "    </tr>\n",
       "    <tr>\n",
       "      <th>3</th>\n",
       "      <td>4</td>\n",
       "      <td>Waiting to Exhale (1995)</td>\n",
       "      <td>Comedy|Drama|Romance</td>\n",
       "    </tr>\n",
       "    <tr>\n",
       "      <th>4</th>\n",
       "      <td>5</td>\n",
       "      <td>Father of the Bride Part II (1995)</td>\n",
       "      <td>Comedy</td>\n",
       "    </tr>\n",
       "  </tbody>\n",
       "</table>\n",
       "</div>"
      ],
      "text/plain": [
       "   movieId                               title  \\\n",
       "0        1                    Toy Story (1995)   \n",
       "1        2                      Jumanji (1995)   \n",
       "2        3             Grumpier Old Men (1995)   \n",
       "3        4            Waiting to Exhale (1995)   \n",
       "4        5  Father of the Bride Part II (1995)   \n",
       "\n",
       "                                        genres  \n",
       "0  Adventure|Animation|Children|Comedy|Fantasy  \n",
       "1                   Adventure|Children|Fantasy  \n",
       "2                               Comedy|Romance  \n",
       "3                         Comedy|Drama|Romance  \n",
       "4                                       Comedy  "
      ]
     },
     "execution_count": 93,
     "metadata": {},
     "output_type": "execute_result"
    }
   ],
   "source": [
    "# Visualize \n",
    "df_movies.head()"
   ]
  },
  {
   "cell_type": "code",
   "execution_count": 94,
   "id": "c56f4d52",
   "metadata": {},
   "outputs": [
    {
     "data": {
      "text/plain": [
       "(62423, 3)"
      ]
     },
     "execution_count": 94,
     "metadata": {},
     "output_type": "execute_result"
    }
   ],
   "source": [
    "# Get Shape of Data Frame\n",
    "df_movies.shape"
   ]
  },
  {
   "cell_type": "code",
   "execution_count": 95,
   "id": "573d4e8b",
   "metadata": {},
   "outputs": [
    {
     "data": {
      "text/plain": [
       "movieId    0\n",
       "title      0\n",
       "genres     0\n",
       "dtype: int64"
      ]
     },
     "execution_count": 95,
     "metadata": {},
     "output_type": "execute_result"
    }
   ],
   "source": [
    "# Check for missing data - after dropping rows\n",
    "df_movies.isna().sum()"
   ]
  },
  {
   "cell_type": "code",
   "execution_count": 96,
   "id": "4a8fcc6b",
   "metadata": {},
   "outputs": [
    {
     "data": {
      "text/plain": [
       "0"
      ]
     },
     "execution_count": 96,
     "metadata": {},
     "output_type": "execute_result"
    }
   ],
   "source": [
    "# Check for duplicated rows\n",
    "df_movies.duplicated().sum()"
   ]
  },
  {
   "cell_type": "markdown",
   "id": "f375cd3f",
   "metadata": {},
   "source": [
    "**Movie Titles**"
   ]
  },
  {
   "cell_type": "markdown",
   "id": "a650dda1",
   "metadata": {},
   "source": [
    "I will grab the titles of the movies from `df_movies`."
   ]
  },
  {
   "cell_type": "code",
   "execution_count": 97,
   "id": "5a4b2aa4",
   "metadata": {},
   "outputs": [],
   "source": [
    "# Add movie titles to `df_summary_movies`\n",
    "input_df = df_movies[['movieId', 'title']]\n",
    "\n",
    "df_summary_movies = pd.merge(left=df_summary_movies,        # left table\n",
    "                             right=input_df,                # right table\n",
    "                             how='left',                    # left join (i.e. return all records on left table)\n",
    "                             left_on='movieId',             # column to join on left table\n",
    "                             right_on='movieId')            # column to join on right table"
   ]
  },
  {
   "cell_type": "markdown",
   "id": "91c5e782",
   "metadata": {},
   "source": [
    "**Count of Ratings**"
   ]
  },
  {
   "cell_type": "markdown",
   "id": "6303fd95",
   "metadata": {},
   "source": [
    "I will calculate the number of ratings for each movie, and merge this information into the `df_summary_movies` dataframe."
   ]
  },
  {
   "cell_type": "code",
   "execution_count": 98,
   "id": "94012685",
   "metadata": {},
   "outputs": [],
   "source": [
    "# Add average rating to `df_summary_movies`\n",
    "\n",
    "# Calculate the aggregation to be inputed into `df_summary_movies`\n",
    "input_df = df_ratings.groupby('movieId')['rating'].count().reset_index()\n",
    "\n",
    "# Rename column\n",
    "input_df.rename(columns = {'rating': 'total_ratings_count'}, inplace = True) \n",
    "\n",
    "df_summary_movies = pd.merge(left=df_summary_movies,        # left table\n",
    "                             right=input_df,                # right table\n",
    "                             how='left',                    # left join (i.e. return all records on left table)\n",
    "                             left_on='movieId',             # column to join on left table\n",
    "                             right_on='movieId')            # column to join on right table"
   ]
  },
  {
   "cell_type": "markdown",
   "id": "d74f71c3",
   "metadata": {},
   "source": [
    "**Average Rating**"
   ]
  },
  {
   "cell_type": "markdown",
   "id": "31e922b5",
   "metadata": {},
   "source": [
    "I will calculate the average rating for each movie, and merge this information into the `df_summary_movies` dataframe."
   ]
  },
  {
   "cell_type": "code",
   "execution_count": 99,
   "id": "a6b793c5",
   "metadata": {},
   "outputs": [],
   "source": [
    "# Add average rating to `df_summary_movies`\n",
    "\n",
    "# Calculate the aggregation to be inputed into `df_summary_movies`\n",
    "input_df = df_ratings.groupby('movieId')['rating'].mean().reset_index()\n",
    "\n",
    "# Rename column\n",
    "input_df.rename(columns = {'rating': 'avg_rating'}, inplace = True) \n",
    "\n",
    "df_summary_movies = pd.merge(left=df_summary_movies,        # left table\n",
    "                             right=input_df,                # right table\n",
    "                             how='left',                    # left join (i.e. return all records on left table)\n",
    "                             left_on='movieId',             # column to join on left table\n",
    "                             right_on='movieId')            # column to join on right table"
   ]
  },
  {
   "cell_type": "code",
   "execution_count": 100,
   "id": "93a623f8",
   "metadata": {},
   "outputs": [],
   "source": [
    "# Round `avg_rating` column\n",
    "df_summary_movies['avg_rating'] = np.round(df_summary_movies['avg_rating'], 2) # number of decimal places"
   ]
  },
  {
   "cell_type": "markdown",
   "id": "14da283e",
   "metadata": {},
   "source": [
    "**Total Net Rating**"
   ]
  },
  {
   "cell_type": "markdown",
   "id": "e4dab615",
   "metadata": {},
   "source": [
    "I will calculate the total net rating for each movie, and merge this information into the `df_summary_movies` dataframe."
   ]
  },
  {
   "cell_type": "code",
   "execution_count": 101,
   "id": "655065e1",
   "metadata": {},
   "outputs": [],
   "source": [
    "# Add total NET rating to `df_summary_movies`\n",
    "\n",
    "# Calculate the aggregation to be inputed into `df_summary_movies`\n",
    "input_df = df_ratings.groupby('movieId')['rating_net_user_mean'].sum().reset_index()\n",
    "\n",
    "# Rename column\n",
    "input_df.rename(columns = {'rating_net_user_mean': 'total_net_rating'}, inplace = True)  \n",
    "    \n",
    "df_summary_movies = pd.merge(left=df_summary_movies,        # left table\n",
    "                             right=input_df,                # right table\n",
    "                             how='left',                    # left join (i.e. return all records on left table)\n",
    "                             left_on='movieId',             # column to join on left table\n",
    "                             right_on='movieId')            # column to join on right table"
   ]
  },
  {
   "cell_type": "markdown",
   "id": "2ab95f67",
   "metadata": {},
   "source": [
    "**Average Net Rating**"
   ]
  },
  {
   "cell_type": "markdown",
   "id": "9a9d901e",
   "metadata": {},
   "source": [
    "I will calculate the average net rating for each movie, and merge this information into the `df_summary_movies` dataframe."
   ]
  },
  {
   "cell_type": "code",
   "execution_count": 102,
   "id": "a0069348",
   "metadata": {},
   "outputs": [],
   "source": [
    "# Add average NET rating to `df_summary_movies`\n",
    "\n",
    "# Calculate the aggregation to be inputed into `df_summary_movies`\n",
    "input_df = df_ratings.groupby('movieId')['rating_net_user_mean'].mean().reset_index()\n",
    "\n",
    "# Rename column\n",
    "input_df.rename(columns = {'rating_net_user_mean': 'avg_net_rating'}, inplace = True)  \n",
    "    \n",
    "df_summary_movies = pd.merge(left=df_summary_movies,        # left table\n",
    "                             right=input_df,                # right table\n",
    "                             how='left',                    # left join (i.e. return all records on left table)\n",
    "                             left_on='movieId',             # column to join on left table\n",
    "                             right_on='movieId')            # column to join on right table"
   ]
  },
  {
   "cell_type": "code",
   "execution_count": 103,
   "id": "3fee1e7c",
   "metadata": {},
   "outputs": [],
   "source": [
    "# Round `avg_rating` column \n",
    "df_summary_movies['avg_net_rating'] = np.round(df_summary_movies['avg_net_rating'], 2) "
   ]
  },
  {
   "cell_type": "code",
   "execution_count": 104,
   "id": "e2ed93f7",
   "metadata": {},
   "outputs": [
    {
     "data": {
      "text/html": [
       "<div>\n",
       "<style scoped>\n",
       "    .dataframe tbody tr th:only-of-type {\n",
       "        vertical-align: middle;\n",
       "    }\n",
       "\n",
       "    .dataframe tbody tr th {\n",
       "        vertical-align: top;\n",
       "    }\n",
       "\n",
       "    .dataframe thead th {\n",
       "        text-align: right;\n",
       "    }\n",
       "</style>\n",
       "<table border=\"1\" class=\"dataframe\">\n",
       "  <thead>\n",
       "    <tr style=\"text-align: right;\">\n",
       "      <th></th>\n",
       "      <th>movieId</th>\n",
       "      <th>title</th>\n",
       "      <th>total_ratings_count</th>\n",
       "      <th>avg_rating</th>\n",
       "      <th>total_net_rating</th>\n",
       "      <th>avg_net_rating</th>\n",
       "    </tr>\n",
       "  </thead>\n",
       "  <tbody>\n",
       "    <tr>\n",
       "      <th>0</th>\n",
       "      <td>1</td>\n",
       "      <td>Toy Story (1995)</td>\n",
       "      <td>13662</td>\n",
       "      <td>7.62</td>\n",
       "      <td>2431.0</td>\n",
       "      <td>0.18</td>\n",
       "    </tr>\n",
       "    <tr>\n",
       "      <th>1</th>\n",
       "      <td>2</td>\n",
       "      <td>Jumanji (1995)</td>\n",
       "      <td>4677</td>\n",
       "      <td>6.83</td>\n",
       "      <td>-1473.0</td>\n",
       "      <td>-0.31</td>\n",
       "    </tr>\n",
       "    <tr>\n",
       "      <th>2</th>\n",
       "      <td>3</td>\n",
       "      <td>Grumpier Old Men (1995)</td>\n",
       "      <td>483</td>\n",
       "      <td>5.86</td>\n",
       "      <td>-396.0</td>\n",
       "      <td>-0.82</td>\n",
       "    </tr>\n",
       "    <tr>\n",
       "      <th>3</th>\n",
       "      <td>5</td>\n",
       "      <td>Father of the Bride Part II (1995)</td>\n",
       "      <td>983</td>\n",
       "      <td>5.99</td>\n",
       "      <td>-786.0</td>\n",
       "      <td>-0.80</td>\n",
       "    </tr>\n",
       "    <tr>\n",
       "      <th>4</th>\n",
       "      <td>6</td>\n",
       "      <td>Heat (1995)</td>\n",
       "      <td>3558</td>\n",
       "      <td>7.93</td>\n",
       "      <td>2546.0</td>\n",
       "      <td>0.72</td>\n",
       "    </tr>\n",
       "    <tr>\n",
       "      <th>...</th>\n",
       "      <td>...</td>\n",
       "      <td>...</td>\n",
       "      <td>...</td>\n",
       "      <td>...</td>\n",
       "      <td>...</td>\n",
       "      <td>...</td>\n",
       "    </tr>\n",
       "    <tr>\n",
       "      <th>6014</th>\n",
       "      <td>203519</td>\n",
       "      <td>Fast &amp; Furious Presents: Hobbs &amp; Shaw (2019)</td>\n",
       "      <td>156</td>\n",
       "      <td>6.04</td>\n",
       "      <td>-146.0</td>\n",
       "      <td>-0.94</td>\n",
       "    </tr>\n",
       "    <tr>\n",
       "      <th>6015</th>\n",
       "      <td>204352</td>\n",
       "      <td>Ad Astra (2019)</td>\n",
       "      <td>185</td>\n",
       "      <td>6.77</td>\n",
       "      <td>-41.0</td>\n",
       "      <td>-0.22</td>\n",
       "    </tr>\n",
       "    <tr>\n",
       "      <th>6016</th>\n",
       "      <td>204542</td>\n",
       "      <td>It: Chapter Two (2019)</td>\n",
       "      <td>190</td>\n",
       "      <td>6.28</td>\n",
       "      <td>-141.0</td>\n",
       "      <td>-0.74</td>\n",
       "    </tr>\n",
       "    <tr>\n",
       "      <th>6017</th>\n",
       "      <td>204698</td>\n",
       "      <td>Joker (2019)</td>\n",
       "      <td>813</td>\n",
       "      <td>8.10</td>\n",
       "      <td>593.0</td>\n",
       "      <td>0.73</td>\n",
       "    </tr>\n",
       "    <tr>\n",
       "      <th>6018</th>\n",
       "      <td>205383</td>\n",
       "      <td>El Camino: A Breaking Bad Movie (2019)</td>\n",
       "      <td>251</td>\n",
       "      <td>7.29</td>\n",
       "      <td>56.0</td>\n",
       "      <td>0.22</td>\n",
       "    </tr>\n",
       "  </tbody>\n",
       "</table>\n",
       "<p>6019 rows × 6 columns</p>\n",
       "</div>"
      ],
      "text/plain": [
       "      movieId                                         title  \\\n",
       "0           1                              Toy Story (1995)   \n",
       "1           2                                Jumanji (1995)   \n",
       "2           3                       Grumpier Old Men (1995)   \n",
       "3           5            Father of the Bride Part II (1995)   \n",
       "4           6                                   Heat (1995)   \n",
       "...       ...                                           ...   \n",
       "6014   203519  Fast & Furious Presents: Hobbs & Shaw (2019)   \n",
       "6015   204352                               Ad Astra (2019)   \n",
       "6016   204542                        It: Chapter Two (2019)   \n",
       "6017   204698                                  Joker (2019)   \n",
       "6018   205383        El Camino: A Breaking Bad Movie (2019)   \n",
       "\n",
       "      total_ratings_count  avg_rating  total_net_rating  avg_net_rating  \n",
       "0                   13662        7.62            2431.0            0.18  \n",
       "1                    4677        6.83           -1473.0           -0.31  \n",
       "2                     483        5.86            -396.0           -0.82  \n",
       "3                     983        5.99            -786.0           -0.80  \n",
       "4                    3558        7.93            2546.0            0.72  \n",
       "...                   ...         ...               ...             ...  \n",
       "6014                  156        6.04            -146.0           -0.94  \n",
       "6015                  185        6.77             -41.0           -0.22  \n",
       "6016                  190        6.28            -141.0           -0.74  \n",
       "6017                  813        8.10             593.0            0.73  \n",
       "6018                  251        7.29              56.0            0.22  \n",
       "\n",
       "[6019 rows x 6 columns]"
      ]
     },
     "execution_count": 104,
     "metadata": {},
     "output_type": "execute_result"
    }
   ],
   "source": [
    "# Show DataFrame\n",
    "df_summary_movies"
   ]
  },
  {
   "cell_type": "markdown",
   "id": "b1644e87",
   "metadata": {},
   "source": [
    "### Top 10 `df_summary_movies` by metric"
   ]
  },
  {
   "cell_type": "code",
   "execution_count": 105,
   "id": "0158758a",
   "metadata": {},
   "outputs": [
    {
     "data": {
      "text/html": [
       "<div>\n",
       "<style scoped>\n",
       "    .dataframe tbody tr th:only-of-type {\n",
       "        vertical-align: middle;\n",
       "    }\n",
       "\n",
       "    .dataframe tbody tr th {\n",
       "        vertical-align: top;\n",
       "    }\n",
       "\n",
       "    .dataframe thead th {\n",
       "        text-align: right;\n",
       "    }\n",
       "</style>\n",
       "<table border=\"1\" class=\"dataframe\">\n",
       "  <thead>\n",
       "    <tr style=\"text-align: right;\">\n",
       "      <th></th>\n",
       "      <th>movieId</th>\n",
       "      <th>title</th>\n",
       "      <th>total_ratings_count</th>\n",
       "      <th>avg_rating</th>\n",
       "      <th>total_net_rating</th>\n",
       "      <th>avg_net_rating</th>\n",
       "    </tr>\n",
       "  </thead>\n",
       "  <tbody>\n",
       "    <tr>\n",
       "      <th>1171</th>\n",
       "      <td>2571</td>\n",
       "      <td>Matrix, The (1999)</td>\n",
       "      <td>28298</td>\n",
       "      <td>8.20</td>\n",
       "      <td>15341.0</td>\n",
       "      <td>0.54</td>\n",
       "    </tr>\n",
       "    <tr>\n",
       "      <th>4019</th>\n",
       "      <td>79132</td>\n",
       "      <td>Inception (2010)</td>\n",
       "      <td>27533</td>\n",
       "      <td>8.30</td>\n",
       "      <td>17802.0</td>\n",
       "      <td>0.65</td>\n",
       "    </tr>\n",
       "    <tr>\n",
       "      <th>163</th>\n",
       "      <td>318</td>\n",
       "      <td>Shawshank Redemption, The (1994)</td>\n",
       "      <td>26068</td>\n",
       "      <td>8.68</td>\n",
       "      <td>26367.0</td>\n",
       "      <td>1.01</td>\n",
       "    </tr>\n",
       "    <tr>\n",
       "      <th>3547</th>\n",
       "      <td>58559</td>\n",
       "      <td>Dark Knight, The (2008)</td>\n",
       "      <td>24350</td>\n",
       "      <td>8.25</td>\n",
       "      <td>15207.0</td>\n",
       "      <td>0.62</td>\n",
       "    </tr>\n",
       "    <tr>\n",
       "      <th>1330</th>\n",
       "      <td>2959</td>\n",
       "      <td>Fight Club (1999)</td>\n",
       "      <td>23995</td>\n",
       "      <td>8.46</td>\n",
       "      <td>19452.0</td>\n",
       "      <td>0.81</td>\n",
       "    </tr>\n",
       "    <tr>\n",
       "      <th>2498</th>\n",
       "      <td>7153</td>\n",
       "      <td>Lord of the Rings: The Return of the King, The...</td>\n",
       "      <td>23711</td>\n",
       "      <td>8.05</td>\n",
       "      <td>10613.0</td>\n",
       "      <td>0.45</td>\n",
       "    </tr>\n",
       "    <tr>\n",
       "      <th>184</th>\n",
       "      <td>356</td>\n",
       "      <td>Forrest Gump (1994)</td>\n",
       "      <td>23341</td>\n",
       "      <td>8.19</td>\n",
       "      <td>14115.0</td>\n",
       "      <td>0.60</td>\n",
       "    </tr>\n",
       "    <tr>\n",
       "      <th>1987</th>\n",
       "      <td>4993</td>\n",
       "      <td>Lord of the Rings: The Fellowship of the Ring,...</td>\n",
       "      <td>23284</td>\n",
       "      <td>8.04</td>\n",
       "      <td>10759.0</td>\n",
       "      <td>0.46</td>\n",
       "    </tr>\n",
       "    <tr>\n",
       "      <th>2208</th>\n",
       "      <td>5952</td>\n",
       "      <td>Lord of the Rings: The Two Towers, The (2002)</td>\n",
       "      <td>21865</td>\n",
       "      <td>8.02</td>\n",
       "      <td>9700.0</td>\n",
       "      <td>0.44</td>\n",
       "    </tr>\n",
       "    <tr>\n",
       "      <th>4833</th>\n",
       "      <td>109487</td>\n",
       "      <td>Interstellar (2014)</td>\n",
       "      <td>21814</td>\n",
       "      <td>8.20</td>\n",
       "      <td>12493.0</td>\n",
       "      <td>0.57</td>\n",
       "    </tr>\n",
       "  </tbody>\n",
       "</table>\n",
       "</div>"
      ],
      "text/plain": [
       "      movieId                                              title  \\\n",
       "1171     2571                                 Matrix, The (1999)   \n",
       "4019    79132                                   Inception (2010)   \n",
       "163       318                   Shawshank Redemption, The (1994)   \n",
       "3547    58559                            Dark Knight, The (2008)   \n",
       "1330     2959                                  Fight Club (1999)   \n",
       "2498     7153  Lord of the Rings: The Return of the King, The...   \n",
       "184       356                                Forrest Gump (1994)   \n",
       "1987     4993  Lord of the Rings: The Fellowship of the Ring,...   \n",
       "2208     5952      Lord of the Rings: The Two Towers, The (2002)   \n",
       "4833   109487                                Interstellar (2014)   \n",
       "\n",
       "      total_ratings_count  avg_rating  total_net_rating  avg_net_rating  \n",
       "1171                28298        8.20           15341.0            0.54  \n",
       "4019                27533        8.30           17802.0            0.65  \n",
       "163                 26068        8.68           26367.0            1.01  \n",
       "3547                24350        8.25           15207.0            0.62  \n",
       "1330                23995        8.46           19452.0            0.81  \n",
       "2498                23711        8.05           10613.0            0.45  \n",
       "184                 23341        8.19           14115.0            0.60  \n",
       "1987                23284        8.04           10759.0            0.46  \n",
       "2208                21865        8.02            9700.0            0.44  \n",
       "4833                21814        8.20           12493.0            0.57  "
      ]
     },
     "execution_count": 105,
     "metadata": {},
     "output_type": "execute_result"
    }
   ],
   "source": [
    "# Top 10 - most reviewed movies\n",
    "df_summary_movies.sort_values('total_ratings_count', ascending = False).head(10)"
   ]
  },
  {
   "cell_type": "code",
   "execution_count": 106,
   "id": "51b7a1f7",
   "metadata": {},
   "outputs": [
    {
     "data": {
      "text/html": [
       "<div>\n",
       "<style scoped>\n",
       "    .dataframe tbody tr th:only-of-type {\n",
       "        vertical-align: middle;\n",
       "    }\n",
       "\n",
       "    .dataframe tbody tr th {\n",
       "        vertical-align: top;\n",
       "    }\n",
       "\n",
       "    .dataframe thead th {\n",
       "        text-align: right;\n",
       "    }\n",
       "</style>\n",
       "<table border=\"1\" class=\"dataframe\">\n",
       "  <thead>\n",
       "    <tr style=\"text-align: right;\">\n",
       "      <th></th>\n",
       "      <th>movieId</th>\n",
       "      <th>title</th>\n",
       "      <th>total_ratings_count</th>\n",
       "      <th>avg_rating</th>\n",
       "      <th>total_net_rating</th>\n",
       "      <th>avg_net_rating</th>\n",
       "    </tr>\n",
       "  </thead>\n",
       "  <tbody>\n",
       "    <tr>\n",
       "      <th>5699</th>\n",
       "      <td>171011</td>\n",
       "      <td>Planet Earth II (2016)</td>\n",
       "      <td>1118</td>\n",
       "      <td>8.96</td>\n",
       "      <td>1892.0</td>\n",
       "      <td>1.69</td>\n",
       "    </tr>\n",
       "    <tr>\n",
       "      <th>5521</th>\n",
       "      <td>159817</td>\n",
       "      <td>Planet Earth (2006)</td>\n",
       "      <td>1736</td>\n",
       "      <td>8.93</td>\n",
       "      <td>2951.0</td>\n",
       "      <td>1.70</td>\n",
       "    </tr>\n",
       "    <tr>\n",
       "      <th>5688</th>\n",
       "      <td>170705</td>\n",
       "      <td>Band of Brothers (2001)</td>\n",
       "      <td>1346</td>\n",
       "      <td>8.79</td>\n",
       "      <td>2176.0</td>\n",
       "      <td>1.62</td>\n",
       "    </tr>\n",
       "    <tr>\n",
       "      <th>163</th>\n",
       "      <td>318</td>\n",
       "      <td>Shawshank Redemption, The (1994)</td>\n",
       "      <td>26068</td>\n",
       "      <td>8.68</td>\n",
       "      <td>26367.0</td>\n",
       "      <td>1.01</td>\n",
       "    </tr>\n",
       "    <tr>\n",
       "      <th>5702</th>\n",
       "      <td>171495</td>\n",
       "      <td>Cosmos</td>\n",
       "      <td>276</td>\n",
       "      <td>8.65</td>\n",
       "      <td>440.0</td>\n",
       "      <td>1.59</td>\n",
       "    </tr>\n",
       "    <tr>\n",
       "      <th>5786</th>\n",
       "      <td>179135</td>\n",
       "      <td>Blue Planet II (2017)</td>\n",
       "      <td>655</td>\n",
       "      <td>8.58</td>\n",
       "      <td>818.0</td>\n",
       "      <td>1.25</td>\n",
       "    </tr>\n",
       "    <tr>\n",
       "      <th>5989</th>\n",
       "      <td>198185</td>\n",
       "      <td>Twin Peaks (1989)</td>\n",
       "      <td>287</td>\n",
       "      <td>8.56</td>\n",
       "      <td>425.0</td>\n",
       "      <td>1.48</td>\n",
       "    </tr>\n",
       "    <tr>\n",
       "      <th>527</th>\n",
       "      <td>1203</td>\n",
       "      <td>12 Angry Men (1957)</td>\n",
       "      <td>5361</td>\n",
       "      <td>8.56</td>\n",
       "      <td>6344.0</td>\n",
       "      <td>1.18</td>\n",
       "    </tr>\n",
       "    <tr>\n",
       "      <th>5577</th>\n",
       "      <td>163809</td>\n",
       "      <td>Over the Garden Wall (2013)</td>\n",
       "      <td>546</td>\n",
       "      <td>8.52</td>\n",
       "      <td>762.0</td>\n",
       "      <td>1.40</td>\n",
       "    </tr>\n",
       "    <tr>\n",
       "      <th>5753</th>\n",
       "      <td>176601</td>\n",
       "      <td>Black Mirror</td>\n",
       "      <td>453</td>\n",
       "      <td>8.51</td>\n",
       "      <td>494.0</td>\n",
       "      <td>1.09</td>\n",
       "    </tr>\n",
       "  </tbody>\n",
       "</table>\n",
       "</div>"
      ],
      "text/plain": [
       "      movieId                             title  total_ratings_count  \\\n",
       "5699   171011            Planet Earth II (2016)                 1118   \n",
       "5521   159817               Planet Earth (2006)                 1736   \n",
       "5688   170705           Band of Brothers (2001)                 1346   \n",
       "163       318  Shawshank Redemption, The (1994)                26068   \n",
       "5702   171495                            Cosmos                  276   \n",
       "5786   179135             Blue Planet II (2017)                  655   \n",
       "5989   198185                 Twin Peaks (1989)                  287   \n",
       "527      1203               12 Angry Men (1957)                 5361   \n",
       "5577   163809       Over the Garden Wall (2013)                  546   \n",
       "5753   176601                      Black Mirror                  453   \n",
       "\n",
       "      avg_rating  total_net_rating  avg_net_rating  \n",
       "5699        8.96            1892.0            1.69  \n",
       "5521        8.93            2951.0            1.70  \n",
       "5688        8.79            2176.0            1.62  \n",
       "163         8.68           26367.0            1.01  \n",
       "5702        8.65             440.0            1.59  \n",
       "5786        8.58             818.0            1.25  \n",
       "5989        8.56             425.0            1.48  \n",
       "527         8.56            6344.0            1.18  \n",
       "5577        8.52             762.0            1.40  \n",
       "5753        8.51             494.0            1.09  "
      ]
     },
     "execution_count": 106,
     "metadata": {},
     "output_type": "execute_result"
    }
   ],
   "source": [
    "# Top 10 - based on average rating\n",
    "df_summary_movies.sort_values('avg_rating', ascending = False).head(10)"
   ]
  },
  {
   "cell_type": "code",
   "execution_count": 107,
   "id": "bd4403ec",
   "metadata": {},
   "outputs": [
    {
     "data": {
      "text/html": [
       "<div>\n",
       "<style scoped>\n",
       "    .dataframe tbody tr th:only-of-type {\n",
       "        vertical-align: middle;\n",
       "    }\n",
       "\n",
       "    .dataframe tbody tr th {\n",
       "        vertical-align: top;\n",
       "    }\n",
       "\n",
       "    .dataframe thead th {\n",
       "        text-align: right;\n",
       "    }\n",
       "</style>\n",
       "<table border=\"1\" class=\"dataframe\">\n",
       "  <thead>\n",
       "    <tr style=\"text-align: right;\">\n",
       "      <th></th>\n",
       "      <th>movieId</th>\n",
       "      <th>title</th>\n",
       "      <th>total_ratings_count</th>\n",
       "      <th>avg_rating</th>\n",
       "      <th>total_net_rating</th>\n",
       "      <th>avg_net_rating</th>\n",
       "    </tr>\n",
       "  </thead>\n",
       "  <tbody>\n",
       "    <tr>\n",
       "      <th>163</th>\n",
       "      <td>318</td>\n",
       "      <td>Shawshank Redemption, The (1994)</td>\n",
       "      <td>26068</td>\n",
       "      <td>8.68</td>\n",
       "      <td>26367.0</td>\n",
       "      <td>1.01</td>\n",
       "    </tr>\n",
       "    <tr>\n",
       "      <th>1330</th>\n",
       "      <td>2959</td>\n",
       "      <td>Fight Club (1999)</td>\n",
       "      <td>23995</td>\n",
       "      <td>8.46</td>\n",
       "      <td>19452.0</td>\n",
       "      <td>0.81</td>\n",
       "    </tr>\n",
       "    <tr>\n",
       "      <th>4019</th>\n",
       "      <td>79132</td>\n",
       "      <td>Inception (2010)</td>\n",
       "      <td>27533</td>\n",
       "      <td>8.30</td>\n",
       "      <td>17802.0</td>\n",
       "      <td>0.65</td>\n",
       "    </tr>\n",
       "    <tr>\n",
       "      <th>152</th>\n",
       "      <td>296</td>\n",
       "      <td>Pulp Fiction (1994)</td>\n",
       "      <td>20597</td>\n",
       "      <td>8.46</td>\n",
       "      <td>17555.0</td>\n",
       "      <td>0.85</td>\n",
       "    </tr>\n",
       "    <tr>\n",
       "      <th>1171</th>\n",
       "      <td>2571</td>\n",
       "      <td>Matrix, The (1999)</td>\n",
       "      <td>28298</td>\n",
       "      <td>8.20</td>\n",
       "      <td>15341.0</td>\n",
       "      <td>0.54</td>\n",
       "    </tr>\n",
       "    <tr>\n",
       "      <th>3547</th>\n",
       "      <td>58559</td>\n",
       "      <td>Dark Knight, The (2008)</td>\n",
       "      <td>24350</td>\n",
       "      <td>8.25</td>\n",
       "      <td>15207.0</td>\n",
       "      <td>0.62</td>\n",
       "    </tr>\n",
       "    <tr>\n",
       "      <th>184</th>\n",
       "      <td>356</td>\n",
       "      <td>Forrest Gump (1994)</td>\n",
       "      <td>23341</td>\n",
       "      <td>8.19</td>\n",
       "      <td>14115.0</td>\n",
       "      <td>0.60</td>\n",
       "    </tr>\n",
       "    <tr>\n",
       "      <th>369</th>\n",
       "      <td>858</td>\n",
       "      <td>Godfather, The (1972)</td>\n",
       "      <td>16353</td>\n",
       "      <td>8.46</td>\n",
       "      <td>13930.0</td>\n",
       "      <td>0.85</td>\n",
       "    </tr>\n",
       "    <tr>\n",
       "      <th>4833</th>\n",
       "      <td>109487</td>\n",
       "      <td>Interstellar (2014)</td>\n",
       "      <td>21814</td>\n",
       "      <td>8.20</td>\n",
       "      <td>12493.0</td>\n",
       "      <td>0.57</td>\n",
       "    </tr>\n",
       "    <tr>\n",
       "      <th>1987</th>\n",
       "      <td>4993</td>\n",
       "      <td>Lord of the Rings: The Fellowship of the Ring,...</td>\n",
       "      <td>23284</td>\n",
       "      <td>8.04</td>\n",
       "      <td>10759.0</td>\n",
       "      <td>0.46</td>\n",
       "    </tr>\n",
       "  </tbody>\n",
       "</table>\n",
       "</div>"
      ],
      "text/plain": [
       "      movieId                                              title  \\\n",
       "163       318                   Shawshank Redemption, The (1994)   \n",
       "1330     2959                                  Fight Club (1999)   \n",
       "4019    79132                                   Inception (2010)   \n",
       "152       296                                Pulp Fiction (1994)   \n",
       "1171     2571                                 Matrix, The (1999)   \n",
       "3547    58559                            Dark Knight, The (2008)   \n",
       "184       356                                Forrest Gump (1994)   \n",
       "369       858                              Godfather, The (1972)   \n",
       "4833   109487                                Interstellar (2014)   \n",
       "1987     4993  Lord of the Rings: The Fellowship of the Ring,...   \n",
       "\n",
       "      total_ratings_count  avg_rating  total_net_rating  avg_net_rating  \n",
       "163                 26068        8.68           26367.0            1.01  \n",
       "1330                23995        8.46           19452.0            0.81  \n",
       "4019                27533        8.30           17802.0            0.65  \n",
       "152                 20597        8.46           17555.0            0.85  \n",
       "1171                28298        8.20           15341.0            0.54  \n",
       "3547                24350        8.25           15207.0            0.62  \n",
       "184                 23341        8.19           14115.0            0.60  \n",
       "369                 16353        8.46           13930.0            0.85  \n",
       "4833                21814        8.20           12493.0            0.57  \n",
       "1987                23284        8.04           10759.0            0.46  "
      ]
     },
     "execution_count": 107,
     "metadata": {},
     "output_type": "execute_result"
    }
   ],
   "source": [
    "# Top 10 - based on total net rating\n",
    "df_summary_movies.sort_values('total_net_rating', ascending = False).head(10)"
   ]
  },
  {
   "cell_type": "code",
   "execution_count": 108,
   "id": "9298e86a",
   "metadata": {},
   "outputs": [
    {
     "data": {
      "text/html": [
       "<div>\n",
       "<style scoped>\n",
       "    .dataframe tbody tr th:only-of-type {\n",
       "        vertical-align: middle;\n",
       "    }\n",
       "\n",
       "    .dataframe tbody tr th {\n",
       "        vertical-align: top;\n",
       "    }\n",
       "\n",
       "    .dataframe thead th {\n",
       "        text-align: right;\n",
       "    }\n",
       "</style>\n",
       "<table border=\"1\" class=\"dataframe\">\n",
       "  <thead>\n",
       "    <tr style=\"text-align: right;\">\n",
       "      <th></th>\n",
       "      <th>movieId</th>\n",
       "      <th>title</th>\n",
       "      <th>total_ratings_count</th>\n",
       "      <th>avg_rating</th>\n",
       "      <th>total_net_rating</th>\n",
       "      <th>avg_net_rating</th>\n",
       "    </tr>\n",
       "  </thead>\n",
       "  <tbody>\n",
       "    <tr>\n",
       "      <th>5521</th>\n",
       "      <td>159817</td>\n",
       "      <td>Planet Earth (2006)</td>\n",
       "      <td>1736</td>\n",
       "      <td>8.93</td>\n",
       "      <td>2951.0</td>\n",
       "      <td>1.70</td>\n",
       "    </tr>\n",
       "    <tr>\n",
       "      <th>5699</th>\n",
       "      <td>171011</td>\n",
       "      <td>Planet Earth II (2016)</td>\n",
       "      <td>1118</td>\n",
       "      <td>8.96</td>\n",
       "      <td>1892.0</td>\n",
       "      <td>1.69</td>\n",
       "    </tr>\n",
       "    <tr>\n",
       "      <th>5688</th>\n",
       "      <td>170705</td>\n",
       "      <td>Band of Brothers (2001)</td>\n",
       "      <td>1346</td>\n",
       "      <td>8.79</td>\n",
       "      <td>2176.0</td>\n",
       "      <td>1.62</td>\n",
       "    </tr>\n",
       "    <tr>\n",
       "      <th>5702</th>\n",
       "      <td>171495</td>\n",
       "      <td>Cosmos</td>\n",
       "      <td>276</td>\n",
       "      <td>8.65</td>\n",
       "      <td>440.0</td>\n",
       "      <td>1.59</td>\n",
       "    </tr>\n",
       "    <tr>\n",
       "      <th>5989</th>\n",
       "      <td>198185</td>\n",
       "      <td>Twin Peaks (1989)</td>\n",
       "      <td>287</td>\n",
       "      <td>8.56</td>\n",
       "      <td>425.0</td>\n",
       "      <td>1.48</td>\n",
       "    </tr>\n",
       "    <tr>\n",
       "      <th>4385</th>\n",
       "      <td>92475</td>\n",
       "      <td>All Watched Over by Machines of Loving Grace (...</td>\n",
       "      <td>105</td>\n",
       "      <td>8.30</td>\n",
       "      <td>153.0</td>\n",
       "      <td>1.46</td>\n",
       "    </tr>\n",
       "    <tr>\n",
       "      <th>5522</th>\n",
       "      <td>159819</td>\n",
       "      <td>Life (2009)</td>\n",
       "      <td>229</td>\n",
       "      <td>8.47</td>\n",
       "      <td>332.0</td>\n",
       "      <td>1.45</td>\n",
       "    </tr>\n",
       "    <tr>\n",
       "      <th>2792</th>\n",
       "      <td>26082</td>\n",
       "      <td>Harakiri (Seppuku) (1962)</td>\n",
       "      <td>378</td>\n",
       "      <td>8.45</td>\n",
       "      <td>542.0</td>\n",
       "      <td>1.43</td>\n",
       "    </tr>\n",
       "    <tr>\n",
       "      <th>5788</th>\n",
       "      <td>179173</td>\n",
       "      <td>Rabbit of Seville (1950)</td>\n",
       "      <td>104</td>\n",
       "      <td>8.34</td>\n",
       "      <td>149.0</td>\n",
       "      <td>1.43</td>\n",
       "    </tr>\n",
       "    <tr>\n",
       "      <th>2614</th>\n",
       "      <td>7926</td>\n",
       "      <td>High and Low (Tengoku to jigoku) (1963)</td>\n",
       "      <td>262</td>\n",
       "      <td>8.43</td>\n",
       "      <td>372.0</td>\n",
       "      <td>1.42</td>\n",
       "    </tr>\n",
       "  </tbody>\n",
       "</table>\n",
       "</div>"
      ],
      "text/plain": [
       "      movieId                                              title  \\\n",
       "5521   159817                                Planet Earth (2006)   \n",
       "5699   171011                             Planet Earth II (2016)   \n",
       "5688   170705                            Band of Brothers (2001)   \n",
       "5702   171495                                             Cosmos   \n",
       "5989   198185                                  Twin Peaks (1989)   \n",
       "4385    92475  All Watched Over by Machines of Loving Grace (...   \n",
       "5522   159819                                        Life (2009)   \n",
       "2792    26082                          Harakiri (Seppuku) (1962)   \n",
       "5788   179173                           Rabbit of Seville (1950)   \n",
       "2614     7926            High and Low (Tengoku to jigoku) (1963)   \n",
       "\n",
       "      total_ratings_count  avg_rating  total_net_rating  avg_net_rating  \n",
       "5521                 1736        8.93            2951.0            1.70  \n",
       "5699                 1118        8.96            1892.0            1.69  \n",
       "5688                 1346        8.79            2176.0            1.62  \n",
       "5702                  276        8.65             440.0            1.59  \n",
       "5989                  287        8.56             425.0            1.48  \n",
       "4385                  105        8.30             153.0            1.46  \n",
       "5522                  229        8.47             332.0            1.45  \n",
       "2792                  378        8.45             542.0            1.43  \n",
       "5788                  104        8.34             149.0            1.43  \n",
       "2614                  262        8.43             372.0            1.42  "
      ]
     },
     "execution_count": 108,
     "metadata": {},
     "output_type": "execute_result"
    }
   ],
   "source": [
    "# Top 10 - based on average net rating\n",
    "df_summary_movies.sort_values('avg_net_rating', ascending = False).head(10)"
   ]
  },
  {
   "cell_type": "markdown",
   "id": "31d76d3b",
   "metadata": {},
   "source": [
    "##### Summary / Findings:\n",
    "*Below are the metrics I've put into `df_summary_movies` and what they represent.\n",
    "- Count of ratings\n",
    "    - The number of unique ratings given by users for each movie. \n",
    "- Average rating\n",
    "    - The average of unique ratings given by users for each movie. \n",
    "- Total net rating\n",
    "    - The sum of net rating (`rating_net_user_mean` column, created earlier) for each movie. \n",
    "- Average net rating \n",
    "    - Essentially this is the calculated by taking the Total net rating / Count of ratings (both described above here).\n",
    "    \n",
    "*Thoughts on above metrics:*\n",
    "- My favourite metric from the above is the `Total net rating`. As it considers the volume of ratings as well as the favourability of the net rating (i.e. each user's rating less each user's average rating). \n",
    "    - It is similar to the `Count of ratings`, where the volume of ratings has an influence on the ranking. Unlike the `Count of ratings`, for `Total net rating` it is not enough to have a high volume of ratings, the ratings overall would also need to be above the users' average ratings in order for it to help the movie rank more favourably. If the ratings overall are below the users' average ratings, this would rank the movie unfavourably. \n",
    "    - `Average rating` and `Average net rating` do not take into account the volume of ratings. It is less helpful for ranking movies as we are comparing average-type ratings with potentially drastically different volume of ratings (i.e. sample size). Smaller sample sizes have a higher risk of being not representative of the population. To demonstrate, the most-rated movie, The Matrix (1999) has been rated ~28K, whereas some movies have only been rated 100 times (on the lower end).\n",
    "\n",
    "*Note, there are at least 100 ratings for each movie as that was a threshold we placed on `df_ratings` above.*"
   ]
  },
  {
   "cell_type": "markdown",
   "id": "b7c032a0",
   "metadata": {},
   "source": [
    "### Create List of Popular movies"
   ]
  },
  {
   "cell_type": "markdown",
   "id": "bf4538eb",
   "metadata": {},
   "source": [
    "Based on the analysis above, I have created a list of the 50 most \"popular\" movies using the `Total_net_rating` metric. I will export this list at the end of this notebook for the 03_Recommendations notebook."
   ]
  },
  {
   "cell_type": "code",
   "execution_count": 109,
   "id": "8e304804",
   "metadata": {},
   "outputs": [],
   "source": [
    "# Top 50 - based on total net rating\n",
    "df_top_50_popular_movies = df_summary_movies.sort_values('total_net_rating', ascending = False).head(50)"
   ]
  },
  {
   "cell_type": "markdown",
   "id": "c8a042d5",
   "metadata": {},
   "source": [
    "##### Summary / Findings:\n",
    "- I have created a dataframe (`df_top_50_popular_movies`) of the top 50 movies based on `total_net_rating`.\n",
    "- I will export this dataframe to use in the 03_Recommendations notebook."
   ]
  },
  {
   "cell_type": "markdown",
   "id": "707e1ba6",
   "metadata": {},
   "source": [
    "# Section 3 - Tags-based recommendation"
   ]
  },
  {
   "cell_type": "markdown",
   "id": "f1422e80",
   "metadata": {},
   "source": [
    "I plan to build a *content-based* recommender system. *Content-based* recommender systems can make recommendations if we know that a user likes a particular movie. </br>\n",
    "</br>\n",
    "Specifically, I will use the user-generated tags (`df_tags`) in the MovieLens dataset to do so. I will compile the tags for each movie and perform NLP techniques on the tags. Based on the tags for a particular movie that a particular user likes, this model will provide recommendations based on the similarity of tags with other movies. </br>\n",
    "</br>\n",
    "Thus, I will begin with examining the `df_tags` dataframe."
   ]
  },
  {
   "cell_type": "markdown",
   "id": "7c10d1b9",
   "metadata": {},
   "source": [
    "# Explore Data - `df_tags`"
   ]
  },
  {
   "cell_type": "code",
   "execution_count": 110,
   "id": "b048a39b",
   "metadata": {},
   "outputs": [
    {
     "data": {
      "text/html": [
       "<div>\n",
       "<style scoped>\n",
       "    .dataframe tbody tr th:only-of-type {\n",
       "        vertical-align: middle;\n",
       "    }\n",
       "\n",
       "    .dataframe tbody tr th {\n",
       "        vertical-align: top;\n",
       "    }\n",
       "\n",
       "    .dataframe thead th {\n",
       "        text-align: right;\n",
       "    }\n",
       "</style>\n",
       "<table border=\"1\" class=\"dataframe\">\n",
       "  <thead>\n",
       "    <tr style=\"text-align: right;\">\n",
       "      <th></th>\n",
       "      <th>userId</th>\n",
       "      <th>movieId</th>\n",
       "      <th>tag</th>\n",
       "      <th>timestamp</th>\n",
       "    </tr>\n",
       "  </thead>\n",
       "  <tbody>\n",
       "    <tr>\n",
       "      <th>0</th>\n",
       "      <td>3</td>\n",
       "      <td>260</td>\n",
       "      <td>classic</td>\n",
       "      <td>1439472355</td>\n",
       "    </tr>\n",
       "    <tr>\n",
       "      <th>1</th>\n",
       "      <td>3</td>\n",
       "      <td>260</td>\n",
       "      <td>sci-fi</td>\n",
       "      <td>1439472256</td>\n",
       "    </tr>\n",
       "    <tr>\n",
       "      <th>2</th>\n",
       "      <td>4</td>\n",
       "      <td>1732</td>\n",
       "      <td>dark comedy</td>\n",
       "      <td>1573943598</td>\n",
       "    </tr>\n",
       "    <tr>\n",
       "      <th>3</th>\n",
       "      <td>4</td>\n",
       "      <td>1732</td>\n",
       "      <td>great dialogue</td>\n",
       "      <td>1573943604</td>\n",
       "    </tr>\n",
       "    <tr>\n",
       "      <th>4</th>\n",
       "      <td>4</td>\n",
       "      <td>7569</td>\n",
       "      <td>so bad it's good</td>\n",
       "      <td>1573943455</td>\n",
       "    </tr>\n",
       "  </tbody>\n",
       "</table>\n",
       "</div>"
      ],
      "text/plain": [
       "   userId  movieId               tag   timestamp\n",
       "0       3      260           classic  1439472355\n",
       "1       3      260            sci-fi  1439472256\n",
       "2       4     1732       dark comedy  1573943598\n",
       "3       4     1732    great dialogue  1573943604\n",
       "4       4     7569  so bad it's good  1573943455"
      ]
     },
     "execution_count": 110,
     "metadata": {},
     "output_type": "execute_result"
    }
   ],
   "source": [
    "# Visualize \n",
    "df_tags.head()"
   ]
  },
  {
   "cell_type": "code",
   "execution_count": 111,
   "id": "db5e504b",
   "metadata": {},
   "outputs": [
    {
     "data": {
      "text/plain": [
       "(1093360, 4)"
      ]
     },
     "execution_count": 111,
     "metadata": {},
     "output_type": "execute_result"
    }
   ],
   "source": [
    "# Get Shape of Data Frame\n",
    "df_tags.shape"
   ]
  },
  {
   "cell_type": "code",
   "execution_count": 112,
   "id": "98b96c9e",
   "metadata": {},
   "outputs": [
    {
     "data": {
      "text/plain": [
       "userId        0\n",
       "movieId       0\n",
       "tag          16\n",
       "timestamp     0\n",
       "dtype: int64"
      ]
     },
     "execution_count": 112,
     "metadata": {},
     "output_type": "execute_result"
    }
   ],
   "source": [
    "# Check for missing data\n",
    "df_tags.isna().sum()"
   ]
  },
  {
   "cell_type": "markdown",
   "id": "563a8cf7",
   "metadata": {},
   "source": [
    "There are 16 rows with missing `tag` data, as it represents an insignificant portion of the `df_tags` dataset, I will drop these rows."
   ]
  },
  {
   "cell_type": "code",
   "execution_count": 113,
   "id": "793dd721",
   "metadata": {},
   "outputs": [],
   "source": [
    "# Drop rows with missing data\n",
    "df_tags.dropna(axis=0, inplace=True)"
   ]
  },
  {
   "cell_type": "code",
   "execution_count": 114,
   "id": "527b7255",
   "metadata": {},
   "outputs": [
    {
     "data": {
      "text/plain": [
       "(1093344, 4)"
      ]
     },
     "execution_count": 114,
     "metadata": {},
     "output_type": "execute_result"
    }
   ],
   "source": [
    "# Get Shape of Data Frame\n",
    "df_tags.shape"
   ]
  },
  {
   "cell_type": "code",
   "execution_count": 115,
   "id": "accebf7b",
   "metadata": {},
   "outputs": [
    {
     "data": {
      "text/plain": [
       "userId       0\n",
       "movieId      0\n",
       "tag          0\n",
       "timestamp    0\n",
       "dtype: int64"
      ]
     },
     "execution_count": 115,
     "metadata": {},
     "output_type": "execute_result"
    }
   ],
   "source": [
    "# Check for missing data - after dropping rows\n",
    "df_tags.isna().sum()"
   ]
  },
  {
   "cell_type": "code",
   "execution_count": 116,
   "id": "eb223080",
   "metadata": {},
   "outputs": [
    {
     "data": {
      "text/plain": [
       "0"
      ]
     },
     "execution_count": 116,
     "metadata": {},
     "output_type": "execute_result"
    }
   ],
   "source": [
    "# Check for duplicated rows\n",
    "df_tags.duplicated().sum()"
   ]
  },
  {
   "cell_type": "markdown",
   "id": "cbf368a5",
   "metadata": {},
   "source": [
    "##### Summary / Findings:\n",
    "- There are about ~1.1 million tags in `df_tags`\n",
    "- I dropped the 16 rows which were missing tags data, which is an insignificant portion of `df_tags`.\n",
    "- There are no duplicated rows"
   ]
  },
  {
   "cell_type": "markdown",
   "id": "68f4342c",
   "metadata": {},
   "source": [
    "### Create `df_tags_of_movies` DataFrame"
   ]
  },
  {
   "cell_type": "markdown",
   "id": "1b78d382",
   "metadata": {},
   "source": [
    "Currently in `df_tags`, each line is one tag applied to one movie by one user. In order to look at these tags in aggregate, I will want to group the tags by movie. In essence, I want a dataframe that has in rows the unique movies, and all the tags corresponding to each movie in a column."
   ]
  },
  {
   "cell_type": "code",
   "execution_count": 117,
   "id": "965d77c4",
   "metadata": {},
   "outputs": [],
   "source": [
    "# Create Dataframe\n",
    "df_tags_of_movies = pd.DataFrame()\n",
    "\n",
    "# Group by Movie ID, put all tags in a list of strings for each movie ID\n",
    "df_tags_of_movies = df_tags.groupby('movieId')['tag'].apply(list)\n",
    "\n",
    "# Reset Index (i.e. create column with Movie IDs)\n",
    "df_tags_of_movies = df_tags_of_movies.reset_index()\n",
    "\n",
    "# Change tag column to string (instead of a list)\n",
    "df_tags_of_movies['tag'] = df_tags_of_movies['tag'].astype(str)"
   ]
  },
  {
   "cell_type": "code",
   "execution_count": 118,
   "id": "a7d05e99",
   "metadata": {},
   "outputs": [],
   "source": [
    "# Remove Square brackets, quotes, commas \n",
    "    # As if all tags for each movie were literally copied back to back (with spaces) \n",
    "\n",
    "# Remove Square Brackets\n",
    "df_tags_of_movies['tag'] = df_tags_of_movies['tag'].str[1:-1]\n",
    "\n",
    "# Remove single quotes\n",
    "df_tags_of_movies['tag'] = df_tags_of_movies['tag'].str.replace(\"'\", \" \")\n",
    "\n",
    "# Remove commas\n",
    "df_tags_of_movies['tag'] = df_tags_of_movies['tag'].str.replace(\",\", \" \")"
   ]
  },
  {
   "cell_type": "code",
   "execution_count": 119,
   "id": "5b44ba67",
   "metadata": {},
   "outputs": [],
   "source": [
    "# Sort by movie ID (ascending - smallest to largest)\n",
    "df_tags_of_movies = df_tags_of_movies.sort_values('movieId')"
   ]
  },
  {
   "cell_type": "code",
   "execution_count": 120,
   "id": "22c1d8c0",
   "metadata": {},
   "outputs": [
    {
     "data": {
      "text/html": [
       "<div>\n",
       "<style scoped>\n",
       "    .dataframe tbody tr th:only-of-type {\n",
       "        vertical-align: middle;\n",
       "    }\n",
       "\n",
       "    .dataframe tbody tr th {\n",
       "        vertical-align: top;\n",
       "    }\n",
       "\n",
       "    .dataframe thead th {\n",
       "        text-align: right;\n",
       "    }\n",
       "</style>\n",
       "<table border=\"1\" class=\"dataframe\">\n",
       "  <thead>\n",
       "    <tr style=\"text-align: right;\">\n",
       "      <th></th>\n",
       "      <th>movieId</th>\n",
       "      <th>tag</th>\n",
       "    </tr>\n",
       "  </thead>\n",
       "  <tbody>\n",
       "    <tr>\n",
       "      <th>0</th>\n",
       "      <td>1</td>\n",
       "      <td>Owned    imdb top 250    Pixar    Pixar    ti...</td>\n",
       "    </tr>\n",
       "    <tr>\n",
       "      <th>1</th>\n",
       "      <td>2</td>\n",
       "      <td>Robin Williams    time travel    fantasy   \"b...</td>\n",
       "    </tr>\n",
       "    <tr>\n",
       "      <th>2</th>\n",
       "      <td>3</td>\n",
       "      <td>funny    best friend    duringcreditsstinger ...</td>\n",
       "    </tr>\n",
       "    <tr>\n",
       "      <th>3</th>\n",
       "      <td>4</td>\n",
       "      <td>based on novel or book    chick flick    divo...</td>\n",
       "    </tr>\n",
       "    <tr>\n",
       "      <th>4</th>\n",
       "      <td>5</td>\n",
       "      <td>aging    baby    confidence    contraception ...</td>\n",
       "    </tr>\n",
       "    <tr>\n",
       "      <th>...</th>\n",
       "      <td>...</td>\n",
       "      <td>...</td>\n",
       "    </tr>\n",
       "    <tr>\n",
       "      <th>45246</th>\n",
       "      <td>208813</td>\n",
       "      <td>might like</td>\n",
       "    </tr>\n",
       "    <tr>\n",
       "      <th>45247</th>\n",
       "      <td>208933</td>\n",
       "      <td>black and white    deal with the devil</td>\n",
       "    </tr>\n",
       "    <tr>\n",
       "      <th>45248</th>\n",
       "      <td>209035</td>\n",
       "      <td>computer animation    Japan    mass behavior ...</td>\n",
       "    </tr>\n",
       "    <tr>\n",
       "      <th>45249</th>\n",
       "      <td>209037</td>\n",
       "      <td>chameleon    computer animation    gluttony  ...</td>\n",
       "    </tr>\n",
       "    <tr>\n",
       "      <th>45250</th>\n",
       "      <td>209063</td>\n",
       "      <td>black    education    friends schools    inde...</td>\n",
       "    </tr>\n",
       "  </tbody>\n",
       "</table>\n",
       "<p>45251 rows × 2 columns</p>\n",
       "</div>"
      ],
      "text/plain": [
       "       movieId                                                tag\n",
       "0            1   Owned    imdb top 250    Pixar    Pixar    ti...\n",
       "1            2   Robin Williams    time travel    fantasy   \"b...\n",
       "2            3   funny    best friend    duringcreditsstinger ...\n",
       "3            4   based on novel or book    chick flick    divo...\n",
       "4            5   aging    baby    confidence    contraception ...\n",
       "...        ...                                                ...\n",
       "45246   208813                                        might like \n",
       "45247   208933            black and white    deal with the devil \n",
       "45248   209035   computer animation    Japan    mass behavior ...\n",
       "45249   209037   chameleon    computer animation    gluttony  ...\n",
       "45250   209063   black    education    friends schools    inde...\n",
       "\n",
       "[45251 rows x 2 columns]"
      ]
     },
     "execution_count": 120,
     "metadata": {},
     "output_type": "execute_result"
    }
   ],
   "source": [
    "# Visualize\n",
    "df_tags_of_movies"
   ]
  },
  {
   "cell_type": "markdown",
   "id": "2994f25d",
   "metadata": {},
   "source": [
    "##### Summary / Findings:\n",
    "- `df_tags_of_movies` was successfully created which is `df_tags` grouped by movie (`movieId`), where the tags are aggregated into a string which is stored in the `tag` column."
   ]
  },
  {
   "cell_type": "markdown",
   "id": "e128233f",
   "metadata": {},
   "source": [
    "### Add `count of tags` to `df_tags_of_movies`"
   ]
  },
  {
   "cell_type": "markdown",
   "id": "716e289e",
   "metadata": {},
   "source": [
    "I will add a column to count the number of tags by movie"
   ]
  },
  {
   "cell_type": "code",
   "execution_count": 121,
   "id": "91f9810a",
   "metadata": {},
   "outputs": [],
   "source": [
    "# Count number of tags by movie ID\n",
    "input_df = df_tags.groupby('movieId')['tag'].count().reset_index()\n",
    "\n",
    "# Rename columns\n",
    "input_df.columns = ['movieId', 'count of tags']\n",
    "\n",
    "# Add count of movie tags\n",
    "df_tags_of_movies = pd.merge(left=df_tags_of_movies,    # left table\n",
    "                             right=input_df,            # right table\n",
    "                             how='left',                # left join (i.e. return all records on left table)\n",
    "                             left_on='movieId',         # column to join on left table\n",
    "                             right_on='movieId')        # column to join on right table"
   ]
  },
  {
   "cell_type": "code",
   "execution_count": 122,
   "id": "ac02bcfc",
   "metadata": {},
   "outputs": [
    {
     "data": {
      "text/html": [
       "<div>\n",
       "<style scoped>\n",
       "    .dataframe tbody tr th:only-of-type {\n",
       "        vertical-align: middle;\n",
       "    }\n",
       "\n",
       "    .dataframe tbody tr th {\n",
       "        vertical-align: top;\n",
       "    }\n",
       "\n",
       "    .dataframe thead th {\n",
       "        text-align: right;\n",
       "    }\n",
       "</style>\n",
       "<table border=\"1\" class=\"dataframe\">\n",
       "  <thead>\n",
       "    <tr style=\"text-align: right;\">\n",
       "      <th></th>\n",
       "      <th>movieId</th>\n",
       "      <th>tag</th>\n",
       "      <th>count of tags</th>\n",
       "    </tr>\n",
       "  </thead>\n",
       "  <tbody>\n",
       "    <tr>\n",
       "      <th>0</th>\n",
       "      <td>1</td>\n",
       "      <td>Owned    imdb top 250    Pixar    Pixar    ti...</td>\n",
       "      <td>697</td>\n",
       "    </tr>\n",
       "    <tr>\n",
       "      <th>1</th>\n",
       "      <td>2</td>\n",
       "      <td>Robin Williams    time travel    fantasy   \"b...</td>\n",
       "      <td>180</td>\n",
       "    </tr>\n",
       "    <tr>\n",
       "      <th>2</th>\n",
       "      <td>3</td>\n",
       "      <td>funny    best friend    duringcreditsstinger ...</td>\n",
       "      <td>29</td>\n",
       "    </tr>\n",
       "    <tr>\n",
       "      <th>3</th>\n",
       "      <td>4</td>\n",
       "      <td>based on novel or book    chick flick    divo...</td>\n",
       "      <td>11</td>\n",
       "    </tr>\n",
       "    <tr>\n",
       "      <th>4</th>\n",
       "      <td>5</td>\n",
       "      <td>aging    baby    confidence    contraception ...</td>\n",
       "      <td>24</td>\n",
       "    </tr>\n",
       "  </tbody>\n",
       "</table>\n",
       "</div>"
      ],
      "text/plain": [
       "   movieId                                                tag  count of tags\n",
       "0        1   Owned    imdb top 250    Pixar    Pixar    ti...            697\n",
       "1        2   Robin Williams    time travel    fantasy   \"b...            180\n",
       "2        3   funny    best friend    duringcreditsstinger ...             29\n",
       "3        4   based on novel or book    chick flick    divo...             11\n",
       "4        5   aging    baby    confidence    contraception ...             24"
      ]
     },
     "execution_count": 122,
     "metadata": {},
     "output_type": "execute_result"
    }
   ],
   "source": [
    "# Visualize\n",
    "df_tags_of_movies.head()"
   ]
  },
  {
   "cell_type": "code",
   "execution_count": 123,
   "id": "44878092",
   "metadata": {},
   "outputs": [
    {
     "data": {
      "text/plain": [
       "count    45251.000000\n",
       "mean        24.161764\n",
       "std        107.208231\n",
       "min          1.000000\n",
       "25%          2.000000\n",
       "50%          5.000000\n",
       "75%         13.000000\n",
       "max       6180.000000\n",
       "Name: count of tags, dtype: float64"
      ]
     },
     "execution_count": 123,
     "metadata": {},
     "output_type": "execute_result"
    }
   ],
   "source": [
    "# Look at number statistics around number of tags per movie\n",
    "df_tags_of_movies['count of tags'].describe()"
   ]
  },
  {
   "cell_type": "code",
   "execution_count": 124,
   "id": "eff245d6",
   "metadata": {},
   "outputs": [],
   "source": [
    "# Plot rating by user\n",
    "\n",
    "# Get number of reviews by users (retrieve values for histogram)\n",
    "visual_input = df_tags_of_movies['count of tags'].values\n",
    "\n",
    "# Filter out values that are above 13 (Exclude top 25% of users, keep 75% in visualization)\n",
    "visual_input = visual_input[visual_input <= 13]"
   ]
  },
  {
   "cell_type": "code",
   "execution_count": 125,
   "id": "125caaba",
   "metadata": {},
   "outputs": [
    {
     "data": {
      "image/png": "[encoded data removed]",
      "text/plain": [
       "<Figure size 864x576 with 1 Axes>"
      ]
     },
     "metadata": {
      "needs_background": "light"
     },
     "output_type": "display_data"
    }
   ],
   "source": [
    "plt.figure(figsize=(12,8))\n",
    "\n",
    "# Plot histogram\n",
    "plt.hist(visual_input, bins=25) \n",
    "\n",
    "# Titles and Axes\n",
    "plt.title('Distribution of Number of Tags by Movie')\n",
    "plt.xlabel('Number of Tags per Movie')\n",
    "plt.ylabel('Frequency (Count) of Movies')\n",
    "\n",
    "plt.show()"
   ]
  },
  {
   "cell_type": "markdown",
   "id": "50dcc407",
   "metadata": {},
   "source": [
    "##### Summary / Findings:\n",
    "- `count of tags` column was added to `df_tags_of_movies`.\n",
    "    - The minimum tags per movie is 1, which could be insufficient. I will need to consider setting a minimum tags per movie threshold to reduce the risk that there could be insufficient tags to depict / typify some movies.\n",
    "    - The median number of tags per movie is 5, which means ~ 50% of the ~45K movies have 5 or less ratings\n",
    "- For the visualization, I excluded the top 25% of movies with the highest number of tags. \n",
    "    - I did this to keep the visualization compact as the top 25% of movies were sparse when it came to number of tags (ranging from 13 to ~6K tags).\n",
    "- Overall, this distribution is right skewed (i.e. tail on the right side), which was consistent with the statistical metrics we saw above."
   ]
  },
  {
   "cell_type": "markdown",
   "id": "dde6ec76",
   "metadata": {},
   "source": [
    "### Filter out movies with insufficient tags"
   ]
  },
  {
   "cell_type": "markdown",
   "id": "92fe384b",
   "metadata": {},
   "source": [
    "The computation power needed for cosine similarity (for *content-based* recommender system) is less than Funk SVD (for *collaborative-based* recommender system), I will aim to set a threshold of tags that will keep the most amount of data while reducing the risk of insufficient data (to depict / typify some movies). </br>\n",
    "</br>\n",
    "I will keep movies with at least 5 user tags, as this will allow me to keep more than half of the data while reducing the risks discussed above.  "
   ]
  },
  {
   "cell_type": "code",
   "execution_count": 126,
   "id": "cdc46de3",
   "metadata": {},
   "outputs": [
    {
     "name": "stdout",
     "output_type": "stream",
     "text": [
      "After keeping movies with at least 5 user tags, there are 24,478 unique movies left in the DataFrame.\n"
     ]
    }
   ],
   "source": [
    "# Keep only those with a certain threshold of user tags\n",
    "\n",
    "# Number of minimum user tags\n",
    "count_tags_threshold = 5\n",
    "\n",
    "# Update DataFrame\n",
    "df_tags_of_movies = df_tags_of_movies[df_tags_of_movies['count of tags'] >= count_tags_threshold].copy()\n",
    "\n",
    "# Print New number of unique movies in DataFrame\n",
    "print(f\"After keeping movies with at least {count_tags_threshold} user tags, there are {df_tags_of_movies.shape[0]:,} unique movies left in the DataFrame.\")"
   ]
  },
  {
   "cell_type": "markdown",
   "id": "cc46b661",
   "metadata": {},
   "source": [
    "### Add title and genre info to `df_tags_of_movies`"
   ]
  },
  {
   "cell_type": "markdown",
   "id": "7bfc5dba",
   "metadata": {},
   "source": [
    "Adding title and genre information from `df_movies` to this `df_tags_of_movies`. This step was intentionally performed after the above filtering to reduce the computation needed."
   ]
  },
  {
   "cell_type": "code",
   "execution_count": 127,
   "id": "791399d0",
   "metadata": {},
   "outputs": [],
   "source": [
    "# Add title and genre to df_tags_of_movies\n",
    "df_tags_of_movies = pd.merge(left=df_tags_of_movies,               # left table\n",
    "                             right=df_movies,                      # right table\n",
    "                             how='left',                           # left join (i.e. return all records on left table)\n",
    "                             left_on='movieId',                    # column to join on left table\n",
    "                             right_on='movieId')                   # column to join on right table"
   ]
  },
  {
   "cell_type": "markdown",
   "id": "b8b3a35c",
   "metadata": {},
   "source": [
    "##### Summary / Findings:\n",
    "- `df_tags_of_movies` now ready for export, I will export this dataframe below to use in the 02_Models notebook."
   ]
  },
  {
   "cell_type": "markdown",
   "id": "a56b725f",
   "metadata": {},
   "source": [
    "# Section 4 - Export to CSV / NPZ"
   ]
  },
  {
   "cell_type": "markdown",
   "id": "9bd0344c",
   "metadata": {},
   "source": [
    "In this section, I will export the files for the other notebooks in my submission."
   ]
  },
  {
   "cell_type": "markdown",
   "id": "5e5f407e",
   "metadata": {},
   "source": [
    "I have changed the below code to markdown format. I made this change so that I would not constantly re-write these files when rerunning this notebook."
   ]
  },
  {
   "cell_type": "markdown",
   "id": "c47ca569",
   "metadata": {},
   "source": [
    "*Files used in **02_Models** notebook*"
   ]
  },
  {
   "cell_type": "markdown",
   "id": "48d6aca4",
   "metadata": {},
   "source": [
    "**From Section 1:**"
   ]
  },
  {
   "cell_type": "markdown",
   "id": "9c6d9ee3",
   "metadata": {},
   "source": [
    "```python\n",
    "# Export - Funk SVD Training Data\n",
    "df_train_ratings.to_csv('DT_files/DT_df_rating_train.csv')\n",
    "\n",
    "# Export - Funk SVD Test Data\n",
    "df_test_ratings.to_csv('DT_files/DT_df_rating_test.csv')\n",
    "\n",
    "# Export - Funk SVD Full Data (`df_ratings`)\n",
    "df_ratings.to_csv('DT_files/DT_df_ratings.csv')\n",
    "\n",
    "```"
   ]
  },
  {
   "cell_type": "markdown",
   "id": "ac5a2c06",
   "metadata": {},
   "source": [
    "**From Section 3:**"
   ]
  },
  {
   "cell_type": "markdown",
   "id": "b6387689",
   "metadata": {},
   "source": [
    "```python\n",
    "# Export - Tags of Movies DataFrame\n",
    "df_tags_of_movies.to_csv('DT_files/DT_df_tags_of_movies.csv')\n",
    "\n",
    "```"
   ]
  },
  {
   "cell_type": "markdown",
   "id": "2556c625",
   "metadata": {},
   "source": [
    "*Files used in **03_Recommendations** notebook*"
   ]
  },
  {
   "cell_type": "markdown",
   "id": "62f7e490",
   "metadata": {},
   "source": [
    "**From Section 2:**"
   ]
  },
  {
   "cell_type": "markdown",
   "id": "6522aa43",
   "metadata": {},
   "source": [
    "```python\n",
    "# Export - Top 50 popular movies \n",
    "df_top_50_popular_movies.to_csv('DT_files/DT_df_top_50_popular_movies.csv')\n",
    "\n",
    "```"
   ]
  },
  {
   "cell_type": "code",
   "execution_count": null,
   "id": "dcb2a12b",
   "metadata": {},
   "outputs": [],
   "source": []
  }
 ],
 "metadata": {
  "kernelspec": {
   "display_name": "Python 3 (ipykernel)",
   "language": "python",
   "name": "python3"
  },
  "language_info": {
   "codemirror_mode": {
    "name": "ipython",
    "version": 3
   },
   "file_extension": ".py",
   "mimetype": "text/x-python",
   "name": "python",
   "nbconvert_exporter": "python",
   "pygments_lexer": "ipython3",
   "version": "3.10.4"
  }
 },
 "nbformat": 4,
 "nbformat_minor": 5
}
