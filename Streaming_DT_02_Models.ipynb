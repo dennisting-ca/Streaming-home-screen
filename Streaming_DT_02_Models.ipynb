{
 "cells": [
  {
   "cell_type": "markdown",
   "id": "a3f54177",
   "metadata": {},
   "source": [
    "# Dennis Ting - Streaming Service Home Screen\n",
    "# Movie Recommender System - 02_Models"
   ]
  },
  {
   "cell_type": "markdown",
   "id": "4fcef80c",
   "metadata": {},
   "source": [
    "**Purpose:** The main purpose of this notebook (02_Models) is to train the various models using the data prepared in the EDA notebook (01_EDA) and assess their performances. "
   ]
  },
  {
   "cell_type": "markdown",
   "id": "4b9c00ca",
   "metadata": {},
   "source": [
    "Please read this notebook in conjunction with my report, and my other notebooks (see report for full outline)."
   ]
  },
  {
   "cell_type": "markdown",
   "id": "e7e9e864",
   "metadata": {},
   "source": [
    "# Section 0 - Import & Functions"
   ]
  },
  {
   "cell_type": "markdown",
   "id": "5bc0cec9",
   "metadata": {},
   "source": [
    "## Import Libraries and Packages"
   ]
  },
  {
   "cell_type": "code",
   "execution_count": 1,
   "id": "1a73c9a0",
   "metadata": {},
   "outputs": [],
   "source": [
    "# Import Common Data Science Libraries\n",
    "import numpy as np\n",
    "import pandas as pd\n",
    "import matplotlib.pyplot as plt"
   ]
  },
  {
   "cell_type": "code",
   "execution_count": 2,
   "id": "06388cb6",
   "metadata": {},
   "outputs": [],
   "source": [
    "# Libraries for Learning\n",
    "from scipy import sparse\n",
    "from surprise import Dataset\n",
    "from surprise.reader import Reader\n",
    "from surprise.prediction_algorithms.baseline_only import BaselineOnly\n",
    "from surprise.prediction_algorithms.matrix_factorization import SVD, SVDpp\n",
    "from surprise.model_selection import GridSearchCV"
   ]
  },
  {
   "cell_type": "code",
   "execution_count": 3,
   "id": "3e4c07c8",
   "metadata": {},
   "outputs": [],
   "source": [
    "# Libraries for metrics\n",
    "from surprise import accuracy\n",
    "from sklearn.metrics import confusion_matrix, classification_report, precision_score, recall_score, f1_score"
   ]
  },
  {
   "cell_type": "code",
   "execution_count": 4,
   "id": "5a9b9127",
   "metadata": {},
   "outputs": [],
   "source": [
    "# Libraries for Tags NLP\n",
    "from sklearn.feature_extraction.text import TfidfVectorizer\n",
    "from sklearn.metrics.pairwise import cosine_similarity"
   ]
  },
  {
   "cell_type": "code",
   "execution_count": 5,
   "id": "a5e889b6",
   "metadata": {},
   "outputs": [],
   "source": [
    "# Import Joblib to pickle models\n",
    "import joblib"
   ]
  },
  {
   "cell_type": "markdown",
   "id": "44098c85",
   "metadata": {},
   "source": [
    "## Import  Data"
   ]
  },
  {
   "cell_type": "code",
   "execution_count": 6,
   "id": "428955d1",
   "metadata": {},
   "outputs": [],
   "source": [
    "# Import Data from 01_EDA\n",
    "df_train_ratings = pd.read_csv('DT_files/DT_df_rating_train.csv', index_col = 0)\n",
    "df_test_ratings = pd.read_csv('DT_files/DT_df_rating_test.csv', index_col = 0)\n",
    "df_tags_of_movies = pd.read_csv('DT_files/DT_df_tags_of_movies.csv', index_col = 0)\n",
    "df_ratings = pd.read_csv('DT_files/DT_df_ratings.csv', index_col = 0)"
   ]
  },
  {
   "cell_type": "code",
   "execution_count": 7,
   "id": "2209d4e2",
   "metadata": {},
   "outputs": [],
   "source": [
    "# Import MovieLens Data\n",
    "df_movies = pd.read_csv('data/movies.csv')"
   ]
  },
  {
   "cell_type": "markdown",
   "id": "3e7cc162",
   "metadata": {},
   "source": [
    "## Quick Inspection of data being imported"
   ]
  },
  {
   "cell_type": "markdown",
   "id": "367d9c55",
   "metadata": {},
   "source": [
    "*`df_train_ratings`*"
   ]
  },
  {
   "cell_type": "code",
   "execution_count": 8,
   "id": "9280507f",
   "metadata": {},
   "outputs": [
    {
     "data": {
      "text/plain": [
       "(6558566, 5)"
      ]
     },
     "execution_count": 8,
     "metadata": {},
     "output_type": "execute_result"
    }
   ],
   "source": [
    "# Check shape\n",
    "df_train_ratings.shape"
   ]
  },
  {
   "cell_type": "code",
   "execution_count": 9,
   "id": "ca25bcee",
   "metadata": {},
   "outputs": [
    {
     "data": {
      "text/html": [
       "<div>\n",
       "<style scoped>\n",
       "    .dataframe tbody tr th:only-of-type {\n",
       "        vertical-align: middle;\n",
       "    }\n",
       "\n",
       "    .dataframe tbody tr th {\n",
       "        vertical-align: top;\n",
       "    }\n",
       "\n",
       "    .dataframe thead th {\n",
       "        text-align: right;\n",
       "    }\n",
       "</style>\n",
       "<table border=\"1\" class=\"dataframe\">\n",
       "  <thead>\n",
       "    <tr style=\"text-align: right;\">\n",
       "      <th></th>\n",
       "      <th>userId</th>\n",
       "      <th>movieId</th>\n",
       "      <th>rating</th>\n",
       "      <th>timestamp</th>\n",
       "      <th>rating_net_user_mean</th>\n",
       "    </tr>\n",
       "  </thead>\n",
       "  <tbody>\n",
       "    <tr>\n",
       "      <th>0</th>\n",
       "      <td>3</td>\n",
       "      <td>1</td>\n",
       "      <td>8</td>\n",
       "      <td>1439472215</td>\n",
       "      <td>1</td>\n",
       "    </tr>\n",
       "    <tr>\n",
       "      <th>1</th>\n",
       "      <td>3</td>\n",
       "      <td>29</td>\n",
       "      <td>9</td>\n",
       "      <td>1484754967</td>\n",
       "      <td>2</td>\n",
       "    </tr>\n",
       "    <tr>\n",
       "      <th>2</th>\n",
       "      <td>3</td>\n",
       "      <td>32</td>\n",
       "      <td>9</td>\n",
       "      <td>1439474635</td>\n",
       "      <td>2</td>\n",
       "    </tr>\n",
       "    <tr>\n",
       "      <th>3</th>\n",
       "      <td>3</td>\n",
       "      <td>50</td>\n",
       "      <td>10</td>\n",
       "      <td>1439474391</td>\n",
       "      <td>3</td>\n",
       "    </tr>\n",
       "    <tr>\n",
       "      <th>4</th>\n",
       "      <td>3</td>\n",
       "      <td>111</td>\n",
       "      <td>8</td>\n",
       "      <td>1484753849</td>\n",
       "      <td>1</td>\n",
       "    </tr>\n",
       "  </tbody>\n",
       "</table>\n",
       "</div>"
      ],
      "text/plain": [
       "   userId  movieId  rating   timestamp  rating_net_user_mean\n",
       "0       3        1       8  1439472215                     1\n",
       "1       3       29       9  1484754967                     2\n",
       "2       3       32       9  1439474635                     2\n",
       "3       3       50      10  1439474391                     3\n",
       "4       3      111       8  1484753849                     1"
      ]
     },
     "execution_count": 9,
     "metadata": {},
     "output_type": "execute_result"
    }
   ],
   "source": [
    "# Visualize\n",
    "df_train_ratings.head()"
   ]
  },
  {
   "cell_type": "markdown",
   "id": "503e7fc5",
   "metadata": {},
   "source": [
    "*`df_test_ratings`*"
   ]
  },
  {
   "cell_type": "code",
   "execution_count": 10,
   "id": "27c655fa",
   "metadata": {},
   "outputs": [
    {
     "data": {
      "text/plain": [
       "(439850, 5)"
      ]
     },
     "execution_count": 10,
     "metadata": {},
     "output_type": "execute_result"
    }
   ],
   "source": [
    "# Check shape\n",
    "df_test_ratings.shape"
   ]
  },
  {
   "cell_type": "code",
   "execution_count": 11,
   "id": "21eb641e",
   "metadata": {},
   "outputs": [
    {
     "data": {
      "text/html": [
       "<div>\n",
       "<style scoped>\n",
       "    .dataframe tbody tr th:only-of-type {\n",
       "        vertical-align: middle;\n",
       "    }\n",
       "\n",
       "    .dataframe tbody tr th {\n",
       "        vertical-align: top;\n",
       "    }\n",
       "\n",
       "    .dataframe thead th {\n",
       "        text-align: right;\n",
       "    }\n",
       "</style>\n",
       "<table border=\"1\" class=\"dataframe\">\n",
       "  <thead>\n",
       "    <tr style=\"text-align: right;\">\n",
       "      <th></th>\n",
       "      <th>userId</th>\n",
       "      <th>movieId</th>\n",
       "      <th>rating</th>\n",
       "      <th>timestamp</th>\n",
       "      <th>rating_net_user_mean</th>\n",
       "    </tr>\n",
       "  </thead>\n",
       "  <tbody>\n",
       "    <tr>\n",
       "      <th>52</th>\n",
       "      <td>3</td>\n",
       "      <td>1732</td>\n",
       "      <td>9</td>\n",
       "      <td>1566091883</td>\n",
       "      <td>2</td>\n",
       "    </tr>\n",
       "    <tr>\n",
       "      <th>124</th>\n",
       "      <td>3</td>\n",
       "      <td>4262</td>\n",
       "      <td>9</td>\n",
       "      <td>1566091872</td>\n",
       "      <td>2</td>\n",
       "    </tr>\n",
       "    <tr>\n",
       "      <th>467</th>\n",
       "      <td>3</td>\n",
       "      <td>79091</td>\n",
       "      <td>8</td>\n",
       "      <td>1566091612</td>\n",
       "      <td>1</td>\n",
       "    </tr>\n",
       "    <tr>\n",
       "      <th>478</th>\n",
       "      <td>3</td>\n",
       "      <td>81834</td>\n",
       "      <td>7</td>\n",
       "      <td>1566091630</td>\n",
       "      <td>0</td>\n",
       "    </tr>\n",
       "    <tr>\n",
       "      <th>501</th>\n",
       "      <td>3</td>\n",
       "      <td>87876</td>\n",
       "      <td>7</td>\n",
       "      <td>1566091557</td>\n",
       "      <td>0</td>\n",
       "    </tr>\n",
       "  </tbody>\n",
       "</table>\n",
       "</div>"
      ],
      "text/plain": [
       "     userId  movieId  rating   timestamp  rating_net_user_mean\n",
       "52        3     1732       9  1566091883                     2\n",
       "124       3     4262       9  1566091872                     2\n",
       "467       3    79091       8  1566091612                     1\n",
       "478       3    81834       7  1566091630                     0\n",
       "501       3    87876       7  1566091557                     0"
      ]
     },
     "execution_count": 11,
     "metadata": {},
     "output_type": "execute_result"
    }
   ],
   "source": [
    "# Visualize\n",
    "df_test_ratings.head()"
   ]
  },
  {
   "cell_type": "markdown",
   "id": "f202ce9e",
   "metadata": {},
   "source": [
    "*`df_ratings`*"
   ]
  },
  {
   "cell_type": "code",
   "execution_count": 12,
   "id": "9b93fc9b",
   "metadata": {},
   "outputs": [
    {
     "data": {
      "text/plain": [
       "(6998416, 6)"
      ]
     },
     "execution_count": 12,
     "metadata": {},
     "output_type": "execute_result"
    }
   ],
   "source": [
    "# Check shape\n",
    "df_ratings.shape"
   ]
  },
  {
   "cell_type": "code",
   "execution_count": 13,
   "id": "56ba539d",
   "metadata": {},
   "outputs": [
    {
     "data": {
      "text/html": [
       "<div>\n",
       "<style scoped>\n",
       "    .dataframe tbody tr th:only-of-type {\n",
       "        vertical-align: middle;\n",
       "    }\n",
       "\n",
       "    .dataframe tbody tr th {\n",
       "        vertical-align: top;\n",
       "    }\n",
       "\n",
       "    .dataframe thead th {\n",
       "        text-align: right;\n",
       "    }\n",
       "</style>\n",
       "<table border=\"1\" class=\"dataframe\">\n",
       "  <thead>\n",
       "    <tr style=\"text-align: right;\">\n",
       "      <th></th>\n",
       "      <th>userId</th>\n",
       "      <th>movieId</th>\n",
       "      <th>rating</th>\n",
       "      <th>timestamp</th>\n",
       "      <th>rating_net_user_mean</th>\n",
       "      <th>test_data</th>\n",
       "    </tr>\n",
       "  </thead>\n",
       "  <tbody>\n",
       "    <tr>\n",
       "      <th>0</th>\n",
       "      <td>3</td>\n",
       "      <td>1</td>\n",
       "      <td>8</td>\n",
       "      <td>1439472215</td>\n",
       "      <td>1</td>\n",
       "      <td>0</td>\n",
       "    </tr>\n",
       "    <tr>\n",
       "      <th>1</th>\n",
       "      <td>3</td>\n",
       "      <td>29</td>\n",
       "      <td>9</td>\n",
       "      <td>1484754967</td>\n",
       "      <td>2</td>\n",
       "      <td>0</td>\n",
       "    </tr>\n",
       "    <tr>\n",
       "      <th>2</th>\n",
       "      <td>3</td>\n",
       "      <td>32</td>\n",
       "      <td>9</td>\n",
       "      <td>1439474635</td>\n",
       "      <td>2</td>\n",
       "      <td>0</td>\n",
       "    </tr>\n",
       "    <tr>\n",
       "      <th>3</th>\n",
       "      <td>3</td>\n",
       "      <td>50</td>\n",
       "      <td>10</td>\n",
       "      <td>1439474391</td>\n",
       "      <td>3</td>\n",
       "      <td>0</td>\n",
       "    </tr>\n",
       "    <tr>\n",
       "      <th>4</th>\n",
       "      <td>3</td>\n",
       "      <td>111</td>\n",
       "      <td>8</td>\n",
       "      <td>1484753849</td>\n",
       "      <td>1</td>\n",
       "      <td>0</td>\n",
       "    </tr>\n",
       "  </tbody>\n",
       "</table>\n",
       "</div>"
      ],
      "text/plain": [
       "   userId  movieId  rating   timestamp  rating_net_user_mean  test_data\n",
       "0       3        1       8  1439472215                     1          0\n",
       "1       3       29       9  1484754967                     2          0\n",
       "2       3       32       9  1439474635                     2          0\n",
       "3       3       50      10  1439474391                     3          0\n",
       "4       3      111       8  1484753849                     1          0"
      ]
     },
     "execution_count": 13,
     "metadata": {},
     "output_type": "execute_result"
    }
   ],
   "source": [
    "# Visualize\n",
    "df_ratings.head()"
   ]
  },
  {
   "cell_type": "markdown",
   "id": "895fbe12",
   "metadata": {},
   "source": [
    "*`df_tags_of_movies`*"
   ]
  },
  {
   "cell_type": "code",
   "execution_count": 14,
   "id": "5d03f1e8",
   "metadata": {},
   "outputs": [
    {
     "data": {
      "text/plain": [
       "(24478, 5)"
      ]
     },
     "execution_count": 14,
     "metadata": {},
     "output_type": "execute_result"
    }
   ],
   "source": [
    "# Check shape\n",
    "df_tags_of_movies.shape"
   ]
  },
  {
   "cell_type": "code",
   "execution_count": 15,
   "id": "5a6b3b28",
   "metadata": {},
   "outputs": [
    {
     "data": {
      "text/html": [
       "<div>\n",
       "<style scoped>\n",
       "    .dataframe tbody tr th:only-of-type {\n",
       "        vertical-align: middle;\n",
       "    }\n",
       "\n",
       "    .dataframe tbody tr th {\n",
       "        vertical-align: top;\n",
       "    }\n",
       "\n",
       "    .dataframe thead th {\n",
       "        text-align: right;\n",
       "    }\n",
       "</style>\n",
       "<table border=\"1\" class=\"dataframe\">\n",
       "  <thead>\n",
       "    <tr style=\"text-align: right;\">\n",
       "      <th></th>\n",
       "      <th>movieId</th>\n",
       "      <th>tag</th>\n",
       "      <th>count of tags</th>\n",
       "      <th>title</th>\n",
       "      <th>genres</th>\n",
       "    </tr>\n",
       "  </thead>\n",
       "  <tbody>\n",
       "    <tr>\n",
       "      <th>0</th>\n",
       "      <td>1</td>\n",
       "      <td>Owned    imdb top 250    Pixar    Pixar    ti...</td>\n",
       "      <td>697</td>\n",
       "      <td>Toy Story (1995)</td>\n",
       "      <td>Adventure|Animation|Children|Comedy|Fantasy</td>\n",
       "    </tr>\n",
       "    <tr>\n",
       "      <th>1</th>\n",
       "      <td>2</td>\n",
       "      <td>Robin Williams    time travel    fantasy   \"b...</td>\n",
       "      <td>180</td>\n",
       "      <td>Jumanji (1995)</td>\n",
       "      <td>Adventure|Children|Fantasy</td>\n",
       "    </tr>\n",
       "    <tr>\n",
       "      <th>2</th>\n",
       "      <td>3</td>\n",
       "      <td>funny    best friend    duringcreditsstinger ...</td>\n",
       "      <td>29</td>\n",
       "      <td>Grumpier Old Men (1995)</td>\n",
       "      <td>Comedy|Romance</td>\n",
       "    </tr>\n",
       "    <tr>\n",
       "      <th>3</th>\n",
       "      <td>4</td>\n",
       "      <td>based on novel or book    chick flick    divo...</td>\n",
       "      <td>11</td>\n",
       "      <td>Waiting to Exhale (1995)</td>\n",
       "      <td>Comedy|Drama|Romance</td>\n",
       "    </tr>\n",
       "    <tr>\n",
       "      <th>4</th>\n",
       "      <td>5</td>\n",
       "      <td>aging    baby    confidence    contraception ...</td>\n",
       "      <td>24</td>\n",
       "      <td>Father of the Bride Part II (1995)</td>\n",
       "      <td>Comedy</td>\n",
       "    </tr>\n",
       "  </tbody>\n",
       "</table>\n",
       "</div>"
      ],
      "text/plain": [
       "   movieId                                                tag  count of tags  \\\n",
       "0        1   Owned    imdb top 250    Pixar    Pixar    ti...            697   \n",
       "1        2   Robin Williams    time travel    fantasy   \"b...            180   \n",
       "2        3   funny    best friend    duringcreditsstinger ...             29   \n",
       "3        4   based on novel or book    chick flick    divo...             11   \n",
       "4        5   aging    baby    confidence    contraception ...             24   \n",
       "\n",
       "                                title  \\\n",
       "0                    Toy Story (1995)   \n",
       "1                      Jumanji (1995)   \n",
       "2             Grumpier Old Men (1995)   \n",
       "3            Waiting to Exhale (1995)   \n",
       "4  Father of the Bride Part II (1995)   \n",
       "\n",
       "                                        genres  \n",
       "0  Adventure|Animation|Children|Comedy|Fantasy  \n",
       "1                   Adventure|Children|Fantasy  \n",
       "2                               Comedy|Romance  \n",
       "3                         Comedy|Drama|Romance  \n",
       "4                                       Comedy  "
      ]
     },
     "execution_count": 15,
     "metadata": {},
     "output_type": "execute_result"
    }
   ],
   "source": [
    "# Visualize\n",
    "df_tags_of_movies.head()"
   ]
  },
  {
   "cell_type": "markdown",
   "id": "d2b9d99c",
   "metadata": {},
   "source": [
    "*`df_movies`*"
   ]
  },
  {
   "cell_type": "code",
   "execution_count": 16,
   "id": "d5bec48c",
   "metadata": {},
   "outputs": [
    {
     "data": {
      "text/plain": [
       "(62423, 3)"
      ]
     },
     "execution_count": 16,
     "metadata": {},
     "output_type": "execute_result"
    }
   ],
   "source": [
    "# Check shape\n",
    "df_movies.shape"
   ]
  },
  {
   "cell_type": "code",
   "execution_count": 17,
   "id": "f2bacfb0",
   "metadata": {},
   "outputs": [
    {
     "data": {
      "text/html": [
       "<div>\n",
       "<style scoped>\n",
       "    .dataframe tbody tr th:only-of-type {\n",
       "        vertical-align: middle;\n",
       "    }\n",
       "\n",
       "    .dataframe tbody tr th {\n",
       "        vertical-align: top;\n",
       "    }\n",
       "\n",
       "    .dataframe thead th {\n",
       "        text-align: right;\n",
       "    }\n",
       "</style>\n",
       "<table border=\"1\" class=\"dataframe\">\n",
       "  <thead>\n",
       "    <tr style=\"text-align: right;\">\n",
       "      <th></th>\n",
       "      <th>movieId</th>\n",
       "      <th>title</th>\n",
       "      <th>genres</th>\n",
       "    </tr>\n",
       "  </thead>\n",
       "  <tbody>\n",
       "    <tr>\n",
       "      <th>0</th>\n",
       "      <td>1</td>\n",
       "      <td>Toy Story (1995)</td>\n",
       "      <td>Adventure|Animation|Children|Comedy|Fantasy</td>\n",
       "    </tr>\n",
       "    <tr>\n",
       "      <th>1</th>\n",
       "      <td>2</td>\n",
       "      <td>Jumanji (1995)</td>\n",
       "      <td>Adventure|Children|Fantasy</td>\n",
       "    </tr>\n",
       "    <tr>\n",
       "      <th>2</th>\n",
       "      <td>3</td>\n",
       "      <td>Grumpier Old Men (1995)</td>\n",
       "      <td>Comedy|Romance</td>\n",
       "    </tr>\n",
       "    <tr>\n",
       "      <th>3</th>\n",
       "      <td>4</td>\n",
       "      <td>Waiting to Exhale (1995)</td>\n",
       "      <td>Comedy|Drama|Romance</td>\n",
       "    </tr>\n",
       "    <tr>\n",
       "      <th>4</th>\n",
       "      <td>5</td>\n",
       "      <td>Father of the Bride Part II (1995)</td>\n",
       "      <td>Comedy</td>\n",
       "    </tr>\n",
       "  </tbody>\n",
       "</table>\n",
       "</div>"
      ],
      "text/plain": [
       "   movieId                               title  \\\n",
       "0        1                    Toy Story (1995)   \n",
       "1        2                      Jumanji (1995)   \n",
       "2        3             Grumpier Old Men (1995)   \n",
       "3        4            Waiting to Exhale (1995)   \n",
       "4        5  Father of the Bride Part II (1995)   \n",
       "\n",
       "                                        genres  \n",
       "0  Adventure|Animation|Children|Comedy|Fantasy  \n",
       "1                   Adventure|Children|Fantasy  \n",
       "2                               Comedy|Romance  \n",
       "3                         Comedy|Drama|Romance  \n",
       "4                                       Comedy  "
      ]
     },
     "execution_count": 17,
     "metadata": {},
     "output_type": "execute_result"
    }
   ],
   "source": [
    "# Visualize\n",
    "df_movies.head()"
   ]
  },
  {
   "cell_type": "markdown",
   "id": "2f525633",
   "metadata": {},
   "source": [
    "##### Summary / Findings:\n",
    "- Data loaded above in-line with expectations."
   ]
  },
  {
   "cell_type": "markdown",
   "id": "22392e46",
   "metadata": {},
   "source": [
    "# Section 1 - Collaborative Filtering  "
   ]
  },
  {
   "cell_type": "markdown",
   "id": "b7857eab",
   "metadata": {},
   "source": [
    "## Metrics to look at"
   ]
  },
  {
   "cell_type": "markdown",
   "id": "d5e0809c",
   "metadata": {},
   "source": [
    "I do not have access or ability to collect additional data from the users in the MovieLens database. Thus, I will not be able to collect any \"online\" data (based on live, real-time scenarios) or metrics (i.e. A/B testing, user's actions, do they actually finish the film, etc)."
   ]
  },
  {
   "cell_type": "markdown",
   "id": "308443b0",
   "metadata": {},
   "source": [
    "Thus, I will need to look at offline metrics to measure these models. The biggest advantage of offline evaluations versus online evaluations, is the speed and ease of testing algorithms using predefined datasets, which is exactly what's being done in this project."
   ]
  },
  {
   "cell_type": "markdown",
   "id": "95409c15",
   "metadata": {},
   "source": [
    "Typically a recommender model will be created, tuned, and tested offline. However it is only after running the model (recommender system) in a live scenario where it can be evaluated by usage (i.e. clicking on a recommended movie, etc) that we can truly assess it's impact."
   ]
  },
  {
   "cell_type": "markdown",
   "id": "84f84e61",
   "metadata": {},
   "source": [
    "For my offline metrics, I will focus on two metrics: \n",
    "- **Fraction of Concordant Pairs (FCP)**\n",
    "- **Mean Absolute Error (MAE)**"
   ]
  },
  {
   "cell_type": "markdown",
   "id": "d23ef162",
   "metadata": {},
   "source": [
    "#### Fraction of Concordant Pairs (FCP)"
   ]
  },
  {
   "cell_type": "markdown",
   "id": "1c4e781c",
   "metadata": {},
   "source": [
    "**FCP** is a useful ranking-based metric."
   ]
  },
  {
   "cell_type": "markdown",
   "id": "0dcda58a",
   "metadata": {},
   "source": [
    "The \"Fraction\" of Fraction of Concordant Pairs, is calculated based on the all the pairs of movies, what portion of the pairs of movies are concordant pairs. A pair is either concordant (1) or discordant (0), and the math behind calculating FCP is essentially averaging all of these pairs (which are in essence boolean-like, 1 or 0). Thus FCP ranges from 0 to 1 with all pairs of movies being concordant as 1, and none of the pairs of movies being concordant as 0."
   ]
  },
  {
   "cell_type": "markdown",
   "id": "0fbc2bd9",
   "metadata": {},
   "source": [
    "*Concordant pair definition & example:*"
   ]
  },
  {
   "cell_type": "markdown",
   "id": "4aee8a04",
   "metadata": {},
   "source": [
    "A concordant pair of ratings is composed of two pairs of ratings, a true rating and a predicted rating, $(r_{1}, \\hat{r_{1}})$ and $(r_{2}, \\hat{r_{2}})$. If these pairs are concordant, and $r_1 > r_2$, then $\\hat{r_1} > \\hat{r_2}$. This means that regardless of the predicted values, the order of ratings is correct (i.e. movie 1 is predicted to be preferred to movie 2)."
   ]
  },
  {
   "cell_type": "markdown",
   "id": "bcfb5dbb",
   "metadata": {},
   "source": [
    "#### Mean Absolute Error (MAE)"
   ]
  },
  {
   "cell_type": "markdown",
   "id": "c2d6fed2",
   "metadata": {},
   "source": [
    "**MAE** calculates the average (mean) absolute difference between *actual* rating or net rating (i.e. user rating net user mean rating) and the *predicted* rating or net rating, respectively. Below is the equation of **MAE**:\n",
    "\n",
    "$$\\frac{1}{n}\\sum_{ij}|R_{ij}-\\hat R_{ij}|$$\n",
    "\n",
    "Where:\n",
    "- $n$ stands for the number of scores\n",
    "- $\\hat R_{ij}$ is our prediction \n",
    "- $R_{ij}$ is the actual score "
   ]
  },
  {
   "cell_type": "markdown",
   "id": "4f762d49",
   "metadata": {},
   "source": [
    "Another metric for measuring the difference between actual and predicted ratings or net ratings is **Root Mean Squared Error (RSME)**. **RSME** is calculated by squaring the difference between actual and predicted ratings or net ratings, summing all of these squared differences, and square rooting that sum. Below is the equation of **RMSE**:\n",
    "\n",
    "$$\\sqrt{\\frac{1}{n}\\sum_{ij}(R_{ij}-\\hat R_{ij})^2}$$\n",
    "\n",
    "Where:\n",
    "- $n$ stands for the number of scores\n",
    "- $\\hat R_{ij}$ is our prediction \n",
    "- $R_{ij}$ is the actual score \n",
    "</br>\n",
    "\n",
    "As a result of the squaring the differences between actual and predicted ratings or net ratings, **RSME** penalizes large errors more than **MAE**. "
   ]
  },
  {
   "cell_type": "markdown",
   "id": "89af6a3f",
   "metadata": {},
   "source": [
    "\n",
    "\n",
    "The goal of these models is to provide movie recommendations to users. Having a small portion of the recommendation be movies that are un-related (i.e. \"large error\") won't itself devalue the other recommendations. Users will likely browse past them and focus on the other recommendations of more interest.\n",
    "\n",
    "Additionally, the basis of these recommendations is user-generated ratings which are arbitrary to a certain extent (i.e. how is a movie rated as a 7 better than another movie rated as a 6 by a different user, etc). Naturally, I will expect that there will be some fluctuation between actual movie ratings versus predicted movie ratings. Larger errors may appear driven by the arbitrary nature of user-generated ratings, and we should not weigh more penalty to these instances.\n",
    "\n",
    "As I don't expect large errors (in small quantities) to devalue other recommendations, I do not see a point in penalizing larger errors. Thus, I have selected to track **MAE** over **RSME**."
   ]
  },
  {
   "cell_type": "markdown",
   "id": "5d9392b8",
   "metadata": {},
   "source": [
    "## Create `df_results`"
   ]
  },
  {
   "cell_type": "markdown",
   "id": "d174627e",
   "metadata": {},
   "source": [
    "Below code is to create `df_results` to track metrics discussed above (`fcp` and `mae`). Note, I have put the code in Markdown as I have run this code along with the predictions in future sections below in advance. I have logged the models' metrics into `df_results` and written them to csv. Actual code is to bring the `df_results` in for analysis"
   ]
  },
  {
   "cell_type": "markdown",
   "id": "fb1211a4",
   "metadata": {},
   "source": [
    "```python\n",
    "# Create dataframe\n",
    "df_results = pd.DataFrame(columns= ['Algo', 'Train/Test','R/NMR','fcp','mae'])\n",
    "\n",
    "```"
   ]
  },
  {
   "cell_type": "code",
   "execution_count": 18,
   "id": "ab8388c6",
   "metadata": {},
   "outputs": [
    {
     "data": {
      "text/html": [
       "<div>\n",
       "<style scoped>\n",
       "    .dataframe tbody tr th:only-of-type {\n",
       "        vertical-align: middle;\n",
       "    }\n",
       "\n",
       "    .dataframe tbody tr th {\n",
       "        vertical-align: top;\n",
       "    }\n",
       "\n",
       "    .dataframe thead th {\n",
       "        text-align: right;\n",
       "    }\n",
       "</style>\n",
       "<table border=\"1\" class=\"dataframe\">\n",
       "  <thead>\n",
       "    <tr style=\"text-align: right;\">\n",
       "      <th></th>\n",
       "      <th>Algo</th>\n",
       "      <th>Train/Test</th>\n",
       "      <th>R/NMR</th>\n",
       "      <th>fcp</th>\n",
       "      <th>mae</th>\n",
       "    </tr>\n",
       "  </thead>\n",
       "  <tbody>\n",
       "  </tbody>\n",
       "</table>\n",
       "</div>"
      ],
      "text/plain": [
       "Empty DataFrame\n",
       "Columns: [Algo, Train/Test, R/NMR, fcp, mae]\n",
       "Index: []"
      ]
     },
     "execution_count": 18,
     "metadata": {},
     "output_type": "execute_result"
    }
   ],
   "source": [
    "# Import results csv\n",
    "df_results = pd.read_csv('DT_files/DT_df_results.csv', index_col = 0)\n",
    "df_results.head(0) # Show headers only"
   ]
  },
  {
   "cell_type": "markdown",
   "id": "cc71efd3",
   "metadata": {},
   "source": [
    "## Set Baseline Expectations with `BaselineOnly()`"
   ]
  },
  {
   "cell_type": "markdown",
   "id": "8d72391b",
   "metadata": {},
   "source": [
    "Below code is to fit and predict using the `BaselineOnly` in the surprise library to the train and test data to set a baseline expectation on what baseline `fcp` and `mae` scores would be. I will explore the metrics between using the `rating` column or the `rating net_user_mean` ('net rating') column created in EDA notebook (01_EDA)."
   ]
  },
  {
   "cell_type": "markdown",
   "id": "abccdfa4",
   "metadata": {},
   "source": [
    "For efficiencies when re-running the code, I have put the code in markdown and exported the results to `df_results`."
   ]
  },
  {
   "cell_type": "markdown",
   "id": "aedc6d69",
   "metadata": {},
   "source": [
    "### Baseline for `rating` column"
   ]
  },
  {
   "cell_type": "markdown",
   "id": "0cff03ba",
   "metadata": {},
   "source": [
    "```python\n",
    "\n",
    "# Set the reader with accurate rating scale\n",
    "ratings_reader = Reader(rating_scale=(1,10))\n",
    "\n",
    "# Set the dataset \n",
    "train_dataset = Dataset.load_from_df(df_train_ratings[['userId','movieId','rating']], ratings_reader)\n",
    "\n",
    "# Build Full Train Set\n",
    "ratings_trainset = train_dataset.build_full_trainset()\n",
    "\n",
    "# Instantiate model and Fit model\n",
    "Baseline_model_r = BaselineOnly().fit(ratings_trainset)\n",
    "\n",
    "# Train & Test Data\n",
    "\n",
    "# Filter `df_train_ratings` to - user ID, movie ID, rating\n",
    "df_train_r = df_train_ratings[['userId','movieId','rating']]\n",
    "\n",
    "# Convert df to array to list\n",
    "list_train_r = df_train_r.to_numpy().tolist()\n",
    "\n",
    "# Filter `df_test_ratings` to - user ID, movie ID, rating\n",
    "df_test_r = df_test_ratings[['userId','movieId','rating']]\n",
    "\n",
    "# Convert df to array to list\n",
    "list_test_r = df_test_r.to_numpy().tolist()\n",
    "\n",
    "# Train prediction\n",
    "Baseline_train_prediction_r = Baseline_model_r.test(list_train_r)\n",
    "\n",
    "# Test prediction\n",
    "Baseline_test_prediction_r = Baseline_model_r.test(list_test_r)\n",
    "\n",
    "```"
   ]
  },
  {
   "cell_type": "markdown",
   "id": "354ca954",
   "metadata": {},
   "source": [
    "#### Train Score"
   ]
  },
  {
   "cell_type": "markdown",
   "id": "ff63ff0f",
   "metadata": {},
   "source": [
    "```python\n",
    "\n",
    "# Add accuracy info to `df_results`\n",
    "in_algo = 'Baseline'\n",
    "in_traintest = 'Train'\n",
    "in_r_nmr ='r'\n",
    "in_fcp = accuracy.fcp(Baseline_train_prediction_r)\n",
    "in_mae = accuracy.mae(Baseline_train_prediction_r)\n",
    "\n",
    "\n",
    "row_data = {'Algo': in_algo, \n",
    "            'Train/Test': in_traintest,\n",
    "            'R/NMR': in_r_nmr,\n",
    "            'fcp': in_fcp,\n",
    "            'mae': in_mae}\n",
    "\n",
    "# Add row data to df_results\n",
    "df_results = df_results.append(row_data, ignore_index=True)\n",
    "\n",
    "# Visualize upload\n",
    "df_results.tail(1)\n",
    "\n",
    "```"
   ]
  },
  {
   "cell_type": "code",
   "execution_count": 19,
   "id": "d95dcaec",
   "metadata": {},
   "outputs": [
    {
     "data": {
      "text/html": [
       "<div>\n",
       "<style scoped>\n",
       "    .dataframe tbody tr th:only-of-type {\n",
       "        vertical-align: middle;\n",
       "    }\n",
       "\n",
       "    .dataframe tbody tr th {\n",
       "        vertical-align: top;\n",
       "    }\n",
       "\n",
       "    .dataframe thead th {\n",
       "        text-align: right;\n",
       "    }\n",
       "</style>\n",
       "<table border=\"1\" class=\"dataframe\">\n",
       "  <thead>\n",
       "    <tr style=\"text-align: right;\">\n",
       "      <th></th>\n",
       "      <th>Algo</th>\n",
       "      <th>Train/Test</th>\n",
       "      <th>R/NMR</th>\n",
       "      <th>fcp</th>\n",
       "      <th>mae</th>\n",
       "    </tr>\n",
       "  </thead>\n",
       "  <tbody>\n",
       "    <tr>\n",
       "      <th>0</th>\n",
       "      <td>Baseline</td>\n",
       "      <td>Train</td>\n",
       "      <td>r</td>\n",
       "      <td>0.695704</td>\n",
       "      <td>1.267101</td>\n",
       "    </tr>\n",
       "  </tbody>\n",
       "</table>\n",
       "</div>"
      ],
      "text/plain": [
       "       Algo Train/Test R/NMR       fcp       mae\n",
       "0  Baseline      Train     r  0.695704  1.267101"
      ]
     },
     "execution_count": 19,
     "metadata": {},
     "output_type": "execute_result"
    }
   ],
   "source": [
    "# Show results\n",
    "df_results.iloc[0:1,:]"
   ]
  },
  {
   "cell_type": "markdown",
   "id": "b38e9891",
   "metadata": {},
   "source": [
    "#### Test Score"
   ]
  },
  {
   "cell_type": "markdown",
   "id": "0c63e4e4",
   "metadata": {},
   "source": [
    "```python\n",
    "\n",
    "# Add accuracy info to `df_results`\n",
    "in_algo = 'Baseline'\n",
    "in_traintest = 'Test'\n",
    "in_r_nmr ='r'\n",
    "in_fcp = accuracy.fcp(Baseline_test_prediction_r)\n",
    "in_mae = accuracy.mae(Baseline_test_prediction_r)\n",
    "\n",
    "row_data = {'Algo': in_algo, \n",
    "            'Train/Test': in_traintest,\n",
    "            'R/NMR': in_r_nmr,\n",
    "            'fcp': in_fcp,\n",
    "            'mae': in_mae}\n",
    "\n",
    "# Add row data to df_results\n",
    "df_results = df_results.append(row_data, ignore_index=True)\n",
    "\n",
    "# Visualize upload\n",
    "df_results.tail(1)\n",
    "\n",
    "```"
   ]
  },
  {
   "cell_type": "code",
   "execution_count": 20,
   "id": "d3bf9748",
   "metadata": {},
   "outputs": [
    {
     "data": {
      "text/html": [
       "<div>\n",
       "<style scoped>\n",
       "    .dataframe tbody tr th:only-of-type {\n",
       "        vertical-align: middle;\n",
       "    }\n",
       "\n",
       "    .dataframe tbody tr th {\n",
       "        vertical-align: top;\n",
       "    }\n",
       "\n",
       "    .dataframe thead th {\n",
       "        text-align: right;\n",
       "    }\n",
       "</style>\n",
       "<table border=\"1\" class=\"dataframe\">\n",
       "  <thead>\n",
       "    <tr style=\"text-align: right;\">\n",
       "      <th></th>\n",
       "      <th>Algo</th>\n",
       "      <th>Train/Test</th>\n",
       "      <th>R/NMR</th>\n",
       "      <th>fcp</th>\n",
       "      <th>mae</th>\n",
       "    </tr>\n",
       "  </thead>\n",
       "  <tbody>\n",
       "    <tr>\n",
       "      <th>1</th>\n",
       "      <td>Baseline</td>\n",
       "      <td>Test</td>\n",
       "      <td>r</td>\n",
       "      <td>0.62133</td>\n",
       "      <td>1.340069</td>\n",
       "    </tr>\n",
       "  </tbody>\n",
       "</table>\n",
       "</div>"
      ],
      "text/plain": [
       "       Algo Train/Test R/NMR      fcp       mae\n",
       "1  Baseline       Test     r  0.62133  1.340069"
      ]
     },
     "execution_count": 20,
     "metadata": {},
     "output_type": "execute_result"
    }
   ],
   "source": [
    "# Show results\n",
    "df_results.iloc[1:2,:]"
   ]
  },
  {
   "cell_type": "markdown",
   "id": "3641eacd",
   "metadata": {},
   "source": [
    "##### Summary / Findings:\n",
    "- I will review Baseline results in aggregate below in the code titled \"Look at Baseline results together\"."
   ]
  },
  {
   "cell_type": "markdown",
   "id": "c7472c29",
   "metadata": {},
   "source": [
    "### Baseline for `rating_net_user_mean` column"
   ]
  },
  {
   "cell_type": "markdown",
   "id": "e65ce665",
   "metadata": {},
   "source": [
    "```python\n",
    "\n",
    "# Set the reader with accurate rating scale\n",
    "ratings_reader_user_mean = Reader(rating_scale=(-10,10))\n",
    "\n",
    "# Set the dataset\n",
    "train_dataset_user_mean = Dataset.load_from_df(df_train_ratings[['userId','movieId','rating_net_user_mean']], ratings_reader_user_mean)\n",
    "\n",
    "# Build Full Train Set\n",
    "net_user_mean_ratings_trainset = train_dataset_user_mean.build_full_trainset()\n",
    "\n",
    "\n",
    "# Instantiate model and Fit model\n",
    "Baseline_model_nmr = BaselineOnly().fit(net_user_mean_ratings_trainset)\n",
    "\n",
    "# Train & Test Data\n",
    "\n",
    "# Filter `df_train_ratings` to - user ID, movie ID, rating\n",
    "df_train_nmr = df_train_ratings[['userId','movieId','rating_net_user_mean']]\n",
    "\n",
    "# Convert df to array to list\n",
    "list_train_nmr = df_train_nmr.to_numpy().tolist()\n",
    "\n",
    "# Filter `df_test_ratings` to - user ID, movie ID, rating\n",
    "df_test_nmr = df_test_ratings[['userId','movieId','rating_net_user_mean']]\n",
    "\n",
    "# Convert df to array to list\n",
    "list_test_nmr = df_test_nmr.to_numpy().tolist()\n",
    "\n",
    "# Train prediction\n",
    "Baseline_train_prediction_nmr = Baseline_model_nmr.test(list_train_nmr)\n",
    "\n",
    "# Test prediction\n",
    "Baseline_test_prediction_nmr = Baseline_model_nmr.test(list_test_nmr)\n",
    "\n",
    "```"
   ]
  },
  {
   "cell_type": "markdown",
   "id": "215b1171",
   "metadata": {},
   "source": [
    "#### Train Score"
   ]
  },
  {
   "cell_type": "markdown",
   "id": "f452ec0a",
   "metadata": {},
   "source": [
    "```python\n",
    "\n",
    "# Add accuracy info to `df_results`\n",
    "in_algo = 'Baseline'\n",
    "in_traintest = 'Train'\n",
    "in_r_nmr ='nmr'\n",
    "in_fcp = accuracy.fcp(Baseline_train_prediction_nmr)\n",
    "in_mae = accuracy.mae(Baseline_train_prediction_nmr)\n",
    "\n",
    "row_data = {'Algo': in_algo, \n",
    "            'Train/Test': in_traintest,\n",
    "            'R/NMR': in_r_nmr,\n",
    "            'fcp': in_fcp,\n",
    "            'mae': in_mae}\n",
    "\n",
    "# Add row data to df_results\n",
    "df_results = df_results.append(row_data, ignore_index=True)\n",
    "\n",
    "# Visualize upload\n",
    "df_results.tail(1)\n",
    "\n",
    "```"
   ]
  },
  {
   "cell_type": "code",
   "execution_count": 21,
   "id": "9557668d",
   "metadata": {},
   "outputs": [
    {
     "data": {
      "text/html": [
       "<div>\n",
       "<style scoped>\n",
       "    .dataframe tbody tr th:only-of-type {\n",
       "        vertical-align: middle;\n",
       "    }\n",
       "\n",
       "    .dataframe tbody tr th {\n",
       "        vertical-align: top;\n",
       "    }\n",
       "\n",
       "    .dataframe thead th {\n",
       "        text-align: right;\n",
       "    }\n",
       "</style>\n",
       "<table border=\"1\" class=\"dataframe\">\n",
       "  <thead>\n",
       "    <tr style=\"text-align: right;\">\n",
       "      <th></th>\n",
       "      <th>Algo</th>\n",
       "      <th>Train/Test</th>\n",
       "      <th>R/NMR</th>\n",
       "      <th>fcp</th>\n",
       "      <th>mae</th>\n",
       "    </tr>\n",
       "  </thead>\n",
       "  <tbody>\n",
       "    <tr>\n",
       "      <th>2</th>\n",
       "      <td>Baseline</td>\n",
       "      <td>Train</td>\n",
       "      <td>nmr</td>\n",
       "      <td>0.694906</td>\n",
       "      <td>1.260692</td>\n",
       "    </tr>\n",
       "  </tbody>\n",
       "</table>\n",
       "</div>"
      ],
      "text/plain": [
       "       Algo Train/Test R/NMR       fcp       mae\n",
       "2  Baseline      Train   nmr  0.694906  1.260692"
      ]
     },
     "execution_count": 21,
     "metadata": {},
     "output_type": "execute_result"
    }
   ],
   "source": [
    "# Show results\n",
    "df_results.iloc[2:3,:]"
   ]
  },
  {
   "cell_type": "markdown",
   "id": "7521f825",
   "metadata": {},
   "source": [
    "#### Test Score"
   ]
  },
  {
   "cell_type": "markdown",
   "id": "af53e53a",
   "metadata": {},
   "source": [
    "```python\n",
    "\n",
    "# Add accuracy info to `df_results`\n",
    "in_algo = 'Baseline'\n",
    "in_traintest = 'Test'\n",
    "in_r_nmr ='nmr'\n",
    "in_fcp = accuracy.fcp(Baseline_test_prediction_nmr)\n",
    "in_mae = accuracy.mae(Baseline_test_prediction_nmr)\n",
    "\n",
    "row_data = {'Algo': in_algo, \n",
    "            'Train/Test': in_traintest,\n",
    "            'R/NMR': in_r_nmr,\n",
    "            'fcp': in_fcp,\n",
    "            'mae': in_mae}\n",
    "\n",
    "# Add row data to df_results\n",
    "df_results = df_results.append(row_data, ignore_index=True)\n",
    "\n",
    "# Visualize upload\n",
    "df_results.tail(1)\n",
    "\n",
    "```"
   ]
  },
  {
   "cell_type": "code",
   "execution_count": 22,
   "id": "ae701d24",
   "metadata": {},
   "outputs": [
    {
     "data": {
      "text/html": [
       "<div>\n",
       "<style scoped>\n",
       "    .dataframe tbody tr th:only-of-type {\n",
       "        vertical-align: middle;\n",
       "    }\n",
       "\n",
       "    .dataframe tbody tr th {\n",
       "        vertical-align: top;\n",
       "    }\n",
       "\n",
       "    .dataframe thead th {\n",
       "        text-align: right;\n",
       "    }\n",
       "</style>\n",
       "<table border=\"1\" class=\"dataframe\">\n",
       "  <thead>\n",
       "    <tr style=\"text-align: right;\">\n",
       "      <th></th>\n",
       "      <th>Algo</th>\n",
       "      <th>Train/Test</th>\n",
       "      <th>R/NMR</th>\n",
       "      <th>fcp</th>\n",
       "      <th>mae</th>\n",
       "    </tr>\n",
       "  </thead>\n",
       "  <tbody>\n",
       "    <tr>\n",
       "      <th>3</th>\n",
       "      <td>Baseline</td>\n",
       "      <td>Test</td>\n",
       "      <td>nmr</td>\n",
       "      <td>0.621751</td>\n",
       "      <td>1.283663</td>\n",
       "    </tr>\n",
       "  </tbody>\n",
       "</table>\n",
       "</div>"
      ],
      "text/plain": [
       "       Algo Train/Test R/NMR       fcp       mae\n",
       "3  Baseline       Test   nmr  0.621751  1.283663"
      ]
     },
     "execution_count": 22,
     "metadata": {},
     "output_type": "execute_result"
    }
   ],
   "source": [
    "# Show results\n",
    "df_results.iloc[3:4,:]"
   ]
  },
  {
   "cell_type": "markdown",
   "id": "9bc68053",
   "metadata": {},
   "source": [
    "##### Summary / Findings:\n",
    "- I will review Baseline results in aggregate below in the code titled \"Look at Baseline results together\"."
   ]
  },
  {
   "cell_type": "markdown",
   "id": "e26f186c",
   "metadata": {},
   "source": [
    "### Look at Baseline results together"
   ]
  },
  {
   "cell_type": "code",
   "execution_count": 23,
   "id": "35dc1b55",
   "metadata": {},
   "outputs": [
    {
     "data": {
      "text/html": [
       "<div>\n",
       "<style scoped>\n",
       "    .dataframe tbody tr th:only-of-type {\n",
       "        vertical-align: middle;\n",
       "    }\n",
       "\n",
       "    .dataframe tbody tr th {\n",
       "        vertical-align: top;\n",
       "    }\n",
       "\n",
       "    .dataframe thead th {\n",
       "        text-align: right;\n",
       "    }\n",
       "</style>\n",
       "<table border=\"1\" class=\"dataframe\">\n",
       "  <thead>\n",
       "    <tr style=\"text-align: right;\">\n",
       "      <th></th>\n",
       "      <th>Algo</th>\n",
       "      <th>Train/Test</th>\n",
       "      <th>R/NMR</th>\n",
       "      <th>fcp</th>\n",
       "      <th>mae</th>\n",
       "    </tr>\n",
       "  </thead>\n",
       "  <tbody>\n",
       "    <tr>\n",
       "      <th>0</th>\n",
       "      <td>Baseline</td>\n",
       "      <td>Train</td>\n",
       "      <td>r</td>\n",
       "      <td>0.695704</td>\n",
       "      <td>1.267101</td>\n",
       "    </tr>\n",
       "    <tr>\n",
       "      <th>1</th>\n",
       "      <td>Baseline</td>\n",
       "      <td>Test</td>\n",
       "      <td>r</td>\n",
       "      <td>0.621330</td>\n",
       "      <td>1.340069</td>\n",
       "    </tr>\n",
       "    <tr>\n",
       "      <th>2</th>\n",
       "      <td>Baseline</td>\n",
       "      <td>Train</td>\n",
       "      <td>nmr</td>\n",
       "      <td>0.694906</td>\n",
       "      <td>1.260692</td>\n",
       "    </tr>\n",
       "    <tr>\n",
       "      <th>3</th>\n",
       "      <td>Baseline</td>\n",
       "      <td>Test</td>\n",
       "      <td>nmr</td>\n",
       "      <td>0.621751</td>\n",
       "      <td>1.283663</td>\n",
       "    </tr>\n",
       "  </tbody>\n",
       "</table>\n",
       "</div>"
      ],
      "text/plain": [
       "       Algo Train/Test R/NMR       fcp       mae\n",
       "0  Baseline      Train     r  0.695704  1.267101\n",
       "1  Baseline       Test     r  0.621330  1.340069\n",
       "2  Baseline      Train   nmr  0.694906  1.260692\n",
       "3  Baseline       Test   nmr  0.621751  1.283663"
      ]
     },
     "execution_count": 23,
     "metadata": {},
     "output_type": "execute_result"
    }
   ],
   "source": [
    "# Show Baseline Results\n",
    "df_results[df_results['Algo'] == 'Baseline']"
   ]
  },
  {
   "cell_type": "code",
   "execution_count": 24,
   "id": "10017855",
   "metadata": {},
   "outputs": [
    {
     "data": {
      "image/png": "[encoded data removed]",
      "text/plain": [
       "<Figure size 1080x360 with 2 Axes>"
      ]
     },
     "metadata": {
      "needs_background": "light"
     },
     "output_type": "display_data"
    }
   ],
   "source": [
    "# Plot metrics\n",
    "\n",
    "# Overall Variables\n",
    "graph_algo = 'Baseline'\n",
    "graph_metric = 'fcp'\n",
    "\n",
    "plt.subplots(1,2, figsize = (15,5))\n",
    "\n",
    "\n",
    "# Plot 1\n",
    "plt.subplot(1,2,1)\n",
    "\n",
    "# Variables\n",
    "graph_col = 'Rating'\n",
    "visual_input_x = df_results[(df_results['Algo'] == graph_algo) & (df_results['R/NMR'] == 'r')]['Train/Test']\n",
    "visual_input_y = df_results[(df_results['Algo'] == graph_algo) & (df_results['R/NMR'] == 'r')][graph_metric]\n",
    "\n",
    "# Plot Bar Graph\n",
    "plt.bar(visual_input_x, visual_input_y)\n",
    "\n",
    "# Titles and Axes\n",
    "plt.title(f'{graph_algo} of {graph_col} column - {graph_metric.upper()}')\n",
    "plt.ylabel(f'{graph_metric.upper()}')\n",
    "plt.xlabel('Datasets')\n",
    "\n",
    "\n",
    "# Plot 2\n",
    "plt.subplot(1,2,2)\n",
    "\n",
    "# Variables\n",
    "graph_col = 'Net Rating'\n",
    "visual_input_x = df_results[(df_results['Algo'] == graph_algo) & (df_results['R/NMR'] == 'nmr')]['Train/Test']\n",
    "visual_input_y = df_results[(df_results['Algo'] == graph_algo) & (df_results['R/NMR'] == 'nmr')][graph_metric]\n",
    "\n",
    "# Plot Bar Graph\n",
    "plt.bar(visual_input_x, visual_input_y)\n",
    "\n",
    "# Titles and Axes\n",
    "plt.title(f'{graph_algo} of {graph_col} column - {graph_metric.upper()}')\n",
    "plt.ylabel(f'{graph_metric.upper()}')\n",
    "plt.xlabel('Datasets')\n",
    "\n",
    "\n",
    "# Show the subplots\n",
    "plt.tight_layout\n",
    "plt.show()"
   ]
  },
  {
   "cell_type": "code",
   "execution_count": 25,
   "id": "2f7b28ec",
   "metadata": {},
   "outputs": [
    {
     "data": {
      "image/png": "[encoded data removed]",
      "text/plain": [
       "<Figure size 1080x360 with 2 Axes>"
      ]
     },
     "metadata": {
      "needs_background": "light"
     },
     "output_type": "display_data"
    }
   ],
   "source": [
    "# Plot metrics\n",
    "\n",
    "# Overall Variables\n",
    "graph_algo = 'Baseline'\n",
    "graph_metric = 'mae'\n",
    "\n",
    "plt.subplots(1,2, figsize = (15,5))\n",
    "\n",
    "\n",
    "# Plot 1\n",
    "plt.subplot(1,2,1)\n",
    "\n",
    "# Variables\n",
    "graph_col = 'Rating'\n",
    "visual_input_x = df_results[(df_results['Algo'] == graph_algo) & (df_results['R/NMR'] == 'r')]['Train/Test']\n",
    "visual_input_y = df_results[(df_results['Algo'] == graph_algo) & (df_results['R/NMR'] == 'r')][graph_metric]\n",
    "\n",
    "# Plot Bar Graph\n",
    "plt.bar(visual_input_x, visual_input_y)\n",
    "\n",
    "# Titles and Axes\n",
    "plt.title(f'{graph_algo} of {graph_col} column - {graph_metric.upper()}')\n",
    "plt.ylabel(f'{graph_metric.upper()}')\n",
    "plt.xlabel('Datasets')\n",
    "\n",
    "\n",
    "# Plot 2\n",
    "plt.subplot(1,2,2)\n",
    "\n",
    "# Variables\n",
    "graph_col = 'Net Rating'\n",
    "visual_input_x = df_results[(df_results['Algo'] == graph_algo) & (df_results['R/NMR'] == 'nmr')]['Train/Test']\n",
    "visual_input_y = df_results[(df_results['Algo'] == graph_algo) & (df_results['R/NMR'] == 'nmr')][graph_metric]\n",
    "\n",
    "# Plot Bar Graph\n",
    "plt.bar(visual_input_x, visual_input_y)\n",
    "\n",
    "# Titles and Axes\n",
    "plt.title(f'{graph_algo} of {graph_col} column - {graph_metric.upper()}')\n",
    "plt.ylabel(f'{graph_metric.upper()}')\n",
    "plt.xlabel('Datasets')\n",
    "\n",
    "\n",
    "# Show the subplots\n",
    "plt.tight_layout\n",
    "plt.show()"
   ]
  },
  {
   "cell_type": "markdown",
   "id": "f52a1e90",
   "metadata": {},
   "source": [
    "##### Summary / Findings:\n",
    "- It appears that for both models trained, fitted, and scored on the `rating` column and the `rating_net_user_mean` (net rating) column had similar performance:\n",
    "    - `fcp`:\n",
    "        - Train set ~ 0.695 for both\n",
    "        - Test set ~ 0.621 for both\n",
    "    - `mae`:\n",
    "        - Train set ~ 1.26 for both\n",
    "        - Test set ~ 1.34 for `rating` column generated model, and ~ 1.28 `rating_net_user_mean` (net rating) column generated model\n",
    "- It appears that the Baseline model using `rating_net_user_mean` (net rating) column performed slightly better than the other model."
   ]
  },
  {
   "cell_type": "markdown",
   "id": "b9e85256",
   "metadata": {},
   "source": [
    "## Perform Grid Search (Funk SVD)"
   ]
  },
  {
   "cell_type": "markdown",
   "id": "f8eb6eb4",
   "metadata": {},
   "source": [
    "I performed Grid Searches to fine tune the hyperparameters for the Funk SVD models below (one for `rating` column, and the other for the `rating_net_user_mean` column). The below Grid Searches took between 12 and 24 hours to run in total. Thus, I have instead put the code in markdown and exported the findings to csv. </br>\n",
    "</br>\n",
    "For the sake of run-time, I used a 3 fold cross validation instead of the 5 fold cross validation that is default for `GridSearchCV`."
   ]
  },
  {
   "cell_type": "markdown",
   "id": "d2a71460",
   "metadata": {},
   "source": [
    "#### Parameters for SVD\n",
    "Before performing the grid search, I will describe the various parameters of Grid Search we are adjusting for:\n",
    "- `n_factors` – The number of factors. These are latent features (i.e. hidden features) related to users and movies.\n",
    "- `n_epochs` – The number of iteration of the Stochastic Gradient Descent procedure (iterations to adjust factors to minimize error). \n",
    "- `lr_all` – The learning rate for all parameters. This is the parameter that controls how much to adjust the model in response to estimated errors.\n",
    "- `biased` – Boolean. True to use baselines or False for biases."
   ]
  },
  {
   "cell_type": "markdown",
   "id": "9cd2becd",
   "metadata": {},
   "source": [
    "### Run Grid Search for `rating` column"
   ]
  },
  {
   "cell_type": "markdown",
   "id": "235b1761",
   "metadata": {},
   "source": [
    "```python\n",
    "# Set the reader with accurate rating scale\n",
    "ratings_reader = Reader(rating_scale=(1,10))\n",
    "\n",
    "# Set the dataset \n",
    "train_dataset = Dataset.load_from_df(df_train_ratings[['userId','movieId','rating']], ratings_reader)\n",
    "\n",
    "# Set the parameter grid\n",
    "param_grid = {\n",
    "    'n_factors': [25, 100, 200], \n",
    "    'n_epochs': [5, 10, 20],\n",
    "    'lr_all': [0.005, 0.01, 0.1],\n",
    "    'biased': [False] }\n",
    "\n",
    "\n",
    "# Set GridSearchCV with 3 fold cross validation \n",
    "GS = GridSearchCV(SVD, param_grid, measures=['fcp', 'mae'], cv=3, joblib_verbose=5)\n",
    "\n",
    "# Fit the model\n",
    "GS.fit(train_dataset)\n",
    "\n",
    "# Put Grid Search results into a DataFrame\n",
    "df_GS_results = pd.DataFrame(GS.cv_results)\n",
    "\n",
    "# Write to csv \n",
    "df_GS_results.to_csv('DT_files/DT_GS_results_ratings.csv')\n",
    "\n",
    "```"
   ]
  },
  {
   "cell_type": "markdown",
   "id": "90ce23a8",
   "metadata": {},
   "source": [
    "### Run Grid Search for `rating_net_user_mean` column"
   ]
  },
  {
   "cell_type": "markdown",
   "id": "51ea0598",
   "metadata": {},
   "source": [
    "```python\n",
    "\n",
    "# Set the reader with accurate rating scale\n",
    "ratings_reader_user_mean = Reader(rating_scale=(-10,10))\n",
    "\n",
    "# Set the dataset\n",
    "train_dataset_user_mean = Dataset.load_from_df(df_train_ratings[['userId','movieId','rating_net_user_mean']], ratings_reader_user_mean)\n",
    "\n",
    "# Set the parameter grid\n",
    "param_grid = {\n",
    "    'n_factors': [25, 100, 200], \n",
    "    'n_epochs': [5, 10, 20],\n",
    "    'lr_all': [0.005, 0.01, 0.1],\n",
    "    'biased': [False] }\n",
    "\n",
    "# Set GridSearchCV with 3 cross validation\n",
    "GS_user_mean = GridSearchCV(SVD, param_grid, measures=['fcp', 'mae'], cv=3, joblib_verbose=5)\n",
    "\n",
    "# Fit the model\n",
    "GS_user_mean.fit(train_dataset_user_mean)\n",
    "\n",
    "# Put Grid Search results into a DataFrame\n",
    "df_GS_results_user_mean = pd.DataFrame(GS_user_mean.cv_results)\n",
    "\n",
    "# Write to csv \n",
    "df_GS_results_user_mean.to_csv('DT_files/DT_GS_results_user_mean_ratings.csv')\n",
    "\n",
    "```"
   ]
  },
  {
   "cell_type": "markdown",
   "id": "3bfd01ec",
   "metadata": {},
   "source": [
    "I could have pickled the Grid Searches above, however for reproducibility and memory sake the results themselves are sufficient. </br>\n",
    "</br>\n",
    "Below I will perform code to analyze the results from the Grid Searches performed above."
   ]
  },
  {
   "cell_type": "code",
   "execution_count": 26,
   "id": "97d54508",
   "metadata": {},
   "outputs": [],
   "source": [
    "# Import Grid Search Results\n",
    "\n",
    "# `rating` column\n",
    "df_GS_results = pd.read_csv('DT_files/DT_GS_results_ratings.csv', index_col = 0)\n",
    "\n",
    "# `rating_net_user_mean` column\n",
    "df_GS_results_user_mean = pd.read_csv('DT_files/DT_GS_results_user_mean_ratings.csv', index_col = 0)"
   ]
  },
  {
   "cell_type": "markdown",
   "id": "751042cc",
   "metadata": {},
   "source": [
    "*Visualize - both set of results should be in the same format*"
   ]
  },
  {
   "cell_type": "code",
   "execution_count": 27,
   "id": "66d58ea6",
   "metadata": {},
   "outputs": [
    {
     "data": {
      "text/html": [
       "<div>\n",
       "<style scoped>\n",
       "    .dataframe tbody tr th:only-of-type {\n",
       "        vertical-align: middle;\n",
       "    }\n",
       "\n",
       "    .dataframe tbody tr th {\n",
       "        vertical-align: top;\n",
       "    }\n",
       "\n",
       "    .dataframe thead th {\n",
       "        text-align: right;\n",
       "    }\n",
       "</style>\n",
       "<table border=\"1\" class=\"dataframe\">\n",
       "  <thead>\n",
       "    <tr style=\"text-align: right;\">\n",
       "      <th></th>\n",
       "      <th>split0_test_fcp</th>\n",
       "      <th>split1_test_fcp</th>\n",
       "      <th>split2_test_fcp</th>\n",
       "      <th>mean_test_fcp</th>\n",
       "      <th>std_test_fcp</th>\n",
       "      <th>rank_test_fcp</th>\n",
       "      <th>split0_test_mae</th>\n",
       "      <th>split1_test_mae</th>\n",
       "      <th>split2_test_mae</th>\n",
       "      <th>mean_test_mae</th>\n",
       "      <th>...</th>\n",
       "      <th>rank_test_mae</th>\n",
       "      <th>mean_fit_time</th>\n",
       "      <th>std_fit_time</th>\n",
       "      <th>mean_test_time</th>\n",
       "      <th>std_test_time</th>\n",
       "      <th>params</th>\n",
       "      <th>param_n_factors</th>\n",
       "      <th>param_n_epochs</th>\n",
       "      <th>param_lr_all</th>\n",
       "      <th>param_biased</th>\n",
       "    </tr>\n",
       "  </thead>\n",
       "  <tbody>\n",
       "    <tr>\n",
       "      <th>0</th>\n",
       "      <td>0.721096</td>\n",
       "      <td>0.718796</td>\n",
       "      <td>0.720456</td>\n",
       "      <td>0.720116</td>\n",
       "      <td>0.000969</td>\n",
       "      <td>12</td>\n",
       "      <td>1.248385</td>\n",
       "      <td>1.249877</td>\n",
       "      <td>1.248785</td>\n",
       "      <td>1.249015</td>\n",
       "      <td>...</td>\n",
       "      <td>18</td>\n",
       "      <td>22.753826</td>\n",
       "      <td>0.423304</td>\n",
       "      <td>19.673066</td>\n",
       "      <td>2.311413</td>\n",
       "      <td>{'n_factors': 25, 'n_epochs': 5, 'lr_all': 0.0...</td>\n",
       "      <td>25</td>\n",
       "      <td>5</td>\n",
       "      <td>0.005</td>\n",
       "      <td>False</td>\n",
       "    </tr>\n",
       "  </tbody>\n",
       "</table>\n",
       "<p>1 rows × 21 columns</p>\n",
       "</div>"
      ],
      "text/plain": [
       "   split0_test_fcp  split1_test_fcp  split2_test_fcp  mean_test_fcp  \\\n",
       "0         0.721096         0.718796         0.720456       0.720116   \n",
       "\n",
       "   std_test_fcp  rank_test_fcp  split0_test_mae  split1_test_mae  \\\n",
       "0      0.000969             12         1.248385         1.249877   \n",
       "\n",
       "   split2_test_mae  mean_test_mae  ...  rank_test_mae  mean_fit_time  \\\n",
       "0         1.248785       1.249015  ...             18      22.753826   \n",
       "\n",
       "   std_fit_time  mean_test_time  std_test_time  \\\n",
       "0      0.423304       19.673066       2.311413   \n",
       "\n",
       "                                              params param_n_factors  \\\n",
       "0  {'n_factors': 25, 'n_epochs': 5, 'lr_all': 0.0...              25   \n",
       "\n",
       "   param_n_epochs  param_lr_all  param_biased  \n",
       "0               5         0.005         False  \n",
       "\n",
       "[1 rows x 21 columns]"
      ]
     },
     "execution_count": 27,
     "metadata": {},
     "output_type": "execute_result"
    }
   ],
   "source": [
    "# Visualize \n",
    "df_GS_results.head(1) "
   ]
  },
  {
   "cell_type": "code",
   "execution_count": 28,
   "id": "1f0042c5",
   "metadata": {},
   "outputs": [
    {
     "data": {
      "text/html": [
       "<div>\n",
       "<style scoped>\n",
       "    .dataframe tbody tr th:only-of-type {\n",
       "        vertical-align: middle;\n",
       "    }\n",
       "\n",
       "    .dataframe tbody tr th {\n",
       "        vertical-align: top;\n",
       "    }\n",
       "\n",
       "    .dataframe thead th {\n",
       "        text-align: right;\n",
       "    }\n",
       "</style>\n",
       "<table border=\"1\" class=\"dataframe\">\n",
       "  <thead>\n",
       "    <tr style=\"text-align: right;\">\n",
       "      <th></th>\n",
       "      <th>split0_test_fcp</th>\n",
       "      <th>split1_test_fcp</th>\n",
       "      <th>split2_test_fcp</th>\n",
       "      <th>mean_test_fcp</th>\n",
       "      <th>std_test_fcp</th>\n",
       "      <th>rank_test_fcp</th>\n",
       "      <th>split0_test_mae</th>\n",
       "      <th>split1_test_mae</th>\n",
       "      <th>split2_test_mae</th>\n",
       "      <th>mean_test_mae</th>\n",
       "      <th>...</th>\n",
       "      <th>rank_test_mae</th>\n",
       "      <th>mean_fit_time</th>\n",
       "      <th>std_fit_time</th>\n",
       "      <th>mean_test_time</th>\n",
       "      <th>std_test_time</th>\n",
       "      <th>params</th>\n",
       "      <th>param_n_factors</th>\n",
       "      <th>param_n_epochs</th>\n",
       "      <th>param_lr_all</th>\n",
       "      <th>param_biased</th>\n",
       "    </tr>\n",
       "  </thead>\n",
       "  <tbody>\n",
       "    <tr>\n",
       "      <th>0</th>\n",
       "      <td>0.719133</td>\n",
       "      <td>0.720319</td>\n",
       "      <td>0.719038</td>\n",
       "      <td>0.719497</td>\n",
       "      <td>0.000582</td>\n",
       "      <td>12</td>\n",
       "      <td>1.198207</td>\n",
       "      <td>1.197186</td>\n",
       "      <td>1.199832</td>\n",
       "      <td>1.198408</td>\n",
       "      <td>...</td>\n",
       "      <td>16</td>\n",
       "      <td>22.895919</td>\n",
       "      <td>0.322961</td>\n",
       "      <td>19.833965</td>\n",
       "      <td>1.572266</td>\n",
       "      <td>{'n_factors': 25, 'n_epochs': 5, 'lr_all': 0.0...</td>\n",
       "      <td>25</td>\n",
       "      <td>5</td>\n",
       "      <td>0.005</td>\n",
       "      <td>False</td>\n",
       "    </tr>\n",
       "  </tbody>\n",
       "</table>\n",
       "<p>1 rows × 21 columns</p>\n",
       "</div>"
      ],
      "text/plain": [
       "   split0_test_fcp  split1_test_fcp  split2_test_fcp  mean_test_fcp  \\\n",
       "0         0.719133         0.720319         0.719038       0.719497   \n",
       "\n",
       "   std_test_fcp  rank_test_fcp  split0_test_mae  split1_test_mae  \\\n",
       "0      0.000582             12         1.198207         1.197186   \n",
       "\n",
       "   split2_test_mae  mean_test_mae  ...  rank_test_mae  mean_fit_time  \\\n",
       "0         1.199832       1.198408  ...             16      22.895919   \n",
       "\n",
       "   std_fit_time  mean_test_time  std_test_time  \\\n",
       "0      0.322961       19.833965       1.572266   \n",
       "\n",
       "                                              params param_n_factors  \\\n",
       "0  {'n_factors': 25, 'n_epochs': 5, 'lr_all': 0.0...              25   \n",
       "\n",
       "   param_n_epochs  param_lr_all  param_biased  \n",
       "0               5         0.005         False  \n",
       "\n",
       "[1 rows x 21 columns]"
      ]
     },
     "execution_count": 28,
     "metadata": {},
     "output_type": "execute_result"
    }
   ],
   "source": [
    "# Visualize\n",
    "df_GS_results_user_mean.head(1)"
   ]
  },
  {
   "cell_type": "markdown",
   "id": "ef393a59",
   "metadata": {},
   "source": [
    "*Look at column names - both set of results should be in the same format*"
   ]
  },
  {
   "cell_type": "code",
   "execution_count": 29,
   "id": "0f378c68",
   "metadata": {},
   "outputs": [
    {
     "data": {
      "text/plain": [
       "Index(['split0_test_fcp', 'split1_test_fcp', 'split2_test_fcp',\n",
       "       'mean_test_fcp', 'std_test_fcp', 'rank_test_fcp', 'split0_test_mae',\n",
       "       'split1_test_mae', 'split2_test_mae', 'mean_test_mae', 'std_test_mae',\n",
       "       'rank_test_mae', 'mean_fit_time', 'std_fit_time', 'mean_test_time',\n",
       "       'std_test_time', 'params', 'param_n_factors', 'param_n_epochs',\n",
       "       'param_lr_all', 'param_biased'],\n",
       "      dtype='object')"
      ]
     },
     "execution_count": 29,
     "metadata": {},
     "output_type": "execute_result"
    }
   ],
   "source": [
    "# Column names \n",
    "df_GS_results.columns"
   ]
  },
  {
   "cell_type": "code",
   "execution_count": 30,
   "id": "5813298b",
   "metadata": {},
   "outputs": [
    {
     "data": {
      "text/plain": [
       "Index(['split0_test_fcp', 'split1_test_fcp', 'split2_test_fcp',\n",
       "       'mean_test_fcp', 'std_test_fcp', 'rank_test_fcp', 'split0_test_mae',\n",
       "       'split1_test_mae', 'split2_test_mae', 'mean_test_mae', 'std_test_mae',\n",
       "       'rank_test_mae', 'mean_fit_time', 'std_fit_time', 'mean_test_time',\n",
       "       'std_test_time', 'params', 'param_n_factors', 'param_n_epochs',\n",
       "       'param_lr_all', 'param_biased'],\n",
       "      dtype='object')"
      ]
     },
     "execution_count": 30,
     "metadata": {},
     "output_type": "execute_result"
    }
   ],
   "source": [
    "# Column names \n",
    "df_GS_results_user_mean.columns"
   ]
  },
  {
   "cell_type": "markdown",
   "id": "6bf5fa7a",
   "metadata": {},
   "source": [
    "##### Summary / Findings:\n",
    "- I have successfully performed Grid Search for SVD. I will analyze the results of this Grid Search below."
   ]
  },
  {
   "cell_type": "markdown",
   "id": "f7560a55",
   "metadata": {},
   "source": [
    "## Analyze Grid Search Results"
   ]
  },
  {
   "cell_type": "markdown",
   "id": "b7857498",
   "metadata": {},
   "source": [
    "### `rating` column"
   ]
  },
  {
   "cell_type": "code",
   "execution_count": 31,
   "id": "c3fc343e",
   "metadata": {},
   "outputs": [
    {
     "name": "stdout",
     "output_type": "stream",
     "text": [
      "Max FCP score: 0.741\n",
      "Min MAE: 1.145\n"
     ]
    }
   ],
   "source": [
    "# FCP accuracy score (1.0 is ideal and 0 is worst) - Max score\n",
    "print(f\"Max FCP score: {round(df_GS_results['mean_test_fcp'].max(),3)}\")\n",
    "\n",
    "# Mean Absolute Error (MAE) - lower is better \n",
    "print(f\"Min MAE: {round(df_GS_results['mean_test_mae'].min(),3)}\")"
   ]
  },
  {
   "cell_type": "code",
   "execution_count": 32,
   "id": "706b5756",
   "metadata": {},
   "outputs": [
    {
     "data": {
      "text/plain": [
       "\"{'n_factors': 25, 'n_epochs': 20, 'lr_all': 0.005, 'biased': False}\""
      ]
     },
     "execution_count": 32,
     "metadata": {},
     "output_type": "execute_result"
    }
   ],
   "source": [
    "# Get Parameters of Top performing model - based on fcp accuracy score\n",
    "df_GS_results.sort_values('mean_test_fcp', ascending=False)['params'].iloc[0,]\n",
    "    # sort values from largest to smallest for fcp accuracy score\n",
    "    # keep params columns.\n",
    "    # filter for first row"
   ]
  },
  {
   "cell_type": "code",
   "execution_count": 33,
   "id": "e152268c",
   "metadata": {},
   "outputs": [
    {
     "data": {
      "text/plain": [
       "\"{'n_factors': 25, 'n_epochs': 20, 'lr_all': 0.005, 'biased': False}\""
      ]
     },
     "execution_count": 33,
     "metadata": {},
     "output_type": "execute_result"
    }
   ],
   "source": [
    "# Get Parameters of Top performing model - based on lowest MAE\n",
    "df_GS_results.sort_values('mean_test_mae', ascending=True)['params'].iloc[0,]\n",
    "    # sort values from smallest to largest for MAE\n",
    "    # keep params columns.\n",
    "    # filter for first row"
   ]
  },
  {
   "cell_type": "markdown",
   "id": "b8d050b5",
   "metadata": {},
   "source": [
    "#### Look at hyperparameters and how they performed against each other"
   ]
  },
  {
   "cell_type": "markdown",
   "id": "14535173",
   "metadata": {},
   "source": [
    "**fcp**"
   ]
  },
  {
   "cell_type": "code",
   "execution_count": 34,
   "id": "e9628fa4",
   "metadata": {},
   "outputs": [
    {
     "data": {
      "text/plain": [
       "param_n_factors\n",
       "25     0.740953\n",
       "100    0.738228\n",
       "200    0.736961\n",
       "Name: mean_test_fcp, dtype: float64"
      ]
     },
     "execution_count": 34,
     "metadata": {},
     "output_type": "execute_result"
    }
   ],
   "source": [
    "# n_factors\n",
    "df_GS_results.groupby('param_n_factors')['mean_test_fcp'].max()"
   ]
  },
  {
   "cell_type": "code",
   "execution_count": 35,
   "id": "aaf1c888",
   "metadata": {},
   "outputs": [
    {
     "data": {
      "text/plain": [
       "param_n_epochs\n",
       "5     0.732505\n",
       "10    0.738517\n",
       "20    0.740953\n",
       "Name: mean_test_fcp, dtype: float64"
      ]
     },
     "execution_count": 35,
     "metadata": {},
     "output_type": "execute_result"
    }
   ],
   "source": [
    "# n_epochs\n",
    "df_GS_results.groupby('param_n_epochs')['mean_test_fcp'].max()"
   ]
  },
  {
   "cell_type": "code",
   "execution_count": 36,
   "id": "bb65cf50",
   "metadata": {},
   "outputs": [
    {
     "data": {
      "text/plain": [
       "param_lr_all\n",
       "0.005    0.740953\n",
       "0.010    0.733209\n",
       "0.100    0.000000\n",
       "Name: mean_test_fcp, dtype: float64"
      ]
     },
     "execution_count": 36,
     "metadata": {},
     "output_type": "execute_result"
    }
   ],
   "source": [
    "# lr_all\n",
    "df_GS_results.groupby('param_lr_all')['mean_test_fcp'].max()"
   ]
  },
  {
   "cell_type": "markdown",
   "id": "263ee067",
   "metadata": {},
   "source": [
    "**mae**"
   ]
  },
  {
   "cell_type": "code",
   "execution_count": 37,
   "id": "66f65e87",
   "metadata": {},
   "outputs": [
    {
     "data": {
      "text/plain": [
       "param_n_factors\n",
       "25     1.144506\n",
       "100    1.158275\n",
       "200    1.162814\n",
       "Name: mean_test_mae, dtype: float64"
      ]
     },
     "execution_count": 37,
     "metadata": {},
     "output_type": "execute_result"
    }
   ],
   "source": [
    "# n_factors\n",
    "df_GS_results.groupby('param_n_factors')['mean_test_mae'].min()"
   ]
  },
  {
   "cell_type": "code",
   "execution_count": 38,
   "id": "0d23b3b2",
   "metadata": {},
   "outputs": [
    {
     "data": {
      "text/plain": [
       "param_n_epochs\n",
       "5     1.217170\n",
       "10    1.158275\n",
       "20    1.144506\n",
       "Name: mean_test_mae, dtype: float64"
      ]
     },
     "execution_count": 38,
     "metadata": {},
     "output_type": "execute_result"
    }
   ],
   "source": [
    "# n_epochs\n",
    "df_GS_results.groupby('param_n_epochs')['mean_test_mae'].min()"
   ]
  },
  {
   "cell_type": "code",
   "execution_count": 39,
   "id": "513be6ea",
   "metadata": {},
   "outputs": [
    {
     "data": {
      "text/plain": [
       "param_lr_all\n",
       "0.005    1.144506\n",
       "0.010    1.188511\n",
       "0.100    2.862567\n",
       "Name: mean_test_mae, dtype: float64"
      ]
     },
     "execution_count": 39,
     "metadata": {},
     "output_type": "execute_result"
    }
   ],
   "source": [
    "# lr_all\n",
    "df_GS_results.groupby('param_lr_all')['mean_test_mae'].min()"
   ]
  },
  {
   "cell_type": "markdown",
   "id": "18b40cb8",
   "metadata": {},
   "source": [
    "**Visualize**"
   ]
  },
  {
   "cell_type": "code",
   "execution_count": 40,
   "id": "1cb1aa0c",
   "metadata": {},
   "outputs": [
    {
     "name": "stdout",
     "output_type": "stream",
     "text": [
      "\n",
      "Grid Search Results - Rating Column\n",
      "\n"
     ]
    },
    {
     "data": {
      "image/png": "[encoded data removed]",
      "text/plain": [
       "<Figure size 1080x720 with 6 Axes>"
      ]
     },
     "metadata": {
      "needs_background": "light"
     },
     "output_type": "display_data"
    }
   ],
   "source": [
    "# Visualize Grid Search Results\n",
    "print('') # Intentionally left blank, for spacing\n",
    "print(\"Grid Search Results - Rating Column\")\n",
    "print('') # Intentionally left blank, for spacing\n",
    "\n",
    "# Set up graph variables\n",
    "v_in_1 = df_GS_results.groupby('param_n_factors')['mean_test_fcp'].max()\n",
    "v_in_2 = df_GS_results.groupby('param_n_epochs')['mean_test_fcp'].max()\n",
    "v_in_3 = df_GS_results.groupby('param_lr_all')['mean_test_fcp'].max()\n",
    "v_in_4 = df_GS_results.groupby('param_n_factors')['mean_test_mae'].min()\n",
    "v_in_5 = df_GS_results.groupby('param_n_epochs')['mean_test_mae'].min()\n",
    "v_in_6 = df_GS_results.groupby('param_lr_all')['mean_test_mae'].min()\n",
    "\n",
    "list_v_in = [v_in_1, v_in_2, v_in_3, v_in_4, v_in_5, v_in_6]\n",
    "list_v_title = ['FCP - Factors', 'FCP - Epochs', 'FCP - Learning Rate', \\\n",
    "                'MAE - Factors', 'MAE - Epochs', 'MAE - Learning Rate']\n",
    "list_v_x = ['Factors', 'Epochs', 'Learning Rate', \\\n",
    "            'Factors', 'Epochs', 'Learning Rate']\n",
    "list_v_y = ['FCP', 'FCP', 'FCP', 'MAE', 'MAE', 'MAE']\n",
    "\n",
    "plt.subplots(2,3, figsize=(15,10))\n",
    "\n",
    "for plot_i in range (0,6):\n",
    "    \n",
    "    plt.subplot(2,3,plot_i+1)\n",
    "    \n",
    "    # Bar Graph\n",
    "    plt.bar(list_v_in[plot_i].index.astype('str'), \n",
    "            list_v_in[plot_i].values)\n",
    "\n",
    "    # Titles and axis\n",
    "    plt.title(list_v_title[plot_i])\n",
    "    plt.xlabel(list_v_x[plot_i])\n",
    "    plt.ylabel(list_v_y[plot_i])\n",
    "\n",
    "\n",
    "plt.tight_layout()\n",
    "plt.show()"
   ]
  },
  {
   "cell_type": "markdown",
   "id": "1c83342d",
   "metadata": {},
   "source": [
    "##### Summary / Findings:\n",
    "Below are the insights I have gathered from my Grid Search results above.\n",
    "\n",
    "- The best model from the Grid Search under both `fcp` and `mae` metrics has the following parameters:\n",
    "    - {'n_factors': 25, 'n_epochs': 20, 'lr_all': 0.005, 'biased': False} </br>\n",
    "</br>\n",
    "\n",
    "- A look into the parameters and how they performed.\n",
    "    - Lower Factors lead to higher `fcp` and lower `mae` (i.e. favourable).\n",
    "        - This is surprising as I would generally expect more favourable results with more latent factors. \n",
    "    - Higher Epochs lead to higher `fcp` and lower `mae` (i.e. favourable).\n",
    "        - It appears that the model benefitted from the additional fine tuning with higher epochs.\n",
    "    - Lower Learning Rate lead to higher `fcp` and lower `mae` (i.e. favourable).\n",
    "        - It appears that a lower learning rate was better suited to fine tune the model."
   ]
  },
  {
   "cell_type": "markdown",
   "id": "98efb511",
   "metadata": {},
   "source": [
    "### `rating_net_user_mean` column"
   ]
  },
  {
   "cell_type": "code",
   "execution_count": 41,
   "id": "4db88ff5",
   "metadata": {},
   "outputs": [
    {
     "name": "stdout",
     "output_type": "stream",
     "text": [
      "Max FCP score: 0.743\n",
      "Min MAE: 1.144\n"
     ]
    }
   ],
   "source": [
    "# FCP accuracy score (1.0 is ideal and 0 is worst) - Max score\n",
    "print(f\"Max FCP score: {round(df_GS_results_user_mean['mean_test_fcp'].max(),3)}\")\n",
    "\n",
    "# Mean Absolute Error (MAE) - lower is better \n",
    "print(f\"Min MAE: {round(df_GS_results_user_mean['mean_test_mae'].min(),3)}\")"
   ]
  },
  {
   "cell_type": "code",
   "execution_count": 42,
   "id": "f2ea5ef4",
   "metadata": {},
   "outputs": [
    {
     "data": {
      "text/plain": [
       "\"{'n_factors': 25, 'n_epochs': 20, 'lr_all': 0.005, 'biased': False}\""
      ]
     },
     "execution_count": 42,
     "metadata": {},
     "output_type": "execute_result"
    }
   ],
   "source": [
    "# Get Parameters of Top performing model\n",
    "df_GS_results_user_mean.sort_values('mean_test_fcp', ascending=False)['params'].iloc[0,]\n",
    "    # sort values from largest to smallest for fcp accuracy score\n",
    "    # keep params columns.\n",
    "    # filter for first row"
   ]
  },
  {
   "cell_type": "code",
   "execution_count": 43,
   "id": "89ce2726",
   "metadata": {},
   "outputs": [
    {
     "data": {
      "text/plain": [
       "\"{'n_factors': 25, 'n_epochs': 20, 'lr_all': 0.005, 'biased': False}\""
      ]
     },
     "execution_count": 43,
     "metadata": {},
     "output_type": "execute_result"
    }
   ],
   "source": [
    "# Get Parameters of Top performing model - based on lowest MAE\n",
    "df_GS_results_user_mean.sort_values('mean_test_mae', ascending=True)['params'].iloc[0,]\n",
    "    # sort values from smallest to largest for MAE\n",
    "    # keep params columns.\n",
    "    # filter for first row"
   ]
  },
  {
   "cell_type": "markdown",
   "id": "e9eb7825",
   "metadata": {},
   "source": [
    "#### Look at hyperparameters and how they performed against each other"
   ]
  },
  {
   "cell_type": "markdown",
   "id": "f3d1aff3",
   "metadata": {},
   "source": [
    "**fcp**"
   ]
  },
  {
   "cell_type": "code",
   "execution_count": 44,
   "id": "d52d6f0e",
   "metadata": {},
   "outputs": [
    {
     "data": {
      "text/plain": [
       "param_n_factors\n",
       "25     0.742752\n",
       "100    0.738280\n",
       "200    0.735814\n",
       "Name: mean_test_fcp, dtype: float64"
      ]
     },
     "execution_count": 44,
     "metadata": {},
     "output_type": "execute_result"
    }
   ],
   "source": [
    "# n_factors\n",
    "df_GS_results_user_mean.groupby('param_n_factors')['mean_test_fcp'].max()"
   ]
  },
  {
   "cell_type": "code",
   "execution_count": 45,
   "id": "b2661c92",
   "metadata": {},
   "outputs": [
    {
     "data": {
      "text/plain": [
       "param_n_epochs\n",
       "5     0.738107\n",
       "10    0.739313\n",
       "20    0.742752\n",
       "Name: mean_test_fcp, dtype: float64"
      ]
     },
     "execution_count": 45,
     "metadata": {},
     "output_type": "execute_result"
    }
   ],
   "source": [
    "# n_epochs\n",
    "df_GS_results_user_mean.groupby('param_n_epochs')['mean_test_fcp'].max()"
   ]
  },
  {
   "cell_type": "code",
   "execution_count": 46,
   "id": "f57e41ef",
   "metadata": {},
   "outputs": [
    {
     "data": {
      "text/plain": [
       "param_lr_all\n",
       "0.005    0.742752\n",
       "0.010    0.738174\n",
       "0.100    0.000000\n",
       "Name: mean_test_fcp, dtype: float64"
      ]
     },
     "execution_count": 46,
     "metadata": {},
     "output_type": "execute_result"
    }
   ],
   "source": [
    "# lr_all\n",
    "df_GS_results_user_mean.groupby('param_lr_all')['mean_test_fcp'].max()"
   ]
  },
  {
   "cell_type": "markdown",
   "id": "50663942",
   "metadata": {},
   "source": [
    "**mae**"
   ]
  },
  {
   "cell_type": "code",
   "execution_count": 47,
   "id": "ea9ef987",
   "metadata": {},
   "outputs": [
    {
     "data": {
      "text/plain": [
       "param_n_factors\n",
       "25     1.143986\n",
       "100    1.146410\n",
       "200    1.154413\n",
       "Name: mean_test_mae, dtype: float64"
      ]
     },
     "execution_count": 47,
     "metadata": {},
     "output_type": "execute_result"
    }
   ],
   "source": [
    "# n_factors\n",
    "df_GS_results_user_mean.groupby('param_n_factors')['mean_test_mae'].min()"
   ]
  },
  {
   "cell_type": "code",
   "execution_count": 48,
   "id": "e7f3398e",
   "metadata": {},
   "outputs": [
    {
     "data": {
      "text/plain": [
       "param_n_epochs\n",
       "5     1.149150\n",
       "10    1.144142\n",
       "20    1.143986\n",
       "Name: mean_test_mae, dtype: float64"
      ]
     },
     "execution_count": 48,
     "metadata": {},
     "output_type": "execute_result"
    }
   ],
   "source": [
    "# n_epochs\n",
    "df_GS_results_user_mean.groupby('param_n_epochs')['mean_test_mae'].min()"
   ]
  },
  {
   "cell_type": "code",
   "execution_count": 49,
   "id": "f4b7a099",
   "metadata": {},
   "outputs": [
    {
     "data": {
      "text/plain": [
       "param_lr_all\n",
       "0.005     1.143986\n",
       "0.010     1.149150\n",
       "0.100    10.000652\n",
       "Name: mean_test_mae, dtype: float64"
      ]
     },
     "execution_count": 49,
     "metadata": {},
     "output_type": "execute_result"
    }
   ],
   "source": [
    "# lr_all\n",
    "df_GS_results_user_mean.groupby('param_lr_all')['mean_test_mae'].min()"
   ]
  },
  {
   "cell_type": "markdown",
   "id": "b1196a6a",
   "metadata": {},
   "source": [
    "**Visualize**"
   ]
  },
  {
   "cell_type": "code",
   "execution_count": 50,
   "id": "b25eb0e0",
   "metadata": {},
   "outputs": [
    {
     "name": "stdout",
     "output_type": "stream",
     "text": [
      "\n",
      "Grid Search Results - Net Rating Column\n",
      "\n"
     ]
    },
    {
     "data": {
      "image/png": "[encoded data removed]",
      "text/plain": [
       "<Figure size 1080x720 with 6 Axes>"
      ]
     },
     "metadata": {
      "needs_background": "light"
     },
     "output_type": "display_data"
    }
   ],
   "source": [
    "# Visualize Grid Search Results\n",
    "print('') # Intentionally left blank, for spacing\n",
    "print(\"Grid Search Results - Net Rating Column\")\n",
    "print('') # Intentionally left blank, for spacing\n",
    "\n",
    "# Set up graph variables\n",
    "v_in_1 = df_GS_results_user_mean.groupby('param_n_factors')['mean_test_fcp'].max()\n",
    "v_in_2 = df_GS_results_user_mean.groupby('param_n_epochs')['mean_test_fcp'].max()\n",
    "v_in_3 = df_GS_results_user_mean.groupby('param_lr_all')['mean_test_fcp'].max()\n",
    "v_in_4 = df_GS_results_user_mean.groupby('param_n_factors')['mean_test_mae'].min()\n",
    "v_in_5 = df_GS_results_user_mean.groupby('param_n_epochs')['mean_test_mae'].min()\n",
    "v_in_6 = df_GS_results_user_mean.groupby('param_lr_all')['mean_test_mae'].min()\n",
    "\n",
    "list_v_in = [v_in_1, v_in_2, v_in_3, v_in_4, v_in_5, v_in_6]\n",
    "list_v_title = ['FCP - Factors', 'FCP - Epochs', 'FCP - Learning Rate', \\\n",
    "                'MAE - Factors', 'MAE - Epochs', 'MAE - Learning Rate']\n",
    "list_v_x = ['Factors', 'Epochs', 'Learning Rate', \\\n",
    "            'Factors', 'Epochs', 'Learning Rate']\n",
    "list_v_y = ['FCP', 'FCP', 'FCP', 'MAE', 'MAE', 'MAE']\n",
    "\n",
    "plt.subplots(2,3, figsize=(15,10))\n",
    "\n",
    "for plot_i in range (0,6):\n",
    "    \n",
    "    plt.subplot(2,3,plot_i+1)\n",
    "    \n",
    "    # Bar Graph\n",
    "    plt.bar(list_v_in[plot_i].index.astype('str'), \n",
    "            list_v_in[plot_i].values)\n",
    "\n",
    "    # Titles and axis\n",
    "    plt.title(list_v_title[plot_i])\n",
    "    plt.xlabel(list_v_x[plot_i])\n",
    "    plt.ylabel(list_v_y[plot_i])\n",
    "\n",
    "\n",
    "plt.tight_layout()\n",
    "plt.show()"
   ]
  },
  {
   "cell_type": "markdown",
   "id": "ffc111e2",
   "metadata": {},
   "source": [
    "##### Summary / Findings:\n",
    "Below are the insights I have gathered from my Grid Search results above.\n",
    "\n",
    "- The best model from the Grid Search under both `fcp` and `mae` metrics has the following parameters:\n",
    "    - {'n_factors': 25, 'n_epochs': 20, 'lr_all': 0.005, 'biased': False} </br>\n",
    "</br>\n",
    "\n",
    "- A look into the parameters and how they performed.\n",
    "    - Lower Factors lead to higher `fcp` and lower `mae` (i.e. favourable).\n",
    "        - This is surprising as I would generally expect more favourable results with more latent factors. \n",
    "    - Higher Epochs lead to higher `fcp` and lower `mae` (i.e. favourable).\n",
    "        - It appears that the model benefitted from the additional fine tuning with higher epochs.\n",
    "    - Lower Learning Rate lead to higher `fcp` and lower `mae` (i.e. favourable).\n",
    "        - It appears that a lower learning rate was better suited to fine tune the model."
   ]
  },
  {
   "cell_type": "markdown",
   "id": "2beec956",
   "metadata": {},
   "source": [
    "### Overall Grid Search Results"
   ]
  },
  {
   "cell_type": "markdown",
   "id": "94555b6b",
   "metadata": {},
   "source": [
    "##### Summary / Findings:\n",
    "- The unanimous best model from the Grid Search under both `fcp` and `mae` metrics and both `rating` or `rating_net_user_mean` (net rating) columns is:\n",
    "    - {'n_factors': 25, 'n_epochs': 20, 'lr_all': 0.005, 'biased': False} </br>\n",
    "</br>\n",
    "- A look into the parameters and how they performed.\n",
    "    - Lower Factors lead to higher `fcp` and lower `mae` (i.e. favourable).\n",
    "        - This is surprising as I would generally expect more favourable results with more latent factors. \n",
    "    - Higher Epochs lead to higher `fcp` and lower `mae` (i.e. favourable).\n",
    "        - It appears that the model benefitted from the additional fine tuning with higher epochs.\n",
    "    - Lower Learning Rate lead to higher `fcp` and lower `mae` (i.e. favourable).\n",
    "        - It appears that a lower learning rate was better suited to fine tune the model."
   ]
  },
  {
   "cell_type": "markdown",
   "id": "0693fbf3",
   "metadata": {},
   "source": [
    "## Model - SVD"
   ]
  },
  {
   "cell_type": "markdown",
   "id": "f1381313",
   "metadata": {},
   "source": [
    "In this section, I will fit the unanimous best model from Grid Search above to the `rating` and `rating_net_user_mean` (net rating) columns. I will predict and score these models based on `fcp` and `mae`. "
   ]
  },
  {
   "cell_type": "markdown",
   "id": "07748127",
   "metadata": {},
   "source": [
    "For efficiencies when re-running the code, I have put the code in markdown and pickled the models. I have also stored scores (`fcp` and `mae`) in `df_results`, which I exported to csv (this code is in markdown as well)."
   ]
  },
  {
   "cell_type": "markdown",
   "id": "23c0a012",
   "metadata": {},
   "source": [
    "- The unanimous best model from the Grid Search:\n",
    "    - {'n_factors': 25, 'n_epochs': 20, 'lr_all': 0.005, 'biased': False} </br>"
   ]
  },
  {
   "cell_type": "markdown",
   "id": "44f2a5a1",
   "metadata": {},
   "source": [
    "### SVD Model - `rating` column"
   ]
  },
  {
   "cell_type": "markdown",
   "id": "026121e2",
   "metadata": {},
   "source": [
    "```python\n",
    "\n",
    "# Set the reader with accurate rating scale\n",
    "ratings_reader = Reader(rating_scale=(1,10))\n",
    "\n",
    "# Set the dataset \n",
    "train_dataset = Dataset.load_from_df(df_train_ratings[['userId','movieId','rating']], ratings_reader)\n",
    "\n",
    "# Build Full Train Set\n",
    "ratings_trainset = train_dataset.build_full_trainset()\n",
    "\n",
    "# Set the parameters for SVD\n",
    "ratings_svd = SVD(n_factors=25, \n",
    "                  n_epochs=20, \n",
    "                  lr_all=0.005, \n",
    "                  biased=False,\n",
    "                  verbose=5)\n",
    "\n",
    "# Fit train set\n",
    "ratings_svd.fit(ratings_trainset)\n",
    "\n",
    "# Pickle the model\n",
    "joblib.dump(ratings_svd, 'DT_files/DT_ratings_svd.pkl')\n",
    "\n",
    "```"
   ]
  },
  {
   "cell_type": "markdown",
   "id": "3e3ddf70",
   "metadata": {},
   "source": [
    "### SVD Model - `rating_net_user_mean` column"
   ]
  },
  {
   "cell_type": "markdown",
   "id": "d5c4c842",
   "metadata": {},
   "source": [
    "```python\n",
    "\n",
    "# Set the reader with accurate rating scale\n",
    "ratings_reader_user_mean = Reader(rating_scale=(-10,10))\n",
    "\n",
    "# Set the dataset\n",
    "train_dataset_user_mean = Dataset.load_from_df(df_train_ratings[['userId','movieId','rating_net_user_mean']], ratings_reader_user_mean)\n",
    "\n",
    "# Build Full Train Set\n",
    "net_user_mean_ratings_trainset = train_dataset_user_mean.build_full_trainset()\n",
    "\n",
    "# Set the parameters for SVD\n",
    "net_user_mean_ratings_svd = SVD(n_factors=25, \n",
    "                                n_epochs=20, \n",
    "                                lr_all=0.005, \n",
    "                                biased=False, \n",
    "                                verbose=5)\n",
    "\n",
    "# Fit train set\n",
    "net_user_mean_ratings_svd.fit(net_user_mean_ratings_trainset)\n",
    "\n",
    "# Pickle the model\n",
    "joblib.dump(net_user_mean_ratings_svd, 'DT_files/DT_net_user_mean_ratings_svd.pkl')\n",
    "\n",
    "```"
   ]
  },
  {
   "cell_type": "markdown",
   "id": "a130e06d",
   "metadata": {},
   "source": [
    "The below code is for importing models. This code can be used if we want to run the fitting, prediction, and scoring below without rerunning the above."
   ]
  },
  {
   "cell_type": "markdown",
   "id": "ee88e42b",
   "metadata": {},
   "source": [
    "```python\n",
    "\n",
    "# Import models\n",
    "\n",
    "# model for `rating` column\n",
    "ratings_svd = joblib.load('DT_files/DT_ratings_svd.pkl')\n",
    "\n",
    "# model for `net_user_mean_rating` column\n",
    "net_user_mean_ratings_svd = joblib.load('DT_files/DT_net_user_mean_ratings_svd.pkl')\n",
    "\n",
    "```"
   ]
  },
  {
   "cell_type": "markdown",
   "id": "50d7f769",
   "metadata": {},
   "source": [
    "## Train Dataset"
   ]
  },
  {
   "cell_type": "markdown",
   "id": "128e2428",
   "metadata": {},
   "source": [
    "**SVD Model - `rating` column**"
   ]
  },
  {
   "cell_type": "markdown",
   "id": "d7f2c8c6",
   "metadata": {},
   "source": [
    "```python\n",
    "\n",
    "# Filter `df_train_ratings` to - user ID, movie ID, rating\n",
    "df_train_r = df_train_ratings[['userId','movieId','rating']]\n",
    "\n",
    "# Convert df to array to list\n",
    "list_train_r = df_train_r.to_numpy().tolist()\n",
    "\n",
    "# Predict\n",
    "train_pred_r = ratings_svd.test(list_train_r)\n",
    "\n",
    "# Put into a dataframe\n",
    "df_train_pred_r = pd.DataFrame(train_pred_r, columns=['userId',\n",
    "                                                    'movieId',\n",
    "                                                    'actual_rating',\n",
    "                                                    'prediction',\n",
    "                                                    'details'])\n",
    "\n",
    "# Add accuracy info to `df_results`\n",
    "in_algo = 'SVD'\n",
    "in_traintest = 'Train'\n",
    "in_r_nmr ='r'\n",
    "in_fcp = accuracy.fcp(train_pred_r)\n",
    "in_mae = accuracy.mae(train_pred_r)\n",
    "\n",
    "row_data = {'Algo': in_algo, \n",
    "            'Train/Test': in_traintest,\n",
    "            'R/NMR': in_r_nmr,\n",
    "            'fcp': in_fcp,\n",
    "            'mae': in_mae}\n",
    "\n",
    "# Add row data to df_results\n",
    "df_results = df_results.append(row_data, ignore_index=True)\n",
    "\n",
    "# Visualize upload\n",
    "df_results.tail(1)\n",
    "\n",
    "```"
   ]
  },
  {
   "cell_type": "code",
   "execution_count": 51,
   "id": "f46e3b70",
   "metadata": {},
   "outputs": [
    {
     "data": {
      "text/html": [
       "<div>\n",
       "<style scoped>\n",
       "    .dataframe tbody tr th:only-of-type {\n",
       "        vertical-align: middle;\n",
       "    }\n",
       "\n",
       "    .dataframe tbody tr th {\n",
       "        vertical-align: top;\n",
       "    }\n",
       "\n",
       "    .dataframe thead th {\n",
       "        text-align: right;\n",
       "    }\n",
       "</style>\n",
       "<table border=\"1\" class=\"dataframe\">\n",
       "  <thead>\n",
       "    <tr style=\"text-align: right;\">\n",
       "      <th></th>\n",
       "      <th>Algo</th>\n",
       "      <th>Train/Test</th>\n",
       "      <th>R/NMR</th>\n",
       "      <th>fcp</th>\n",
       "      <th>mae</th>\n",
       "    </tr>\n",
       "  </thead>\n",
       "  <tbody>\n",
       "    <tr>\n",
       "      <th>4</th>\n",
       "      <td>SVD</td>\n",
       "      <td>Train</td>\n",
       "      <td>r</td>\n",
       "      <td>0.781888</td>\n",
       "      <td>1.003606</td>\n",
       "    </tr>\n",
       "  </tbody>\n",
       "</table>\n",
       "</div>"
      ],
      "text/plain": [
       "  Algo Train/Test R/NMR       fcp       mae\n",
       "4  SVD      Train     r  0.781888  1.003606"
      ]
     },
     "execution_count": 51,
     "metadata": {},
     "output_type": "execute_result"
    }
   ],
   "source": [
    "# Show results\n",
    "df_results.iloc[4:5,:]"
   ]
  },
  {
   "cell_type": "markdown",
   "id": "fbc4feb2",
   "metadata": {},
   "source": [
    "##### Summary / Findings:\n",
    "- I will review SVD results in aggregate below in the code titled \"Look at SVD results together\"."
   ]
  },
  {
   "cell_type": "markdown",
   "id": "7adcf31c",
   "metadata": {},
   "source": [
    "**SVD Model - `rating_net_user_mean` column**"
   ]
  },
  {
   "cell_type": "markdown",
   "id": "e3175c11",
   "metadata": {},
   "source": [
    "```python\n",
    "\n",
    "# Filter `df_train_ratings` to - user ID, movie ID, rating\n",
    "df_train_nmr = df_train_ratings[['userId','movieId','rating_net_user_mean']]\n",
    "\n",
    "# Convert df to array to list\n",
    "list_train_nmr = df_train_nmr.to_numpy().tolist()\n",
    "\n",
    "# Predict\n",
    "train_pred_nmr = net_user_mean_ratings_svd.test(list_train_nmr)\n",
    "\n",
    "# Put into a dataframe\n",
    "df_train_pred_nmr = pd.DataFrame(train_pred_nmr, columns=['userId', \n",
    "                                                        'movieId',\n",
    "                                                        'actual_rating_net_user_mean',\n",
    "                                                        'prediction',\n",
    "                                                        'details'])\n",
    "\n",
    "# Add accuracy info to `df_results`\n",
    "in_algo = 'SVD'\n",
    "in_traintest = 'Train'\n",
    "in_r_nmr ='nmr'\n",
    "in_fcp = accuracy.fcp(train_pred_nmr)\n",
    "in_mae = accuracy.mae(train_pred_nmr)\n",
    "\n",
    "row_data = {'Algo': in_algo, \n",
    "            'Train/Test': in_traintest,\n",
    "            'R/NMR': in_r_nmr,\n",
    "            'fcp': in_fcp,\n",
    "            'mae': in_mae}\n",
    "\n",
    "# Add row data to df_results\n",
    "df_results = df_results.append(row_data, ignore_index=True)\n",
    "\n",
    "# Visualize upload\n",
    "df_results.tail(1)\n",
    "\n",
    "```"
   ]
  },
  {
   "cell_type": "code",
   "execution_count": 52,
   "id": "c97e93ae",
   "metadata": {},
   "outputs": [
    {
     "data": {
      "text/html": [
       "<div>\n",
       "<style scoped>\n",
       "    .dataframe tbody tr th:only-of-type {\n",
       "        vertical-align: middle;\n",
       "    }\n",
       "\n",
       "    .dataframe tbody tr th {\n",
       "        vertical-align: top;\n",
       "    }\n",
       "\n",
       "    .dataframe thead th {\n",
       "        text-align: right;\n",
       "    }\n",
       "</style>\n",
       "<table border=\"1\" class=\"dataframe\">\n",
       "  <thead>\n",
       "    <tr style=\"text-align: right;\">\n",
       "      <th></th>\n",
       "      <th>Algo</th>\n",
       "      <th>Train/Test</th>\n",
       "      <th>R/NMR</th>\n",
       "      <th>fcp</th>\n",
       "      <th>mae</th>\n",
       "    </tr>\n",
       "  </thead>\n",
       "  <tbody>\n",
       "    <tr>\n",
       "      <th>5</th>\n",
       "      <td>SVD</td>\n",
       "      <td>Train</td>\n",
       "      <td>nmr</td>\n",
       "      <td>0.793119</td>\n",
       "      <td>0.964372</td>\n",
       "    </tr>\n",
       "  </tbody>\n",
       "</table>\n",
       "</div>"
      ],
      "text/plain": [
       "  Algo Train/Test R/NMR       fcp       mae\n",
       "5  SVD      Train   nmr  0.793119  0.964372"
      ]
     },
     "execution_count": 52,
     "metadata": {},
     "output_type": "execute_result"
    }
   ],
   "source": [
    "# Show results\n",
    "df_results.iloc[5:6,:]"
   ]
  },
  {
   "cell_type": "markdown",
   "id": "623c0738",
   "metadata": {},
   "source": [
    "##### Summary / Findings:\n",
    "- I will review SVD results in aggregate below in the code titled \"Look at SVD results together\"."
   ]
  },
  {
   "cell_type": "markdown",
   "id": "a835815a",
   "metadata": {},
   "source": [
    "## Test Dataset"
   ]
  },
  {
   "cell_type": "markdown",
   "id": "895bc47d",
   "metadata": {},
   "source": [
    "**SVD Model - `rating` column**"
   ]
  },
  {
   "cell_type": "markdown",
   "id": "d792f6f1",
   "metadata": {},
   "source": [
    "```python\n",
    "\n",
    "# Filter `df_test_ratings` to - user ID, movie ID, rating\n",
    "df_test_r = df_test_ratings[['userId','movieId','rating']]\n",
    "\n",
    "# Convert df to array to list\n",
    "list_test_r = df_test_r.to_numpy().tolist()\n",
    "\n",
    "# Predict\n",
    "test_pred_r = ratings_svd.test(list_test_r)\n",
    "\n",
    "# Put into a dataframe\n",
    "df_test_pred_r = pd.DataFrame(test_pred_r, columns=['userId',\n",
    "                                                    'movieId',\n",
    "                                                    'actual_rating',\n",
    "                                                    'prediction',\n",
    "                                                    'details'])\n",
    "\n",
    "in_algo = 'SVD'\n",
    "in_traintest = 'Test'\n",
    "in_r_nmr ='r'\n",
    "in_fcp = accuracy.fcp(test_pred_r)\n",
    "in_mae = accuracy.mae(test_pred_r)\n",
    "\n",
    "row_data = {'Algo': in_algo, \n",
    "            'Train/Test': in_traintest,\n",
    "            'R/NMR': in_r_nmr,\n",
    "            'fcp': in_fcp,\n",
    "            'mae': in_mae}\n",
    "\n",
    "# Add row data to df_results\n",
    "df_results = df_results.append(row_data, ignore_index=True)\n",
    "\n",
    "# Visualize upload\n",
    "df_results.tail(1)\n",
    "\n",
    "```"
   ]
  },
  {
   "cell_type": "code",
   "execution_count": 53,
   "id": "b1953c2c",
   "metadata": {},
   "outputs": [
    {
     "data": {
      "text/html": [
       "<div>\n",
       "<style scoped>\n",
       "    .dataframe tbody tr th:only-of-type {\n",
       "        vertical-align: middle;\n",
       "    }\n",
       "\n",
       "    .dataframe tbody tr th {\n",
       "        vertical-align: top;\n",
       "    }\n",
       "\n",
       "    .dataframe thead th {\n",
       "        text-align: right;\n",
       "    }\n",
       "</style>\n",
       "<table border=\"1\" class=\"dataframe\">\n",
       "  <thead>\n",
       "    <tr style=\"text-align: right;\">\n",
       "      <th></th>\n",
       "      <th>Algo</th>\n",
       "      <th>Train/Test</th>\n",
       "      <th>R/NMR</th>\n",
       "      <th>fcp</th>\n",
       "      <th>mae</th>\n",
       "    </tr>\n",
       "  </thead>\n",
       "  <tbody>\n",
       "    <tr>\n",
       "      <th>6</th>\n",
       "      <td>SVD</td>\n",
       "      <td>Test</td>\n",
       "      <td>r</td>\n",
       "      <td>0.65692</td>\n",
       "      <td>1.245596</td>\n",
       "    </tr>\n",
       "  </tbody>\n",
       "</table>\n",
       "</div>"
      ],
      "text/plain": [
       "  Algo Train/Test R/NMR      fcp       mae\n",
       "6  SVD       Test     r  0.65692  1.245596"
      ]
     },
     "execution_count": 53,
     "metadata": {},
     "output_type": "execute_result"
    }
   ],
   "source": [
    "# Show results\n",
    "df_results.iloc[6:7,:]"
   ]
  },
  {
   "cell_type": "markdown",
   "id": "6fa235a1",
   "metadata": {},
   "source": [
    "##### Summary / Findings:\n",
    "- I will review SVD results in aggregate below in the code titled \"Look at SVD results together\"."
   ]
  },
  {
   "cell_type": "markdown",
   "id": "cd61a8a1",
   "metadata": {},
   "source": [
    "**SVD Model - `rating_net_user_mean` column**"
   ]
  },
  {
   "cell_type": "markdown",
   "id": "c7354537",
   "metadata": {},
   "source": [
    "```python\n",
    "\n",
    "# Filter `df_test_ratings` to - user ID, movie ID, rating\n",
    "df_test_nmr = df_test_ratings[['userId','movieId','rating_net_user_mean']]\n",
    "\n",
    "# Convert df to array to list\n",
    "list_test_nmr = df_test_nmr.to_numpy().tolist()\n",
    "\n",
    "# Predict\n",
    "test_pred_nmr = net_user_mean_ratings_svd.test(list_test_nmr)\n",
    "\n",
    "# Put into a dataframe\n",
    "df_test_pred_nmr = pd.DataFrame(test_pred_nmr, columns=['userId', \n",
    "                                                        'movieId',\n",
    "                                                        'actual_rating_net_user_mean',\n",
    "                                                        'prediction',\n",
    "                                                        'details'])\n",
    "\n",
    "# Add accuracy info to `df_results`\n",
    "in_algo = 'SVD'\n",
    "in_traintest = 'Test'\n",
    "in_r_nmr ='nmr'\n",
    "in_fcp = accuracy.fcp(test_pred_nmr)\n",
    "in_mae = accuracy.mae(test_pred_nmr)\n",
    "\n",
    "row_data = {'Algo': in_algo, \n",
    "            'Train/Test': in_traintest,\n",
    "            'R/NMR': in_r_nmr,\n",
    "            'fcp': in_fcp,\n",
    "            'mae': in_mae}\n",
    "\n",
    "# Add row data to df_results\n",
    "df_results = df_results.append(row_data, ignore_index=True)\n",
    "\n",
    "# Visualize upload\n",
    "df_results.tail(1)\n",
    "\n",
    "```"
   ]
  },
  {
   "cell_type": "code",
   "execution_count": 54,
   "id": "e282d802",
   "metadata": {},
   "outputs": [
    {
     "data": {
      "text/html": [
       "<div>\n",
       "<style scoped>\n",
       "    .dataframe tbody tr th:only-of-type {\n",
       "        vertical-align: middle;\n",
       "    }\n",
       "\n",
       "    .dataframe tbody tr th {\n",
       "        vertical-align: top;\n",
       "    }\n",
       "\n",
       "    .dataframe thead th {\n",
       "        text-align: right;\n",
       "    }\n",
       "</style>\n",
       "<table border=\"1\" class=\"dataframe\">\n",
       "  <thead>\n",
       "    <tr style=\"text-align: right;\">\n",
       "      <th></th>\n",
       "      <th>Algo</th>\n",
       "      <th>Train/Test</th>\n",
       "      <th>R/NMR</th>\n",
       "      <th>fcp</th>\n",
       "      <th>mae</th>\n",
       "    </tr>\n",
       "  </thead>\n",
       "  <tbody>\n",
       "    <tr>\n",
       "      <th>7</th>\n",
       "      <td>SVD</td>\n",
       "      <td>Test</td>\n",
       "      <td>nmr</td>\n",
       "      <td>0.650282</td>\n",
       "      <td>1.189554</td>\n",
       "    </tr>\n",
       "  </tbody>\n",
       "</table>\n",
       "</div>"
      ],
      "text/plain": [
       "  Algo Train/Test R/NMR       fcp       mae\n",
       "7  SVD       Test   nmr  0.650282  1.189554"
      ]
     },
     "execution_count": 54,
     "metadata": {},
     "output_type": "execute_result"
    }
   ],
   "source": [
    "# Show results\n",
    "df_results.iloc[7:8,:]"
   ]
  },
  {
   "cell_type": "markdown",
   "id": "8253f309",
   "metadata": {},
   "source": [
    "##### Summary / Findings:\n",
    "- I will review SVD results in aggregate below in the code titled \"Look at SVD results together\"."
   ]
  },
  {
   "cell_type": "markdown",
   "id": "5b2ab835",
   "metadata": {},
   "source": [
    "### Look at SVD results together"
   ]
  },
  {
   "cell_type": "code",
   "execution_count": 55,
   "id": "e2b0575c",
   "metadata": {},
   "outputs": [
    {
     "data": {
      "text/html": [
       "<div>\n",
       "<style scoped>\n",
       "    .dataframe tbody tr th:only-of-type {\n",
       "        vertical-align: middle;\n",
       "    }\n",
       "\n",
       "    .dataframe tbody tr th {\n",
       "        vertical-align: top;\n",
       "    }\n",
       "\n",
       "    .dataframe thead th {\n",
       "        text-align: right;\n",
       "    }\n",
       "</style>\n",
       "<table border=\"1\" class=\"dataframe\">\n",
       "  <thead>\n",
       "    <tr style=\"text-align: right;\">\n",
       "      <th></th>\n",
       "      <th>Algo</th>\n",
       "      <th>Train/Test</th>\n",
       "      <th>R/NMR</th>\n",
       "      <th>fcp</th>\n",
       "      <th>mae</th>\n",
       "    </tr>\n",
       "  </thead>\n",
       "  <tbody>\n",
       "    <tr>\n",
       "      <th>4</th>\n",
       "      <td>SVD</td>\n",
       "      <td>Train</td>\n",
       "      <td>r</td>\n",
       "      <td>0.781888</td>\n",
       "      <td>1.003606</td>\n",
       "    </tr>\n",
       "    <tr>\n",
       "      <th>6</th>\n",
       "      <td>SVD</td>\n",
       "      <td>Test</td>\n",
       "      <td>r</td>\n",
       "      <td>0.656920</td>\n",
       "      <td>1.245596</td>\n",
       "    </tr>\n",
       "    <tr>\n",
       "      <th>5</th>\n",
       "      <td>SVD</td>\n",
       "      <td>Train</td>\n",
       "      <td>nmr</td>\n",
       "      <td>0.793119</td>\n",
       "      <td>0.964372</td>\n",
       "    </tr>\n",
       "    <tr>\n",
       "      <th>7</th>\n",
       "      <td>SVD</td>\n",
       "      <td>Test</td>\n",
       "      <td>nmr</td>\n",
       "      <td>0.650282</td>\n",
       "      <td>1.189554</td>\n",
       "    </tr>\n",
       "  </tbody>\n",
       "</table>\n",
       "</div>"
      ],
      "text/plain": [
       "  Algo Train/Test R/NMR       fcp       mae\n",
       "4  SVD      Train     r  0.781888  1.003606\n",
       "6  SVD       Test     r  0.656920  1.245596\n",
       "5  SVD      Train   nmr  0.793119  0.964372\n",
       "7  SVD       Test   nmr  0.650282  1.189554"
      ]
     },
     "execution_count": 55,
     "metadata": {},
     "output_type": "execute_result"
    }
   ],
   "source": [
    "# Show SVD results\n",
    "df_results[df_results['Algo'] == 'SVD'].sort_values('R/NMR', ascending=False)"
   ]
  },
  {
   "cell_type": "markdown",
   "id": "21a4a6bf",
   "metadata": {},
   "source": [
    "**Visualize**"
   ]
  },
  {
   "cell_type": "code",
   "execution_count": 56,
   "id": "9e9938ec",
   "metadata": {},
   "outputs": [
    {
     "data": {
      "image/png": "[encoded data removed]",
      "text/plain": [
       "<Figure size 1080x720 with 4 Axes>"
      ]
     },
     "metadata": {
      "needs_background": "light"
     },
     "output_type": "display_data"
    }
   ],
   "source": [
    "# Plot metrics\n",
    "\n",
    "# Overall Variables - SVD\n",
    "graph_algo = 'SVD'\n",
    "graph_metric = 'fcp'\n",
    "\n",
    "# Baseline - Approximate FCP score from Test set\n",
    "baseline_fcp = 0.62 \n",
    "\n",
    "plt.subplots(2,2, figsize = (15,10))\n",
    "\n",
    "\n",
    "# Plot 1\n",
    "plt.subplot(2,2,1)\n",
    "\n",
    "\n",
    "# Variables\n",
    "graph_col = 'Rating'\n",
    "visual_input_x = df_results[(df_results['Algo'] == graph_algo) & (df_results['R/NMR'] == 'r')]['Train/Test']\n",
    "visual_input_y = df_results[(df_results['Algo'] == graph_algo) & (df_results['R/NMR'] == 'r')][graph_metric]\n",
    "\n",
    "# Plot Bar Graph\n",
    "plt.bar(visual_input_x, visual_input_y)\n",
    "\n",
    "# Plot Baseline - Approximate FCP score from Test set\n",
    "plt.axhline(y=baseline_fcp, c='r',label='Baseline - Testset')  \n",
    "\n",
    "# Titles and Axes\n",
    "plt.title(f'{graph_algo} of {graph_col} column - {graph_metric.upper()}')\n",
    "plt.ylabel(f'{graph_metric.upper()}')\n",
    "plt.xlabel('Datasets')\n",
    "plt.legend()\n",
    "\n",
    "\n",
    "# Plot 2\n",
    "plt.subplot(2,2,2)\n",
    "\n",
    "# Variables\n",
    "graph_col = 'Net Rating'\n",
    "visual_input_x = df_results[(df_results['Algo'] == graph_algo) & (df_results['R/NMR'] == 'nmr')]['Train/Test']\n",
    "visual_input_y = df_results[(df_results['Algo'] == graph_algo) & (df_results['R/NMR'] == 'nmr')][graph_metric]\n",
    "\n",
    "# Plot Bar Graph\n",
    "plt.bar(visual_input_x, visual_input_y)\n",
    "\n",
    "# Plot Baseline - Approximate FCP score from Test set\n",
    "plt.axhline(y=baseline_fcp, c='r',label='Baseline - Testset')  \n",
    "\n",
    "# Titles and Axes\n",
    "plt.title(f'{graph_algo} of {graph_col} column - {graph_metric.upper()}')\n",
    "plt.ylabel(f'{graph_metric.upper()}')\n",
    "plt.xlabel('Datasets')\n",
    "plt.legend()\n",
    "\n",
    "\n",
    "\n",
    "# Overall Variables - MAE\n",
    "graph_algo = 'SVD'\n",
    "graph_metric = 'mae'\n",
    "\n",
    "# Baseline - Approximate MAE score from Test set\n",
    "baseline_mae = 1.26\n",
    "\n",
    "\n",
    "# Plot 3\n",
    "plt.subplot(2,2,3)\n",
    "\n",
    "# Variables\n",
    "graph_col = 'Rating'\n",
    "visual_input_x = df_results[(df_results['Algo'] == graph_algo) & (df_results['R/NMR'] == 'r')]['Train/Test']\n",
    "visual_input_y = df_results[(df_results['Algo'] == graph_algo) & (df_results['R/NMR'] == 'r')][graph_metric]\n",
    "\n",
    "# Plot Bar Graph\n",
    "plt.bar(visual_input_x, visual_input_y)\n",
    "\n",
    "# Plot Baseline - Approximate MAE score from Test set\n",
    "plt.axhline(y=baseline_mae, c='r',label='Baseline - Testset') \n",
    "\n",
    "# Titles and Axes\n",
    "plt.title(f'{graph_algo} of {graph_col} column - {graph_metric.upper()}')\n",
    "plt.ylabel(f'{graph_metric.upper()}')\n",
    "plt.xlabel('Datasets')\n",
    "plt.legend()\n",
    "\n",
    "# Plot 4\n",
    "plt.subplot(2,2,4)\n",
    "\n",
    "# Variables\n",
    "graph_col = 'Net Rating'\n",
    "visual_input_x = df_results[(df_results['Algo'] == graph_algo) & (df_results['R/NMR'] == 'nmr')]['Train/Test']\n",
    "visual_input_y = df_results[(df_results['Algo'] == graph_algo) & (df_results['R/NMR'] == 'nmr')][graph_metric]\n",
    "\n",
    "# Plot Bar Graph\n",
    "plt.bar(visual_input_x, visual_input_y)\n",
    "\n",
    "# Plot Baseline - Approximate MAE score from Test set\n",
    "plt.axhline(y=baseline_mae, c='r',label='Baseline - Testset') \n",
    "\n",
    "# Titles and Axes\n",
    "plt.title(f'{graph_algo} of {graph_col} column - {graph_metric.upper()}')\n",
    "plt.ylabel(f'{graph_metric.upper()}')\n",
    "plt.xlabel('Datasets')\n",
    "plt.legend()\n",
    "\n",
    "\n",
    "# Show the subplots\n",
    "plt.tight_layout\n",
    "plt.show()"
   ]
  },
  {
   "cell_type": "markdown",
   "id": "dd641fb6",
   "metadata": {},
   "source": [
    "##### Summary / Findings:\n",
    "- As expected, the SVD model out performed our Baseline model from earlier (higher `fcp`, lower `mae`).\n",
    "- The test `fcp` and `mae` for both the `rating` and `rating_net_user_mean` (net rating) columns are quite similar. \n",
    "    - `rating` column - has more favourable `fcp` score.\n",
    "    - `rating_net_user_mean` (net rating) column - has more favourable `mae` score.\n",
    "    \n",
    "- **I will go forward with the model created with the `rating_net_user_mean` (net rating) column.** I am choosing this column since I want to see predictions that indicate whether a user liked a movie more (positive figure) or less (negative figure) than their overall average rating, and by how much (i.e. the magnitude of these positive / negative figures). "
   ]
  },
  {
   "cell_type": "markdown",
   "id": "75a4206a",
   "metadata": {},
   "source": [
    "## SVD ++ (SVDpp) Model - `rating_net_user_mean`"
   ]
  },
  {
   "cell_type": "markdown",
   "id": "dfcbcbc9",
   "metadata": {},
   "source": [
    "**SVD++ (or SVDpp)** is an extension from SVD, which takes into account **implicit ratings**. The fact that a user rates an item is in itself an indication of preference (i.e. **implicit rating**). For this dataset, the chance of a user liking an item that they have rated is higher than the chance of a user liking a random non-rated movie. "
   ]
  },
  {
   "cell_type": "markdown",
   "id": "4e91e858",
   "metadata": {},
   "source": [
    "I expect that the **SVD++** will perform better than SVD, since it takes into account **implicit ratings**."
   ]
  },
  {
   "cell_type": "markdown",
   "id": "4eccbc1a",
   "metadata": {},
   "source": [
    "For efficiencies when re-running the code, I have put the code in markdown and pickled the models. I have also stored scores (`fcp` and `mae`) in `df_results`, which I exported to csv (this code is in markdown as well)."
   ]
  },
  {
   "cell_type": "markdown",
   "id": "38e26889",
   "metadata": {},
   "source": [
    "As noted in the Summary / Findings above, I will only look at the `rating_net_user_mean` column (rationale above). Additionally, for the sake of run-time, I have decided to leverage the parameters of the best model from the Grid Search above. </br>\n",
    "</br>\n",
    "The parameters for this model will be:\n",
    "- {'n_factors': 25, 'n_epochs': 20, 'lr_all': 0.005}\n",
    "- note that the 'biased' parameter was removed as it is not a parameter for **SVD++ (SVDpp)**."
   ]
  },
  {
   "cell_type": "markdown",
   "id": "cf31895a",
   "metadata": {},
   "source": [
    "**Fit the model**"
   ]
  },
  {
   "cell_type": "markdown",
   "id": "a12f3aab",
   "metadata": {},
   "source": [
    "```python\n",
    "\n",
    "# Set the reader with accurate rating scale\n",
    "ratings_reader_user_mean = Reader(rating_scale=(-10,10))\n",
    "\n",
    "# Set the dataset\n",
    "train_dataset_user_mean = Dataset.load_from_df(df_train_ratings[['userId','movieId','rating_net_user_mean']], ratings_reader_user_mean)\n",
    "\n",
    "# Build Full Train Set\n",
    "net_user_mean_ratings_trainset = train_dataset_user_mean.build_full_trainset()\n",
    "\n",
    "# Set the parameters for SVD\n",
    "net_user_mean_ratings_svd_pp = SVDpp(n_factors=25, \n",
    "                                n_epochs=20, \n",
    "                                lr_all=0.005,  \n",
    "                                verbose=5)\n",
    "\n",
    "# Fit train set\n",
    "net_user_mean_ratings_svd_pp.fit(net_user_mean_ratings_trainset)\n",
    "\n",
    "# Pickle the model\n",
    "joblib.dump(net_user_mean_ratings_svd_pp, 'DT_files/DT_net_user_mean_ratings_svd_pp.pkl')\n",
    "\n",
    "```"
   ]
  },
  {
   "cell_type": "markdown",
   "id": "c6392537",
   "metadata": {},
   "source": [
    "The below code is for importing models. This code can be used if we want to run the fitting, prediction, and scoring below without rerunning the above."
   ]
  },
  {
   "cell_type": "markdown",
   "id": "2d77dfd9",
   "metadata": {},
   "source": [
    "```python\n",
    "\n",
    "# Import models\n",
    "\n",
    "# SVD ++ model for `net_user_mean_rating` column\n",
    "net_user_mean_ratings_svd_pp = joblib.load('DT_files/DT_net_user_mean_ratings_svd_pp.pkl')\n",
    "\n",
    "```"
   ]
  },
  {
   "cell_type": "markdown",
   "id": "6077e193",
   "metadata": {},
   "source": [
    "### Train Dataset - `rating_net_user_mean`"
   ]
  },
  {
   "cell_type": "markdown",
   "id": "4c41c788",
   "metadata": {},
   "source": [
    "```python\n",
    "\n",
    "\n",
    "# Filter `df_train_ratings` to - user ID, movie ID, rating\n",
    "df_train_nmr = df_train_ratings[['userId','movieId','rating_net_user_mean']]\n",
    "\n",
    "# Convert df to array to list\n",
    "list_train_nmr = df_train_nmr.to_numpy().tolist()\n",
    "\n",
    "# Predict\n",
    "train_pred_nmr = net_user_mean_ratings_svd_pp.test(list_train_nmr)\n",
    "\n",
    "# Put into a dataframe\n",
    "df_train_pred_nmr_pp = pd.DataFrame(train_pred_nmr, columns=['userId', \n",
    "                                                             'movieId',\n",
    "                                                             'actual_rating_net_user_mean',\n",
    "                                                             'prediction',\n",
    "                                                             'details'])\n",
    "\n",
    "# Add accuracy info to `df_results`\n",
    "in_algo = 'SVD_pp'\n",
    "in_traintest = 'Train'\n",
    "in_r_nmr ='nmr'\n",
    "in_fcp = accuracy.fcp(train_pred_nmr)\n",
    "in_mae = accuracy.mae(train_pred_nmr)\n",
    "\n",
    "row_data = {'Algo': in_algo, \n",
    "            'Train/Test': in_traintest,\n",
    "            'R/NMR': in_r_nmr,\n",
    "            'fcp': in_fcp,\n",
    "            'mae': in_mae}\n",
    "\n",
    "# Add row data to df_results\n",
    "df_results = df_results.append(row_data, ignore_index=True)\n",
    "\n",
    "# Visualize upload\n",
    "df_results.tail(1)\n",
    "\n",
    "```"
   ]
  },
  {
   "cell_type": "code",
   "execution_count": 57,
   "id": "81d19755",
   "metadata": {},
   "outputs": [
    {
     "data": {
      "text/html": [
       "<div>\n",
       "<style scoped>\n",
       "    .dataframe tbody tr th:only-of-type {\n",
       "        vertical-align: middle;\n",
       "    }\n",
       "\n",
       "    .dataframe tbody tr th {\n",
       "        vertical-align: top;\n",
       "    }\n",
       "\n",
       "    .dataframe thead th {\n",
       "        text-align: right;\n",
       "    }\n",
       "</style>\n",
       "<table border=\"1\" class=\"dataframe\">\n",
       "  <thead>\n",
       "    <tr style=\"text-align: right;\">\n",
       "      <th></th>\n",
       "      <th>Algo</th>\n",
       "      <th>Train/Test</th>\n",
       "      <th>R/NMR</th>\n",
       "      <th>fcp</th>\n",
       "      <th>mae</th>\n",
       "    </tr>\n",
       "  </thead>\n",
       "  <tbody>\n",
       "    <tr>\n",
       "      <th>8</th>\n",
       "      <td>SVD_pp</td>\n",
       "      <td>Train</td>\n",
       "      <td>nmr</td>\n",
       "      <td>0.791501</td>\n",
       "      <td>0.9692</td>\n",
       "    </tr>\n",
       "  </tbody>\n",
       "</table>\n",
       "</div>"
      ],
      "text/plain": [
       "     Algo Train/Test R/NMR       fcp     mae\n",
       "8  SVD_pp      Train   nmr  0.791501  0.9692"
      ]
     },
     "execution_count": 57,
     "metadata": {},
     "output_type": "execute_result"
    }
   ],
   "source": [
    "# Show results \n",
    "df_results.iloc[8:9,:]"
   ]
  },
  {
   "cell_type": "markdown",
   "id": "034ed3a9",
   "metadata": {},
   "source": [
    "### Test Dataset - `rating_net_user_mean`"
   ]
  },
  {
   "cell_type": "markdown",
   "id": "57cff65a",
   "metadata": {},
   "source": [
    "```python\n",
    "\n",
    "\n",
    "# Filter `df_test_ratings` to - user ID, movie ID, rating\n",
    "df_test_nmr = df_test_ratings[['userId','movieId','rating_net_user_mean']]\n",
    "\n",
    "# Convert df to array to list\n",
    "list_test_nmr = df_test_nmr.to_numpy().tolist()\n",
    "\n",
    "# Predict\n",
    "test_pred_nmr = net_user_mean_ratings_svd_pp.test(list_test_nmr)\n",
    "\n",
    "# Put into a dataframe\n",
    "df_test_pred_nmr_pp = pd.DataFrame(test_pred_nmr, columns=['userId', \n",
    "                                                           'movieId',\n",
    "                                                           'actual_rating_net_user_mean',\n",
    "                                                           'prediction',\n",
    "                                                           'details'])\n",
    "\n",
    "# Add accuracy info to `df_results`\n",
    "in_algo = 'SVD_pp'\n",
    "in_traintest = 'Test'\n",
    "in_r_nmr ='nmr'\n",
    "in_fcp = accuracy.fcp(test_pred_nmr)\n",
    "in_mae = accuracy.mae(test_pred_nmr)\n",
    "\n",
    "row_data = {'Algo': in_algo, \n",
    "            'Train/Test': in_traintest,\n",
    "            'R/NMR': in_r_nmr,\n",
    "            'fcp': in_fcp,\n",
    "            'mae': in_mae}\n",
    "\n",
    "# Add row data to df_results\n",
    "df_results = df_results.append(row_data, ignore_index=True)\n",
    "\n",
    "# Visualize upload\n",
    "df_results.tail(1)\n",
    "\n",
    "```"
   ]
  },
  {
   "cell_type": "code",
   "execution_count": 58,
   "id": "5bf66605",
   "metadata": {},
   "outputs": [
    {
     "data": {
      "text/html": [
       "<div>\n",
       "<style scoped>\n",
       "    .dataframe tbody tr th:only-of-type {\n",
       "        vertical-align: middle;\n",
       "    }\n",
       "\n",
       "    .dataframe tbody tr th {\n",
       "        vertical-align: top;\n",
       "    }\n",
       "\n",
       "    .dataframe thead th {\n",
       "        text-align: right;\n",
       "    }\n",
       "</style>\n",
       "<table border=\"1\" class=\"dataframe\">\n",
       "  <thead>\n",
       "    <tr style=\"text-align: right;\">\n",
       "      <th></th>\n",
       "      <th>Algo</th>\n",
       "      <th>Train/Test</th>\n",
       "      <th>R/NMR</th>\n",
       "      <th>fcp</th>\n",
       "      <th>mae</th>\n",
       "    </tr>\n",
       "  </thead>\n",
       "  <tbody>\n",
       "    <tr>\n",
       "      <th>9</th>\n",
       "      <td>SVD_pp</td>\n",
       "      <td>Test</td>\n",
       "      <td>nmr</td>\n",
       "      <td>0.662172</td>\n",
       "      <td>1.183633</td>\n",
       "    </tr>\n",
       "  </tbody>\n",
       "</table>\n",
       "</div>"
      ],
      "text/plain": [
       "     Algo Train/Test R/NMR       fcp       mae\n",
       "9  SVD_pp       Test   nmr  0.662172  1.183633"
      ]
     },
     "execution_count": 58,
     "metadata": {},
     "output_type": "execute_result"
    }
   ],
   "source": [
    "# Show results \n",
    "df_results.iloc[9:10,:]"
   ]
  },
  {
   "cell_type": "markdown",
   "id": "5910fd6a",
   "metadata": {},
   "source": [
    "**Save `df_results`**"
   ]
  },
  {
   "cell_type": "markdown",
   "id": "f065610b",
   "metadata": {},
   "source": [
    "At this point, I have exported `df_results`, markdown code below:"
   ]
  },
  {
   "cell_type": "markdown",
   "id": "9155379f",
   "metadata": {},
   "source": [
    "```python\n",
    "\n",
    "# Export `df_results`\n",
    "df_results.to_csv('DT_files/DT_df_results.csv')\n",
    "\n",
    "```"
   ]
  },
  {
   "cell_type": "markdown",
   "id": "dde5129a",
   "metadata": {},
   "source": [
    "**Visualize**"
   ]
  },
  {
   "cell_type": "code",
   "execution_count": 59,
   "id": "994ba8ce",
   "metadata": {},
   "outputs": [
    {
     "data": {
      "text/html": [
       "<div>\n",
       "<style scoped>\n",
       "    .dataframe tbody tr th:only-of-type {\n",
       "        vertical-align: middle;\n",
       "    }\n",
       "\n",
       "    .dataframe tbody tr th {\n",
       "        vertical-align: top;\n",
       "    }\n",
       "\n",
       "    .dataframe thead th {\n",
       "        text-align: right;\n",
       "    }\n",
       "</style>\n",
       "<table border=\"1\" class=\"dataframe\">\n",
       "  <thead>\n",
       "    <tr style=\"text-align: right;\">\n",
       "      <th></th>\n",
       "      <th>Algo</th>\n",
       "      <th>Train/Test</th>\n",
       "      <th>R/NMR</th>\n",
       "      <th>fcp</th>\n",
       "      <th>mae</th>\n",
       "    </tr>\n",
       "  </thead>\n",
       "  <tbody>\n",
       "    <tr>\n",
       "      <th>8</th>\n",
       "      <td>SVD_pp</td>\n",
       "      <td>Train</td>\n",
       "      <td>nmr</td>\n",
       "      <td>0.791501</td>\n",
       "      <td>0.969200</td>\n",
       "    </tr>\n",
       "    <tr>\n",
       "      <th>9</th>\n",
       "      <td>SVD_pp</td>\n",
       "      <td>Test</td>\n",
       "      <td>nmr</td>\n",
       "      <td>0.662172</td>\n",
       "      <td>1.183633</td>\n",
       "    </tr>\n",
       "  </tbody>\n",
       "</table>\n",
       "</div>"
      ],
      "text/plain": [
       "     Algo Train/Test R/NMR       fcp       mae\n",
       "8  SVD_pp      Train   nmr  0.791501  0.969200\n",
       "9  SVD_pp       Test   nmr  0.662172  1.183633"
      ]
     },
     "execution_count": 59,
     "metadata": {},
     "output_type": "execute_result"
    }
   ],
   "source": [
    "# Show SVD++ (SVDpp) results\n",
    "df_results[df_results['Algo'] == 'SVD_pp']"
   ]
  },
  {
   "cell_type": "code",
   "execution_count": 60,
   "id": "550e2dba",
   "metadata": {},
   "outputs": [
    {
     "data": {
      "image/png": "[encoded data removed]",
      "text/plain": [
       "<Figure size 1080x720 with 4 Axes>"
      ]
     },
     "metadata": {
      "needs_background": "light"
     },
     "output_type": "display_data"
    }
   ],
   "source": [
    "# Plot metrics\n",
    "\n",
    "# Baseline - Approximate FCP score from Test set\n",
    "\n",
    "plt.subplots(2,2, figsize = (15,10))\n",
    "\n",
    "# Baseline - Approximate FCP score from Test set\n",
    "baseline_fcp = 0.62 \n",
    "\n",
    "# Plot 1\n",
    "plt.subplot(2,2,1)\n",
    "\n",
    "# Variables\n",
    "SVD_test_fcp = 0.65\n",
    "graph_algo = 'SVD'\n",
    "graph_metric = 'fcp'\n",
    "graph_col = 'Net Rating'\n",
    "visual_input_x = df_results[(df_results['Algo'] == graph_algo) & (df_results['R/NMR'] == 'nmr')]['Train/Test']\n",
    "visual_input_y = df_results[(df_results['Algo'] == graph_algo) & (df_results['R/NMR'] == 'nmr')][graph_metric]\n",
    "\n",
    "# Plot Bar Graph\n",
    "plt.bar(visual_input_x, visual_input_y)\n",
    "\n",
    "# Plot SVD - Approximate FCP score from Test set\n",
    "plt.axhline(y=SVD_test_fcp, c='k',label='SVD - Testset')  \n",
    "\n",
    "# Plot Baseline - Approximate FCP score from Test set\n",
    "plt.axhline(y=baseline_fcp, c='r',label='Baseline - Testset')  \n",
    "\n",
    "# Titles and Axes\n",
    "plt.title(f'{graph_algo} of {graph_col} column - {graph_metric.upper()}')\n",
    "plt.ylabel(f'{graph_metric.upper()}')\n",
    "plt.xlabel('Datasets')\n",
    "plt.legend()\n",
    "\n",
    "\n",
    "# Plot 2\n",
    "plt.subplot(2,2,2)\n",
    "\n",
    "# Variables\n",
    "SVD_test_fcp = 0.65\n",
    "graph_algo = 'SVD_pp'\n",
    "graph_metric = 'fcp'\n",
    "graph_col = 'Net Rating'\n",
    "visual_input_x = df_results[(df_results['Algo'] == graph_algo) & (df_results['R/NMR'] == 'nmr')]['Train/Test']\n",
    "visual_input_y = df_results[(df_results['Algo'] == graph_algo) & (df_results['R/NMR'] == 'nmr')][graph_metric]\n",
    "\n",
    "# Plot Bar Graph\n",
    "plt.bar(visual_input_x, visual_input_y)\n",
    "\n",
    "# Plot SVD - Approximate FCP score from Test set\n",
    "plt.axhline(y=SVD_test_fcp, c='k',label='SVD - Testset')  \n",
    "\n",
    "# Plot Baseline - Approximate FCP score from Test set\n",
    "plt.axhline(y=baseline_fcp, c='r',label='Baseline - Testset')  \n",
    "\n",
    "# Titles and Axes\n",
    "plt.title(f'{graph_algo} of {graph_col} column - {graph_metric.upper()}')\n",
    "plt.ylabel(f'{graph_metric.upper()}')\n",
    "plt.xlabel('Datasets')\n",
    "plt.legend()\n",
    "\n",
    "\n",
    "# Baseline - Approximate MAE score from Test set\n",
    "baseline_mae = 1.26\n",
    "\n",
    "# Plot 3\n",
    "plt.subplot(2,2,3)\n",
    "\n",
    "# Variables\n",
    "SVD_test_mae = 1.1895\n",
    "graph_algo = 'SVD'\n",
    "graph_metric = 'mae'\n",
    "graph_col = 'Rating'\n",
    "visual_input_x = df_results[(df_results['Algo'] == graph_algo) & (df_results['R/NMR'] == 'nmr')]['Train/Test']\n",
    "visual_input_y = df_results[(df_results['Algo'] == graph_algo) & (df_results['R/NMR'] == 'nmr')][graph_metric]\n",
    "\n",
    "# Plot Bar Graph\n",
    "plt.bar(visual_input_x, visual_input_y)\n",
    "\n",
    "# Plot SVD - Approximate MAE score from Test set\n",
    "plt.axhline(y=SVD_test_mae, c='k',label='SVD - Testset')  \n",
    "\n",
    "# Plot Baseline - Approximate MAE score from Test set\n",
    "plt.axhline(y=baseline_mae, c='r',label='Baseline - Testset') \n",
    "\n",
    "# Titles and Axes\n",
    "plt.title(f'{graph_algo} of {graph_col} column - {graph_metric.upper()}')\n",
    "plt.ylabel(f'{graph_metric.upper()}')\n",
    "plt.xlabel('Datasets')\n",
    "plt.legend()\n",
    "\n",
    "# Plot 4\n",
    "plt.subplot(2,2,4)\n",
    "\n",
    "# Variables\n",
    "SVD_test_mae = 1.1895\n",
    "graph_algo = 'SVD_pp'\n",
    "graph_metric = 'mae'\n",
    "graph_col = 'Net Rating'\n",
    "visual_input_x = df_results[(df_results['Algo'] == graph_algo) & (df_results['R/NMR'] == 'nmr')]['Train/Test']\n",
    "visual_input_y = df_results[(df_results['Algo'] == graph_algo) & (df_results['R/NMR'] == 'nmr')][graph_metric]\n",
    "\n",
    "# Plot Bar Graph\n",
    "plt.bar(visual_input_x, visual_input_y)\n",
    "\n",
    "# Plot SVD - Approximate MAE score from Test set\n",
    "plt.axhline(y=SVD_test_mae, c='k',label='SVD - Testset')  \n",
    "\n",
    "# Plot Baseline - Approximate MAE score from Test set\n",
    "plt.axhline(y=baseline_mae, c='r',label='Baseline - Testset') \n",
    "\n",
    "# Titles and Axes\n",
    "plt.title(f'{graph_algo} of {graph_col} column - {graph_metric.upper()}')\n",
    "plt.ylabel(f'{graph_metric.upper()}')\n",
    "plt.xlabel('Datasets')\n",
    "plt.legend()\n",
    "\n",
    "\n",
    "# Show the subplots\n",
    "plt.tight_layout\n",
    "plt.show()"
   ]
  },
  {
   "cell_type": "markdown",
   "id": "3709dc26",
   "metadata": {},
   "source": [
    "##### Summary / Findings:\n",
    "- **SVD++** versus SVD:\n",
    "    - **SVD++** model slightly outperforms the SVD model as it achieved a higher `fcp` of 0.66 (versus 0.65).\n",
    "    - **SVD++** model and the SVD model achieved similar `mae` of ~1.18.\n",
    "- It appears that the implicit ratings helped the **SVD++** model outperform the SVD model. </br>\n",
    "</br> \n",
    "\n",
    "**I will be using the SVD++ model to make recommendations to the various users in notebook 03_Recommendations.**"
   ]
  },
  {
   "cell_type": "markdown",
   "id": "68c9f1eb",
   "metadata": {},
   "source": [
    "## Fullset Train & Build Anti Testset"
   ]
  },
  {
   "cell_type": "markdown",
   "id": "32c5c542",
   "metadata": {},
   "source": [
    "I will build a model on the full `df_ratings` dataset. "
   ]
  },
  {
   "cell_type": "markdown",
   "id": "d6be65f8",
   "metadata": {},
   "source": [
    "Build an Anti Testset, essentially all the possible combinations that do no exist in `df_ratings`. In plain English, create a dataset with combinations of users and movies in our dataset that our users have not watched yet."
   ]
  },
  {
   "cell_type": "markdown",
   "id": "58a1d2f2",
   "metadata": {},
   "source": [
    "I will conver the Anti Testset to a sparse matrix as it will take up less memory versus dataframes. "
   ]
  },
  {
   "cell_type": "markdown",
   "id": "bc18195f",
   "metadata": {},
   "source": [
    "For efficiencies when re-running the code, I have put the below code in markdown, as it is already saved as an NPZ file."
   ]
  },
  {
   "cell_type": "markdown",
   "id": "279f05df",
   "metadata": {},
   "source": [
    "```python\n",
    "\n",
    "# Set the reader with accurate rating scale\n",
    "ratings_reader_user_mean = Reader(rating_scale=(-10,10))\n",
    "\n",
    "# Set the Full Train Dataset \n",
    "full_train_dataset = Dataset.load_from_df(df_ratings[['userId','movieId','rating_net_user_mean']], ratings_reader_user_mean)\n",
    "\n",
    "# Build Full Ratings TrainSet (with Full Train Dataset)\n",
    "full_ratings_trainset = full_train_dataset.build_full_trainset()\n",
    "\n",
    "# Build Full Ratings Anti set (with Full Ratings TrainSet)\n",
    "full_ratings_anti_set = full_ratings_trainset.build_anti_testset(fill=np.nan)\n",
    "\n",
    "```"
   ]
  },
  {
   "cell_type": "markdown",
   "id": "e1acb05d",
   "metadata": {},
   "source": [
    "```python\n",
    "\n",
    "# Length of Ratings Anti set \n",
    "len(full_ratings_anti_set)\n",
    "\n",
    "```"
   ]
  },
  {
   "cell_type": "markdown",
   "id": "f1ae7912",
   "metadata": {},
   "source": [
    "```python\n",
    "\n",
    "# Recalculation of what the antiset length should be:\n",
    "    # total possible combinations (unique users * unique movies) - (rows in df_ratings)\n",
    "(df_ratings['userId'].nunique() * df_ratings['movieId'].nunique()) - (df_ratings.shape[0])\n",
    "\n",
    "```"
   ]
  },
  {
   "cell_type": "markdown",
   "id": "241b5778",
   "metadata": {},
   "source": [
    "Note the above two checks equal each other so the recalculation was successful."
   ]
  },
  {
   "cell_type": "markdown",
   "id": "8640dd1c",
   "metadata": {},
   "source": [
    "```python\n",
    "\n",
    "# Convert full_ratings_anti_set into sparse matrix for export\n",
    "    # Sparse matrix selected instead of CSV since it takes up less memory\n",
    "\n",
    "# Convert into numpy array\n",
    "full_anti_array = np.array(full_ratings_anti_set)\n",
    "\n",
    "# Convert into Sparse using numpy array\n",
    "full_ratings_anti_sparse = sparse.csr_matrix(full_anti_array)\n",
    "\n",
    "```"
   ]
  },
  {
   "cell_type": "markdown",
   "id": "40ac8eeb",
   "metadata": {},
   "source": [
    "##### Summary / Findings:\n",
    "- I have successfully created the Anti Testset, which will be used to recommend movies in the 03_Recommendations notebook."
   ]
  },
  {
   "cell_type": "markdown",
   "id": "6c17118d",
   "metadata": {},
   "source": [
    "# Section 2 - Top Movies"
   ]
  },
  {
   "cell_type": "markdown",
   "id": "ce2ab966",
   "metadata": {},
   "source": [
    "The top movies were defined and extracted in the 01_EDA notebook. No steps necessary in this notebook."
   ]
  },
  {
   "cell_type": "markdown",
   "id": "0fa50a44",
   "metadata": {},
   "source": [
    "# Section 3 - Tags-based Recommendation"
   ]
  },
  {
   "cell_type": "code",
   "execution_count": 61,
   "id": "a03685d8",
   "metadata": {},
   "outputs": [
    {
     "data": {
      "text/plain": [
       "24478"
      ]
     },
     "execution_count": 61,
     "metadata": {},
     "output_type": "execute_result"
    }
   ],
   "source": [
    "# Number of Unique Movies \n",
    "df_tags_of_movies.shape[0]"
   ]
  },
  {
   "cell_type": "markdown",
   "id": "35602942",
   "metadata": {},
   "source": [
    "### Quick Peak into `tag` column"
   ]
  },
  {
   "cell_type": "markdown",
   "id": "7367ffe6",
   "metadata": {},
   "source": [
    "Below, I just want to visualize the data I'll be working with. For more details on this please see the 01_EDA notebook, where this `tag` column and `df_tags_of_movies` was created. "
   ]
  },
  {
   "cell_type": "code",
   "execution_count": 62,
   "id": "261c2727",
   "metadata": {},
   "outputs": [
    {
     "data": {
      "text/html": [
       "<div>\n",
       "<style scoped>\n",
       "    .dataframe tbody tr th:only-of-type {\n",
       "        vertical-align: middle;\n",
       "    }\n",
       "\n",
       "    .dataframe tbody tr th {\n",
       "        vertical-align: top;\n",
       "    }\n",
       "\n",
       "    .dataframe thead th {\n",
       "        text-align: right;\n",
       "    }\n",
       "</style>\n",
       "<table border=\"1\" class=\"dataframe\">\n",
       "  <thead>\n",
       "    <tr style=\"text-align: right;\">\n",
       "      <th></th>\n",
       "      <th>movieId</th>\n",
       "      <th>title</th>\n",
       "      <th>tag</th>\n",
       "    </tr>\n",
       "  </thead>\n",
       "  <tbody>\n",
       "    <tr>\n",
       "      <th>395</th>\n",
       "      <td>480</td>\n",
       "      <td>Jurassic Park (1993)</td>\n",
       "      <td>action    adventure    Dinosaurs    genetics ...</td>\n",
       "    </tr>\n",
       "  </tbody>\n",
       "</table>\n",
       "</div>"
      ],
      "text/plain": [
       "     movieId                 title  \\\n",
       "395      480  Jurassic Park (1993)   \n",
       "\n",
       "                                                   tag  \n",
       "395   action    adventure    Dinosaurs    genetics ...  "
      ]
     },
     "execution_count": 62,
     "metadata": {},
     "output_type": "execute_result"
    }
   ],
   "source": [
    "# Look at a specific movie\n",
    "df_tags_of_movies[['movieId','title','tag']][df_tags_of_movies['movieId']==480]"
   ]
  },
  {
   "cell_type": "code",
   "execution_count": 63,
   "id": "df76c958",
   "metadata": {},
   "outputs": [
    {
     "data": {
      "text/plain": [
       "array([' action    adventure    Dinosaurs    genetics    Jeff Goldblum    Sam Neill    sci-fi    science    Steven Spielberg    Suspense    90s classic    action classic    adventure    adventure    sci-fi    thriller    creepy    humorous    menacing    ominous    slick    stylized    tense    amusement park    brontosaurus    dinosaur    dna    electric fence    exotic island    island    jurassic park    paleontology    theme park    triceratops    tyrannosaurus rex    adventure    children    dinosaurs    based on a book    Steven Spielberg    Steven Spielberg    Drive In    Oscar (Best Effects - Visual Effects)    adventure    Dinosaurs    samuel l. jackson    Steven Spielberg    foqam    egg    Jeff Goldblum    Michael Crichton    John Williams    action    adventure    based on a book    cloning    dinosaur    dinosaurs    family    genetics    Jeff Goldblum    John Williams    Laura Dern    Michael Crichton    Oscar (Best Effects - Visual Effects)    Richard Attenborough    Sam Neill    science    Steven Spielberg    suspense    tense    Dinosaurs    Steven Spielberg    Suspense    bad hollywood science    cheesy    special effects    creature feature    tense    not that good    adventure    Dinosaurs    John Williams    Oscar (Best Effects - Visual Effects)    sci-fi    Steven Spielberg    dinosaurs    funny    scary    cgi    dinosaurs    fantasy    Jeff Goldblum    John Williams    Laura Dern    Michael Crichton    Richard Attenborough    Sam Neill    Steven Spielberg    based on a book    biology    cloning    dinosaurs    franchise    Michael Crichton    Oscar (Best Effects - Visual Effects)    Saturn Award (Best Special Effects)    scenic    science    Dinosaurs    sci-fi    Steven Spielberg    dinosaur    low sf    simple plot    dinosaurs    dinosaurs    genetics    scenic    Dinosaurs    genetics    Futuristmovies.com    adventure    cloning    dinosaurs    genetics    scifi    thriller    amazing FX   \"ian s fav\"   franchise    CGI    Jeff Goldblum    rate    adventure    dinosaur    pg-13:sci-fi action violence    dvd    mine    Michael Crichton    Steven Spielberg    dinosaurs    Michael Crichton    Steven Spielberg    action    adventure    based on a book    cloning    Dinosaurs    genetics    Oscar (Best Effects - Visual Effects)    sci-fi    Steven Spielberg    Suspense    action    dinnosaurs    sci-fi    dinosaurs    genetics    sci-fi    thriller    action    adventure    sci-fi    adventure    cloning    dinosaurs    Oscar (Best Effects - Visual Effects)    sci-fi    Steven Spielberg    Suspense    thriller    action    action    adventure    dinosaurs    Steven Spielberg    adventure    Jeff Goldblum    special effects    Steven Spielberg    suspense    tense    dinosaurs    genetics    Steven Spielberg    adventure    cloning    dinosaur    dinosaurs    genetics    island    scary    sci-fi    science    special effects    Steven Spielberg    suspense    tense    Dinosaurs    Jeff Goldblum    sci-fi    science    Steven Spielberg    Suspense    tyrannosaurus rex    Dinosaurs    scenic    Steven Spielberg    classic    popcorn    thrilling    Dinosaurs    special effects    Steven Spielberg    adventure    dinosaur    steven spielberg    spielberg/lucas    sci-fi    steven spielberg    true story    based on a book    dinosaurs    Oscar (Best Effects - Visual Effects)    scenic    sci-fi    stylized    action    classic    dinosaurs    science    thriller    author:Michael Crichton    Business is the antagonist    action    adventure    based on a book    children    cloning    Dinosaurs    genetics    Jeff Goldblum    Michael Crichton    Oscar (Best Effects - Visual Effects)    Sam Neill    scenic    sci-fi    science    Steven Spielberg    Suspense    violence    genetics    Oscar (Best Effects - Visual Effects)    scifi    CGI    genetics    groundbreaking effects    Jeff Goldblum    genetics    Jeff Goldblum    sci-fi    science    dinosaurs    genetics    sci-fi    adventure    based on a book    dinosaurs    funny    genetics    Michael Crichton    Oscar (Best Effects - Visual Effects)    sci-fi    Steven Spielberg    boooo    Dinosaur    nostalgia    read the book    action    adventure    cloning    Dinosaurs    genetics    Jeff Goldblum    John Williams    Laura Dern    Oscar (Best Effects - Visual Effects)    samuel l. jackson    scenic    sci-fi    science    science fiction    special effects    Steven Spielberg    dinosaurs    adventure    based on a book    Dinosaurs    Jeff Goldblum    Michael Crichton    Oscar (Best Effects - Visual Effects)    Sam Neill    Steven Spielberg    action    adventure    horror    Oscar (Best Effects - Visual Effects)    violence    adventure    dinosaurs    drama    genetics    horror    Oscar (Best Effects - Visual Effects)    scenic    sci-fi    Suspense    tyrannosaurus rex    Steven Spielberg    author:Michael Crichton    Oscar (Best Effects - Visual Effects)    thriller    dinosaurs    jeff goldblum    laura dern    big budget    special effects    action    adventure    based on a book    Dinosaurs    Jeff Goldblum    John Williams    Laura Dern    Michael Crichton    samuel l. jackson    sci-fi    Steven Spielberg    tyrannosaurus rex    dinosaurs    genetics    Steven Spielberg    action    adventure    based on a book    cloning    genetics    Oscar (Best Effects - Visual Effects)    adventure    cloning    dinosaurs    genetics    Jeff Goldblum    sci-fi    Suspense    boooo    adventure    dinosaurs    steven spielberg    action    dinosaurs    Steven Spielberg    adventure    Dinosaurs    sci-fi    science    adventure    dinosaurs    Oscar (Best Effects - Visual Effects)    Steven Spielberg    dinosaurs    Laura Dern    based on a book    Dinosaurs    genetics    adventure    dinosaurs    Suspense    dinosaurs    sci-fi    science    dinosaurs    genetics    Jeff Goldblum    John Williams    Laura Dern    Michael Crichton    Richard Attenborough    Sam Neill    Steven Spielberg    genetics    dinosaurs    power outage    theme park    Steven Spielberg    a classic    dinosaurs    steven spielberg    action thriller    adventure    sci-fi    cloning    dinosaurs    island    adapted from:book    author:Michael Crichton    herds of CGI animals    Téa Leoni does not star in this movie    [bugÂ¿] Ä°s it true that tags that canÃ±ot be deleted make it impossible to view other tÃ£gs?    [bugÂ¿] do you think that ML cares about the bugs related to accÃ©nted characters?    [bugÂ¿] If it is truÃ© that impossible to delete tags â??those with accents for example â?? break multÃ®ple parts of the tagging syÅ?tem then ML should fix that bug    Steven Spielberg    science    dinosaurs    55 movies every kid should see--Entertainment Weekly    BD-Video    CAV    Dimensionalized 2-D to 3-D for reissue in 2013    IMAX DMR 3-D reissue in 2013    adventure    based on a book    children    Dinosaurs    family    genetics    John Williams    Laura Dern    Michael Crichton    Oscar (Best Effects - Visual Effects)    Richard Attenborough    Sam Neill    sci-fi    special effects    Steven Spielberg    Suspense    action    sci-fi    Action    Suspense    action    adventure    spielberg    Michael Crichton    action    adventure    Jeff Goldblum    Steven Spielberg    book adaptation    dinosaurs    samuel l. jackson    horror    violence    Speilberg    adventure    Jeff Goldblum    Steven Spielberg    violence    Dinosaurs    adventure    dinosaurs    Suspense    big budget    adventure    Steven Spielberg    adventure    bad science    Oscar (Best Effects - Visual Effects)    Steven Spielberg    stylized    action    Dinosaurs    Jeff Goldblum    Sam Neill    sci-fi    science    Steven Spielberg    based on a book    dinosaurs    genetics    science    Steven Spielberg    Jeff Goldblum    action    adventure    based on a book    cloning    Cult    Dinosaurs    genetics    Jeff Goldblum    Michael Crichton    Oscar (Best Effects - Visual Effects)    Sam Neill    scenic    sci-fi    science    Steven Spielberg    Suspense    action    dinosaurs    jeff goldblum    steven spielberg    adventure    Dinosaurs    Sam Neill    Steven Spielberg    based on a book    children    genetics    Oscar (Best Effects - Visual Effects)    scary    Steven Spielberg    implausible    sci-fi    thriller    dinosaurs    apocalyptic    dinosaurs    science fiction    dinosaurs    Steven Spielberg    effects    Dinosaurs    Steven Spielberg    Suspense    action    adventure    dinosaurs    Michael Crichton    sci-fi    Steven Spielberg    Dinosaurs    dinosaurs    Steven Spielberg    adventure    dinosaurs    genetics    Oscar (Best Effects - Visual Effects)    sci-fi    adventure    sci-fi    Steven Spielberg    action    adventure    based on a book    dinosaurs    genetics    Michael Crichton    Oscar (Best Effects - Visual Effects)    sci-fi    science    Steven Spielberg    tense    Dinosaur    dinosaurs    Michael Crichton    Steven Spielberg    Dinosaurs    sci-fi    action    adventure    dinosaurs    Dinosaurs    good for a rainy day if there is nothing on the box    AFI 100 (Thrills)    Dinosaurs    franchise    Oscar (Best Effects - Sound Effects Editing)    Oscar (Best Effects - Visual Effects)    Oscar (Best Sound)    Saturn Award (Best Director)    Saturn Award (Best Science Fiction Film)    Saturn Award (Best Special Effects)    Saturn Award (Best Writing)    Sci-Fi    Steven Spielberg    action    Dinosaurs    adventure    cloning    dinosaurs    genetics    sci-fi    seen at the cinema    effects    special effects    dinosaurs    dinosaurs    adventure    based on a book    Dinosaurs    scary    sci-fi    Steven Spielberg    Suspense    based on a book    dinosaurs    genetics    sci-fi    science    Steven Spielberg    90s classic    cloning    dinosaur    dinosaurs    island    Jeff Goldblum    John Williams    music    soundtrack    special effects    suspense    Oscar Winner    annoying kids    deus ex machina    great soundtrack    characters    childish    children    death    design    dinosaurs    explanation    funny    happy end    adventure    cloning    dinosaurs    Michael Crichton    Oscar (Best Effects - Visual Effects)    Steven Spielberg    stylized    Suspense    Jeff Goldblum    Richard Attenborough    Sam Neill    dinosaurs    Steven Spielberg    Dynamic CGI Action    adventure    awe inspiring    Dinosaurs    epic    great characters    jaw dropping    playing God    sci-fi    science    special effects    suspensful    thought provoking    thriller    visually stunning    buy    blockbuster    dinosaurs    jurassic park    dinosaurs    dynamic cgi action    suspense    dinosaurs    Jeff Goldblum    dinosaurs    island    sci-fi    Michael Crichton    cloning    dinosaurs    horror    Steven Spielberg    action    adventure    sci-fi    scenic    science    violence    dinosaurs    action    adventure    Dinosaurs    genetics    sci-fi    cloning    dinosaurs    genetics    sci-fi    Steven Spielberg    dinosaurs    based on a book    dinosaurs    favorite    Steven Spielberg    sci-fi    Suspense   \"Tumey s DVDs\"   adventure    dinosaurs    tense    scenic    sci-fi    stylized    outdated    based on a book    dinosaurs    Michael Crichton    Steven Spielberg    nostalgia    action    adventure    amusement park    based on a book    cloning    Dinosaur    Dinosaurs    genetics    island    Oscar (Best Effects - Visual Effects)    sci-fi    science    special effects    Suspense    tense    theme park    thriller    dinosaurs    scary    steven spielberg    Cool but freaky    dinosaur    Michael Crichton    action    dinosaurs    intense    dinosaurs    sci-fi    steven spielberg    dinosaurs    horror    not for kids    scary    thriller    violence    Dinosaurs    Steven Spielberg    dinosaurs    genetics    Oscar (Best Effects - Visual Effects)    Saturn Award (Best Science Fiction Film)    Saturn Award (Best Writing)    sci-fi    Steven Spielberg    dynamic cgi action    intense action    prehistoric fantasy    classic    cloning    dinosaur    dinosaurs    genetics    Jeff Goldblum    Laura Dern    Michael Crichton    Oscar (Best Effects - Visual Effects)    Sam Neill    Steven Spielberg    tense    adventure    based on a book    cloning    dinosaurs    drama    genetics    horror    sci-fi    stylized    Suspense    dinosaurs    adventure    based on a book    cloning    Dinosaurs    genetics    Jeff Goldblum    sci-fi    Steven Spielberg    Suspense    dinosaurs    sci-fi    cloning    dinosaurs    adventure    Oscar (Best Effects - Visual Effects)    scenic    sci-fi    Jeff Goldblum    Sam Neill    Steven Spielberg    children    dinosaurs    Steven Spielberg    wonder    amazing soundtrack    John Williams    Oscar (Best Effects - Visual Effects)    special effects    thriller    dinosaurs    mistakes    scary    Dinosaurs    stupid children ruin everything    Divx1    dinosaurs    Oscar (Best Effects - Visual Effects)    chaos    dinosaurs    sci-fi    Michael Crichton    Wayne Knight    bad science    cloning    dinosaurs    fun    horror    Sam Neill    Steven Spielberg    Suspense    tense    wonder    Oscar (Best Effects - Visual Effects)    sci-fi    Steven Spielberg    adventure    scenic    science    sci-fi    rated from memory    Jeff Goldblum    amazing cgi    adventure    dinosaurs    family    action    adventure    cloning    dinosaurs    genetics    Jeff Goldblum    Laura Dern    sci-fi    special effects    Steven Spielberg    action    adventure    dinosaurs    Jeff Goldblum    Laura Dern    Michael Crichton    Oscar Winner    Richard Attenborough    Sam Neill    scenic    sci-fi    Steven Spielberg    want to see again    Wayne Knight    hawaii    good fx    action    adventure    Dinosaurs    Jeff Goldblum    sci-fi    special effects    Steven Spielberg    Suspense    Dinosaurs    dinosaurs    sci-fi    Jeff Goldblum    John Williams    Laura Dern    Oscar (Best Effects - Visual Effects)    samuel l. jackson    dinosaurs    action    adventure    book    drama    horror    sci-fi    Steven Spielberg    USA    adventure    based on a book    drama    horror    sci-fi    Steven Spielberg    Suspense    tense    Steven Spielberg    dinosaurs    experiments gone awry    jeff goldblum    dinosaurs    mainstream    sci-fi    dinosaurs    drama    genetics    horror    Suspense    Dinosaurs    genetics    John Williams    Steven Spielberg    children '],\n",
       "      dtype=object)"
      ]
     },
     "execution_count": 63,
     "metadata": {},
     "output_type": "execute_result"
    }
   ],
   "source": [
    "# Visualize the tag column for a specific movie - Jurassic Park (1993)\n",
    "df_tags_of_movies['tag'][df_tags_of_movies['movieId']==480].values"
   ]
  },
  {
   "cell_type": "markdown",
   "id": "96990b78",
   "metadata": {},
   "source": [
    "### Transform Tags Data"
   ]
  },
  {
   "cell_type": "markdown",
   "id": "99171c51",
   "metadata": {},
   "source": [
    "I am looking at user-generated tags, each token (word, in this case) is more-or-less stand-alone as they are short in nature (few or one word). Since these words are stand-alone (i.e. very little context to consider), I will mainly be looking considering the Bag of Words or TF_IDF. </br>\n",
    "</br>\n",
    "I expect a lot of tags would be genre related (i.e. action, sci-fi, adventure, horror, comedy etc). I want to scale down the influence of genres in my recommendations. TF-IDF inherently does this (see indepth description below). Additionally, TF-IDF scales the weights from 0 to 1. Thus, I am less concerned about movies with more tags be related to each other purely driven by their popularity (i.e. higher word count)."
   ]
  },
  {
   "cell_type": "markdown",
   "id": "a8de9ef1",
   "metadata": {},
   "source": [
    "The vectorizer I've selected is **TF-IDF** (Term Frequency - Inverse Document Frequency). \n",
    "\n",
    "TF-IDF can be broken down into two parts.\n",
    "1. **Term Frequency (TF)** - number of times a given token (word, in this case) appears in the `tag` column. The same as bag-of-words </br>\n",
    "    *(Count the number of times it appears)*</br>\n",
    "2. **Inverse Document Frequency (IDF)** - Inverse of the number of tags (grouped by each movie) a given token (word, in this case) appears in.</br>\n",
    "    *(Normalize the Counts from 1 above)*</br>\n",
    "\n",
    "The document-term (i.e. movie-tags) matrix will contain a weight for each combination, ranging from 0 to 1:\n",
    "- words that are more common across tags (grouped by each movie), are going to be scaled down (i.e. have a lower number)\n",
    "- words that are less common across tags (grouped by each movie), are going to be scaled up (i.e. have a higher number)"
   ]
  },
  {
   "cell_type": "markdown",
   "id": "4127a465",
   "metadata": {},
   "source": [
    "*Stop Words* </br>\n",
    "I will be removing English stop words which are words that do not add much meaning (i.e. the, it, a, at, etc)"
   ]
  },
  {
   "cell_type": "markdown",
   "id": "f3945b5f",
   "metadata": {},
   "source": [
    "*Stemming and Lemmatization* </br>\n",
    "I'm working with a collection of user-generated tags. I've decided **not** to perform stemming or lemmatization. In short, stemming and lemmatization is to help us achieve the root forms of words, which would help reduce feature names and ideally improve results (i.e. linking words which would've been treated separately). </br>\n",
    "</br>\n",
    "Stemming and lemmatization could be less effective for certain words if they end up grouping words that are not meant to be the same root word. Tags are short in nature (few or one word) and are typically nouns and adjectives. Stemming or lemmatization tend to excel a bit more when there are more verbs (as there are more tenses, variety of the same root word which could potentially be grouped together). As there are many proper nouns and specific adjectives in tags, I would not want to risk accidently group words that are not meant to be together. For example, \"Bond\" (as in \"James Bond\") versus bonds (as in stocks / bonds). "
   ]
  },
  {
   "cell_type": "markdown",
   "id": "6c34994c",
   "metadata": {},
   "source": [
    "I will be setting `min_df` to 10, which means the vectorizer will ignore words that appear in less than 10 movie tags. When comparing movies with *Cosine Similarity* (discussed further below), I want words that are meaningful and commonly used. This parameter essentially allows me to set that threshold."
   ]
  },
  {
   "cell_type": "code",
   "execution_count": 64,
   "id": "925e0558",
   "metadata": {},
   "outputs": [],
   "source": [
    "# Transform data using TF-IDF \n",
    "\n",
    "# Initialize Vectorizer\n",
    "vectorizer = TfidfVectorizer(stop_words = \"english\", min_df=10) \n",
    "    # ignore stop words in english (i.e. 'and', 'or', etc)\n",
    "    # min_df = 10, ignore words that appear in less than 10 movies\n",
    "\n",
    "# Fit Transform on Tags Data\n",
    "TF_IDF_matrix = vectorizer.fit_transform(df_tags_of_movies['tag'])"
   ]
  },
  {
   "cell_type": "code",
   "execution_count": 65,
   "id": "7330d112",
   "metadata": {},
   "outputs": [
    {
     "data": {
      "text/plain": [
       "array(['007', '01', '02', ..., 'zucker', 'zwick', 'ôshima'], dtype=object)"
      ]
     },
     "execution_count": 65,
     "metadata": {},
     "output_type": "execute_result"
    }
   ],
   "source": [
    "# Show the words in the vectorizer\n",
    "vectorizer.get_feature_names_out()"
   ]
  },
  {
   "cell_type": "code",
   "execution_count": 66,
   "id": "9b7c7eb3",
   "metadata": {},
   "outputs": [
    {
     "data": {
      "text/plain": [
       "(24478, 7000)"
      ]
     },
     "execution_count": 66,
     "metadata": {},
     "output_type": "execute_result"
    }
   ],
   "source": [
    "# Get Matrix shape\n",
    "TF_IDF_matrix.shape"
   ]
  },
  {
   "cell_type": "markdown",
   "id": "172a9807",
   "metadata": {},
   "source": [
    "### Cosine similarity"
   ]
  },
  {
   "cell_type": "markdown",
   "id": "d90a1897",
   "metadata": {},
   "source": [
    "At it's core, cosine similarity is a measure of the similarity between two non-zero vectors. In the `TF_IDF_matrix` above, each row is a movie, which contain the TF-IDF weights for each of the columns (which represent the tokens / words). The *cosine similarity* will be comparing each movie with each other (and inevitably itself). The output would be a square matrix, with the dimension being the number of movies being compared (~24K). </br>\n",
    "</br>\n",
    "Technically speaking, cosine similarity can be any number between -1 and 1. However, because TF-IDF produces non-negative weights (i.e. only from 0 to 1), there will not any negative cosine similarity. I can expect to see cosine similarities from 0 to 1. If the cosine similarity is closer to 1, the vectors are more similar. </br>"
   ]
  },
  {
   "cell_type": "code",
   "execution_count": 67,
   "id": "6f5b5977",
   "metadata": {},
   "outputs": [],
   "source": [
    "# Calculate Cosine Similarity on TFIDF matrix\n",
    "tag_similarities = cosine_similarity(TF_IDF_matrix, dense_output=False)"
   ]
  },
  {
   "cell_type": "code",
   "execution_count": 68,
   "id": "1a96ab45",
   "metadata": {},
   "outputs": [
    {
     "data": {
      "text/plain": [
       "(24478, 24478)"
      ]
     },
     "execution_count": 68,
     "metadata": {},
     "output_type": "execute_result"
    }
   ],
   "source": [
    "# Get Matrix Shape\n",
    "tag_similarities.shape"
   ]
  },
  {
   "cell_type": "code",
   "execution_count": 69,
   "id": "48461ef5",
   "metadata": {},
   "outputs": [
    {
     "data": {
      "text/plain": [
       "<24478x24478 sparse matrix of type '<class 'numpy.float64'>'\n",
       "\twith 144707377 stored elements in Compressed Sparse Row format>"
      ]
     },
     "execution_count": 69,
     "metadata": {},
     "output_type": "execute_result"
    }
   ],
   "source": [
    "# Check to see if this is a sparse matrix (for output)\n",
    "tag_similarities"
   ]
  },
  {
   "cell_type": "markdown",
   "id": "b83d79f9",
   "metadata": {},
   "source": [
    "##### Summary / Findings:\n",
    "- I have successfully vectorized the tags (grouped by movie) using TF-IDF.\n",
    "- I have calculated the cosine similarities between the movies based on the TF-IDF output.\n",
    "- I will export `tag_similarities`, which contains the cosine similarities betwen the movies to be used in 03_Recommendations notebook."
   ]
  },
  {
   "cell_type": "markdown",
   "id": "5902ee17",
   "metadata": {},
   "source": [
    "# Section 4 - Export to CSV / NPZ"
   ]
  },
  {
   "cell_type": "markdown",
   "id": "9b38b143",
   "metadata": {},
   "source": [
    "I have changed the below code to markdown format. I made this change so that I would not constantly re-write these files when rerunning this notebook."
   ]
  },
  {
   "cell_type": "markdown",
   "id": "fc2c7f97",
   "metadata": {},
   "source": [
    "*Files used in **03_Recommendations** notebook*"
   ]
  },
  {
   "cell_type": "markdown",
   "id": "d82b7e21",
   "metadata": {},
   "source": [
    "**From Section 1:**"
   ]
  },
  {
   "cell_type": "markdown",
   "id": "074f3038",
   "metadata": {},
   "source": [
    "```python\n",
    "\n",
    "# Export - tag similarities to NPZ file\n",
    "sparse.save_npz('DT_files/DT_sparse_ratings_anti.npz', full_ratings_anti_sparse)\n",
    "\n",
    "```"
   ]
  },
  {
   "cell_type": "markdown",
   "id": "64792782",
   "metadata": {},
   "source": [
    "*Note - there are no outputs from Section 2 to export.*"
   ]
  },
  {
   "cell_type": "markdown",
   "id": "c3a30dcc",
   "metadata": {},
   "source": [
    "**From Section 3:**"
   ]
  },
  {
   "cell_type": "markdown",
   "id": "e0a15554",
   "metadata": {},
   "source": [
    "```python\n",
    "\n",
    "# Export - tag similarities to NPZ file\n",
    "sparse.save_npz('DT_files/DT_tag_similarities.npz', tag_similarities)\n",
    "\n",
    "```"
   ]
  },
  {
   "cell_type": "code",
   "execution_count": null,
   "id": "b9823565",
   "metadata": {},
   "outputs": [],
   "source": []
  }
 ],
 "metadata": {
  "kernelspec": {
   "display_name": "Python 3 (ipykernel)",
   "language": "python",
   "name": "python3"
  },
  "language_info": {
   "codemirror_mode": {
    "name": "ipython",
    "version": 3
   },
   "file_extension": ".py",
   "mimetype": "text/x-python",
   "name": "python",
   "nbconvert_exporter": "python",
   "pygments_lexer": "ipython3",
   "version": "3.10.4"
  }
 },
 "nbformat": 4,
 "nbformat_minor": 5
}
